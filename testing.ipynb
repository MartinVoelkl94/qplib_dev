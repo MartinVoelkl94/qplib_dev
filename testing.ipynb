{
 "cells": [
  {
   "cell_type": "markdown",
   "metadata": {},
   "source": [
    "# qplib test suite\n",
    "\n",
    "some of the tests should result in colored info, warning or error logs to be shown. These are expected function behaviour under the test conditions and do not indicate a test was passed or failed. Instead the relevant messages are those starting with \"passed test...\" or \"failed test...\".  \n",
    "if any test fails, the script stops and does not save a test_report."
   ]
  },
  {
   "cell_type": "markdown",
   "metadata": {},
   "source": [
    "# imports"
   ]
  },
  {
   "cell_type": "code",
   "execution_count": 7,
   "metadata": {},
   "outputs": [],
   "source": [
    "import pandas as pd\n",
    "import numpy as np\n",
    "import copy\n",
    "import os\n",
    "import shutil\n",
    "import datetime\n",
    "import qplib as qp\n",
    "from qplib import log\n",
    "\n",
    "working_directory = os.getcwd()\n",
    "\n"
   ]
  },
  {
   "cell_type": "markdown",
   "metadata": {},
   "source": [
    "# types"
   ]
  },
  {
   "cell_type": "code",
   "execution_count": 8,
   "metadata": {},
   "outputs": [],
   "source": [
    "def compare(result, expected):\n",
    "    if result == expected:\n",
    "        print(f'passed test for type conversion to: {expected}')\n",
    "    else:\n",
    "        raise Exception(f'failed test for type conversion to: {expected}')"
   ]
  },
  {
   "cell_type": "markdown",
   "metadata": {},
   "source": [
    "## error raising"
   ]
  },
  {
   "cell_type": "code",
   "execution_count": 9,
   "metadata": {},
   "outputs": [
    {
     "name": "stdout",
     "output_type": "stream",
     "text": [
      "passed test for raising correct error for: qp.qp_na(\"abc\")\n",
      "passed test for raising correct error for: qp.qp_nk(\"abc\")\n",
      "passed test for raising correct error for: qp.qp_num(\"abc\")\n",
      "passed test for raising correct error for: qp.qp_yn(\"abc\")\n",
      "passed test for raising correct error for: qp.qp_date(\"abc\")\n",
      "passed test for raising correct error for: qp.qp_datetime(\"abc\")\n"
     ]
    }
   ],
   "source": [
    "#checking if correct error is raised\n",
    "type_funcs = [\n",
    "    qp.na,\n",
    "    qp.nk,\n",
    "    qp.num,\n",
    "    qp.yn,\n",
    "    qp.date,\n",
    "    qp.datetime,\n",
    "    ]\n",
    "\n",
    "for func in type_funcs:\n",
    "    try:\n",
    "        func('abc', errors='raise')\n",
    "    except ValueError:\n",
    "        func = str(func).split('<function ')[1].split(' at')[0]\n",
    "        print(f'passed test for raising correct error for: qp.{func}(\"abc\")')\n",
    "    except:\n",
    "        raise"
   ]
  },
  {
   "cell_type": "markdown",
   "metadata": {},
   "source": [
    "## num"
   ]
  },
  {
   "cell_type": "code",
   "execution_count": 10,
   "metadata": {},
   "outputs": [
    {
     "name": "stdout",
     "output_type": "stream",
     "text": [
      "passed test for type conversion to: None\n",
      "passed test for type conversion to: abc\n",
      "passed test for type conversion to: test\n",
      "passed test for type conversion to: 1\n",
      "passed test for type conversion to: 1.0\n",
      "passed test for type conversion to: 1.1\n",
      "passed test for type conversion to: 0\n",
      "passed test for type conversion to: 0.0\n",
      "passed test for type conversion to: 0.1\n",
      "passed test for type conversion to: -1\n",
      "passed test for type conversion to: -1.0\n",
      "passed test for type conversion to: -1.1\n",
      "passed test for type conversion to: 1\n",
      "passed test for type conversion to: 1.0\n",
      "passed test for type conversion to: 1.1\n",
      "passed test for type conversion to: 0\n",
      "passed test for type conversion to: 0.0\n",
      "passed test for type conversion to: 0.1\n",
      "passed test for type conversion to: -1\n",
      "passed test for type conversion to: -1.0\n",
      "passed test for type conversion to: -1.1\n"
     ]
    }
   ],
   "source": [
    "#numbers\n",
    "compare(qp.num('abc', errors='coerce', na=None), None)\n",
    "compare(qp.num('abc', errors='ignore'), 'abc')\n",
    "compare(qp.num('abc', errors='test'), 'test')\n",
    "\n",
    "compare(qp.num('1'), 1)\n",
    "compare(qp.num('1.0'), 1.0)\n",
    "compare(qp.num('1.1'), 1.1)\n",
    "\n",
    "compare(qp.num('0'), 0)\n",
    "compare(qp.num('0.0'), 0.0)\n",
    "compare(qp.num('0.1'), 0.1)\n",
    "\n",
    "compare(qp.num('-1'), -1)\n",
    "compare(qp.num('-1.0'), -1.0)\n",
    "compare(qp.num('-1.1'), -1.1)\n",
    "\n",
    "compare(qp.num(1), 1)\n",
    "compare(qp.num(1.0), 1.0)\n",
    "compare(qp.num(1.1), 1.1)\n",
    "\n",
    "compare(qp.num(0), 0)\n",
    "compare(qp.num(0.0), 0.0)\n",
    "compare(qp.num(0.1), 0.1)\n",
    "\n",
    "compare(qp.num(-1), -1)\n",
    "compare(qp.num(-1.0), -1.0)\n",
    "compare(qp.num(-1.1), -1.1)\n"
   ]
  },
  {
   "cell_type": "markdown",
   "metadata": {},
   "source": [
    "## date"
   ]
  },
  {
   "cell_type": "code",
   "execution_count": 11,
   "metadata": {},
   "outputs": [
    {
     "name": "stdout",
     "output_type": "stream",
     "text": [
      "passed test for type conversion to: None\n",
      "passed test for type conversion to: abc\n",
      "passed test for type conversion to: test\n",
      "passed test for type conversion to: 2020-01-01\n",
      "passed test for type conversion to: 2020-01-01\n",
      "passed test for type conversion to: 2020-01-01\n",
      "passed test for type conversion to: 2020-01-01\n",
      "passed test for type conversion to: 2020-01-01\n",
      "passed test for type conversion to: 2020-01-01\n",
      "passed test for type conversion to: 2020-01-01\n",
      "passed test for type conversion to: 2020-01-01\n",
      "passed test for type conversion to: 2020-01-01\n",
      "passed test for type conversion to: 2020-01-01\n",
      "passed test for type conversion to: 2020-01-01\n",
      "passed test for type conversion to: 2020-01-01\n",
      "passed test for type conversion to: 2020-01-01\n",
      "passed test for type conversion to: 2020-01-01\n",
      "passed test for type conversion to: 2020-01-01\n",
      "passed test for type conversion to: 2020-01-01\n",
      "passed test for type conversion to: 2020-01-01\n",
      "passed test for type conversion to: 2020-01-01\n",
      "passed test for type conversion to: 2020-01-01\n",
      "passed test for type conversion to: 2020-01-01\n",
      "passed test for type conversion to: 2020-01-01\n",
      "passed test for type conversion to: 2020-01-01\n",
      "passed test for type conversion to: 2020-01-02\n",
      "passed test for type conversion to: 2020-01-02\n",
      "passed test for type conversion to: 2020-01-02\n",
      "passed test for type conversion to: 2020-01-02\n",
      "passed test for type conversion to: 2020-01-02\n",
      "passed test for type conversion to: 2020-01-02\n",
      "passed test for type conversion to: 2020-01-02\n",
      "passed test for type conversion to: 2020-01-02\n"
     ]
    }
   ],
   "source": [
    "#date\n",
    "\n",
    "compare(qp.date('abc', errors='coerce', na=None), None)\n",
    "compare(qp.date('abc', errors='ignore'), 'abc')\n",
    "compare(qp.date('abc', errors='test'), 'test')\n",
    "\n",
    "compare(qp.date('2020-01-01'), datetime.date(2020, 1, 1))\n",
    "compare(qp.date('2020-01-01 00:00:00'), datetime.date(2020, 1, 1))\n",
    "\n",
    "compare(qp.date('2020.01.01'), datetime.date(2020, 1, 1))\n",
    "compare(qp.date('2020/01/01'), datetime.date(2020, 1, 1))\n",
    "compare(qp.date('2020 01 01'), datetime.date(2020, 1, 1))\n",
    "compare(qp.date('20200101'), datetime.date(2020, 1, 1))\n",
    "\n",
    "compare(qp.date('2020 Jan 01'), datetime.date(2020, 1, 1))\n",
    "compare(qp.date('2020 January 01'), datetime.date(2020, 1, 1))\n",
    "compare(qp.date('2020 Jan 1'), datetime.date(2020, 1, 1))\n",
    "compare(qp.date('2020 January 1'), datetime.date(2020, 1, 1))\n",
    "\n",
    "compare(qp.date('Jan 01 2020'), datetime.date(2020, 1, 1))\n",
    "compare(qp.date('January 01 2020'), datetime.date(2020, 1, 1))\n",
    "compare(qp.date('Jan 1 2020'), datetime.date(2020, 1, 1))\n",
    "compare(qp.date('January 1 2020'), datetime.date(2020, 1, 1))\n",
    "\n",
    "compare(qp.date('01 Jan 2020'), datetime.date(2020, 1, 1))\n",
    "compare(qp.date('01 January 2020'), datetime.date(2020, 1, 1))\n",
    "compare(qp.date('1 Jan 2020'), datetime.date(2020, 1, 1))\n",
    "compare(qp.date('1 January 2020'), datetime.date(2020, 1, 1))\n",
    "\n",
    "compare(qp.date('01-01-2020'), datetime.date(2020, 1, 1))\n",
    "compare(qp.date('01.01.2020'), datetime.date(2020, 1, 1))\n",
    "compare(qp.date('01/01/2020'), datetime.date(2020, 1, 1))\n",
    "compare(qp.date('01 01 2020'), datetime.date(2020, 1, 1))\n",
    "\n",
    "compare(qp.date('02-01-20'), datetime.date(2020, 1, 2))\n",
    "compare(qp.date('02.01.20'), datetime.date(2020, 1, 2))\n",
    "compare(qp.date('02/01/20'), datetime.date(2020, 1, 2))\n",
    "compare(qp.date('02 01 20'), datetime.date(2020, 1, 2))\n",
    "\n",
    "compare(qp.date('2020-01-02'), datetime.date(2020, 1, 2))\n",
    "compare(qp.date('2020.01.02'), datetime.date(2020, 1, 2))\n",
    "compare(qp.date('2020/01/02'), datetime.date(2020, 1, 2))\n",
    "compare(qp.date('2020 01 02'), datetime.date(2020, 1, 2))"
   ]
  },
  {
   "cell_type": "markdown",
   "metadata": {},
   "source": [
    "## datetime"
   ]
  },
  {
   "cell_type": "code",
   "execution_count": 12,
   "metadata": {},
   "outputs": [
    {
     "name": "stdout",
     "output_type": "stream",
     "text": [
      "passed test for type conversion to: None\n",
      "passed test for type conversion to: abc\n",
      "passed test for type conversion to: test\n",
      "passed test for type conversion to: 2020-01-01 00:00:00\n",
      "passed test for type conversion to: 2020-01-01 00:00:00\n",
      "passed test for type conversion to: 2020-01-01 00:00:01\n",
      "passed test for type conversion to: 2020-01-01 00:01:00\n",
      "passed test for type conversion to: 2020-01-01 01:00:00\n",
      "passed test for type conversion to: 2020-01-01 01:01:01\n",
      "passed test for type conversion to: 2020-01-01 00:00:00\n",
      "passed test for type conversion to: 2020-01-01 00:00:00\n",
      "passed test for type conversion to: 2020-01-01 00:00:00\n",
      "passed test for type conversion to: 2020-01-01 00:00:00\n",
      "passed test for type conversion to: 2020-01-01 00:00:00\n",
      "passed test for type conversion to: 2020-01-01 00:00:00\n",
      "passed test for type conversion to: 2020-01-01 00:00:00\n",
      "passed test for type conversion to: 2020-01-01 00:00:00\n",
      "passed test for type conversion to: 2020-01-01 00:00:00\n",
      "passed test for type conversion to: 2020-01-01 00:00:00\n",
      "passed test for type conversion to: 2020-01-01 00:00:00\n",
      "passed test for type conversion to: 2020-01-01 00:00:00\n",
      "passed test for type conversion to: 2020-01-01 00:00:00\n",
      "passed test for type conversion to: 2020-01-01 00:00:00\n",
      "passed test for type conversion to: 2020-01-01 00:00:00\n",
      "passed test for type conversion to: 2020-01-01 00:00:00\n",
      "passed test for type conversion to: 2020-01-01 00:00:00\n",
      "passed test for type conversion to: 2020-01-01 00:00:00\n",
      "passed test for type conversion to: 2020-01-01 00:00:00\n",
      "passed test for type conversion to: 2020-01-02 00:00:00\n",
      "passed test for type conversion to: 2020-01-02 00:00:00\n",
      "passed test for type conversion to: 2020-01-02 00:00:00\n",
      "passed test for type conversion to: 2020-01-02 00:00:00\n",
      "passed test for type conversion to: 2020-01-02 00:00:00\n",
      "passed test for type conversion to: 2020-01-02 00:00:00\n",
      "passed test for type conversion to: 2020-01-02 00:00:00\n",
      "passed test for type conversion to: 2020-01-02 00:00:00\n"
     ]
    }
   ],
   "source": [
    "#datetime\n",
    "\n",
    "compare(qp.datetime('abc', errors='coerce', na=None), None)\n",
    "compare(qp.datetime('abc', errors='ignore'), 'abc')\n",
    "compare(qp.datetime('abc', errors='test'), 'test')\n",
    "\n",
    "compare(qp.datetime('2020-01-01'), datetime.datetime(2020, 1, 1))\n",
    "compare(qp.datetime('2020-01-01 00:00:00'), datetime.datetime(2020, 1, 1))\n",
    "compare(qp.datetime('2020-01-01 00:00:01'), datetime.datetime(2020, 1, 1, 0, 0, 1))\n",
    "compare(qp.datetime('2020-01-01 00:01:00'), datetime.datetime(2020, 1, 1, 0, 1, 0))\n",
    "compare(qp.datetime('2020-01-01 01:00:00'), datetime.datetime(2020, 1, 1, 1, 0, 0))\n",
    "compare(qp.datetime('2020-01-01 01:01:01'), datetime.datetime(2020, 1, 1, 1, 1, 1))\n",
    "\n",
    "compare(qp.datetime('2020.01.01'), datetime.datetime(2020, 1, 1))\n",
    "compare(qp.datetime('2020/01/01'), datetime.datetime(2020, 1, 1))\n",
    "compare(qp.datetime('2020 01 01'), datetime.datetime(2020, 1, 1))\n",
    "compare(qp.datetime('20200101'), datetime.datetime(2020, 1, 1))\n",
    "\n",
    "compare(qp.datetime('2020 Jan 01'), datetime.datetime(2020, 1, 1))\n",
    "compare(qp.datetime('2020 January 01'), datetime.datetime(2020, 1, 1))\n",
    "compare(qp.datetime('2020 Jan 1'), datetime.datetime(2020, 1, 1))\n",
    "compare(qp.datetime('2020 January 1'), datetime.datetime(2020, 1, 1))\n",
    "\n",
    "compare(qp.datetime('Jan 01 2020'), datetime.datetime(2020, 1, 1))\n",
    "compare(qp.datetime('January 01 2020'), datetime.datetime(2020, 1, 1))\n",
    "compare(qp.datetime('Jan 1 2020'), datetime.datetime(2020, 1, 1))\n",
    "compare(qp.datetime('January 1 2020'), datetime.datetime(2020, 1, 1))\n",
    "\n",
    "compare(qp.datetime('01 Jan 2020'), datetime.datetime(2020, 1, 1))\n",
    "compare(qp.datetime('01 January 2020'), datetime.datetime(2020, 1, 1))\n",
    "compare(qp.datetime('1 Jan 2020'), datetime.datetime(2020, 1, 1))\n",
    "compare(qp.datetime('1 January 2020'), datetime.datetime(2020, 1, 1))\n",
    "\n",
    "compare(qp.datetime('01-01-2020'), datetime.datetime(2020, 1, 1))\n",
    "compare(qp.datetime('01.01.2020'), datetime.datetime(2020, 1, 1))\n",
    "compare(qp.datetime('01/01/2020'), datetime.datetime(2020, 1, 1))\n",
    "\n",
    "compare(qp.datetime('02-01-20'), datetime.datetime(2020, 1, 2))\n",
    "compare(qp.datetime('02.01.20'), datetime.datetime(2020, 1, 2))\n",
    "compare(qp.datetime('02/01/20'), datetime.datetime(2020, 1, 2))\n",
    "compare(qp.datetime('02 01 20'), datetime.datetime(2020, 1, 2))\n",
    "\n",
    "compare(qp.datetime('2020-01-02'), datetime.datetime(2020, 1, 2))\n",
    "compare(qp.datetime('2020.01.02'), datetime.datetime(2020, 1, 2))\n",
    "compare(qp.datetime('2020/01/02'), datetime.datetime(2020, 1, 2))\n",
    "compare(qp.datetime('2020 01 02'), datetime.datetime(2020, 1, 2))\n"
   ]
  },
  {
   "cell_type": "markdown",
   "metadata": {},
   "source": [
    "## na"
   ]
  },
  {
   "cell_type": "code",
   "execution_count": 13,
   "metadata": {},
   "outputs": [
    {
     "name": "stdout",
     "output_type": "stream",
     "text": [
      "passed test for type conversion to: None\n",
      "passed test for type conversion to: 1\n",
      "passed test for type conversion to: test\n",
      "passed test for type conversion to: test\n",
      "passed test for type conversion to: None\n",
      "passed test for type conversion to: None\n",
      "passed test for type conversion to: None\n",
      "passed test for type conversion to: None\n",
      "passed test for type conversion to: None\n",
      "passed test for type conversion to: None\n",
      "passed test for type conversion to: None\n",
      "passed test for type conversion to: None\n",
      "passed test for type conversion to: None\n",
      "passed test for type conversion to: None\n",
      "passed test for type conversion to: None\n",
      "passed test for type conversion to: None\n",
      "passed test for type conversion to: None\n",
      "passed test for type conversion to: None\n",
      "passed test for type conversion to: None\n",
      "passed test for type conversion to: None\n",
      "passed test for type conversion to: None\n",
      "passed test for type conversion to: None\n",
      "passed test for type conversion to: None\n",
      "passed test for type conversion to: None\n",
      "passed test for type conversion to: None\n",
      "passed test for type conversion to: None\n",
      "passed test for type conversion to: None\n",
      "passed test for type conversion to: None\n",
      "passed test for type conversion to: None\n",
      "passed test for type conversion to: None\n",
      "passed test for type conversion to: None\n",
      "passed test for type conversion to: None\n",
      "passed test for type conversion to: None\n",
      "passed test for type conversion to: None\n",
      "passed test for type conversion to: None\n",
      "passed test for type conversion to: None\n"
     ]
    }
   ],
   "source": [
    "#not available\n",
    "\n",
    "compare(qp.na(1, errors='coerce'), None)\n",
    "compare(qp.na(1, errors='ignore'), 1)\n",
    "compare(qp.na(1, errors='test'), 'test')\n",
    "compare(qp.na('na', na='test'), 'test')\n",
    "\n",
    "compare(qp.na('na'), None)\n",
    "compare(qp.na('nA'), None)\n",
    "compare(qp.na('Na'), None)\n",
    "compare(qp.na('NA'), None)\n",
    "\n",
    "compare(qp.na('n.a.'), None)\n",
    "compare(qp.na('n.a'), None)\n",
    "compare(qp.na('N.A'), None)\n",
    "compare(qp.na('N.A.'), None)\n",
    "compare(qp.na('n/a'), None)\n",
    "compare(qp.na('N/A'), None)\n",
    "\n",
    "compare(qp.na('nan'), None)\n",
    "compare(qp.na('NaN'), None)\n",
    "compare(qp.na('NAN'), None)\n",
    "compare(qp.na('Nan'), None)\n",
    "compare(qp.na('nAn'), None)\n",
    "compare(qp.na('nAN'), None)\n",
    "compare(qp.na('naN'), None)\n",
    "\n",
    "compare(qp.na('none'), None)\n",
    "compare(qp.na('None'), None)\n",
    "compare(qp.na('NONE'), None)\n",
    "\n",
    "compare(qp.na('null'), None)\n",
    "compare(qp.na('Null'), None)\n",
    "compare(qp.na('NULL'), None)\n",
    "\n",
    "compare(qp.na('nil'), None)\n",
    "compare(qp.na('Nil'), None)\n",
    "compare(qp.na('NIL'), None)\n",
    "\n",
    "compare(qp.na('not available'), None)\n",
    "compare(qp.na('Not Available'), None)\n",
    "compare(qp.na('NOT AVAILABLE'), None)\n",
    "\n",
    "compare(qp.na('not a number'), None)\n",
    "compare(qp.na('Not A Number'), None)\n",
    "compare(qp.na('NOT A NUMBER'), None)\n"
   ]
  },
  {
   "cell_type": "markdown",
   "metadata": {},
   "source": [
    "## nk"
   ]
  },
  {
   "cell_type": "code",
   "execution_count": 14,
   "metadata": {},
   "outputs": [
    {
     "name": "stdout",
     "output_type": "stream",
     "text": [
      "passed test for type conversion to: None\n",
      "passed test for type conversion to: 1\n",
      "passed test for type conversion to: test\n",
      "passed test for type conversion to: test\n",
      "passed test for type conversion to: unknown\n",
      "passed test for type conversion to: unknown\n",
      "passed test for type conversion to: unknown\n",
      "passed test for type conversion to: unknown\n",
      "passed test for type conversion to: unknown\n",
      "passed test for type conversion to: unknown\n",
      "passed test for type conversion to: unknown\n",
      "passed test for type conversion to: unknown\n",
      "passed test for type conversion to: unknown\n",
      "passed test for type conversion to: unknown\n",
      "passed test for type conversion to: unknown\n",
      "passed test for type conversion to: unknown\n",
      "passed test for type conversion to: unknown\n",
      "passed test for type conversion to: unknown\n",
      "passed test for type conversion to: unknown\n",
      "passed test for type conversion to: unknown\n",
      "passed test for type conversion to: unknown\n",
      "passed test for type conversion to: unknown\n",
      "passed test for type conversion to: unknown\n",
      "passed test for type conversion to: unknown\n",
      "passed test for type conversion to: unknown\n",
      "passed test for type conversion to: unknown\n",
      "passed test for type conversion to: unknown\n",
      "passed test for type conversion to: unknown\n",
      "passed test for type conversion to: unknown\n"
     ]
    }
   ],
   "source": [
    "#not known\n",
    "\n",
    "compare(qp.nk(1, errors='coerce'), None)\n",
    "compare(qp.nk(1, errors='ignore'), 1)\n",
    "compare(qp.nk(1, errors='test'), 'test')\n",
    "compare(qp.nk('nk', nk='test'), 'test')\n",
    "\n",
    "compare(qp.nk('nk'), 'unknown')\n",
    "compare(qp.nk('nK'), 'unknown')\n",
    "compare(qp.nk('Nk'), 'unknown')\n",
    "compare(qp.nk('NK'), 'unknown')\n",
    "\n",
    "compare(qp.nk('n.k.'), 'unknown')\n",
    "compare(qp.nk('n.k'), 'unknown')\n",
    "compare(qp.nk('N.K'), 'unknown')\n",
    "compare(qp.nk('N.K.'), 'unknown')\n",
    "compare(qp.nk('n/k'), 'unknown')\n",
    "compare(qp.nk('N/K'), 'unknown')\n",
    "\n",
    "compare(qp.nk('not known'), 'unknown')\n",
    "compare(qp.nk('Not Known'), 'unknown')\n",
    "compare(qp.nk('NOT KNOWN'), 'unknown')\n",
    "\n",
    "compare(qp.nk('not known.'), 'unknown')\n",
    "compare(qp.nk('Not Known.'), 'unknown')\n",
    "compare(qp.nk('NOT KNOWN.'), 'unknown')\n",
    "\n",
    "compare(qp.nk('unknown'), 'unknown')\n",
    "compare(qp.nk('Unknown'), 'unknown')\n",
    "compare(qp.nk('UNKNOWN'), 'unknown')\n",
    "\n",
    "compare(qp.nk('not specified'), 'unknown')\n",
    "compare(qp.nk('Not Specified'), 'unknown')\n",
    "compare(qp.nk('NOT SPECIFIED'), 'unknown')\n",
    "\n",
    "compare(qp.nk('not specified.'), 'unknown')\n",
    "compare(qp.nk('Not Specified.'), 'unknown')\n",
    "compare(qp.nk('NOT SPECIFIED.'), 'unknown')\n"
   ]
  },
  {
   "cell_type": "markdown",
   "metadata": {},
   "source": [
    "## yn"
   ]
  },
  {
   "cell_type": "code",
   "execution_count": 15,
   "metadata": {},
   "outputs": [
    {
     "name": "stdout",
     "output_type": "stream",
     "text": [
      "passed test for type conversion to: None\n",
      "passed test for type conversion to: abc\n",
      "passed test for type conversion to: test\n",
      "passed test for type conversion to: yes\n",
      "passed test for type conversion to: yes\n",
      "passed test for type conversion to: yes\n",
      "passed test for type conversion to: no\n",
      "passed test for type conversion to: no\n",
      "passed test for type conversion to: no\n",
      "passed test for type conversion to: yes\n",
      "passed test for type conversion to: yes\n",
      "passed test for type conversion to: no\n",
      "passed test for type conversion to: no\n",
      "passed test for type conversion to: yes\n",
      "passed test for type conversion to: no\n",
      "passed test for type conversion to: yes\n",
      "passed test for type conversion to: no\n",
      "passed test for type conversion to: yes\n",
      "passed test for type conversion to: yes\n",
      "passed test for type conversion to: yes\n",
      "passed test for type conversion to: no\n",
      "passed test for type conversion to: no\n",
      "passed test for type conversion to: no\n",
      "passed test for type conversion to: yes\n",
      "passed test for type conversion to: yes\n",
      "passed test for type conversion to: yes\n",
      "passed test for type conversion to: no\n",
      "passed test for type conversion to: no\n",
      "passed test for type conversion to: no\n",
      "passed test for type conversion to: yes\n",
      "passed test for type conversion to: yes\n",
      "passed test for type conversion to: yes\n",
      "passed test for type conversion to: no\n",
      "passed test for type conversion to: no\n",
      "passed test for type conversion to: no\n"
     ]
    }
   ],
   "source": [
    "#yes no\n",
    "compare(qp.yn('abc', errors='coerce'), None)\n",
    "compare(qp.yn('abc', errors='ignore'), 'abc')\n",
    "compare(qp.yn('abc', errors='test'), 'test')\n",
    "\n",
    "compare(qp.yn('yes'), 'yes')\n",
    "compare(qp.yn('Yes'), 'yes')\n",
    "compare(qp.yn('YES'), 'yes')\n",
    "\n",
    "compare(qp.yn('no'), 'no')\n",
    "compare(qp.yn('No'), 'no')\n",
    "compare(qp.yn('NO'), 'no')\n",
    "\n",
    "compare(qp.yn('y'), 'yes')\n",
    "compare(qp.yn('Y'), 'yes')\n",
    "\n",
    "compare(qp.yn('n'), 'no')\n",
    "compare(qp.yn('N'), 'no')\n",
    "\n",
    "compare(qp.yn('1'), 'yes')\n",
    "compare(qp.yn('0'), 'no')\n",
    "\n",
    "compare(qp.yn(1), 'yes')\n",
    "compare(qp.yn(0), 'no')\n",
    "\n",
    "compare(qp.yn('true'), 'yes')\n",
    "compare(qp.yn('True'), 'yes')\n",
    "compare(qp.yn('TRUE'), 'yes')\n",
    "\n",
    "compare(qp.yn('false'), 'no')\n",
    "compare(qp.yn('False'), 'no')\n",
    "compare(qp.yn('FALSE'), 'no')\n",
    "\n",
    "compare(qp.yn('pos'), 'yes')\n",
    "compare(qp.yn('Pos'), 'yes')\n",
    "compare(qp.yn('POS'), 'yes')\n",
    "\n",
    "compare(qp.yn('neg'), 'no')\n",
    "compare(qp.yn('Neg'), 'no')\n",
    "compare(qp.yn('NEG'), 'no')\n",
    "\n",
    "compare(qp.yn('positive'), 'yes')\n",
    "compare(qp.yn('Positive'), 'yes')\n",
    "compare(qp.yn('POSITIVE'), 'yes')\n",
    "\n",
    "compare(qp.yn('negative'), 'no')\n",
    "compare(qp.yn('Negative'), 'no')\n",
    "compare(qp.yn('NEGATIVE'), 'no')\n"
   ]
  },
  {
   "cell_type": "markdown",
   "metadata": {},
   "source": [
    "## qp.dict"
   ]
  },
  {
   "cell_type": "code",
   "execution_count": 16,
   "metadata": {},
   "outputs": [
    {
     "name": "stdout",
     "output_type": "stream",
     "text": [
      "passed test for dict.values_flat()\n",
      "passed test for dict.invert()\n"
     ]
    }
   ],
   "source": [
    "#wip\n",
    "\n",
    "dict1 = qp.dict({\n",
    "    'a': [1, 2, 3, 4, 5],\n",
    "    'b': (1, 2, 3, 4, 5),\n",
    "    'c': {'a': 1, 'b': 2, 'c': 3, 'd': 4, 'e': 5},\n",
    "    'd': {1, 2, 3, 4, 5},\n",
    "    'e': np.array([1, 2, 3, 4, 5]),\n",
    "    'f': pd.Series([1, 2, 3, 4, 5]),\n",
    "    })\n",
    "\n",
    "result = dict1.values_flat()\n",
    "expected = [\n",
    "    1, 2, 3, 4, 5, \n",
    "    1, 2, 3, 4, 5, \n",
    "    1, 2, 3, 4, 5, \n",
    "    1, 2, 3, 4, 5, \n",
    "    1, 2, 3, 4, 5, \n",
    "    1, 2, 3, 4, 5,\n",
    "    ]\n",
    "if result == expected:\n",
    "    print('passed test for dict.values_flat()')\n",
    "else:\n",
    "    raise Exception('failed test for dict.values_flat()')\n",
    "\n",
    "\n",
    "dict2 = qp.dict({\n",
    "    'a': '1',\n",
    "    'b': '2',\n",
    "    'c': '3',\n",
    "    })\n",
    "result = dict2.invert()\n",
    "expected = {\n",
    "    '1': 'a',\n",
    "    '2': 'b',\n",
    "    '3': 'c',\n",
    "    }\n",
    "if result == expected:\n",
    "    print('passed test for dict.invert()')\n",
    "else:\n",
    "    raise Exception('failed test for dict.invert()')\n"
   ]
  },
  {
   "cell_type": "markdown",
   "metadata": {},
   "source": [
    "# pd.DataFrame.q()"
   ]
  },
  {
   "cell_type": "code",
   "execution_count": 17,
   "metadata": {},
   "outputs": [],
   "source": [
    "def compare(result, expected_df, text=None):\n",
    "    if not result.equals(expected_df):\n",
    "        print('result:')\n",
    "        display(result)\n",
    "        print('expected:')\n",
    "        display(expected_df)\n",
    "        if text is None:\n",
    "            raise Exception(f'failed test for arg: \"{result.qp.code}\"')\n",
    "        else:\n",
    "            raise Exception(f'failed test for: {text}')\n",
    "    else:\n",
    "        if text is None:\n",
    "            print(f'passed test for arg: \"{result.qp.code}\"')\n",
    "        else:\n",
    "            print(f'passed test for: {text}')\n",
    "\n",
    "\n",
    "def get_df_simple():\n",
    "    df = pd.DataFrame({\n",
    "        'a': [-1, 0, 1],\n",
    "        'b': [1, 2, 3]\n",
    "        })\n",
    "    return df\n",
    "\n",
    "def get_df_simple_tagged():\n",
    "    df = pd.DataFrame({\n",
    "        'meta': ['', '', ''],\n",
    "        'a': [-1, 0, 1],\n",
    "        'b': [1, 2, 3]\n",
    "        })\n",
    "    df.index = [0, 1, 2]\n",
    "    return df\n",
    "\n",
    "\n",
    "def get_df():\n",
    "    df = pd.DataFrame({\n",
    "        'ID': [10001, 10002, 10003, 20001, 20002, 20003, 30001, 30002, 30003, 30004, 30005],\n",
    "        'name': ['John Doe', 'Jane Smith', 'Alice Johnson', 'Bob Brown', 'eva white', 'Frank miller', 'Grace TAYLOR', 'Harry Clark', 'IVY GREEN', 'JAck Williams', 'john Doe'],\n",
    "        'date of birth': ['1995-01-02', '1990/09/14', '1985.08.23', '19800406', '05-11-2007', '06-30-1983', '28-05-1975', '1960Mar08', '1955-Jan-09', '1950 Sep 10', '1945 October 11'],\n",
    "        'age': [-25, '30', np.nan, None, '40.0', 'forty-five', 'nan', 'unk', '', 'unknown', 35],\n",
    "        'gender': ['M', 'F', 'Female', 'Male', 'Other', 'm', 'ff', 'NaN', None, 'Mal', 'female'],\n",
    "        'height': [170, '175.5cm', None, '280', 'NaN', '185', '1', '6ft 1in', -10, '', 200],\n",
    "        'weight': [70.2, '68', '72.5lb', 'na', '', '75kg', None, '80.3', '130lbs', '82', -65],\n",
    "        'bp systole': ['20', 130, 'NaN', '140', '135mmhg', '125', 'NAN', '122', '', 130, '45'],\n",
    "        'bp diastole': [80, '85', 'nan', '90mmHg', np.nan, '75', 'NaN', None, '95', '0', 'NaN'],\n",
    "        'cholesterol': ['Normal', 'Highe', 'NaN', 'GOOD', 'n.a.', 'High', 'Normal', 'n/a', 'high', '', 'Normal'],\n",
    "        'diabetes': ['No', 'yes', 'N/A', 'No', 'Y', 'Yes', 'NO', None, 'NaN', 'n', 'Yes'],\n",
    "        'dose': ['10kg', 'NaN', '15 mg once a day', '20mg', '20 Mg', '25g', 'NaN', None, '30 MG', '35', '40ml']\n",
    "        })\n",
    "    return df\n",
    "\n",
    "def get_df_tagged():\n",
    "    df1 = get_df()\n",
    "    df2 = pd.DataFrame('', index=df1.index, columns=['meta', *df1.columns])\n",
    "    df2.iloc[:, 1:] = df1.loc[:, :]\n",
    "    return df2"
   ]
  },
  {
   "cell_type": "markdown",
   "metadata": {},
   "source": [
    "## filtering"
   ]
  },
  {
   "cell_type": "code",
   "execution_count": 18,
   "metadata": {},
   "outputs": [
    {
     "name": "stderr",
     "output_type": "stream",
     "text": [
      "<>:191: SyntaxWarning: invalid escape sequence '\\d'\n",
      "<>:191: SyntaxWarning: invalid escape sequence '\\d'\n",
      "C:\\Users\\MartinVölkl-GouyaIns\\AppData\\Local\\Temp\\ipykernel_2652\\186670469.py:191: SyntaxWarning: invalid escape sequence '\\d'\n",
      "  result = df.q('bp systole ´r r?\\d', verbosity=0)\n"
     ]
    },
    {
     "data": {
      "text/html": [
       "<style type=\"text/css\">\n",
       "#T_c6888_row0_col0, #T_c6888_row0_col1, #T_c6888_row0_col2, #T_c6888_row0_col3 {\n",
       "  background-color: #c0e7b0;\n",
       "  text-align: left;\n",
       "}\n",
       "</style>\n",
       "<table id=\"T_c6888\">\n",
       "  <thead>\n",
       "  </thead>\n",
       "  <tbody>\n",
       "    <tr>\n",
       "      <th id=\"T_c6888_level0_row0\" class=\"row_heading level0 row0\" >973</th>\n",
       "      <td id=\"T_c6888_row0_col0\" class=\"data row0 col0\" >df was checked. no problems found</td>\n",
       "      <td id=\"T_c6888_row0_col1\" class=\"data row0 col1\" >qp.pd_util._check_df</td>\n",
       "      <td id=\"T_c6888_row0_col2\" class=\"data row0 col2\" >info</td>\n",
       "      <td id=\"T_c6888_row0_col3\" class=\"data row0 col3\" >2024-08-27 14:36:31.901778</td>\n",
       "    </tr>\n",
       "  </tbody>\n",
       "</table>\n"
      ],
      "text/plain": [
       "<pandas.io.formats.style.Styler at 0x1db02984b60>"
      ]
     },
     "metadata": {},
     "output_type": "display_data"
    },
    {
     "name": "stdout",
     "output_type": "stream",
     "text": [
      "passed test for arg: \"date of birth\"\n",
      "passed test for arg: \"=date of birth\"\n",
      "passed test for arg: \"date of birth / age\"\n",
      "passed test for arg: \"date of birth / =age\"\n",
      "passed test for arg: \"=date of birth / age\"\n",
      "passed test for arg: \"=date of birth / =age\"\n",
      "passed test for arg: \"!=date of birth\"\n",
      "passed test for arg: \"\"\n",
      "passed test for arg: \"=ID\"\n",
      "passed test for arg: \"=ID\"\n",
      "passed test for arg: \"=\"\n",
      "passed test for arg: \"\n",
      "    =ID\n",
      "    ID\n",
      "    \"\n",
      "passed test for arg: \"\n",
      "    ID\n",
      "    age\n",
      "    \"\n",
      "passed test for arg: \"\n",
      "    ID\n",
      "    / age\n",
      "    \"\n",
      "passed test for arg: \"?bp\"\n",
      "passed test for arg: \"?I\"\n",
      "passed test for arg: \"??I\"\n",
      "passed test for arg: \"r=.\"\n",
      "passed test for arg: \"r=..\"\n",
      "passed test for arg: \"?bp / =diabetes\"\n",
      "passed test for arg: \"?bp / =diabetes / =cholesterol\"\n",
      "passed test for arg: \"?bp / =cholesterol / =diabetes\"\n",
      "passed test for arg: \"?bp & ?systole\"\n",
      "passed test for arg: \"?bp & !?systole\"\n",
      "passed test for arg: \"?i & r=..\"\n",
      "passed test for arg: \"name ´r is str\"\n",
      "passed test for arg: \"name ´r !is str\"\n",
      "passed test for arg: \"name ´r is num\"\n",
      "passed test for arg: \"name ´r !is num\"\n",
      "passed test for arg: \"name ´r is na\"\n",
      "passed test for arg: \"name ´r !is na\"\n",
      "passed test for arg: \"age ´r is na\"\n",
      "passed test for arg: \"cholesterol ´r is na\"\n",
      "passed test for arg: \"weight ´r is num\"\n",
      "passed test for arg: \"weight ´r is num & !is na\"\n",
      "passed test for arg: \"date of birth ´r !is date\"\n",
      "passed test for arg: \"diabetes ´r is yn\"\n",
      "passed test for arg: \"diabetes ´r is na / is yn\"\n",
      "passed test for arg: \"diabetes ´r is yn\"\n",
      "passed test for arg: \"diabetes ´r is yes\"\n",
      "passed test for arg: \"diabetes ´r is no\"\n",
      "passed test for arg: \"ID ´r r=1....\"\n",
      "passed test for arg: \"ID ´r !r=3....\"\n",
      "passed test for arg: \"name ´r r=\\b[A-Z][a-z]*\\s[A-Z][a-z]*\\b\"\n",
      "passed test for arg: \"name ´r r=^[^A-Z]*$\"\n",
      "passed test for arg: \"dose ´r r=^(?=.*[a-zA-Z])(?=.*[0-9]).*$\"\n",
      "passed test for arg: \"bp systole ´r r?m\"\n",
      "passed test for arg: \"bp systole ´r r?\\D\"\n",
      "passed test for arg: \"bp systole ´r r?\\d\"\n",
      "passed test for arg: \"id / name  ´r ?j\"\n",
      "passed test for arg: \"id / name  ´r ?j / ?n\"\n",
      "passed test for arg: \"id / name  ´r ?j & ?n\"\n",
      "passed test for arg: \"height / weight  ´r is num\"\n",
      "passed test for arg: \"height / weight  ´r any is num\"\n",
      "passed test for arg: \"height / weight  ´r anyis num\"\n",
      "passed test for arg: \"height / weight  ´r all is num\"\n",
      "passed test for arg: \"\n",
      "    height / weight ´v to num\n",
      "    height / weight  ´r all is num\n",
      "    \"\n"
     ]
    },
    {
     "name": "stderr",
     "output_type": "stream",
     "text": [
      "c:\\Users\\MartinVölkl-GouyaIns\\OneDrive - Gouya Insights\\Desktop\\qplib_dev\\qplib\\types.py:97: UserWarning: Parsing dates in %m-%d-%Y format when dayfirst=True was specified. Pass `dayfirst=False` or specify a format to silence this warning.\n",
      "  return pd.to_datetime(x, dayfirst=True).date()\n"
     ]
    },
    {
     "data": {
      "text/html": [
       "<style type=\"text/css\">\n",
       "#T_c0294_row0_col0, #T_c0294_row0_col1, #T_c0294_row0_col2, #T_c0294_row0_col3 {\n",
       "  background-color: #c0e7b0;\n",
       "  text-align: left;\n",
       "}\n",
       "</style>\n",
       "<table id=\"T_c0294\">\n",
       "  <thead>\n",
       "  </thead>\n",
       "  <tbody>\n",
       "    <tr>\n",
       "      <th id=\"T_c0294_level0_row0\" class=\"row_heading level0 row0\" >974</th>\n",
       "      <td id=\"T_c0294_row0_col0\" class=\"data row0 col0\" >df was checked. no problems found</td>\n",
       "      <td id=\"T_c0294_row0_col1\" class=\"data row0 col1\" >qp.pd_util._check_df</td>\n",
       "      <td id=\"T_c0294_row0_col2\" class=\"data row0 col2\" >info</td>\n",
       "      <td id=\"T_c0294_row0_col3\" class=\"data row0 col3\" >2024-08-27 14:36:32.304080</td>\n",
       "    </tr>\n",
       "  </tbody>\n",
       "</table>\n"
      ],
      "text/plain": [
       "<pandas.io.formats.style.Styler at 0x1db02984b60>"
      ]
     },
     "metadata": {},
     "output_type": "display_data"
    },
    {
     "name": "stdout",
     "output_type": "stream",
     "text": [
      "passed test for arg: \"\n",
      "    height / weight\n",
      "        ´v to num\n",
      "        ´r all is num\n",
      "    \"\n"
     ]
    },
    {
     "data": {
      "text/html": [
       "<style type=\"text/css\">\n",
       "#T_f66c1_row0_col0, #T_f66c1_row0_col1, #T_f66c1_row0_col2, #T_f66c1_row0_col3 {\n",
       "  background-color: #c0e7b0;\n",
       "  text-align: left;\n",
       "}\n",
       "</style>\n",
       "<table id=\"T_f66c1\">\n",
       "  <thead>\n",
       "  </thead>\n",
       "  <tbody>\n",
       "    <tr>\n",
       "      <th id=\"T_f66c1_level0_row0\" class=\"row_heading level0 row0\" >975</th>\n",
       "      <td id=\"T_f66c1_row0_col0\" class=\"data row0 col0\" >df was checked. no problems found</td>\n",
       "      <td id=\"T_f66c1_row0_col1\" class=\"data row0 col1\" >qp.pd_util._check_df</td>\n",
       "      <td id=\"T_f66c1_row0_col2\" class=\"data row0 col2\" >info</td>\n",
       "      <td id=\"T_f66c1_row0_col3\" class=\"data row0 col3\" >2024-08-27 14:36:32.335121</td>\n",
       "    </tr>\n",
       "  </tbody>\n",
       "</table>\n"
      ],
      "text/plain": [
       "<pandas.io.formats.style.Styler at 0x1db02bc59d0>"
      ]
     },
     "metadata": {},
     "output_type": "display_data"
    },
    {
     "name": "stdout",
     "output_type": "stream",
     "text": [
      "passed test for arg: \"\n",
      "    diabetes ´r is unique\n",
      "    is any\n",
      "    \"\n",
      "passed test for arg: \"\n",
      "    diabetes ´r is first\n",
      "    is any\n",
      "    \"\n",
      "passed test for arg: \"\n",
      "    diabetes ´r is last\n",
      "    is any\n",
      "    \"\n",
      "passed test for arg: \"age ´r ~ isinstance(x, int)\"\n",
      "passed test for arg: \"\n",
      "    age / height ´v to num\n",
      "    age ´r col~ col < df[\"height\"]\n",
      "    \"\n",
      "passed test for arg: \"\n",
      "    age / height ´v to num\n",
      "    age ´r col~ col == df[\"age\"].max()\n",
      "    age ´v to str\n",
      "    \"\n"
     ]
    }
   ],
   "source": [
    "\n",
    "df = get_df()\n",
    "\n",
    "\n",
    "#col equality\n",
    "\n",
    "result = df.q('date of birth', inplace=True, verbosity=0)\n",
    "compare(result, df.loc[:, ['date of birth']])\n",
    "\n",
    "result = df.q('=date of birth', verbosity=0)\n",
    "compare(result, df.loc[:, ['date of birth']])\n",
    "\n",
    "result = df.q('date of birth / age', verbosity=0)\n",
    "compare(result, df.loc[:, ['date of birth', 'age']])\n",
    "\n",
    "result = df.q('date of birth / =age', verbosity=0)\n",
    "compare(result, df.loc[:, ['date of birth', 'age']])\n",
    "\n",
    "result = df.q('=date of birth / age', verbosity=0)\n",
    "compare(result, df.loc[:, ['date of birth', 'age']])\n",
    "\n",
    "result = df.q('=date of birth / =age', verbosity=0)\n",
    "compare(result, df.loc[:, ['date of birth', 'age']])\n",
    "\n",
    "result = df.q('!=date of birth', verbosity=0)\n",
    "compare(result, df.loc[:, ['ID', 'name', 'age', 'gender', 'height', 'weight', 'bp systole', 'bp diastole', 'cholesterol', 'diabetes', 'dose']])\n",
    "\n",
    "\n",
    "\n",
    "\n",
    "#multi line col equality\n",
    "result = df.q('', verbosity=0)\n",
    "compare(result, df.loc[:, :])\n",
    "\n",
    "result = df.q('=ID', verbosity=0)\n",
    "compare(result, df.loc[:, ['ID']])\n",
    "\n",
    "result = df.q('=ID', '', verbosity=0)\n",
    "compare(result, df.loc[:, ['ID']])\n",
    "\n",
    "result = df.q('=', verbosity=0)\n",
    "compare(result, df.loc[:, []])\n",
    "\n",
    "result = df.q(\n",
    "    r\"\"\"\n",
    "    =ID\n",
    "    ID\n",
    "    \"\"\",\n",
    "    verbosity=0)\n",
    "compare(result, df.loc[:, ['ID']])\n",
    "\n",
    "result = df.q(\n",
    "    r\"\"\"\n",
    "    ID\n",
    "    age\n",
    "    \"\"\",\n",
    "    verbosity=0)\n",
    "compare(result, df.loc[:, ['age']])\n",
    "\n",
    "result = df.q(\n",
    "    r\"\"\"\n",
    "    ID\n",
    "    / age\n",
    "    \"\"\",\n",
    "    verbosity=0)\n",
    "compare(result, df.loc[:, ['ID', 'age']])\n",
    "\n",
    "\n",
    "\n",
    "#col contains\n",
    "result = df.q('?bp', verbosity=0)\n",
    "compare(result, df.loc[:, ['bp systole', 'bp diastole']])\n",
    "\n",
    "result = df.q('?I', verbosity=0)\n",
    "compare(result, df.loc[:, ['ID', 'date of birth', 'height', 'weight', 'bp diastole', 'diabetes']])\n",
    "\n",
    "result = df.q('??I', verbosity=0)\n",
    "compare(result, df.loc[:, ['ID']])\n",
    "\n",
    "\n",
    "\n",
    "\n",
    "#col regex equality\n",
    "result = df.q('r=.', verbosity=0)\n",
    "compare(result, df.loc[:, []])\n",
    "\n",
    "result = df.q('r=..', verbosity=0)\n",
    "compare(result, df.loc[:, ['ID']])\n",
    "\n",
    "\n",
    "\n",
    "#col multiple conditions\n",
    "result = df.q('?bp / =diabetes', verbosity=0)\n",
    "compare(result, df.loc[:, ['bp systole', 'bp diastole', 'diabetes']])\n",
    "\n",
    "result = df.q('?bp / =diabetes / =cholesterol', verbosity=0)\n",
    "compare(result, df.loc[:, ['bp systole', 'bp diastole', 'cholesterol', 'diabetes']])\n",
    "\n",
    "result = df.q('?bp / =cholesterol / =diabetes', verbosity=0)\n",
    "compare(result, df.loc[:, ['bp systole', 'bp diastole', 'cholesterol', 'diabetes']])\n",
    "\n",
    "result = df.q('?bp & ?systole', verbosity=0)\n",
    "compare(result, df.loc[:, ['bp systole']])\n",
    "\n",
    "result = df.q('?bp & !?systole', verbosity=0)\n",
    "compare(result, df.loc[:, ['bp diastole']])\n",
    "\n",
    "result = df.q('?i & r=..', verbosity=0)\n",
    "compare(result, df.loc[:, ['ID']])\n",
    "\n",
    "\n",
    "\n",
    "\n",
    "#row types\n",
    "result = df.q('name ´r is str', verbosity=0)\n",
    "compare(result, df.loc[:, ['name']])\n",
    "\n",
    "result = df.q('name ´r !is str', verbosity=0)\n",
    "compare(result, df.loc[[], ['name']])\n",
    "\n",
    "result = df.q('name ´r is num', verbosity=0)\n",
    "compare(result, df.loc[[], ['name']])\n",
    "\n",
    "result = df.q('name ´r !is num', verbosity=0)\n",
    "compare(result, df.loc[[0,1,2,3,4,5,6,7,8,9,10], ['name']])\n",
    "\n",
    "result = df.q('name ´r is na', verbosity=0)\n",
    "compare(result, df.loc[[], ['name']])\n",
    "\n",
    "result = df.q('name ´r !is na', verbosity=0)\n",
    "compare(result, df.loc[[0,1,2,3,4,5,6,7,8,9,10], ['name']])\n",
    "\n",
    "result = df.q('age ´r is na', verbosity=0)\n",
    "compare(result, df.loc[[2,3,6,8], ['age']])\n",
    "\n",
    "result = df.q('cholesterol ´r is na', verbosity=0)\n",
    "compare(result, df.loc[[2,4,7,9], ['cholesterol']])\n",
    "\n",
    "result = df.q('weight ´r is num', verbosity=0)\n",
    "compare(result, df.loc[[0,1,4,6,7,9,10], ['weight']])\n",
    "\n",
    "result = df.q('weight ´r is num & !is na', verbosity=0)\n",
    "compare(result, df.loc[[0,1,7,9,10], ['weight']])\n",
    "\n",
    "result = df.q('date of birth ´r !is date', verbosity=0)\n",
    "compare(result, df.loc[[7], ['date of birth']])\n",
    "\n",
    "result = df.q('diabetes ´r is yn', verbosity=0)\n",
    "compare(result, df.loc[[0,1,3,4,5,6,9,10], ['diabetes']])\n",
    "\n",
    "result = df.q('diabetes ´r is na / is yn', verbosity=0)\n",
    "compare(result, df.loc[:, ['diabetes']])\n",
    "\n",
    "result = df.q('diabetes ´r is yn', verbosity=0)\n",
    "compare(result, df.loc[[0,1,3,4,5,6,9,10], ['diabetes']])\n",
    "\n",
    "result = df.q('diabetes ´r is yes', verbosity=0)\n",
    "compare(result, df.loc[[1,4,5,10], ['diabetes']])\n",
    "\n",
    "result = df.q('diabetes ´r is no', verbosity=0)\n",
    "compare(result, df.loc[[0,3,6,9], ['diabetes']])\n",
    "\n",
    "\n",
    "\n",
    "#row regex equality\n",
    "result = df.q('ID ´r r=1....', verbosity=0)\n",
    "compare(result, df.loc[[0,1,2], ['ID']])\n",
    "\n",
    "result = df.q('ID ´r !r=3....', verbosity=0)\n",
    "compare(result, df.loc[[0,1,2,3,4,5], ['ID']])\n",
    "\n",
    "#two words with first letter capitalized and separated by a space\n",
    "result = df.q('name ´r r=\\\\b[A-Z][a-z]*\\\\s[A-Z][a-z]*\\\\b', verbosity=0)\n",
    "compare(result, df.loc[[0,1,2,3,7], ['name']])\n",
    "\n",
    "#all lowercase\n",
    "result = df.q('name ´r r=^[^A-Z]*$', verbosity=0)\n",
    "compare(result, df.loc[[4], ['name']])\n",
    "\n",
    "#containing letters and numbers\n",
    "result = df.q('dose ´r r=^(?=.*[a-zA-Z])(?=.*[0-9]).*$', verbosity=0)\n",
    "compare(result, df.loc[[0,2,3,4,5,8,10], ['dose']])\n",
    "\n",
    "\n",
    "#row regex search\n",
    "result = df.q('bp systole ´r r?m', verbosity=0)\n",
    "compare(result, df.loc[[4], ['bp systole']])\n",
    "\n",
    "result = df.q(r'bp systole ´r r?\\D', verbosity=0)\n",
    "compare(result, df.loc[[2,4,6], ['bp systole']])\n",
    "\n",
    "result = df.q('bp systole ´r r?\\d', verbosity=0)\n",
    "compare(result, df.loc[[0,1,3,4,5,7,9,10], ['bp systole']])\n",
    "\n",
    "\n",
    "\n",
    "#filter by multiple columns\n",
    "result = df.q('id / name  ´r ?j', verbosity=0)\n",
    "compare(result, df.loc[[0, 1, 2, 9, 10], ['ID', 'name']])\n",
    "\n",
    "result = df.q('id / name  ´r ?j / ?n', verbosity=0)\n",
    "compare(result, df.loc[[0, 1, 2, 3, 5, 8, 9, 10], ['ID', 'name']])\n",
    "\n",
    "result = df.q('id / name  ´r ?j & ?n', verbosity=0)\n",
    "compare(result, df.loc[[0, 1, 2, 10], ['ID', 'name']])\n",
    "\n",
    "result = df.q('height / weight  ´r is num', verbosity=0)\n",
    "compare(result, df.loc[[0, 1, 2, 3, 4, 5, 6, 7, 8, 9, 10], ['height', 'weight']])\n",
    "\n",
    "result = df.q('height / weight  ´r any is num', verbosity=0)\n",
    "compare(result, df.loc[[0, 1, 2, 3, 4, 5, 6, 7, 8, 9, 10], ['height', 'weight']])\n",
    "\n",
    "result = df.q('height / weight  ´r anyis num', verbosity=0)\n",
    "compare(result, df.loc[[0, 1, 2, 3, 4, 5, 6, 7, 8, 9, 10], ['height', 'weight']])\n",
    "\n",
    "result = df.q('height / weight  ´r all is num', verbosity=0)\n",
    "compare(result, df.loc[[0, 6, 9, 10], ['height', 'weight']])\n",
    "\n",
    "\n",
    "result = df.q(\n",
    "    r\"\"\"\n",
    "    height / weight ´v to num\n",
    "    height / weight  ´r all is num\n",
    "    \"\"\",\n",
    "    inplace=True, verbosity=0)\n",
    "compare(result, df.loc[[0, 1, 2, 3, 4, 5, 6, 7, 8, 9, 10], ['height', 'weight']])\n",
    "df = get_df()\n",
    "\n",
    "result = df.q(\n",
    "    r\"\"\"\n",
    "    height / weight\n",
    "        ´v to num\n",
    "        ´r all is num\n",
    "    \"\"\",\n",
    "    inplace=True, verbosity=0)\n",
    "compare(result, df.loc[[0, 1, 2, 3, 4, 5, 6, 7, 8, 9, 10], ['height', 'weight']])\n",
    "df = get_df()\n",
    "\n",
    "\n",
    "\n",
    "#uniqueness\n",
    "result = df.q(\n",
    "    r\"\"\"\n",
    "    diabetes ´r is unique\n",
    "    is any\n",
    "    \"\"\",\n",
    "    diff=None,\n",
    "    inplace=False,\n",
    "    verbosity=0,\n",
    "    )\n",
    "compare(result, df.loc[[1,2,4,6,7,8,9], :])\n",
    "\n",
    "result = df.q(\n",
    "    r\"\"\"\n",
    "    diabetes ´r is first\n",
    "    is any\n",
    "    \"\"\",\n",
    "    diff=None,\n",
    "    inplace=False,\n",
    "    verbosity=0,\n",
    "    )\n",
    "compare(result, df.loc[[0,1,2,4,5,6,7,8,9], :])\n",
    "\n",
    "result = df.q(\n",
    "    r\"\"\"\n",
    "    diabetes ´r is last\n",
    "    is any\n",
    "    \"\"\",\n",
    "    diff=None,\n",
    "    inplace=False,\n",
    "    verbosity=0,\n",
    "    )\n",
    "compare(result, df.loc[[1,2,3,4,6,7,8,9,10], :])\n",
    "\n",
    "\n",
    "#custom python expression evaluation\n",
    "result = df.q('age ´r ~ isinstance(x, int)', verbosity=0)\n",
    "compare(result, df.loc[[0, 10], ['age']])\n",
    "\n",
    "result = df.q(\n",
    "    r\"\"\"\n",
    "    age / height ´v to num\n",
    "    age ´r col~ col < df[\"height\"]\n",
    "    \"\"\",\n",
    "    inplace=False, verbosity=0,\n",
    "    )\n",
    "compare(result, df.loc[[0, 10], ['age']])\n",
    "\n",
    "result = df.q(\n",
    "    r\"\"\"\n",
    "    age / height ´v to num\n",
    "    age ´r col~ col == df[\"age\"].max()\n",
    "    age ´v to str\n",
    "    \"\"\",\n",
    "    inplace=False, verbosity=0,\n",
    "    )\n",
    "compare(result, df.loc[[4], ['age']])\n",
    "\n",
    "\n"
   ]
  },
  {
   "cell_type": "markdown",
   "metadata": {},
   "source": [
    "## complex filtering"
   ]
  },
  {
   "cell_type": "code",
   "execution_count": 19,
   "metadata": {},
   "outputs": [
    {
     "data": {
      "text/html": [
       "<style type=\"text/css\">\n",
       "#T_6395d_row0_col0, #T_6395d_row0_col1, #T_6395d_row0_col2, #T_6395d_row0_col3 {\n",
       "  background-color: #c0e7b0;\n",
       "  text-align: left;\n",
       "}\n",
       "</style>\n",
       "<table id=\"T_6395d\">\n",
       "  <thead>\n",
       "  </thead>\n",
       "  <tbody>\n",
       "    <tr>\n",
       "      <th id=\"T_6395d_level0_row0\" class=\"row_heading level0 row0\" >976</th>\n",
       "      <td id=\"T_6395d_row0_col0\" class=\"data row0 col0\" >df was checked. no problems found</td>\n",
       "      <td id=\"T_6395d_row0_col1\" class=\"data row0 col1\" >qp.pd_util._check_df</td>\n",
       "      <td id=\"T_6395d_row0_col2\" class=\"data row0 col2\" >info</td>\n",
       "      <td id=\"T_6395d_row0_col3\" class=\"data row0 col3\" >2024-08-27 14:36:32.442071</td>\n",
       "    </tr>\n",
       "  </tbody>\n",
       "</table>\n"
      ],
      "text/plain": [
       "<pandas.io.formats.style.Styler at 0x1db02bc6570>"
      ]
     },
     "metadata": {},
     "output_type": "display_data"
    },
    {
     "name": "stdout",
     "output_type": "stream",
     "text": [
      "passed test for arg: \"\n",
      "    ID  ´r r=1....\n",
      "    diabetes ´r is yes\n",
      "    \"\n",
      "passed test for arg: \"\n",
      "    ID  ´r r=1....\n",
      "    diabetes ´r & is yes\n",
      "    ID / diabetes\n",
      "    \"\n",
      "passed test for arg: \"\n",
      "    diabetes ´r is yes\n",
      "    ID  ´r & r=1....\n",
      "    / diabetes\n",
      "    \"\n",
      "passed test for arg: \"\n",
      "    diabetes ´r is yes\n",
      "    / ID  ´r & r=1....\n",
      "    \"\n",
      "passed test for arg: \"\n",
      "    ID  ´r r=1.... / r=2....  ´n @1\n",
      "    gender ´r =m / =male & @1\n",
      "    ID / gender\n",
      "    \"\n",
      "passed test for arg: \"\n",
      "    ID  ´r r=1.... / r=2....  ´n @ 1\n",
      "    gender ´r =m / =male &@1\n",
      "    \"\n",
      "passed test for arg: \"\n",
      "    ID  ´r r=1.... / r=2....  ´n @1\n",
      "    gender ´r =m / =m / =male  / @ 1\n",
      "    \"\n",
      "passed test for arg: \"\n",
      "    ID  ´r r=1.... / r=2....  ´n @1\n",
      "    gender ´r =f / =f / =female  / @ 1\n",
      "    ID\n",
      "    \"\n",
      "passed test for arg: \"\n",
      "    gender ´r =f / =female\n",
      "    age ´r & >30\n",
      "    \"\n",
      "passed test for arg: \"\n",
      "    gender ´r =f / =female  ´n @ a\n",
      "    age ´r >30  & @ a \n",
      "    \"\n",
      "passed test for arg: \"\n",
      "    age ´r >30\n",
      "    age ´r / <18\n",
      "    \"\n",
      "passed test for arg: \"\n",
      "    age ´r >30  ´n @ a\n",
      "    age ´r <18 /@a\n",
      "    \"\n",
      "passed test for arg: \"\n",
      "    age ´r >30 / <18\n",
      "    \"\n",
      "passed test for arg: \"\n",
      "    weight ´r <70 & >40  ´n @ between 40 and 70\n",
      "    diabetes ´r is yes & @between 40 and 70   \n",
      "    \"\n",
      "passed test for arg: \"\n",
      "    weight ´r <70  ´n @ <70\n",
      "    &weight ´r >40  ´n@>40\n",
      "    diabetes ´r is no & @<70 & @ >40\n",
      "    weight / diabetes\n",
      "    \"\n"
     ]
    }
   ],
   "source": [
    "df = get_df()\n",
    "\n",
    "result = df.q(\n",
    "    r\"\"\"\n",
    "    ID  ´r r=1....\n",
    "    diabetes ´r is yes\n",
    "    \"\"\",\n",
    "    verbosity=0)\n",
    "compare(result, df.loc[[1, 4, 5, 10], ['diabetes']])\n",
    "\n",
    "\n",
    "result = df.q(\n",
    "    r\"\"\"\n",
    "    ID  ´r r=1....\n",
    "    diabetes ´r & is yes\n",
    "    ID / diabetes\n",
    "    \"\"\",\n",
    "    verbosity=0)\n",
    "compare(result, df.loc[[1], ['ID', 'diabetes']])\n",
    "\n",
    "\n",
    "result = df.q(\n",
    "    r\"\"\"\n",
    "    diabetes ´r is yes\n",
    "    ID  ´r & r=1....\n",
    "    / diabetes\n",
    "    \"\"\",\n",
    "    verbosity=0)\n",
    "compare(result, df.loc[[1], ['ID', 'diabetes']])\n",
    "\n",
    "\n",
    "result = df.q(\n",
    "    r\"\"\"\n",
    "    diabetes ´r is yes\n",
    "    / ID  ´r & r=1....\n",
    "    \"\"\",\n",
    "    verbosity=0)\n",
    "compare(result, df.loc[[1], ['ID', 'diabetes']])\n",
    "\n",
    "\n",
    "result = df.q(\n",
    "    r\"\"\"\n",
    "    ID  ´r r=1.... / r=2....  ´n @1\n",
    "    gender ´r =m / =male & @1\n",
    "    ID / gender\n",
    "    \"\"\",\n",
    "    verbosity=0)\n",
    "compare(result, df.loc[[0,3,5], ['ID', 'gender']])\n",
    "\n",
    "\n",
    "result = df.q(\n",
    "    r\"\"\"\n",
    "    ID  ´r r=1.... / r=2....  ´n @ 1\n",
    "    gender ´r =m / =male &@1\n",
    "    \"\"\",\n",
    "    verbosity=0)\n",
    "compare(result, df.loc[[0,3,5], ['gender']])\n",
    "\n",
    "\n",
    "result = df.q(\n",
    "    r\"\"\"\n",
    "    ID  ´r r=1.... / r=2....  ´n @1\n",
    "    gender ´r =m / =m / =male  / @ 1\n",
    "    \"\"\",\n",
    "    verbosity=0)\n",
    "compare(result, df.loc[[0,1,2,3,4,5], ['gender']])\n",
    "\n",
    "\n",
    "result = df.q(\n",
    "    r\"\"\"\n",
    "    ID  ´r r=1.... / r=2....  ´n @1\n",
    "    gender ´r =f / =f / =female  / @ 1\n",
    "    ID\n",
    "    \"\"\",\n",
    "    verbosity=0)\n",
    "compare(result, df.loc[[0,1,2,3,4,5,10], ['ID']])\n",
    "\n",
    "\n",
    "result = df.q(\n",
    "    r\"\"\"\n",
    "    gender ´r =f / =female\n",
    "    age ´r & >30\n",
    "    \"\"\",\n",
    "    verbosity=0)\n",
    "compare(result, df.loc[[10], ['age']])\n",
    "\n",
    "\n",
    "result = df.q(\n",
    "    r\"\"\"\n",
    "    gender ´r =f / =female  ´n @ a\n",
    "    age ´r >30  & @ a \n",
    "    \"\"\",\n",
    "    verbosity=0)\n",
    "compare(result, df.loc[[10], ['age']])\n",
    "\n",
    "\n",
    "result = df.q(\n",
    "    r\"\"\"\n",
    "    age ´r >30\n",
    "    age ´r / <18\n",
    "    \"\"\",\n",
    "    verbosity=0)\n",
    "compare(result, df.loc[[0,4,10], ['age']])\n",
    "\n",
    "\n",
    "result = df.q(\n",
    "    r\"\"\"\n",
    "    age ´r >30  ´n @ a\n",
    "    age ´r <18 /@a\n",
    "    \"\"\",\n",
    "    verbosity=0)\n",
    "compare(result, df.loc[[0,4,10], ['age']])\n",
    "\n",
    "\n",
    "result = df.q(\n",
    "    r\"\"\"\n",
    "    age ´r >30 / <18\n",
    "    \"\"\",\n",
    "    verbosity=0)\n",
    "compare(result, df.loc[[0,4,10], ['age']])\n",
    "\n",
    "\n",
    "result = df.q(\n",
    "    r\"\"\"\n",
    "    weight ´r <70 & >40  ´n @ between 40 and 70\n",
    "    diabetes ´r is yes & @between 40 and 70   \n",
    "    \"\"\",\n",
    "    verbosity=0)\n",
    "compare(result, df.loc[[1], ['diabetes']])\n",
    "\n",
    "result = df.q(\n",
    "    r\"\"\"\n",
    "    weight ´r <70  ´n @ <70\n",
    "    &weight ´r >40  ´n@>40\n",
    "    diabetes ´r is no & @<70 & @ >40\n",
    "    weight / diabetes\n",
    "    \"\"\",\n",
    "    verbosity=0)\n",
    "compare(result, df.loc[[], ['weight', 'diabetes']])\n",
    "\n",
    "\n",
    "\n"
   ]
  },
  {
   "cell_type": "markdown",
   "metadata": {},
   "source": [
    "## data modification"
   ]
  },
  {
   "cell_type": "code",
   "execution_count": 20,
   "metadata": {},
   "outputs": [
    {
     "data": {
      "text/html": [
       "<style type=\"text/css\">\n",
       "#T_ee6de_row0_col0, #T_ee6de_row0_col1, #T_ee6de_row0_col2, #T_ee6de_row0_col3 {\n",
       "  background-color: #c0e7b0;\n",
       "  text-align: left;\n",
       "}\n",
       "</style>\n",
       "<table id=\"T_ee6de\">\n",
       "  <thead>\n",
       "  </thead>\n",
       "  <tbody>\n",
       "    <tr>\n",
       "      <th id=\"T_ee6de_level0_row0\" class=\"row_heading level0 row0\" >977</th>\n",
       "      <td id=\"T_ee6de_row0_col0\" class=\"data row0 col0\" >df was checked. no problems found</td>\n",
       "      <td id=\"T_ee6de_row0_col1\" class=\"data row0 col1\" >qp.pd_util._check_df</td>\n",
       "      <td id=\"T_ee6de_row0_col2\" class=\"data row0 col2\" >info</td>\n",
       "      <td id=\"T_ee6de_row0_col3\" class=\"data row0 col3\" >2024-08-27 14:36:32.655944</td>\n",
       "    </tr>\n",
       "  </tbody>\n",
       "</table>\n"
      ],
      "text/plain": [
       "<pandas.io.formats.style.Styler at 0x1db02c17290>"
      ]
     },
     "metadata": {},
     "output_type": "display_data"
    },
    {
     "name": "stdout",
     "output_type": "stream",
     "text": [
      "passed test for arg: \"id ´v col~ df[\"name\"]\"\n",
      "passed test for arg: \"\n",
      "    id ´v col~ df[\"name\"]\n",
      "    is any ´r is any\n",
      "    \"\n",
      "passed test for arg: \"id / age ´v col~ df[\"name\"]\"\n",
      "passed test for arg: \"´v col~ df[\"name\"]\"\n",
      "passed test for arg: \"\n",
      "    name ´v ~ x.lower()\n",
      "    is any ´r is any\n",
      "    \"\n",
      "passed test for arg: \"\n",
      "    name  ´r !x? x == x.lower()  ´v ~ x.lower()\n",
      "    is any ´r is any\n",
      "    \"\n",
      "passed test for arg: \"\n",
      "    gender ´v to str & ~ x.lower()\n",
      "    is any\n",
      "    \"\n",
      "passed test for arg: \"\n",
      "    gender ´v to str / ~ x.lower()\n",
      "    is any\n",
      "    \"\n"
     ]
    },
    {
     "data": {
      "text/html": [
       "<style type=\"text/css\">\n",
       "#T_1a7d2_row0_col0, #T_1a7d2_row0_col1, #T_1a7d2_row0_col2, #T_1a7d2_row0_col3 {\n",
       "  background-color: #c0e7b0;\n",
       "  text-align: left;\n",
       "}\n",
       "</style>\n",
       "<table id=\"T_1a7d2\">\n",
       "  <thead>\n",
       "  </thead>\n",
       "  <tbody>\n",
       "    <tr>\n",
       "      <th id=\"T_1a7d2_level0_row0\" class=\"row_heading level0 row0\" >978</th>\n",
       "      <td id=\"T_1a7d2_row0_col0\" class=\"data row0 col0\" >df was checked. no problems found</td>\n",
       "      <td id=\"T_1a7d2_row0_col1\" class=\"data row0 col1\" >qp.pd_util._check_df</td>\n",
       "      <td id=\"T_1a7d2_row0_col2\" class=\"data row0 col2\" >info</td>\n",
       "      <td id=\"T_1a7d2_row0_col3\" class=\"data row0 col3\" >2024-08-27 14:36:32.763536</td>\n",
       "    </tr>\n",
       "  </tbody>\n",
       "</table>\n"
      ],
      "text/plain": [
       "<pandas.io.formats.style.Styler at 0x1db02c14e60>"
      ]
     },
     "metadata": {},
     "output_type": "display_data"
    },
    {
     "name": "stdout",
     "output_type": "stream",
     "text": [
      "passed test for arg: \"\n",
      "    a ´r >0\n",
      "    b ´v ~ x+1\n",
      "    \"\n",
      "passed test for arg: \"\n",
      "    a ´r >0\n",
      "    b ´v ~ x - 2\n",
      "    \"\n",
      "passed test for arg: \"b  ´v ~x*2\"\n",
      "passed test for arg: \"\n",
      "    a ´r =0\n",
      "    b ´v ~ x`/2\n",
      "    \"\n"
     ]
    },
    {
     "data": {
      "text/html": [
       "<style type=\"text/css\">\n",
       "#T_93aa2_row0_col0, #T_93aa2_row0_col1, #T_93aa2_row0_col2, #T_93aa2_row0_col3 {\n",
       "  background-color: #c0e7b0;\n",
       "  text-align: left;\n",
       "}\n",
       "</style>\n",
       "<table id=\"T_93aa2\">\n",
       "  <thead>\n",
       "  </thead>\n",
       "  <tbody>\n",
       "    <tr>\n",
       "      <th id=\"T_93aa2_level0_row0\" class=\"row_heading level0 row0\" >979</th>\n",
       "      <td id=\"T_93aa2_row0_col0\" class=\"data row0 col0\" >df was checked. no problems found</td>\n",
       "      <td id=\"T_93aa2_row0_col1\" class=\"data row0 col1\" >qp.pd_util._check_df</td>\n",
       "      <td id=\"T_93aa2_row0_col2\" class=\"data row0 col2\" >info</td>\n",
       "      <td id=\"T_93aa2_row0_col3\" class=\"data row0 col3\" >2024-08-27 14:36:32.801080</td>\n",
       "    </tr>\n",
       "  </tbody>\n",
       "</table>\n"
      ],
      "text/plain": [
       "<pandas.io.formats.style.Styler at 0x1db02bc7290>"
      ]
     },
     "metadata": {},
     "output_type": "display_data"
    },
    {
     "name": "stdout",
     "output_type": "stream",
     "text": [
      "passed test for arg: \"id ´v a ´c is any\"\n",
      "passed test for: inplace=True\n",
      "passed test for: inplace=True\n"
     ]
    },
    {
     "name": "stderr",
     "output_type": "stream",
     "text": [
      "c:\\Users\\MartinVölkl-GouyaIns\\OneDrive - Gouya Insights\\Desktop\\qplib_dev\\qplib\\pd_query.py:329: FutureWarning: Setting an item of incompatible dtype is deprecated and will raise in a future error of pandas. Value 'a' has dtype incompatible with int64, please explicitly cast to a compatible dtype first.\n",
      "  query_obj.df.loc[rows, cols] = value\n"
     ]
    },
    {
     "data": {
      "text/html": [
       "<style type=\"text/css\">\n",
       "#T_d1bf0_row0_col0, #T_d1bf0_row0_col1, #T_d1bf0_row0_col2, #T_d1bf0_row0_col3 {\n",
       "  background-color: #c0e7b0;\n",
       "  text-align: left;\n",
       "}\n",
       "</style>\n",
       "<table id=\"T_d1bf0\">\n",
       "  <thead>\n",
       "  </thead>\n",
       "  <tbody>\n",
       "    <tr>\n",
       "      <th id=\"T_d1bf0_level0_row0\" class=\"row_heading level0 row0\" >980</th>\n",
       "      <td id=\"T_d1bf0_row0_col0\" class=\"data row0 col0\" >df was checked. no problems found</td>\n",
       "      <td id=\"T_d1bf0_row0_col1\" class=\"data row0 col1\" >qp.pd_util._check_df</td>\n",
       "      <td id=\"T_d1bf0_row0_col2\" class=\"data row0 col2\" >info</td>\n",
       "      <td id=\"T_d1bf0_row0_col3\" class=\"data row0 col3\" >2024-08-27 14:36:32.821498</td>\n",
       "    </tr>\n",
       "  </tbody>\n",
       "</table>\n"
      ],
      "text/plain": [
       "<pandas.io.formats.style.Styler at 0x1db02c14260>"
      ]
     },
     "metadata": {},
     "output_type": "display_data"
    },
    {
     "name": "stdout",
     "output_type": "stream",
     "text": [
      "passed test for: inplace=False\n",
      "passed test for: inplace=False\n"
     ]
    },
    {
     "name": "stderr",
     "output_type": "stream",
     "text": [
      "c:\\Users\\MartinVölkl-GouyaIns\\OneDrive - Gouya Insights\\Desktop\\qplib_dev\\qplib\\pd_query.py:329: FutureWarning: Setting an item of incompatible dtype is deprecated and will raise in a future error of pandas. Value 'a' has dtype incompatible with int64, please explicitly cast to a compatible dtype first.\n",
      "  query_obj.df.loc[rows, cols] = value\n"
     ]
    },
    {
     "data": {
      "text/html": [
       "<style type=\"text/css\">\n",
       "#T_11c53_row0_col0, #T_11c53_row0_col1, #T_11c53_row0_col2, #T_11c53_row0_col3 {\n",
       "  background-color: #c0e7b0;\n",
       "  text-align: left;\n",
       "}\n",
       "</style>\n",
       "<table id=\"T_11c53\">\n",
       "  <thead>\n",
       "  </thead>\n",
       "  <tbody>\n",
       "    <tr>\n",
       "      <th id=\"T_11c53_level0_row0\" class=\"row_heading level0 row0\" >981</th>\n",
       "      <td id=\"T_11c53_row0_col0\" class=\"data row0 col0\" >df was checked. no problems found</td>\n",
       "      <td id=\"T_11c53_row0_col1\" class=\"data row0 col1\" >qp.pd_util._check_df</td>\n",
       "      <td id=\"T_11c53_row0_col2\" class=\"data row0 col2\" >info</td>\n",
       "      <td id=\"T_11c53_row0_col3\" class=\"data row0 col3\" >2024-08-27 14:36:32.840506</td>\n",
       "    </tr>\n",
       "  </tbody>\n",
       "</table>\n"
      ],
      "text/plain": [
       "<pandas.io.formats.style.Styler at 0x1db02bca720>"
      ]
     },
     "metadata": {},
     "output_type": "display_data"
    },
    {
     "name": "stdout",
     "output_type": "stream",
     "text": [
      "passed test for: default behaviour is inplace=False\n",
      "passed test for: default behaviour is inplace=False\n"
     ]
    },
    {
     "name": "stderr",
     "output_type": "stream",
     "text": [
      "c:\\Users\\MartinVölkl-GouyaIns\\OneDrive - Gouya Insights\\Desktop\\qplib_dev\\qplib\\pd_query.py:329: FutureWarning: Setting an item of incompatible dtype is deprecated and will raise in a future error of pandas. Value 'a' has dtype incompatible with int64, please explicitly cast to a compatible dtype first.\n",
      "  query_obj.df.loc[rows, cols] = value\n"
     ]
    },
    {
     "data": {
      "text/html": [
       "<style type=\"text/css\">\n",
       "#T_7a8de_row0_col0, #T_7a8de_row0_col1, #T_7a8de_row0_col2, #T_7a8de_row0_col3 {\n",
       "  background-color: #c0e7b0;\n",
       "  text-align: left;\n",
       "}\n",
       "</style>\n",
       "<table id=\"T_7a8de\">\n",
       "  <thead>\n",
       "  </thead>\n",
       "  <tbody>\n",
       "    <tr>\n",
       "      <th id=\"T_7a8de_level0_row0\" class=\"row_heading level0 row0\" >982</th>\n",
       "      <td id=\"T_7a8de_row0_col0\" class=\"data row0 col0\" >df was checked. no problems found</td>\n",
       "      <td id=\"T_7a8de_row0_col1\" class=\"data row0 col1\" >qp.pd_util._check_df</td>\n",
       "      <td id=\"T_7a8de_row0_col2\" class=\"data row0 col2\" >info</td>\n",
       "      <td id=\"T_7a8de_row0_col3\" class=\"data row0 col3\" >2024-08-27 14:36:32.858115</td>\n",
       "    </tr>\n",
       "  </tbody>\n",
       "</table>\n"
      ],
      "text/plain": [
       "<pandas.io.formats.style.Styler at 0x1db00184e90>"
      ]
     },
     "metadata": {},
     "output_type": "display_data"
    },
    {
     "name": "stdout",
     "output_type": "stream",
     "text": [
      "passed test for: ´s inplace=true\n",
      "passed test for: ´s inplace=true\n",
      "passed test for: ´s inplace=true\n"
     ]
    },
    {
     "name": "stderr",
     "output_type": "stream",
     "text": [
      "c:\\Users\\MartinVölkl-GouyaIns\\OneDrive - Gouya Insights\\Desktop\\qplib_dev\\qplib\\pd_query.py:329: FutureWarning: Setting an item of incompatible dtype is deprecated and will raise in a future error of pandas. Value 'a' has dtype incompatible with int64, please explicitly cast to a compatible dtype first.\n",
      "  query_obj.df.loc[rows, cols] = value\n"
     ]
    },
    {
     "data": {
      "text/html": [
       "<style type=\"text/css\">\n",
       "#T_1bd82_row0_col0, #T_1bd82_row0_col1, #T_1bd82_row0_col2, #T_1bd82_row0_col3 {\n",
       "  background-color: #c0e7b0;\n",
       "  text-align: left;\n",
       "}\n",
       "</style>\n",
       "<table id=\"T_1bd82\">\n",
       "  <thead>\n",
       "  </thead>\n",
       "  <tbody>\n",
       "    <tr>\n",
       "      <th id=\"T_1bd82_level0_row0\" class=\"row_heading level0 row0\" >983</th>\n",
       "      <td id=\"T_1bd82_row0_col0\" class=\"data row0 col0\" >df was checked. no problems found</td>\n",
       "      <td id=\"T_1bd82_row0_col1\" class=\"data row0 col1\" >qp.pd_util._check_df</td>\n",
       "      <td id=\"T_1bd82_row0_col2\" class=\"data row0 col2\" >info</td>\n",
       "      <td id=\"T_1bd82_row0_col3\" class=\"data row0 col3\" >2024-08-27 14:36:32.880251</td>\n",
       "    </tr>\n",
       "  </tbody>\n",
       "</table>\n"
      ],
      "text/plain": [
       "<pandas.io.formats.style.Styler at 0x1db02bc9ca0>"
      ]
     },
     "metadata": {},
     "output_type": "display_data"
    },
    {
     "name": "stdout",
     "output_type": "stream",
     "text": [
      "passed test for: ´s inplace=false\n",
      "passed test for: ´s inplace=false\n"
     ]
    },
    {
     "name": "stderr",
     "output_type": "stream",
     "text": [
      "c:\\Users\\MartinVölkl-GouyaIns\\OneDrive - Gouya Insights\\Desktop\\qplib_dev\\qplib\\pd_query.py:329: FutureWarning: Setting an item of incompatible dtype is deprecated and will raise in a future error of pandas. Value 'a' has dtype incompatible with int64, please explicitly cast to a compatible dtype first.\n",
      "  query_obj.df.loc[rows, cols] = value\n"
     ]
    },
    {
     "data": {
      "text/html": [
       "<style type=\"text/css\">\n",
       "#T_2857b_row0_col0, #T_2857b_row0_col1, #T_2857b_row0_col2, #T_2857b_row0_col3 {\n",
       "  background-color: #c0e7b0;\n",
       "  text-align: left;\n",
       "}\n",
       "</style>\n",
       "<table id=\"T_2857b\">\n",
       "  <thead>\n",
       "  </thead>\n",
       "  <tbody>\n",
       "    <tr>\n",
       "      <th id=\"T_2857b_level0_row0\" class=\"row_heading level0 row0\" >984</th>\n",
       "      <td id=\"T_2857b_row0_col0\" class=\"data row0 col0\" >df was checked. no problems found</td>\n",
       "      <td id=\"T_2857b_row0_col1\" class=\"data row0 col1\" >qp.pd_util._check_df</td>\n",
       "      <td id=\"T_2857b_row0_col2\" class=\"data row0 col2\" >info</td>\n",
       "      <td id=\"T_2857b_row0_col3\" class=\"data row0 col3\" >2024-08-27 14:36:32.900222</td>\n",
       "    </tr>\n",
       "  </tbody>\n",
       "</table>\n"
      ],
      "text/plain": [
       "<pandas.io.formats.style.Styler at 0x1db02987a70>"
      ]
     },
     "metadata": {},
     "output_type": "display_data"
    },
    {
     "name": "stdout",
     "output_type": "stream",
     "text": [
      "passed test for: ´s inplace= True\n",
      "passed test for: ´s inplace= True\n",
      "passed test for: ´s inplace= True\n"
     ]
    },
    {
     "name": "stderr",
     "output_type": "stream",
     "text": [
      "c:\\Users\\MartinVölkl-GouyaIns\\OneDrive - Gouya Insights\\Desktop\\qplib_dev\\qplib\\pd_query.py:329: FutureWarning: Setting an item of incompatible dtype is deprecated and will raise in a future error of pandas. Value 'a' has dtype incompatible with int64, please explicitly cast to a compatible dtype first.\n",
      "  query_obj.df.loc[rows, cols] = value\n"
     ]
    },
    {
     "data": {
      "text/html": [
       "<style type=\"text/css\">\n",
       "#T_52714_row0_col0, #T_52714_row0_col1, #T_52714_row0_col2, #T_52714_row0_col3 {\n",
       "  background-color: #c0e7b0;\n",
       "  text-align: left;\n",
       "}\n",
       "</style>\n",
       "<table id=\"T_52714\">\n",
       "  <thead>\n",
       "  </thead>\n",
       "  <tbody>\n",
       "    <tr>\n",
       "      <th id=\"T_52714_level0_row0\" class=\"row_heading level0 row0\" >985</th>\n",
       "      <td id=\"T_52714_row0_col0\" class=\"data row0 col0\" >df was checked. no problems found</td>\n",
       "      <td id=\"T_52714_row0_col1\" class=\"data row0 col1\" >qp.pd_util._check_df</td>\n",
       "      <td id=\"T_52714_row0_col2\" class=\"data row0 col2\" >info</td>\n",
       "      <td id=\"T_52714_row0_col3\" class=\"data row0 col3\" >2024-08-27 14:36:32.917974</td>\n",
       "    </tr>\n",
       "  </tbody>\n",
       "</table>\n"
      ],
      "text/plain": [
       "<pandas.io.formats.style.Styler at 0x1db02bc8dd0>"
      ]
     },
     "metadata": {},
     "output_type": "display_data"
    },
    {
     "name": "stdout",
     "output_type": "stream",
     "text": [
      "passed test for: ´s inplace=FALSE\n",
      "passed test for: ´s inplace=FALSE\n"
     ]
    },
    {
     "name": "stderr",
     "output_type": "stream",
     "text": [
      "c:\\Users\\MartinVölkl-GouyaIns\\OneDrive - Gouya Insights\\Desktop\\qplib_dev\\qplib\\pd_query.py:329: FutureWarning: Setting an item of incompatible dtype is deprecated and will raise in a future error of pandas. Value 'a' has dtype incompatible with int64, please explicitly cast to a compatible dtype first.\n",
      "  query_obj.df.loc[rows, cols] = value\n"
     ]
    }
   ],
   "source": [
    "#set columns\n",
    "\n",
    "df = get_df()\n",
    "df1 = get_df()\n",
    "result = df.q('id ´v col~ df[\"name\"]', verbosity=0)\n",
    "df1['ID'] = df1['name']\n",
    "compare(result, df1.loc[:, ['ID']])\n",
    "\n",
    "\n",
    "df1 = get_df()\n",
    "result = df.q(\n",
    "    r\"\"\"\n",
    "    id ´v col~ df[\"name\"]\n",
    "    is any ´r is any\n",
    "    \"\"\",\n",
    "    verbosity=0)\n",
    "df1['ID'] = df1['name']\n",
    "compare(result, df1.loc[:, :])\n",
    "\n",
    "\n",
    "df1 = get_df()\n",
    "result = df.q('id / age ´v col~ df[\"name\"]' ,verbosity=0)\n",
    "df1['ID'] = df1['name']\n",
    "df1['age'] = df1['name']\n",
    "compare(result, df1.loc[:, ['ID', 'age']])\n",
    "\n",
    "df1 = get_df()\n",
    "result = df.q('´v col~ df[\"name\"]', verbosity=0)\n",
    "for col in df1.columns:\n",
    "    df1[col] = df1['name']\n",
    "compare(result, df1)\n",
    "\n",
    "\n",
    "\n",
    "#set values\n",
    "\n",
    "df1 = get_df()\n",
    "result = df.q(\n",
    "    r\"\"\"\n",
    "    name ´v ~ x.lower()\n",
    "    is any ´r is any\n",
    "    \"\"\",\n",
    "    verbosity=0)\n",
    "df1['name'] = df1['name'].str.lower()\n",
    "compare(result, df1.loc[:, :])\n",
    "\n",
    "df1 = get_df()\n",
    "result = df.q(\n",
    "    r\"\"\"\n",
    "    name  ´r !x? x == x.lower()  ´v ~ x.lower()\n",
    "    is any ´r is any\n",
    "    \"\"\",\n",
    "    verbosity=0)\n",
    "df1['name'] = df1['name'].str.lower()\n",
    "compare(result, df1.loc[:, :])\n",
    "\n",
    "\n",
    "df1 = get_df()\n",
    "result = df.q(\n",
    "    r\"\"\"\n",
    "    gender ´v to str & ~ x.lower()\n",
    "    is any\n",
    "    \"\"\",\n",
    "    verbosity=0)\n",
    "df1['gender'] = df1['gender'].astype(str).str.lower()\n",
    "compare(result, df1.loc[:, :])\n",
    "\n",
    "\n",
    "df1 = get_df()\n",
    "result = df.q(\n",
    "    r\"\"\"\n",
    "    gender ´v to str / ~ x.lower()\n",
    "    is any\n",
    "    \"\"\",\n",
    "    verbosity=0)\n",
    "df1['gender'] = df1['gender'].astype(str).str.lower()\n",
    "compare(result, df1.loc[:, :])\n",
    "\n",
    "\n",
    "\n",
    "\n",
    "\n",
    "\n",
    "\n",
    "#continuous inplace modifications\n",
    "\n",
    "df = get_df_simple_tagged()\n",
    "df1 = get_df_simple_tagged()\n",
    "df.q(\n",
    "    r\"\"\"\n",
    "    a ´r >0\n",
    "    b ´v ~ x+1\n",
    "    \"\"\",\n",
    "    inplace=True, verbosity=0,\n",
    "    )\n",
    "df1['b'] = [ 1, 2, 4]\n",
    "compare(df, df1)\n",
    "\n",
    "\n",
    "df.q(\n",
    "    r\"\"\"\n",
    "    a ´r >0\n",
    "    b ´v ~ x - 2\n",
    "    \"\"\",\n",
    "    inplace=True, verbosity=0,\n",
    "    )\n",
    "df1['b'] = [ 1, 2, 2]\n",
    "compare(df, df1)\n",
    "\n",
    "\n",
    "df.q('b  ´v ~x*2', inplace=True, verbosity=0)\n",
    "df1['b'] = [ 2, 4, 4]\n",
    "compare(df, df1)\n",
    "\n",
    "\n",
    "df.q(\n",
    "    r\"\"\"\n",
    "    a ´r =0\n",
    "    b ´v ~ x`/2\n",
    "    \"\"\",\n",
    "    inplace=True, verbosity=0,\n",
    "    )\n",
    "df1['b'] = [ 2, 2, 4]\n",
    "compare(df, df1)\n",
    "\n",
    "\n",
    "\n",
    "#inplace modes\n",
    "\n",
    "df = get_df()\n",
    "df1 = get_df()\n",
    "result = df.q('id ´v a ´c is any', inplace=True, verbosity=0)\n",
    "df1['ID'] = 'a'\n",
    "compare(df, df1)\n",
    "compare(result, df1, 'inplace=True')\n",
    "compare(result, df, 'inplace=True')\n",
    "\n",
    "\n",
    "df = get_df()\n",
    "df1 = get_df()\n",
    "df2 = get_df()\n",
    "result = df.q('id ´v a ´c is any', inplace=False, verbosity=0)\n",
    "df1['ID'] = 'a'\n",
    "compare(result, df1, 'inplace=False')\n",
    "compare(df, df2, 'inplace=False')\n",
    "\n",
    "\n",
    "df = get_df()\n",
    "df1 = get_df()\n",
    "df2 = get_df()\n",
    "result = df.q('id ´v a ´c is any', verbosity=0)\n",
    "df1['ID'] = 'a'\n",
    "compare(result, df1, 'default behaviour is inplace=False')\n",
    "compare(df, df2, 'default behaviour is inplace=False')\n",
    "\n",
    "\n",
    "\n",
    "df = get_df()\n",
    "df1 = get_df()\n",
    "df2 = get_df()\n",
    "result = df.q('´s inplace=true ´c id ´v a ´c is any', verbosity=0)\n",
    "df1['ID'] = 'a'\n",
    "compare(df, df1, '´s inplace=true')\n",
    "compare(result, df1, '´s inplace=true')\n",
    "compare(result, df, '´s inplace=true')\n",
    "\n",
    "\n",
    "df = get_df()\n",
    "df1 = get_df()\n",
    "df2 = get_df()\n",
    "result = df.q('´s inplace=false ´c id ´v a ´c is any', verbosity=0)\n",
    "df1['ID'] = 'a'\n",
    "compare(result, df1, '´s inplace=false')\n",
    "compare(df, df2, '´s inplace=false')\n",
    "\n",
    "df = get_df()\n",
    "df1 = get_df()\n",
    "df2 = get_df()\n",
    "result = df.q('´s inplace= True ´c id ´v a ´c is any', verbosity=0)\n",
    "df1['ID'] = 'a'\n",
    "compare(df, df1, '´s inplace= True')\n",
    "compare(result, df1, '´s inplace= True')\n",
    "compare(result, df, '´s inplace= True')\n",
    "\n",
    "\n",
    "df = get_df()\n",
    "df1 = get_df()\n",
    "df2 = get_df()\n",
    "result = df.q('´s inplace=FALSE ´c id ´v a ´c is any', verbosity=0)\n",
    "df1['ID'] = 'a'\n",
    "compare(result, df1, '´s inplace=FALSE')\n",
    "compare(df, df2, '´s inplace=FALSE')\n"
   ]
  },
  {
   "cell_type": "markdown",
   "metadata": {},
   "source": [
    "## metadata modification"
   ]
  },
  {
   "cell_type": "code",
   "execution_count": 21,
   "metadata": {},
   "outputs": [
    {
     "data": {
      "text/html": [
       "<style type=\"text/css\">\n",
       "#T_c26bb_row0_col0, #T_c26bb_row0_col1, #T_c26bb_row0_col2, #T_c26bb_row0_col3 {\n",
       "  background-color: #c0e7b0;\n",
       "  text-align: left;\n",
       "}\n",
       "</style>\n",
       "<table id=\"T_c26bb\">\n",
       "  <thead>\n",
       "  </thead>\n",
       "  <tbody>\n",
       "    <tr>\n",
       "      <th id=\"T_c26bb_level0_row0\" class=\"row_heading level0 row0\" >986</th>\n",
       "      <td id=\"T_c26bb_row0_col0\" class=\"data row0 col0\" >df was checked. no problems found</td>\n",
       "      <td id=\"T_c26bb_row0_col1\" class=\"data row0 col1\" >qp.pd_util._check_df</td>\n",
       "      <td id=\"T_c26bb_row0_col2\" class=\"data row0 col2\" >info</td>\n",
       "      <td id=\"T_c26bb_row0_col3\" class=\"data row0 col3\" >2024-08-27 14:36:32.987001</td>\n",
       "    </tr>\n",
       "  </tbody>\n",
       "</table>\n"
      ],
      "text/plain": [
       "<pandas.io.formats.style.Styler at 0x1db02bc8cb0>"
      ]
     },
     "metadata": {},
     "output_type": "display_data"
    },
    {
     "name": "stdout",
     "output_type": "stream",
     "text": [
      "passed test for arg: \"a ´r >0  ´c meta   ´v += >0\"\n"
     ]
    },
    {
     "data": {
      "text/html": [
       "<style type=\"text/css\">\n",
       "#T_9c6cb_row0_col0, #T_9c6cb_row0_col1, #T_9c6cb_row0_col2, #T_9c6cb_row0_col3 {\n",
       "  background-color: #c0e7b0;\n",
       "  text-align: left;\n",
       "}\n",
       "</style>\n",
       "<table id=\"T_9c6cb\">\n",
       "  <thead>\n",
       "  </thead>\n",
       "  <tbody>\n",
       "    <tr>\n",
       "      <th id=\"T_9c6cb_level0_row0\" class=\"row_heading level0 row0\" >987</th>\n",
       "      <td id=\"T_9c6cb_row0_col0\" class=\"data row0 col0\" >df was checked. no problems found</td>\n",
       "      <td id=\"T_9c6cb_row0_col1\" class=\"data row0 col1\" >qp.pd_util._check_df</td>\n",
       "      <td id=\"T_9c6cb_row0_col2\" class=\"data row0 col2\" >info</td>\n",
       "      <td id=\"T_9c6cb_row0_col3\" class=\"data row0 col3\" >2024-08-27 14:36:33.015326</td>\n",
       "    </tr>\n",
       "  </tbody>\n",
       "</table>\n"
      ],
      "text/plain": [
       "<pandas.io.formats.style.Styler at 0x1db029870b0>"
      ]
     },
     "metadata": {},
     "output_type": "display_data"
    },
    {
     "name": "stdout",
     "output_type": "stream",
     "text": [
      "passed test for arg: \"=a   ´r >0   ´c meta   ´v ~ x + \">0\"\"\n"
     ]
    },
    {
     "data": {
      "text/html": [
       "<style type=\"text/css\">\n",
       "#T_39067_row0_col0, #T_39067_row0_col1, #T_39067_row0_col2, #T_39067_row0_col3 {\n",
       "  background-color: #c0e7b0;\n",
       "  text-align: left;\n",
       "}\n",
       "</style>\n",
       "<table id=\"T_39067\">\n",
       "  <thead>\n",
       "  </thead>\n",
       "  <tbody>\n",
       "    <tr>\n",
       "      <th id=\"T_39067_level0_row0\" class=\"row_heading level0 row0\" >988</th>\n",
       "      <td id=\"T_39067_row0_col0\" class=\"data row0 col0\" >df was checked. no problems found</td>\n",
       "      <td id=\"T_39067_row0_col1\" class=\"data row0 col1\" >qp.pd_util._check_df</td>\n",
       "      <td id=\"T_39067_row0_col2\" class=\"data row0 col2\" >info</td>\n",
       "      <td id=\"T_39067_row0_col3\" class=\"data row0 col3\" >2024-08-27 14:36:33.042316</td>\n",
       "    </tr>\n",
       "  </tbody>\n",
       "</table>\n"
      ],
      "text/plain": [
       "<pandas.io.formats.style.Styler at 0x1db02c17c50>"
      ]
     },
     "metadata": {},
     "output_type": "display_data"
    },
    {
     "name": "stdout",
     "output_type": "stream",
     "text": [
      "passed test for arg: \"=a   ´r >0   ´c  meta ´v +=>0\"\n"
     ]
    },
    {
     "data": {
      "text/html": [
       "<style type=\"text/css\">\n",
       "#T_31590_row0_col0, #T_31590_row0_col1, #T_31590_row0_col2, #T_31590_row0_col3 {\n",
       "  background-color: #c0e7b0;\n",
       "  text-align: left;\n",
       "}\n",
       "</style>\n",
       "<table id=\"T_31590\">\n",
       "  <thead>\n",
       "  </thead>\n",
       "  <tbody>\n",
       "    <tr>\n",
       "      <th id=\"T_31590_level0_row0\" class=\"row_heading level0 row0\" >989</th>\n",
       "      <td id=\"T_31590_row0_col0\" class=\"data row0 col0\" >df was checked. no problems found</td>\n",
       "      <td id=\"T_31590_row0_col1\" class=\"data row0 col1\" >qp.pd_util._check_df</td>\n",
       "      <td id=\"T_31590_row0_col2\" class=\"data row0 col2\" >info</td>\n",
       "      <td id=\"T_31590_row0_col3\" class=\"data row0 col3\" >2024-08-27 14:36:33.072775</td>\n",
       "    </tr>\n",
       "  </tbody>\n",
       "</table>\n"
      ],
      "text/plain": [
       "<pandas.io.formats.style.Styler at 0x1db02bcbad0>"
      ]
     },
     "metadata": {},
     "output_type": "display_data"
    },
    {
     "name": "stdout",
     "output_type": "stream",
     "text": [
      "passed test for arg: \"=a´r >0     ´c meta   ´v += >0\"\n"
     ]
    },
    {
     "data": {
      "text/html": [
       "<style type=\"text/css\">\n",
       "#T_8bb58_row0_col0, #T_8bb58_row0_col1, #T_8bb58_row0_col2, #T_8bb58_row0_col3 {\n",
       "  background-color: #c0e7b0;\n",
       "  text-align: left;\n",
       "}\n",
       "</style>\n",
       "<table id=\"T_8bb58\">\n",
       "  <thead>\n",
       "  </thead>\n",
       "  <tbody>\n",
       "    <tr>\n",
       "      <th id=\"T_8bb58_level0_row0\" class=\"row_heading level0 row0\" >990</th>\n",
       "      <td id=\"T_8bb58_row0_col0\" class=\"data row0 col0\" >df was checked. no problems found</td>\n",
       "      <td id=\"T_8bb58_row0_col1\" class=\"data row0 col1\" >qp.pd_util._check_df</td>\n",
       "      <td id=\"T_8bb58_row0_col2\" class=\"data row0 col2\" >info</td>\n",
       "      <td id=\"T_8bb58_row0_col3\" class=\"data row0 col3\" >2024-08-27 14:36:33.095787</td>\n",
       "    </tr>\n",
       "  </tbody>\n",
       "</table>\n"
      ],
      "text/plain": [
       "<pandas.io.formats.style.Styler at 0x1db02c1b860>"
      ]
     },
     "metadata": {},
     "output_type": "display_data"
    },
    {
     "name": "stdout",
     "output_type": "stream",
     "text": [
      "passed test for arg: \"=a  ´r >0   ´c meta   ´v += >0\"\n",
      "passed test for arg: \"=a   ´r >0  ´c meta   ´v += >0\"\n",
      "passed test for arg: \"=a   ´r ==0    ´c meta   ´v += 0\"\n",
      "passed test for arg: \"a   ´r ==0    ´c meta  ´v ~ x.replace(\"0\", \"\")\"\n",
      "passed test for arg: \"=a   ´r >0    ´c meta  ´v ~ x.replace(\"0\", \"\")\"\n",
      "passed test for arg: \"=a     ´c meta   ´v =\"\n"
     ]
    }
   ],
   "source": [
    "\n",
    "#syntax\n",
    "df = get_df_simple_tagged()\n",
    "df1 = get_df_simple_tagged()\n",
    "df.q('a ´r >0  ´c meta   ´v += >0', inplace=True, verbosity=0)\n",
    "df1['meta'] = ['', '', '>0']\n",
    "compare(df, df1)\n",
    "\n",
    "df = get_df_simple_tagged()\n",
    "df1 = get_df_simple_tagged()\n",
    "df.q('=a   ´r >0   ´c meta   ´v ~ x + \">0\"', inplace=True, verbosity=0)\n",
    "df1['meta'] = [ '', '', '>0']\n",
    "compare(df, df1)\n",
    "\n",
    "df = get_df_simple_tagged()\n",
    "df1 = get_df_simple_tagged()\n",
    "df.q('=a   ´r >0   ´c  meta ´v +=>0', inplace=True, verbosity=0)\n",
    "df1['meta'] = [ '', '', '>0']\n",
    "compare(df, df1)\n",
    "\n",
    "df = get_df_simple_tagged()\n",
    "df1 = get_df_simple_tagged()\n",
    "df.q('=a´r >0     ´c meta   ´v += >0', inplace=True, verbosity=0)\n",
    "df1['meta'] = [ '', '', '>0']\n",
    "compare(df, df1)\n",
    "\n",
    "\n",
    "\n",
    "#continous\n",
    "df = get_df_simple_tagged()\n",
    "df1 = get_df_simple_tagged()\n",
    "\n",
    "\n",
    "df.q('=a  ´r >0   ´c meta   ´v += >0', inplace=True, verbosity=0)\n",
    "df1['meta'] = [ '', '', '>0']\n",
    "compare(df, df1)\n",
    "\n",
    "\n",
    "df.q('=a   ´r >0  ´c meta   ´v += >0', inplace=True, verbosity=0)\n",
    "df1['meta'] = [ '', '', '>0>0']\n",
    "compare(df, df1)\n",
    "\n",
    "\n",
    "df.q('=a   ´r ==0    ´c meta   ´v += 0', inplace=True, verbosity=0)\n",
    "df1['meta'] = [ '', '0', '>0>0']\n",
    "compare(df, df1)\n",
    "\n",
    "\n",
    "df.q('a   ´r ==0    ´c meta  ´v ~ x.replace(\"0\", \"\")', inplace=True, verbosity=0)\n",
    "df1['meta'] = [ '', '', '>0>0']\n",
    "compare(df, df1)\n",
    "\n",
    "\n",
    "df.q('=a   ´r >0    ´c meta  ´v ~ x.replace(\"0\", \"\")', inplace=True, verbosity=0)\n",
    "df1['meta'] = [ '', '', '>>']\n",
    "compare(df, df1)\n",
    "\n",
    "\n",
    "df.q('=a     ´c meta   ´v =', inplace=True, verbosity=0)\n",
    "df1['meta'] = [ '', '', '']\n",
    "compare(df, df1)\n",
    "\n",
    "\n",
    "\n"
   ]
  },
  {
   "cell_type": "markdown",
   "metadata": {},
   "source": [
    "## type conversion"
   ]
  },
  {
   "cell_type": "code",
   "execution_count": 22,
   "metadata": {},
   "outputs": [
    {
     "data": {
      "text/html": [
       "<style type=\"text/css\">\n",
       "#T_e7692_row0_col0, #T_e7692_row0_col1, #T_e7692_row0_col2, #T_e7692_row0_col3 {\n",
       "  background-color: #c0e7b0;\n",
       "  text-align: left;\n",
       "}\n",
       "</style>\n",
       "<table id=\"T_e7692\">\n",
       "  <thead>\n",
       "  </thead>\n",
       "  <tbody>\n",
       "    <tr>\n",
       "      <th id=\"T_e7692_level0_row0\" class=\"row_heading level0 row0\" >991</th>\n",
       "      <td id=\"T_e7692_row0_col0\" class=\"data row0 col0\" >df was checked. no problems found</td>\n",
       "      <td id=\"T_e7692_row0_col1\" class=\"data row0 col1\" >qp.pd_util._check_df</td>\n",
       "      <td id=\"T_e7692_row0_col2\" class=\"data row0 col2\" >info</td>\n",
       "      <td id=\"T_e7692_row0_col3\" class=\"data row0 col3\" >2024-08-27 14:36:33.223022</td>\n",
       "    </tr>\n",
       "  </tbody>\n",
       "</table>\n"
      ],
      "text/plain": [
       "<pandas.io.formats.style.Styler at 0x1db02c18c50>"
      ]
     },
     "metadata": {},
     "output_type": "display_data"
    },
    {
     "name": "stdout",
     "output_type": "stream",
     "text": [
      "passed test for arg: \"age ´v to int\"\n"
     ]
    },
    {
     "data": {
      "text/html": [
       "<style type=\"text/css\">\n",
       "#T_f2fac_row0_col0, #T_f2fac_row0_col1, #T_f2fac_row0_col2, #T_f2fac_row0_col3 {\n",
       "  background-color: #c0e7b0;\n",
       "  text-align: left;\n",
       "}\n",
       "</style>\n",
       "<table id=\"T_f2fac\">\n",
       "  <thead>\n",
       "  </thead>\n",
       "  <tbody>\n",
       "    <tr>\n",
       "      <th id=\"T_f2fac_level0_row0\" class=\"row_heading level0 row0\" >992</th>\n",
       "      <td id=\"T_f2fac_row0_col0\" class=\"data row0 col0\" >df was checked. no problems found</td>\n",
       "      <td id=\"T_f2fac_row0_col1\" class=\"data row0 col1\" >qp.pd_util._check_df</td>\n",
       "      <td id=\"T_f2fac_row0_col2\" class=\"data row0 col2\" >info</td>\n",
       "      <td id=\"T_f2fac_row0_col3\" class=\"data row0 col3\" >2024-08-27 14:36:33.253218</td>\n",
       "    </tr>\n",
       "  </tbody>\n",
       "</table>\n"
      ],
      "text/plain": [
       "<pandas.io.formats.style.Styler at 0x1db02c14470>"
      ]
     },
     "metadata": {},
     "output_type": "display_data"
    },
    {
     "name": "stdout",
     "output_type": "stream",
     "text": [
      "passed test for arg: \"=age  ´v to float\"\n"
     ]
    },
    {
     "data": {
      "text/html": [
       "<style type=\"text/css\">\n",
       "#T_a8600_row0_col0, #T_a8600_row0_col1, #T_a8600_row0_col2, #T_a8600_row0_col3 {\n",
       "  background-color: #c0e7b0;\n",
       "  text-align: left;\n",
       "}\n",
       "</style>\n",
       "<table id=\"T_a8600\">\n",
       "  <thead>\n",
       "  </thead>\n",
       "  <tbody>\n",
       "    <tr>\n",
       "      <th id=\"T_a8600_level0_row0\" class=\"row_heading level0 row0\" >993</th>\n",
       "      <td id=\"T_a8600_row0_col0\" class=\"data row0 col0\" >df was checked. no problems found</td>\n",
       "      <td id=\"T_a8600_row0_col1\" class=\"data row0 col1\" >qp.pd_util._check_df</td>\n",
       "      <td id=\"T_a8600_row0_col2\" class=\"data row0 col2\" >info</td>\n",
       "      <td id=\"T_a8600_row0_col3\" class=\"data row0 col3\" >2024-08-27 14:36:33.282617</td>\n",
       "    </tr>\n",
       "  </tbody>\n",
       "</table>\n"
      ],
      "text/plain": [
       "<pandas.io.formats.style.Styler at 0x1db02c18c50>"
      ]
     },
     "metadata": {},
     "output_type": "display_data"
    },
    {
     "name": "stdout",
     "output_type": "stream",
     "text": [
      "passed test for arg: \"=age   ´v to num\"\n"
     ]
    },
    {
     "data": {
      "text/html": [
       "<style type=\"text/css\">\n",
       "#T_e480e_row0_col0, #T_e480e_row0_col1, #T_e480e_row0_col2, #T_e480e_row0_col3 {\n",
       "  background-color: #c0e7b0;\n",
       "  text-align: left;\n",
       "}\n",
       "</style>\n",
       "<table id=\"T_e480e\">\n",
       "  <thead>\n",
       "  </thead>\n",
       "  <tbody>\n",
       "    <tr>\n",
       "      <th id=\"T_e480e_level0_row0\" class=\"row_heading level0 row0\" >994</th>\n",
       "      <td id=\"T_e480e_row0_col0\" class=\"data row0 col0\" >df was checked. no problems found</td>\n",
       "      <td id=\"T_e480e_row0_col1\" class=\"data row0 col1\" >qp.pd_util._check_df</td>\n",
       "      <td id=\"T_e480e_row0_col2\" class=\"data row0 col2\" >info</td>\n",
       "      <td id=\"T_e480e_row0_col3\" class=\"data row0 col3\" >2024-08-27 14:36:33.306109</td>\n",
       "    </tr>\n",
       "  </tbody>\n",
       "</table>\n"
      ],
      "text/plain": [
       "<pandas.io.formats.style.Styler at 0x1db02bc1ee0>"
      ]
     },
     "metadata": {},
     "output_type": "display_data"
    },
    {
     "name": "stdout",
     "output_type": "stream",
     "text": [
      "passed test for arg: \"=age   ´v to str\"\n"
     ]
    },
    {
     "data": {
      "text/html": [
       "<style type=\"text/css\">\n",
       "#T_aabc6_row0_col0, #T_aabc6_row0_col1, #T_aabc6_row0_col2, #T_aabc6_row0_col3 {\n",
       "  background-color: #c0e7b0;\n",
       "  text-align: left;\n",
       "}\n",
       "</style>\n",
       "<table id=\"T_aabc6\">\n",
       "  <thead>\n",
       "  </thead>\n",
       "  <tbody>\n",
       "    <tr>\n",
       "      <th id=\"T_aabc6_level0_row0\" class=\"row_heading level0 row0\" >995</th>\n",
       "      <td id=\"T_aabc6_row0_col0\" class=\"data row0 col0\" >df was checked. no problems found</td>\n",
       "      <td id=\"T_aabc6_row0_col1\" class=\"data row0 col1\" >qp.pd_util._check_df</td>\n",
       "      <td id=\"T_aabc6_row0_col2\" class=\"data row0 col2\" >info</td>\n",
       "      <td id=\"T_aabc6_row0_col3\" class=\"data row0 col3\" >2024-08-27 14:36:33.328963</td>\n",
       "    </tr>\n",
       "  </tbody>\n",
       "</table>\n"
      ],
      "text/plain": [
       "<pandas.io.formats.style.Styler at 0x1db02c1d610>"
      ]
     },
     "metadata": {},
     "output_type": "display_data"
    },
    {
     "name": "stdout",
     "output_type": "stream",
     "text": [
      "passed test for arg: \"date of birth   ´v to date\"\n"
     ]
    },
    {
     "name": "stderr",
     "output_type": "stream",
     "text": [
      "c:\\Users\\MartinVölkl-GouyaIns\\OneDrive - Gouya Insights\\Desktop\\qplib_dev\\qplib\\types.py:97: UserWarning: Parsing dates in %m-%d-%Y format when dayfirst=True was specified. Pass `dayfirst=False` or specify a format to silence this warning.\n",
      "  return pd.to_datetime(x, dayfirst=True).date()\n"
     ]
    },
    {
     "data": {
      "text/html": [
       "<style type=\"text/css\">\n",
       "#T_849c7_row0_col0, #T_849c7_row0_col1, #T_849c7_row0_col2, #T_849c7_row0_col3 {\n",
       "  background-color: #c0e7b0;\n",
       "  text-align: left;\n",
       "}\n",
       "</style>\n",
       "<table id=\"T_849c7\">\n",
       "  <thead>\n",
       "  </thead>\n",
       "  <tbody>\n",
       "    <tr>\n",
       "      <th id=\"T_849c7_level0_row0\" class=\"row_heading level0 row0\" >996</th>\n",
       "      <td id=\"T_849c7_row0_col0\" class=\"data row0 col0\" >df was checked. no problems found</td>\n",
       "      <td id=\"T_849c7_row0_col1\" class=\"data row0 col1\" >qp.pd_util._check_df</td>\n",
       "      <td id=\"T_849c7_row0_col2\" class=\"data row0 col2\" >info</td>\n",
       "      <td id=\"T_849c7_row0_col3\" class=\"data row0 col3\" >2024-08-27 14:36:33.362865</td>\n",
       "    </tr>\n",
       "  </tbody>\n",
       "</table>\n"
      ],
      "text/plain": [
       "<pandas.io.formats.style.Styler at 0x1db02bca750>"
      ]
     },
     "metadata": {},
     "output_type": "display_data"
    },
    {
     "name": "stdout",
     "output_type": "stream",
     "text": [
      "passed test for arg: \"=age   ´v to na\"\n"
     ]
    },
    {
     "data": {
      "text/html": [
       "<style type=\"text/css\">\n",
       "#T_3726e_row0_col0, #T_3726e_row0_col1, #T_3726e_row0_col2, #T_3726e_row0_col3 {\n",
       "  background-color: #c0e7b0;\n",
       "  text-align: left;\n",
       "}\n",
       "</style>\n",
       "<table id=\"T_3726e\">\n",
       "  <thead>\n",
       "  </thead>\n",
       "  <tbody>\n",
       "    <tr>\n",
       "      <th id=\"T_3726e_level0_row0\" class=\"row_heading level0 row0\" >997</th>\n",
       "      <td id=\"T_3726e_row0_col0\" class=\"data row0 col0\" >df was checked. no problems found</td>\n",
       "      <td id=\"T_3726e_row0_col1\" class=\"data row0 col1\" >qp.pd_util._check_df</td>\n",
       "      <td id=\"T_3726e_row0_col2\" class=\"data row0 col2\" >info</td>\n",
       "      <td id=\"T_3726e_row0_col3\" class=\"data row0 col3\" >2024-08-27 14:36:33.385231</td>\n",
       "    </tr>\n",
       "  </tbody>\n",
       "</table>\n"
      ],
      "text/plain": [
       "<pandas.io.formats.style.Styler at 0x1db02c1dd90>"
      ]
     },
     "metadata": {},
     "output_type": "display_data"
    },
    {
     "name": "stdout",
     "output_type": "stream",
     "text": [
      "passed test for arg: \"=age   ´v to nk\"\n"
     ]
    },
    {
     "data": {
      "text/html": [
       "<style type=\"text/css\">\n",
       "#T_90f18_row0_col0, #T_90f18_row0_col1, #T_90f18_row0_col2, #T_90f18_row0_col3 {\n",
       "  background-color: #c0e7b0;\n",
       "  text-align: left;\n",
       "}\n",
       "</style>\n",
       "<table id=\"T_90f18\">\n",
       "  <thead>\n",
       "  </thead>\n",
       "  <tbody>\n",
       "    <tr>\n",
       "      <th id=\"T_90f18_level0_row0\" class=\"row_heading level0 row0\" >998</th>\n",
       "      <td id=\"T_90f18_row0_col0\" class=\"data row0 col0\" >df was checked. no problems found</td>\n",
       "      <td id=\"T_90f18_row0_col1\" class=\"data row0 col1\" >qp.pd_util._check_df</td>\n",
       "      <td id=\"T_90f18_row0_col2\" class=\"data row0 col2\" >info</td>\n",
       "      <td id=\"T_90f18_row0_col3\" class=\"data row0 col3\" >2024-08-27 14:36:33.403919</td>\n",
       "    </tr>\n",
       "  </tbody>\n",
       "</table>\n"
      ],
      "text/plain": [
       "<pandas.io.formats.style.Styler at 0x1db02c1f140>"
      ]
     },
     "metadata": {},
     "output_type": "display_data"
    },
    {
     "name": "stdout",
     "output_type": "stream",
     "text": [
      "passed test for arg: \"=diabetes   ´v to yn\"\n"
     ]
    }
   ],
   "source": [
    "\n",
    "df1 = get_df()\n",
    "df2 = get_df()\n",
    "result = df1.q('age ´v to int', verbosity=0)\n",
    "df2['age'] = [-25, 30, np.nan, np.nan, 40, np.nan, np.nan, np.nan, np.nan, np.nan, 35]\n",
    "df2['age'] = df2['age'].astype('object')\n",
    "compare(result, df2.loc[:,['age']])\n",
    "\n",
    "df1 = get_df()\n",
    "df2 = get_df()\n",
    "result = df1.q('=age  ´v to float', verbosity=0)\n",
    "df2['age'] = [-25.0, 30.0, np.nan, np.nan, 40.0, np.nan, np.nan, np.nan, np.nan, np.nan, 35.0]\n",
    "df2['age'] = df2['age'].astype('object')\n",
    "compare(result, df2.loc[:,['age']])\n",
    "\n",
    "df1 = get_df()\n",
    "df2 = get_df()\n",
    "result = df1.q('=age   ´v to num', verbosity=0)\n",
    "df2['age'] = [-25, 30, np.nan, np.nan, 40, np.nan, np.nan, np.nan, np.nan, np.nan, 35]\n",
    "df2['age'] = df2['age'].astype('object')\n",
    "compare(result, df2.loc[:,['age']])\n",
    "\n",
    "df1 = get_df()\n",
    "df2 = get_df()\n",
    "result = df1.q('=age   ´v to str', verbosity=0)\n",
    "df2['age'] = ['-25', '30', 'nan', 'None', '40.0', 'forty-five', 'nan', 'unk', '', 'unknown', '35']\n",
    "df2['age'] = df2['age'].astype('object')\n",
    "compare(result, df2.loc[:,['age']])\n",
    "\n",
    "df1 = get_df()\n",
    "df2 = get_df()\n",
    "result = df1.q('date of birth   ´v to date', verbosity=0)\n",
    "df2['date of birth'] = [\n",
    "    pd.to_datetime('1995-01-02', dayfirst=False).date(),\n",
    "    pd.to_datetime('1990/09/14', dayfirst=False).date(),\n",
    "    pd.to_datetime('1985.08.23', dayfirst=False).date(),\n",
    "    pd.to_datetime('19800406', dayfirst=False).date(),\n",
    "    pd.to_datetime('05-11-2007', dayfirst=True).date(),\n",
    "    pd.to_datetime('06-30-1983', dayfirst=False).date(),\n",
    "    pd.to_datetime('28-05-1975', dayfirst=True).date(),\n",
    "    pd.NaT,\n",
    "    pd.to_datetime('1955-Jan-09', dayfirst=False).date(),\n",
    "    pd.to_datetime('1950 Sep 10', dayfirst=False).date(),\n",
    "    pd.to_datetime('1945 October 11', dayfirst=False).date(),\n",
    "    ]\n",
    "df2['age'] = df2['age'].astype('object')\n",
    "compare(result, df2.loc[:,['date of birth']])\n",
    "\n",
    "df1 = get_df()\n",
    "df2 = get_df()\n",
    "result = df1.q('=age   ´v to na', verbosity=0)\n",
    "df2['age'] = [-25, '30', None, None, '40.0', 'forty-five', None, 'unk', None, 'unknown', 35]\n",
    "df2['age'] = df2['age'].astype('object')\n",
    "compare(result, df2.loc[:,['age']])\n",
    "\n",
    "df1 = get_df()\n",
    "df2 = get_df()\n",
    "result = df1.q('=age   ´v to nk', verbosity=0)\n",
    "df2['age'] = [-25, '30', np.nan, None, '40.0', 'forty-five', 'nan', 'unknown', '', 'unknown', 35]\n",
    "df2['age'] = df2['age'].astype('object')\n",
    "compare(result, df2.loc[:,['age']])\n",
    "\n",
    "df1 = get_df()\n",
    "df2 = get_df()\n",
    "result = df1.q('=diabetes   ´v to yn', verbosity=0)\n",
    "df2['diabetes'] = ['no', 'yes', None, 'no', 'yes', 'yes', 'no', None, None, 'no', 'yes']\n",
    "df2['age'] = df2['age'].astype('object')\n",
    "compare(result, df2.loc[:,['diabetes']])"
   ]
  },
  {
   "cell_type": "markdown",
   "metadata": {},
   "source": [
    "## adding columns\n"
   ]
  },
  {
   "cell_type": "code",
   "execution_count": 23,
   "metadata": {},
   "outputs": [
    {
     "data": {
      "text/html": [
       "<style type=\"text/css\">\n",
       "#T_d41af_row0_col0, #T_d41af_row0_col1, #T_d41af_row0_col2, #T_d41af_row0_col3 {\n",
       "  background-color: #c0e7b0;\n",
       "  text-align: left;\n",
       "}\n",
       "</style>\n",
       "<table id=\"T_d41af\">\n",
       "  <thead>\n",
       "  </thead>\n",
       "  <tbody>\n",
       "    <tr>\n",
       "      <th id=\"T_d41af_level0_row0\" class=\"row_heading level0 row0\" >999</th>\n",
       "      <td id=\"T_d41af_row0_col0\" class=\"data row0 col0\" >df was checked. no problems found</td>\n",
       "      <td id=\"T_d41af_row0_col1\" class=\"data row0 col1\" >qp.pd_util._check_df</td>\n",
       "      <td id=\"T_d41af_row0_col2\" class=\"data row0 col2\" >info</td>\n",
       "      <td id=\"T_d41af_row0_col3\" class=\"data row0 col3\" >2024-08-27 14:36:33.468474</td>\n",
       "    </tr>\n",
       "  </tbody>\n",
       "</table>\n"
      ],
      "text/plain": [
       "<pandas.io.formats.style.Styler at 0x1db028f28a0>"
      ]
     },
     "metadata": {},
     "output_type": "display_data"
    },
    {
     "name": "stdout",
     "output_type": "stream",
     "text": [
      "passed test for arg: \"´n\"\n",
      "passed test for arg: \"´n a\"\n",
      "passed test for arg: \"´na\"\n",
      "passed test for arg: \"´n =a\"\n",
      "passed test for arg: \"´n= a\"\n",
      "passed test for arg: \"´n = a\"\n",
      "passed test for arg: \"´n ~ \"a\"\"\n",
      "passed test for arg: \"´n ~ df[\"ID\"]\"\n"
     ]
    },
    {
     "data": {
      "text/html": [
       "<style type=\"text/css\">\n",
       "#T_af714_row0_col0, #T_af714_row0_col1, #T_af714_row0_col2, #T_af714_row0_col3 {\n",
       "  background-color: #c0e7b0;\n",
       "  text-align: left;\n",
       "}\n",
       "</style>\n",
       "<table id=\"T_af714\">\n",
       "  <thead>\n",
       "  </thead>\n",
       "  <tbody>\n",
       "    <tr>\n",
       "      <th id=\"T_af714_level0_row0\" class=\"row_heading level0 row0\" >1000</th>\n",
       "      <td id=\"T_af714_row0_col0\" class=\"data row0 col0\" >df was checked. no problems found</td>\n",
       "      <td id=\"T_af714_row0_col1\" class=\"data row0 col1\" >qp.pd_util._check_df</td>\n",
       "      <td id=\"T_af714_row0_col2\" class=\"data row0 col2\" >info</td>\n",
       "      <td id=\"T_af714_row0_col3\" class=\"data row0 col3\" >2024-08-27 14:36:33.520958</td>\n",
       "    </tr>\n",
       "  </tbody>\n",
       "</table>\n"
      ],
      "text/plain": [
       "<pandas.io.formats.style.Styler at 0x1db02bc1a00>"
      ]
     },
     "metadata": {},
     "output_type": "display_data"
    },
    {
     "name": "stdout",
     "output_type": "stream",
     "text": [
      "passed test for: inplace=True\n",
      "passed test for: inplace=True\n"
     ]
    },
    {
     "data": {
      "text/html": [
       "<style type=\"text/css\">\n",
       "#T_732c0_row0_col0, #T_732c0_row0_col1, #T_732c0_row0_col2, #T_732c0_row0_col3 {\n",
       "  background-color: #c0e7b0;\n",
       "  text-align: left;\n",
       "}\n",
       "</style>\n",
       "<table id=\"T_732c0\">\n",
       "  <thead>\n",
       "  </thead>\n",
       "  <tbody>\n",
       "    <tr>\n",
       "      <th id=\"T_732c0_level0_row0\" class=\"row_heading level0 row0\" >1001</th>\n",
       "      <td id=\"T_732c0_row0_col0\" class=\"data row0 col0\" >df was checked. no problems found</td>\n",
       "      <td id=\"T_732c0_row0_col1\" class=\"data row0 col1\" >qp.pd_util._check_df</td>\n",
       "      <td id=\"T_732c0_row0_col2\" class=\"data row0 col2\" >info</td>\n",
       "      <td id=\"T_732c0_row0_col3\" class=\"data row0 col3\" >2024-08-27 14:36:33.538900</td>\n",
       "    </tr>\n",
       "  </tbody>\n",
       "</table>\n"
      ],
      "text/plain": [
       "<pandas.io.formats.style.Styler at 0x1db02bc6810>"
      ]
     },
     "metadata": {},
     "output_type": "display_data"
    },
    {
     "name": "stdout",
     "output_type": "stream",
     "text": [
      "passed test for: inplace=False\n",
      "passed test for: inplace=False\n"
     ]
    },
    {
     "data": {
      "text/html": [
       "<style type=\"text/css\">\n",
       "#T_6964c_row0_col0, #T_6964c_row0_col1, #T_6964c_row0_col2, #T_6964c_row0_col3 {\n",
       "  background-color: #c0e7b0;\n",
       "  text-align: left;\n",
       "}\n",
       "</style>\n",
       "<table id=\"T_6964c\">\n",
       "  <thead>\n",
       "  </thead>\n",
       "  <tbody>\n",
       "    <tr>\n",
       "      <th id=\"T_6964c_level0_row0\" class=\"row_heading level0 row0\" >1002</th>\n",
       "      <td id=\"T_6964c_row0_col0\" class=\"data row0 col0\" >df was checked. no problems found</td>\n",
       "      <td id=\"T_6964c_row0_col1\" class=\"data row0 col1\" >qp.pd_util._check_df</td>\n",
       "      <td id=\"T_6964c_row0_col2\" class=\"data row0 col2\" >info</td>\n",
       "      <td id=\"T_6964c_row0_col3\" class=\"data row0 col3\" >2024-08-27 14:36:33.556223</td>\n",
       "    </tr>\n",
       "  </tbody>\n",
       "</table>\n"
      ],
      "text/plain": [
       "<pandas.io.formats.style.Styler at 0x1db02c16810>"
      ]
     },
     "metadata": {},
     "output_type": "display_data"
    },
    {
     "name": "stdout",
     "output_type": "stream",
     "text": [
      "passed test for: default behaviour is inplace=False\n",
      "passed test for: default behaviour is inplace=False\n"
     ]
    }
   ],
   "source": [
    "df1 = get_df()\n",
    "df2 = get_df()\n",
    "result = df1.q('´n', verbosity=0)\n",
    "df2['new1'] = ''\n",
    "compare(result, df2.loc[:,['new1']])\n",
    "\n",
    "\n",
    "result = df1.q('´n a', verbosity=0)\n",
    "df2['new1'] = 'a'\n",
    "compare(result, df2.loc[:,['new1']])\n",
    "\n",
    "result = df1.q('´na', verbosity=0)\n",
    "compare(result, df2.loc[:,['new1']])\n",
    "\n",
    "result = df1.q('´n =a', verbosity=0)\n",
    "compare(result, df2.loc[:,['new1']])\n",
    "\n",
    "result = df1.q('´n= a', verbosity=0)\n",
    "compare(result, df2.loc[:,['new1']])\n",
    "\n",
    "result = df1.q('´n = a', verbosity=0)\n",
    "compare(result, df2.loc[:,['new1']])\n",
    "\n",
    "result = df1.q('´n ~ \"a\"', verbosity=0)\n",
    "compare(result, df2.loc[:,['new1']])\n",
    "\n",
    "result = df1.q('´n ~ df[\"ID\"]', verbosity=0)\n",
    "df2['new1'] = df2['ID']\n",
    "compare(result, df2.loc[:,['new1']])\n",
    "\n",
    "\n",
    "\n",
    "#inplace modes\n",
    "\n",
    "df1 = get_df()\n",
    "df2 = get_df()\n",
    "df3 = get_df()\n",
    "result = df1.q('´n ´c is any', inplace=True, verbosity=0)\n",
    "df2['new1'] = ''\n",
    "compare(result, df2, 'inplace=True')\n",
    "compare(df1, df2, 'inplace=True')\n",
    "\n",
    "\n",
    "df1 = get_df()\n",
    "df2 = get_df()\n",
    "result = df1.q('´n ´c is any', inplace=False, verbosity=0)\n",
    "df2['new1'] = ''\n",
    "compare(result, df2, 'inplace=False')\n",
    "compare(df1, df3, 'inplace=False')\n",
    "\n",
    "\n",
    "df1 = get_df()\n",
    "df2 = get_df()\n",
    "result = df1.q('´n ´c is any', verbosity=0)\n",
    "df2['new1'] = ''\n",
    "compare(result, df2, 'default behaviour is inplace=False')\n",
    "compare(df1, df3, 'default behaviour is inplace=False')"
   ]
  },
  {
   "cell_type": "markdown",
   "metadata": {},
   "source": [
    "# qp.diff()"
   ]
  },
  {
   "cell_type": "code",
   "execution_count": 24,
   "metadata": {},
   "outputs": [
    {
     "data": {
      "text/html": [
       "<style type=\"text/css\">\n",
       "#T_36cff_row0_col0, #T_36cff_row0_col1, #T_36cff_row0_col2, #T_36cff_row0_col3 {\n",
       "  background-color: #c0e7b0;\n",
       "  text-align: left;\n",
       "}\n",
       "</style>\n",
       "<table id=\"T_36cff\">\n",
       "  <thead>\n",
       "  </thead>\n",
       "  <tbody>\n",
       "    <tr>\n",
       "      <th id=\"T_36cff_level0_row0\" class=\"row_heading level0 row0\" >1003</th>\n",
       "      <td id=\"T_36cff_row0_col0\" class=\"data row0 col0\" >adding column \"meta\" at position 0</td>\n",
       "      <td id=\"T_36cff_row0_col1\" class=\"data row0 col1\" >df.format()</td>\n",
       "      <td id=\"T_36cff_row0_col2\" class=\"data row0 col2\" >info</td>\n",
       "      <td id=\"T_36cff_row0_col3\" class=\"data row0 col3\" >2024-08-27 14:36:33.662432</td>\n",
       "    </tr>\n",
       "  </tbody>\n",
       "</table>\n"
      ],
      "text/plain": [
       "<pandas.io.formats.style.Styler at 0x1db02c15cd0>"
      ]
     },
     "metadata": {},
     "output_type": "display_data"
    },
    {
     "data": {
      "text/html": [
       "<style type=\"text/css\">\n",
       "#T_35420_row0_col0, #T_35420_row0_col1, #T_35420_row0_col2, #T_35420_row0_col3 {\n",
       "  background-color: #c0e7b0;\n",
       "  text-align: left;\n",
       "}\n",
       "</style>\n",
       "<table id=\"T_35420\">\n",
       "  <thead>\n",
       "  </thead>\n",
       "  <tbody>\n",
       "    <tr>\n",
       "      <th id=\"T_35420_level0_row0\" class=\"row_heading level0 row0\" >1004</th>\n",
       "      <td id=\"T_35420_row0_col0\" class=\"data row0 col0\" >adding column \"meta\" at position 0</td>\n",
       "      <td id=\"T_35420_row0_col1\" class=\"data row0 col1\" >df.format()</td>\n",
       "      <td id=\"T_35420_row0_col2\" class=\"data row0 col2\" >info</td>\n",
       "      <td id=\"T_35420_row0_col3\" class=\"data row0 col3\" >2024-08-27 14:36:33.676440</td>\n",
       "    </tr>\n",
       "  </tbody>\n",
       "</table>\n"
      ],
      "text/plain": [
       "<pandas.io.formats.style.Styler at 0x1db02bc4590>"
      ]
     },
     "metadata": {},
     "output_type": "display_data"
    },
    {
     "data": {
      "text/plain": [
       "{'cols added': 1,\n",
       " 'cols removed': 1,\n",
       " 'rows added': 1,\n",
       " 'rows removed': 1,\n",
       " 'vals added': 1,\n",
       " 'vals removed': 1,\n",
       " 'vals changed': 1}"
      ]
     },
     "metadata": {},
     "output_type": "display_data"
    },
    {
     "data": {
      "text/html": [
       "<style type=\"text/css\">\n",
       "#T_de672_row0_col1, #T_de672_row1_col0, #T_de672_row1_col1, #T_de672_row1_col2, #T_de672_row1_col3, #T_de672_row2_col1 {\n",
       "  background-color: #6dae51;\n",
       "}\n",
       "#T_de672_row0_col3 {\n",
       "  background-color: #f7d67c;\n",
       "}\n",
       "#T_de672_row2_col2 {\n",
       "  background-color: #c0e7b0;\n",
       "}\n",
       "#T_de672_row2_col3 {\n",
       "  background-color: #f7746a;\n",
       "}\n",
       "</style>\n",
       "<table id=\"T_de672\">\n",
       "  <thead>\n",
       "    <tr>\n",
       "      <th class=\"blank level0\" >&nbsp;</th>\n",
       "      <th id=\"T_de672_level0_col0\" class=\"col_heading level0 col0\" >meta</th>\n",
       "      <th id=\"T_de672_level0_col1\" class=\"col_heading level0 col1\" >d</th>\n",
       "      <th id=\"T_de672_level0_col2\" class=\"col_heading level0 col2\" >b</th>\n",
       "      <th id=\"T_de672_level0_col3\" class=\"col_heading level0 col3\" >a</th>\n",
       "    </tr>\n",
       "  </thead>\n",
       "  <tbody>\n",
       "    <tr>\n",
       "      <th id=\"T_de672_level0_row0\" class=\"row_heading level0 row0\" >y</th>\n",
       "      <td id=\"T_de672_row0_col0\" class=\"data row0 col0\" ><br>vals changed: 1</td>\n",
       "      <td id=\"T_de672_row0_col1\" class=\"data row0 col1\" >2.000000</td>\n",
       "      <td id=\"T_de672_row0_col2\" class=\"data row0 col2\" >2.000000</td>\n",
       "      <td id=\"T_de672_row0_col3\" class=\"data row0 col3\" >0.000000</td>\n",
       "    </tr>\n",
       "    <tr>\n",
       "      <th id=\"T_de672_level0_row1\" class=\"row_heading level0 row1\" >x2</th>\n",
       "      <td id=\"T_de672_row1_col0\" class=\"data row1 col0\" >added row</td>\n",
       "      <td id=\"T_de672_row1_col1\" class=\"data row1 col1\" >1.000000</td>\n",
       "      <td id=\"T_de672_row1_col2\" class=\"data row1 col2\" >1.000000</td>\n",
       "      <td id=\"T_de672_row1_col3\" class=\"data row1 col3\" >1.000000</td>\n",
       "    </tr>\n",
       "    <tr>\n",
       "      <th id=\"T_de672_level0_row2\" class=\"row_heading level0 row2\" >z</th>\n",
       "      <td id=\"T_de672_row2_col0\" class=\"data row2 col0\" ><br>vals added: 1<br>vals removed: 1</td>\n",
       "      <td id=\"T_de672_row2_col1\" class=\"data row2 col1\" >3.000000</td>\n",
       "      <td id=\"T_de672_row2_col2\" class=\"data row2 col2\" >3.000000</td>\n",
       "      <td id=\"T_de672_row2_col3\" class=\"data row2 col3\" >nan</td>\n",
       "    </tr>\n",
       "  </tbody>\n",
       "</table>\n"
      ],
      "text/plain": [
       "<pandas.io.formats.style.Styler at 0x1db02bc4350>"
      ]
     },
     "metadata": {},
     "output_type": "display_data"
    },
    {
     "data": {
      "text/html": [
       "<style type=\"text/css\">\n",
       "#T_6a731_row0_col0, #T_6a731_row0_col1, #T_6a731_row0_col2, #T_6a731_row0_col3 {\n",
       "  background-color: #c0e7b0;\n",
       "  text-align: left;\n",
       "}\n",
       "</style>\n",
       "<table id=\"T_6a731\">\n",
       "  <thead>\n",
       "  </thead>\n",
       "  <tbody>\n",
       "    <tr>\n",
       "      <th id=\"T_6a731_level0_row0\" class=\"row_heading level0 row0\" >1005</th>\n",
       "      <td id=\"T_6a731_row0_col0\" class=\"data row0 col0\" >adding column \"meta\" at position 0</td>\n",
       "      <td id=\"T_6a731_row0_col1\" class=\"data row0 col1\" >df.format()</td>\n",
       "      <td id=\"T_6a731_row0_col2\" class=\"data row0 col2\" >info</td>\n",
       "      <td id=\"T_6a731_row0_col3\" class=\"data row0 col3\" >2024-08-27 14:36:33.731487</td>\n",
       "    </tr>\n",
       "  </tbody>\n",
       "</table>\n"
      ],
      "text/plain": [
       "<pandas.io.formats.style.Styler at 0x1db02c152b0>"
      ]
     },
     "metadata": {},
     "output_type": "display_data"
    },
    {
     "data": {
      "text/html": [
       "<style type=\"text/css\">\n",
       "#T_1db68_row0_col0, #T_1db68_row0_col1, #T_1db68_row0_col2, #T_1db68_row0_col3 {\n",
       "  background-color: #c0e7b0;\n",
       "  text-align: left;\n",
       "}\n",
       "</style>\n",
       "<table id=\"T_1db68\">\n",
       "  <thead>\n",
       "  </thead>\n",
       "  <tbody>\n",
       "    <tr>\n",
       "      <th id=\"T_1db68_level0_row0\" class=\"row_heading level0 row0\" >1006</th>\n",
       "      <td id=\"T_1db68_row0_col0\" class=\"data row0 col0\" >adding column \"meta\" at position 0</td>\n",
       "      <td id=\"T_1db68_row0_col1\" class=\"data row0 col1\" >df.format()</td>\n",
       "      <td id=\"T_1db68_row0_col2\" class=\"data row0 col2\" >info</td>\n",
       "      <td id=\"T_1db68_row0_col3\" class=\"data row0 col3\" >2024-08-27 14:36:33.743640</td>\n",
       "    </tr>\n",
       "  </tbody>\n",
       "</table>\n"
      ],
      "text/plain": [
       "<pandas.io.formats.style.Styler at 0x1db02c1f620>"
      ]
     },
     "metadata": {},
     "output_type": "display_data"
    },
    {
     "data": {
      "text/plain": [
       "{'cols added': 1,\n",
       " 'cols removed': 1,\n",
       " 'rows added': 1,\n",
       " 'rows removed': 1,\n",
       " 'vals added': 1,\n",
       " 'vals removed': 1,\n",
       " 'vals changed': 1}"
      ]
     },
     "metadata": {},
     "output_type": "display_data"
    },
    {
     "data": {
      "text/html": [
       "<style type=\"text/css\">\n",
       "#T_1f4a6_row0_col0, #T_1f4a6_row0_col1, #T_1f4a6_row0_col2, #T_1f4a6_row0_col3, #T_1f4a6_row1_col3, #T_1f4a6_row2_col3 {\n",
       "  background-color: #f73434;\n",
       "}\n",
       "#T_1f4a6_row1_col1 {\n",
       "  background-color: #f7d67c;\n",
       "}\n",
       "#T_1f4a6_row2_col1 {\n",
       "  background-color: #f7746a;\n",
       "}\n",
       "#T_1f4a6_row2_col2 {\n",
       "  background-color: #c0e7b0;\n",
       "}\n",
       "</style>\n",
       "<table id=\"T_1f4a6\">\n",
       "  <thead>\n",
       "    <tr>\n",
       "      <th class=\"blank level0\" >&nbsp;</th>\n",
       "      <th id=\"T_1f4a6_level0_col0\" class=\"col_heading level0 col0\" >meta</th>\n",
       "      <th id=\"T_1f4a6_level0_col1\" class=\"col_heading level0 col1\" >a</th>\n",
       "      <th id=\"T_1f4a6_level0_col2\" class=\"col_heading level0 col2\" >b</th>\n",
       "      <th id=\"T_1f4a6_level0_col3\" class=\"col_heading level0 col3\" >c</th>\n",
       "    </tr>\n",
       "  </thead>\n",
       "  <tbody>\n",
       "    <tr>\n",
       "      <th id=\"T_1f4a6_level0_row0\" class=\"row_heading level0 row0\" >x</th>\n",
       "      <td id=\"T_1f4a6_row0_col0\" class=\"data row0 col0\" >removed row</td>\n",
       "      <td id=\"T_1f4a6_row0_col1\" class=\"data row0 col1\" >1.000000</td>\n",
       "      <td id=\"T_1f4a6_row0_col2\" class=\"data row0 col2\" >1.000000</td>\n",
       "      <td id=\"T_1f4a6_row0_col3\" class=\"data row0 col3\" >1.000000</td>\n",
       "    </tr>\n",
       "    <tr>\n",
       "      <th id=\"T_1f4a6_level0_row1\" class=\"row_heading level0 row1\" >y</th>\n",
       "      <td id=\"T_1f4a6_row1_col0\" class=\"data row1 col0\" ><br>vals changed: 1</td>\n",
       "      <td id=\"T_1f4a6_row1_col1\" class=\"data row1 col1\" >2.000000</td>\n",
       "      <td id=\"T_1f4a6_row1_col2\" class=\"data row1 col2\" >2.000000</td>\n",
       "      <td id=\"T_1f4a6_row1_col3\" class=\"data row1 col3\" >2.000000</td>\n",
       "    </tr>\n",
       "    <tr>\n",
       "      <th id=\"T_1f4a6_level0_row2\" class=\"row_heading level0 row2\" >z</th>\n",
       "      <td id=\"T_1f4a6_row2_col0\" class=\"data row2 col0\" ><br>vals added: 1<br>vals removed: 1</td>\n",
       "      <td id=\"T_1f4a6_row2_col1\" class=\"data row2 col1\" >3.000000</td>\n",
       "      <td id=\"T_1f4a6_row2_col2\" class=\"data row2 col2\" >nan</td>\n",
       "      <td id=\"T_1f4a6_row2_col3\" class=\"data row2 col3\" >3.000000</td>\n",
       "    </tr>\n",
       "  </tbody>\n",
       "</table>\n"
      ],
      "text/plain": [
       "<pandas.io.formats.style.Styler at 0x1db02bc2ab0>"
      ]
     },
     "metadata": {},
     "output_type": "display_data"
    },
    {
     "data": {
      "text/html": [
       "<style type=\"text/css\">\n",
       "#T_b7ecd_row0_col0, #T_b7ecd_row0_col1, #T_b7ecd_row0_col2, #T_b7ecd_row0_col3 {\n",
       "  background-color: #c0e7b0;\n",
       "  text-align: left;\n",
       "}\n",
       "</style>\n",
       "<table id=\"T_b7ecd\">\n",
       "  <thead>\n",
       "  </thead>\n",
       "  <tbody>\n",
       "    <tr>\n",
       "      <th id=\"T_b7ecd_level0_row0\" class=\"row_heading level0 row0\" >1007</th>\n",
       "      <td id=\"T_b7ecd_row0_col0\" class=\"data row0 col0\" >adding column \"meta\" at position 0</td>\n",
       "      <td id=\"T_b7ecd_row0_col1\" class=\"data row0 col1\" >df.format()</td>\n",
       "      <td id=\"T_b7ecd_row0_col2\" class=\"data row0 col2\" >info</td>\n",
       "      <td id=\"T_b7ecd_row0_col3\" class=\"data row0 col3\" >2024-08-27 14:36:33.799119</td>\n",
       "    </tr>\n",
       "  </tbody>\n",
       "</table>\n"
      ],
      "text/plain": [
       "<pandas.io.formats.style.Styler at 0x1db02c1e3c0>"
      ]
     },
     "metadata": {},
     "output_type": "display_data"
    },
    {
     "data": {
      "text/html": [
       "<style type=\"text/css\">\n",
       "#T_57524_row0_col0, #T_57524_row0_col1, #T_57524_row0_col2, #T_57524_row0_col3 {\n",
       "  background-color: #c0e7b0;\n",
       "  text-align: left;\n",
       "}\n",
       "</style>\n",
       "<table id=\"T_57524\">\n",
       "  <thead>\n",
       "  </thead>\n",
       "  <tbody>\n",
       "    <tr>\n",
       "      <th id=\"T_57524_level0_row0\" class=\"row_heading level0 row0\" >1008</th>\n",
       "      <td id=\"T_57524_row0_col0\" class=\"data row0 col0\" >adding column \"meta\" at position 0</td>\n",
       "      <td id=\"T_57524_row0_col1\" class=\"data row0 col1\" >df.format()</td>\n",
       "      <td id=\"T_57524_row0_col2\" class=\"data row0 col2\" >info</td>\n",
       "      <td id=\"T_57524_row0_col3\" class=\"data row0 col3\" >2024-08-27 14:36:33.809642</td>\n",
       "    </tr>\n",
       "  </tbody>\n",
       "</table>\n"
      ],
      "text/plain": [
       "<pandas.io.formats.style.Styler at 0x1db02c1d4f0>"
      ]
     },
     "metadata": {},
     "output_type": "display_data"
    },
    {
     "data": {
      "text/plain": [
       "{'cols added': 1,\n",
       " 'cols removed': 1,\n",
       " 'rows added': 1,\n",
       " 'rows removed': 1,\n",
       " 'vals added': 1,\n",
       " 'vals removed': 1,\n",
       " 'vals changed': 1}"
      ]
     },
     "metadata": {},
     "output_type": "display_data"
    },
    {
     "data": {
      "text/html": [
       "<style type=\"text/css\">\n",
       "#T_a9ac7_row0_col1, #T_a9ac7_row1_col0, #T_a9ac7_row1_col1, #T_a9ac7_row1_col2, #T_a9ac7_row1_col3, #T_a9ac7_row1_col4, #T_a9ac7_row2_col1 {\n",
       "  background-color: #6dae51;\n",
       "}\n",
       "#T_a9ac7_row0_col3 {\n",
       "  background-color: #f7d67c;\n",
       "}\n",
       "#T_a9ac7_row0_col4, #T_a9ac7_row2_col4, #T_a9ac7_row3_col0, #T_a9ac7_row3_col1, #T_a9ac7_row3_col2, #T_a9ac7_row3_col3, #T_a9ac7_row3_col4 {\n",
       "  background-color: #f73434;\n",
       "}\n",
       "#T_a9ac7_row2_col2 {\n",
       "  background-color: #c0e7b0;\n",
       "}\n",
       "#T_a9ac7_row2_col3 {\n",
       "  background-color: #f7746a;\n",
       "}\n",
       "</style>\n",
       "<table id=\"T_a9ac7\">\n",
       "  <thead>\n",
       "    <tr>\n",
       "      <th class=\"blank level0\" >&nbsp;</th>\n",
       "      <th id=\"T_a9ac7_level0_col0\" class=\"col_heading level0 col0\" >meta</th>\n",
       "      <th id=\"T_a9ac7_level0_col1\" class=\"col_heading level0 col1\" >d</th>\n",
       "      <th id=\"T_a9ac7_level0_col2\" class=\"col_heading level0 col2\" >b</th>\n",
       "      <th id=\"T_a9ac7_level0_col3\" class=\"col_heading level0 col3\" >a</th>\n",
       "      <th id=\"T_a9ac7_level0_col4\" class=\"col_heading level0 col4\" >c</th>\n",
       "    </tr>\n",
       "  </thead>\n",
       "  <tbody>\n",
       "    <tr>\n",
       "      <th id=\"T_a9ac7_level0_row0\" class=\"row_heading level0 row0\" >y</th>\n",
       "      <td id=\"T_a9ac7_row0_col0\" class=\"data row0 col0\" ><br>vals changed: 1</td>\n",
       "      <td id=\"T_a9ac7_row0_col1\" class=\"data row0 col1\" >2.000000</td>\n",
       "      <td id=\"T_a9ac7_row0_col2\" class=\"data row0 col2\" >2.000000</td>\n",
       "      <td id=\"T_a9ac7_row0_col3\" class=\"data row0 col3\" >0.000000</td>\n",
       "      <td id=\"T_a9ac7_row0_col4\" class=\"data row0 col4\" >2.000000</td>\n",
       "    </tr>\n",
       "    <tr>\n",
       "      <th id=\"T_a9ac7_level0_row1\" class=\"row_heading level0 row1\" >x2</th>\n",
       "      <td id=\"T_a9ac7_row1_col0\" class=\"data row1 col0\" >added row</td>\n",
       "      <td id=\"T_a9ac7_row1_col1\" class=\"data row1 col1\" >1.000000</td>\n",
       "      <td id=\"T_a9ac7_row1_col2\" class=\"data row1 col2\" >1.000000</td>\n",
       "      <td id=\"T_a9ac7_row1_col3\" class=\"data row1 col3\" >1.000000</td>\n",
       "      <td id=\"T_a9ac7_row1_col4\" class=\"data row1 col4\" >nan</td>\n",
       "    </tr>\n",
       "    <tr>\n",
       "      <th id=\"T_a9ac7_level0_row2\" class=\"row_heading level0 row2\" >z</th>\n",
       "      <td id=\"T_a9ac7_row2_col0\" class=\"data row2 col0\" ><br>vals added: 1<br>vals removed: 1</td>\n",
       "      <td id=\"T_a9ac7_row2_col1\" class=\"data row2 col1\" >3.000000</td>\n",
       "      <td id=\"T_a9ac7_row2_col2\" class=\"data row2 col2\" >3.000000</td>\n",
       "      <td id=\"T_a9ac7_row2_col3\" class=\"data row2 col3\" >nan</td>\n",
       "      <td id=\"T_a9ac7_row2_col4\" class=\"data row2 col4\" >3.000000</td>\n",
       "    </tr>\n",
       "    <tr>\n",
       "      <th id=\"T_a9ac7_level0_row3\" class=\"row_heading level0 row3\" >x</th>\n",
       "      <td id=\"T_a9ac7_row3_col0\" class=\"data row3 col0\" >removed row</td>\n",
       "      <td id=\"T_a9ac7_row3_col1\" class=\"data row3 col1\" >nan</td>\n",
       "      <td id=\"T_a9ac7_row3_col2\" class=\"data row3 col2\" >1.000000</td>\n",
       "      <td id=\"T_a9ac7_row3_col3\" class=\"data row3 col3\" >1.000000</td>\n",
       "      <td id=\"T_a9ac7_row3_col4\" class=\"data row3 col4\" >1.000000</td>\n",
       "    </tr>\n",
       "  </tbody>\n",
       "</table>\n"
      ],
      "text/plain": [
       "<pandas.io.formats.style.Styler at 0x1db02c1fda0>"
      ]
     },
     "metadata": {},
     "output_type": "display_data"
    },
    {
     "data": {
      "text/html": [
       "<style type=\"text/css\">\n",
       "#T_c6d70_row0_col0, #T_c6d70_row0_col1, #T_c6d70_row0_col2, #T_c6d70_row0_col3 {\n",
       "  background-color: #c0e7b0;\n",
       "  text-align: left;\n",
       "}\n",
       "</style>\n",
       "<table id=\"T_c6d70\">\n",
       "  <thead>\n",
       "  </thead>\n",
       "  <tbody>\n",
       "    <tr>\n",
       "      <th id=\"T_c6d70_level0_row0\" class=\"row_heading level0 row0\" >1009</th>\n",
       "      <td id=\"T_c6d70_row0_col0\" class=\"data row0 col0\" >adding column \"meta\" at position 0</td>\n",
       "      <td id=\"T_c6d70_row0_col1\" class=\"data row0 col1\" >df.format()</td>\n",
       "      <td id=\"T_c6d70_row0_col2\" class=\"data row0 col2\" >info</td>\n",
       "      <td id=\"T_c6d70_row0_col3\" class=\"data row0 col3\" >2024-08-27 14:36:33.870808</td>\n",
       "    </tr>\n",
       "  </tbody>\n",
       "</table>\n"
      ],
      "text/plain": [
       "<pandas.io.formats.style.Styler at 0x1db02c1cf20>"
      ]
     },
     "metadata": {},
     "output_type": "display_data"
    },
    {
     "data": {
      "text/html": [
       "<style type=\"text/css\">\n",
       "#T_3c70f_row0_col0, #T_3c70f_row0_col1, #T_3c70f_row0_col2, #T_3c70f_row0_col3 {\n",
       "  background-color: #c0e7b0;\n",
       "  text-align: left;\n",
       "}\n",
       "</style>\n",
       "<table id=\"T_3c70f\">\n",
       "  <thead>\n",
       "  </thead>\n",
       "  <tbody>\n",
       "    <tr>\n",
       "      <th id=\"T_3c70f_level0_row0\" class=\"row_heading level0 row0\" >1010</th>\n",
       "      <td id=\"T_3c70f_row0_col0\" class=\"data row0 col0\" >adding column \"meta\" at position 0</td>\n",
       "      <td id=\"T_3c70f_row0_col1\" class=\"data row0 col1\" >df.format()</td>\n",
       "      <td id=\"T_3c70f_row0_col2\" class=\"data row0 col2\" >info</td>\n",
       "      <td id=\"T_3c70f_row0_col3\" class=\"data row0 col3\" >2024-08-27 14:36:33.883002</td>\n",
       "    </tr>\n",
       "  </tbody>\n",
       "</table>\n"
      ],
      "text/plain": [
       "<pandas.io.formats.style.Styler at 0x1db02c1ce30>"
      ]
     },
     "metadata": {},
     "output_type": "display_data"
    },
    {
     "data": {
      "text/plain": [
       "{'cols added': 1,\n",
       " 'cols removed': 1,\n",
       " 'rows added': 1,\n",
       " 'rows removed': 1,\n",
       " 'vals added': 1,\n",
       " 'vals removed': 1,\n",
       " 'vals changed': 1}"
      ]
     },
     "metadata": {},
     "output_type": "display_data"
    },
    {
     "data": {
      "text/html": [
       "<style type=\"text/css\">\n",
       "#T_84909_row0_col1, #T_84909_row1_col0, #T_84909_row1_col1, #T_84909_row1_col2, #T_84909_row1_col3, #T_84909_row1_col4, #T_84909_row1_col5, #T_84909_row1_col6, #T_84909_row2_col1 {\n",
       "  background-color: #6dae51;\n",
       "}\n",
       "#T_84909_row0_col2, #T_84909_row0_col4, #T_84909_row0_col6, #T_84909_row2_col2, #T_84909_row2_col4, #T_84909_row2_col6 {\n",
       "  font-style: italic;\n",
       "}\n",
       "#T_84909_row0_col5 {\n",
       "  background-color: #f7d67c;\n",
       "}\n",
       "#T_84909_row2_col3 {\n",
       "  background-color: #c0e7b0;\n",
       "}\n",
       "#T_84909_row2_col5 {\n",
       "  background-color: #f7746a;\n",
       "}\n",
       "</style>\n",
       "<table id=\"T_84909\">\n",
       "  <thead>\n",
       "    <tr>\n",
       "      <th class=\"blank level0\" >&nbsp;</th>\n",
       "      <th id=\"T_84909_level0_col0\" class=\"col_heading level0 col0\" >meta</th>\n",
       "      <th id=\"T_84909_level0_col1\" class=\"col_heading level0 col1\" >d</th>\n",
       "      <th id=\"T_84909_level0_col2\" class=\"col_heading level0 col2\" >old: d</th>\n",
       "      <th id=\"T_84909_level0_col3\" class=\"col_heading level0 col3\" >b</th>\n",
       "      <th id=\"T_84909_level0_col4\" class=\"col_heading level0 col4\" >old: b</th>\n",
       "      <th id=\"T_84909_level0_col5\" class=\"col_heading level0 col5\" >a</th>\n",
       "      <th id=\"T_84909_level0_col6\" class=\"col_heading level0 col6\" >old: a</th>\n",
       "    </tr>\n",
       "  </thead>\n",
       "  <tbody>\n",
       "    <tr>\n",
       "      <th id=\"T_84909_level0_row0\" class=\"row_heading level0 row0\" >y</th>\n",
       "      <td id=\"T_84909_row0_col0\" class=\"data row0 col0\" ><br>vals changed: 1</td>\n",
       "      <td id=\"T_84909_row0_col1\" class=\"data row0 col1\" >2.000000</td>\n",
       "      <td id=\"T_84909_row0_col2\" class=\"data row0 col2\" ></td>\n",
       "      <td id=\"T_84909_row0_col3\" class=\"data row0 col3\" >2.000000</td>\n",
       "      <td id=\"T_84909_row0_col4\" class=\"data row0 col4\" ></td>\n",
       "      <td id=\"T_84909_row0_col5\" class=\"data row0 col5\" >0.000000</td>\n",
       "      <td id=\"T_84909_row0_col6\" class=\"data row0 col6\" >2.000000</td>\n",
       "    </tr>\n",
       "    <tr>\n",
       "      <th id=\"T_84909_level0_row1\" class=\"row_heading level0 row1\" >x2</th>\n",
       "      <td id=\"T_84909_row1_col0\" class=\"data row1 col0\" >added row</td>\n",
       "      <td id=\"T_84909_row1_col1\" class=\"data row1 col1\" >1.000000</td>\n",
       "      <td id=\"T_84909_row1_col2\" class=\"data row1 col2\" ></td>\n",
       "      <td id=\"T_84909_row1_col3\" class=\"data row1 col3\" >1.000000</td>\n",
       "      <td id=\"T_84909_row1_col4\" class=\"data row1 col4\" ></td>\n",
       "      <td id=\"T_84909_row1_col5\" class=\"data row1 col5\" >1.000000</td>\n",
       "      <td id=\"T_84909_row1_col6\" class=\"data row1 col6\" ></td>\n",
       "    </tr>\n",
       "    <tr>\n",
       "      <th id=\"T_84909_level0_row2\" class=\"row_heading level0 row2\" >z</th>\n",
       "      <td id=\"T_84909_row2_col0\" class=\"data row2 col0\" ><br>vals added: 1<br>vals removed: 1</td>\n",
       "      <td id=\"T_84909_row2_col1\" class=\"data row2 col1\" >3.000000</td>\n",
       "      <td id=\"T_84909_row2_col2\" class=\"data row2 col2\" ></td>\n",
       "      <td id=\"T_84909_row2_col3\" class=\"data row2 col3\" >3.000000</td>\n",
       "      <td id=\"T_84909_row2_col4\" class=\"data row2 col4\" >None</td>\n",
       "      <td id=\"T_84909_row2_col5\" class=\"data row2 col5\" >nan</td>\n",
       "      <td id=\"T_84909_row2_col6\" class=\"data row2 col6\" >3.000000</td>\n",
       "    </tr>\n",
       "  </tbody>\n",
       "</table>\n"
      ],
      "text/plain": [
       "<pandas.io.formats.style.Styler at 0x1db02bc7110>"
      ]
     },
     "metadata": {},
     "output_type": "display_data"
    },
    {
     "data": {
      "text/plain": [
       "{'cols added': 1,\n",
       " 'cols removed': 1,\n",
       " 'rows added': 1,\n",
       " 'rows removed': 1,\n",
       " 'vals added': 1,\n",
       " 'vals removed': 1,\n",
       " 'vals changed': 1}"
      ]
     },
     "metadata": {},
     "output_type": "display_data"
    },
    {
     "name": "stdout",
     "output_type": "stream",
     "text": [
      "passed test for mode: \"new\"\n"
     ]
    },
    {
     "data": {
      "text/plain": [
       "{'cols added': 1,\n",
       " 'cols removed': 1,\n",
       " 'rows added': 1,\n",
       " 'rows removed': 1,\n",
       " 'vals added': 1,\n",
       " 'vals removed': 1,\n",
       " 'vals changed': 1}"
      ]
     },
     "metadata": {},
     "output_type": "display_data"
    },
    {
     "name": "stdout",
     "output_type": "stream",
     "text": [
      "passed test for mode: \"old\"\n"
     ]
    },
    {
     "data": {
      "text/plain": [
       "{'cols added': 1,\n",
       " 'cols removed': 1,\n",
       " 'rows added': 1,\n",
       " 'rows removed': 1,\n",
       " 'vals added': 1,\n",
       " 'vals removed': 1,\n",
       " 'vals changed': 1}"
      ]
     },
     "metadata": {},
     "output_type": "display_data"
    },
    {
     "name": "stdout",
     "output_type": "stream",
     "text": [
      "passed test for mode: \"mix\"\n"
     ]
    },
    {
     "data": {
      "text/plain": [
       "{'cols added': 1,\n",
       " 'cols removed': 1,\n",
       " 'rows added': 1,\n",
       " 'rows removed': 1,\n",
       " 'vals added': 1,\n",
       " 'vals removed': 1,\n",
       " 'vals changed': 1}"
      ]
     },
     "metadata": {},
     "output_type": "display_data"
    },
    {
     "name": "stdout",
     "output_type": "stream",
     "text": [
      "passed test for mode: \"new+\"\n"
     ]
    }
   ],
   "source": [
    "def compare(df_new, df_old, expected, mode):\n",
    "    result = qp.diff(df_new, df_old, mode, verbosity=0).data\n",
    "    # display(expected == result)\n",
    "    if result.equals(expected):\n",
    "        print(f'passed test for mode: \"{mode}\"')\n",
    "    else:\n",
    "        print('new:')\n",
    "        display(df_new)\n",
    "        print('old:')\n",
    "        display(df_old)\n",
    "        print('expected:')\n",
    "        display(expected)\n",
    "        print('result:')\n",
    "        display(result)\n",
    "        raise Exception(f'failed test for mode: \"{mode}\"')\n",
    "\n",
    "\n",
    "df_new, df_old = qp.get_dfs()\n",
    "\n",
    "\n",
    "result_new = pd.DataFrame(columns=['meta', 'd', 'b', 'a'], index=['y','x2','z'])\n",
    "\n",
    "\n",
    "result_new.loc['y', 'meta'] = '<br>vals changed: 1'\n",
    "result_new.loc['y', 'd'] = 2.0\n",
    "result_new.loc['y', 'b'] = 2.0\n",
    "result_new.loc['y', 'a'] = 0.0\n",
    "\n",
    "result_new.loc['x2', 'meta'] = 'added row'\n",
    "result_new.loc['x2', 'd'] = 1.0\n",
    "result_new.loc['x2', 'b'] = 1.0\n",
    "result_new.loc['x2', 'a'] = 1.0\n",
    "\n",
    "result_new.loc['z', 'meta'] = '<br>vals added: 1<br>vals removed: 1'\n",
    "result_new.loc['z', 'd'] = 3.0\n",
    "result_new.loc['z', 'b'] = 3.0\n",
    "result_new.loc['z', 'a'] = np.nan\n",
    "\n",
    "\n",
    "\n",
    "result_old = pd.DataFrame(columns=['meta', 'a', 'b', 'c'], index=['x','y','z'])\n",
    "\n",
    "result_old.loc['x', 'meta'] ='removed row'\n",
    "result_old.loc['x', 'a'] = 1.0\n",
    "result_old.loc['x', 'b'] = 1.0\n",
    "result_old.loc['x', 'c'] = 1.0\n",
    "\n",
    "result_old.loc['y', 'meta'] = '<br>vals changed: 1'\n",
    "result_old.loc['y', 'a'] = 2.0\n",
    "result_old.loc['y', 'b'] = 2.0\n",
    "result_old.loc['y', 'c'] = 2.0\n",
    "\n",
    "result_old.loc['z', 'meta'] = '<br>vals added: 1<br>vals removed: 1'\n",
    "result_old.loc['z', 'a'] = 3.0\n",
    "result_old.loc['z', 'b'] = None\n",
    "result_old.loc['z', 'c'] = 3.0\n",
    "\n",
    "\n",
    "\n",
    "result_mix = pd.DataFrame(columns=['meta', 'd', 'b', 'a', 'c'], index=['y', 'x2', 'z', 'x'])\n",
    "\n",
    "result_mix.loc['y', 'meta'] = '<br>vals changed: 1'\n",
    "result_mix.loc['y', 'd'] = 2.0\n",
    "result_mix.loc['y', 'b'] = 2.0\n",
    "result_mix.loc['y', 'a'] = 0.0\n",
    "result_mix.loc['y', 'c'] = 2.0\n",
    "\n",
    "result_mix.loc['x2', 'meta'] = 'added row'\n",
    "result_mix.loc['x2', 'd'] = 1.0\n",
    "result_mix.loc['x2', 'b'] = 1.0\n",
    "result_mix.loc['x2', 'a'] = 1.0\n",
    "result_mix.loc['x2', 'c'] = np.nan\n",
    "\n",
    "result_mix.loc['z', 'meta'] = '<br>vals added: 1<br>vals removed: 1'\n",
    "result_mix.loc['z', 'd'] = 3.0\n",
    "result_mix.loc['z', 'b'] = 3.0\n",
    "result_mix.loc['z', 'a'] = np.nan\n",
    "result_mix.loc['z', 'c'] = 3.0\n",
    "\n",
    "result_mix.loc['x', 'meta'] ='removed row'\n",
    "result_mix.loc['x', 'd'] = None\n",
    "result_mix.loc['x', 'b'] = 1.0\n",
    "result_mix.loc['x', 'a'] = 1.0\n",
    "result_mix.loc['x', 'c'] = 1.0\n",
    "\n",
    "\n",
    "\n",
    "\n",
    "result_new_plus = pd.DataFrame(columns=['meta', 'd', 'old: d', 'b', 'old: b', 'a', 'old: a'], index=['y','x2','z'])\n",
    "\n",
    "\n",
    "result_new_plus.loc['y', 'meta'] = '<br>vals changed: 1'\n",
    "result_new_plus.loc['y', 'd'] = 2.0\n",
    "result_new_plus.loc['y', 'old: d'] = ''\n",
    "result_new_plus.loc['y', 'b'] = 2.0\n",
    "result_new_plus.loc['y', 'old: b'] = ''\n",
    "result_new_plus.loc['y', 'a'] = 0.0\n",
    "result_new_plus.loc['y', 'old: a'] = 2.0\n",
    "\n",
    "result_new_plus.loc['x2', 'meta'] = 'added row'\n",
    "result_new_plus.loc['x2', 'd'] = 1.0\n",
    "result_new_plus.loc['x2', 'old: d'] = ''\n",
    "result_new_plus.loc['x2', 'b'] = 1.0\n",
    "result_new_plus.loc['x2', 'old: b'] = ''\n",
    "result_new_plus.loc['x2', 'a'] = 1.0\n",
    "result_new_plus.loc['x2', 'old: a'] = ''\n",
    "\n",
    "result_new_plus.loc['z', 'meta'] = '<br>vals added: 1<br>vals removed: 1'\n",
    "result_new_plus.loc['z', 'd'] = 3.0\n",
    "result_new_plus.loc['z', 'old: d'] = ''\n",
    "result_new_plus.loc['z', 'b'] = 3.0\n",
    "result_new_plus.loc['z', 'old: b'] = None\n",
    "result_new_plus.loc['z', 'a'] = np.nan\n",
    "result_new_plus.loc['z', 'old: a'] = 3.0\n",
    "\n",
    "\n",
    "display(qp.diff(df_new, df_old, 'new', verbosity=4))\n",
    "display(qp.diff(df_new, df_old, 'old', verbosity=4))\n",
    "display(qp.diff(df_new, df_old, 'mix', verbosity=4))\n",
    "display(qp.diff(df_new, df_old, 'new+', verbosity=4))\n",
    "\n",
    "compare(df_new, df_old, result_new, 'new')\n",
    "compare(df_new, df_old, result_old, 'old')\n",
    "compare(df_new, df_old, result_mix, 'mix')\n",
    "compare(df_new, df_old, result_new_plus, 'new+')\n",
    "\n"
   ]
  },
  {
   "cell_type": "markdown",
   "metadata": {},
   "source": [
    "# df.format()"
   ]
  },
  {
   "cell_type": "code",
   "execution_count": 25,
   "metadata": {},
   "outputs": [
    {
     "name": "stdout",
     "output_type": "stream",
     "text": [
      "passed test for finding all errors in df\n"
     ]
    },
    {
     "data": {
      "text/html": [
       "<div>\n",
       "<style scoped>\n",
       "    .dataframe tbody tr th:only-of-type {\n",
       "        vertical-align: middle;\n",
       "    }\n",
       "\n",
       "    .dataframe tbody tr th {\n",
       "        vertical-align: top;\n",
       "    }\n",
       "\n",
       "    .dataframe thead th {\n",
       "        text-align: right;\n",
       "    }\n",
       "</style>\n",
       "<table border=\"1\" class=\"dataframe\">\n",
       "  <thead>\n",
       "    <tr style=\"text-align: right;\">\n",
       "      <th></th>\n",
       "      <th>a</th>\n",
       "      <th>b</th>\n",
       "      <th>c</th>\n",
       "    </tr>\n",
       "  </thead>\n",
       "  <tbody>\n",
       "  </tbody>\n",
       "</table>\n",
       "</div>"
      ],
      "text/plain": [
       "Empty DataFrame\n",
       "Columns: [a, b, c]\n",
       "Index: []"
      ]
     },
     "metadata": {},
     "output_type": "display_data"
    },
    {
     "name": "stdout",
     "output_type": "stream",
     "text": [
      "passed test for finding all errors in df\n"
     ]
    },
    {
     "data": {
      "text/html": [
       "<div>\n",
       "<style scoped>\n",
       "    .dataframe tbody tr th:only-of-type {\n",
       "        vertical-align: middle;\n",
       "    }\n",
       "\n",
       "    .dataframe tbody tr th {\n",
       "        vertical-align: top;\n",
       "    }\n",
       "\n",
       "    .dataframe thead th {\n",
       "        text-align: right;\n",
       "    }\n",
       "</style>\n",
       "<table border=\"1\" class=\"dataframe\">\n",
       "  <thead>\n",
       "    <tr style=\"text-align: right;\">\n",
       "      <th></th>\n",
       "      <th>meta</th>\n",
       "      <th>a</th>\n",
       "      <th>b</th>\n",
       "      <th>c</th>\n",
       "    </tr>\n",
       "  </thead>\n",
       "  <tbody>\n",
       "  </tbody>\n",
       "</table>\n",
       "</div>"
      ],
      "text/plain": [
       "Empty DataFrame\n",
       "Columns: [meta, a, b, c]\n",
       "Index: []"
      ]
     },
     "metadata": {},
     "output_type": "display_data"
    },
    {
     "name": "stdout",
     "output_type": "stream",
     "text": [
      "passed test for finding all errors in df\n"
     ]
    },
    {
     "data": {
      "text/html": [
       "<div>\n",
       "<style scoped>\n",
       "    .dataframe tbody tr th:only-of-type {\n",
       "        vertical-align: middle;\n",
       "    }\n",
       "\n",
       "    .dataframe tbody tr th {\n",
       "        vertical-align: top;\n",
       "    }\n",
       "\n",
       "    .dataframe thead th {\n",
       "        text-align: right;\n",
       "    }\n",
       "</style>\n",
       "<table border=\"1\" class=\"dataframe\">\n",
       "  <thead>\n",
       "    <tr style=\"text-align: right;\">\n",
       "      <th></th>\n",
       "      <th>a</th>\n",
       "      <th>b</th>\n",
       "      <th>c</th>\n",
       "      <th>a b c</th>\n",
       "    </tr>\n",
       "  </thead>\n",
       "  <tbody>\n",
       "  </tbody>\n",
       "</table>\n",
       "</div>"
      ],
      "text/plain": [
       "Empty DataFrame\n",
       "Columns: [ a, b ,  c , a b c ]\n",
       "Index: []"
      ]
     },
     "metadata": {},
     "output_type": "display_data"
    }
   ],
   "source": [
    "def compare(df, result, expected):\n",
    "    if result.equals(expected):\n",
    "        print(f'passed test for finding all errors in df')\n",
    "        display(df)\n",
    "    else:\n",
    "        print('result:')\n",
    "        display(result)\n",
    "        print('expected:')\n",
    "        display(expected)\n",
    "        raise Exception(f'failed test for finding all errors in df')\n",
    "\n",
    "\n",
    "\n",
    "df = pd.DataFrame(columns=['a', 'b', 'c'])\n",
    "result = df.format(verbosity=0)\n",
    "expected = pd.DataFrame('', columns=['meta', 'a', 'b', 'c'], index=[])\n",
    "compare(df, result, expected)\n",
    "\n",
    "\n",
    "df = pd.DataFrame(columns=['meta', 'a', 'b', 'c'], index=[])\n",
    "result = df.format(verbosity=0)\n",
    "expected = pd.DataFrame('', columns=['meta', 'a', 'b', 'c'], index=[])\n",
    "compare(df, result, expected)\n",
    "\n",
    "\n",
    "df = pd.DataFrame(columns=[' a', 'b ', ' c ', 'a b c '])\n",
    "result = df.format(verbosity=0)\n",
    "expected = pd.DataFrame('', columns=['meta', 'a', 'b', 'c', 'a b c'], index=[])\n",
    "compare(df, result, expected)\n",
    "\n"
   ]
  },
  {
   "cell_type": "markdown",
   "metadata": {},
   "source": [
    "# df.save() and df.load()"
   ]
  },
  {
   "cell_type": "code",
   "execution_count": 26,
   "metadata": {},
   "outputs": [
    {
     "data": {
      "text/html": [
       "<style type=\"text/css\">\n",
       "#T_e2661_row0_col0, #T_e2661_row0_col1, #T_e2661_row0_col2, #T_e2661_row0_col3 {\n",
       "  background-color: #c0e7b0;\n",
       "  text-align: left;\n",
       "}\n",
       "</style>\n",
       "<table id=\"T_e2661\">\n",
       "  <thead>\n",
       "  </thead>\n",
       "  <tbody>\n",
       "    <tr>\n",
       "      <th id=\"T_e2661_level0_row0\" class=\"row_heading level0 row0\" >1011</th>\n",
       "      <td id=\"T_e2661_row0_col0\" class=\"data row0 col0\" >saving df to \"df.xlsx\" in sheet \"data1\"</td>\n",
       "      <td id=\"T_e2661_row0_col1\" class=\"data row0 col1\" >df.save()</td>\n",
       "      <td id=\"T_e2661_row0_col2\" class=\"data row0 col2\" >info</td>\n",
       "      <td id=\"T_e2661_row0_col3\" class=\"data row0 col3\" >2024-08-27 14:36:34.465883</td>\n",
       "    </tr>\n",
       "  </tbody>\n",
       "</table>\n"
      ],
      "text/plain": [
       "<pandas.io.formats.style.Styler at 0x1db02c1b560>"
      ]
     },
     "metadata": {},
     "output_type": "display_data"
    },
    {
     "data": {
      "text/html": [
       "<style type=\"text/css\">\n",
       "#T_bed17_row0_col0, #T_bed17_row0_col1, #T_bed17_row0_col2, #T_bed17_row0_col3 {\n",
       "  background-color: #c0e7b0;\n",
       "  text-align: left;\n",
       "}\n",
       "</style>\n",
       "<table id=\"T_bed17\">\n",
       "  <thead>\n",
       "  </thead>\n",
       "  <tbody>\n",
       "    <tr>\n",
       "      <th id=\"T_bed17_level0_row0\" class=\"row_heading level0 row0\" >1012</th>\n",
       "      <td id=\"T_bed17_row0_col0\" class=\"data row0 col0\" >archiving df to \"c:\\Users\\MartinVölkl-GouyaIns\\OneDrive - Gouya Insights\\Desktop\\qplib_dev/archive/df_2024_08_27.xlsx\" in sheet \"data1\"</td>\n",
       "      <td id=\"T_bed17_row0_col1\" class=\"data row0 col1\" >df.save()</td>\n",
       "      <td id=\"T_bed17_row0_col2\" class=\"data row0 col2\" >info</td>\n",
       "      <td id=\"T_bed17_row0_col3\" class=\"data row0 col3\" >2024-08-27 14:36:35.420068</td>\n",
       "    </tr>\n",
       "  </tbody>\n",
       "</table>\n"
      ],
      "text/plain": [
       "<pandas.io.formats.style.Styler at 0x1db033e16d0>"
      ]
     },
     "metadata": {},
     "output_type": "display_data"
    },
    {
     "name": "stdout",
     "output_type": "stream",
     "text": [
      "passed test for default saving behaviour\n",
      "passed test for loading from default file\n"
     ]
    },
    {
     "data": {
      "text/html": [
       "<style type=\"text/css\">\n",
       "#T_3002f_row0_col0, #T_3002f_row0_col1, #T_3002f_row0_col2, #T_3002f_row0_col3 {\n",
       "  background-color: #c0e7b0;\n",
       "  text-align: left;\n",
       "}\n",
       "</style>\n",
       "<table id=\"T_3002f\">\n",
       "  <thead>\n",
       "  </thead>\n",
       "  <tbody>\n",
       "    <tr>\n",
       "      <th id=\"T_3002f_level0_row0\" class=\"row_heading level0 row0\" >1013</th>\n",
       "      <td id=\"T_3002f_row0_col0\" class=\"data row0 col0\" >saving df to \"df1.xlsx\" in sheet \"data1\"</td>\n",
       "      <td id=\"T_3002f_row0_col1\" class=\"data row0 col1\" >df.save()</td>\n",
       "      <td id=\"T_3002f_row0_col2\" class=\"data row0 col2\" >info</td>\n",
       "      <td id=\"T_3002f_row0_col3\" class=\"data row0 col3\" >2024-08-27 14:36:35.486072</td>\n",
       "    </tr>\n",
       "  </tbody>\n",
       "</table>\n"
      ],
      "text/plain": [
       "<pandas.io.formats.style.Styler at 0x1db03210590>"
      ]
     },
     "metadata": {},
     "output_type": "display_data"
    },
    {
     "data": {
      "text/html": [
       "<style type=\"text/css\">\n",
       "#T_1de31_row0_col0, #T_1de31_row0_col1, #T_1de31_row0_col2, #T_1de31_row0_col3 {\n",
       "  background-color: #c0e7b0;\n",
       "  text-align: left;\n",
       "}\n",
       "</style>\n",
       "<table id=\"T_1de31\">\n",
       "  <thead>\n",
       "  </thead>\n",
       "  <tbody>\n",
       "    <tr>\n",
       "      <th id=\"T_1de31_level0_row0\" class=\"row_heading level0 row0\" >1014</th>\n",
       "      <td id=\"T_1de31_row0_col0\" class=\"data row0 col0\" >archiving df to \"c:\\Users\\MartinVölkl-GouyaIns\\OneDrive - Gouya Insights\\Desktop\\qplib_dev/archive/df1_2024_08_27.xlsx\" in sheet \"data1\"</td>\n",
       "      <td id=\"T_1de31_row0_col1\" class=\"data row0 col1\" >df.save()</td>\n",
       "      <td id=\"T_1de31_row0_col2\" class=\"data row0 col2\" >info</td>\n",
       "      <td id=\"T_1de31_row0_col3\" class=\"data row0 col3\" >2024-08-27 14:36:35.523925</td>\n",
       "    </tr>\n",
       "  </tbody>\n",
       "</table>\n"
      ],
      "text/plain": [
       "<pandas.io.formats.style.Styler at 0x1db034221b0>"
      ]
     },
     "metadata": {},
     "output_type": "display_data"
    },
    {
     "name": "stdout",
     "output_type": "stream",
     "text": [
      "passed test for saving to a specific file\n",
      "passed test for loading from a specific file\n"
     ]
    },
    {
     "data": {
      "text/html": [
       "<style type=\"text/css\">\n",
       "#T_e2793_row0_col0, #T_e2793_row0_col1, #T_e2793_row0_col2, #T_e2793_row0_col3 {\n",
       "  background-color: #c0e7b0;\n",
       "  text-align: left;\n",
       "}\n",
       "</style>\n",
       "<table id=\"T_e2793\">\n",
       "  <thead>\n",
       "  </thead>\n",
       "  <tbody>\n",
       "    <tr>\n",
       "      <th id=\"T_e2793_level0_row0\" class=\"row_heading level0 row0\" >1015</th>\n",
       "      <td id=\"T_e2793_row0_col0\" class=\"data row0 col0\" >saving df to \"test/df1.xlsx\" in sheet \"data1\"</td>\n",
       "      <td id=\"T_e2793_row0_col1\" class=\"data row0 col1\" >df.save()</td>\n",
       "      <td id=\"T_e2793_row0_col2\" class=\"data row0 col2\" >info</td>\n",
       "      <td id=\"T_e2793_row0_col3\" class=\"data row0 col3\" >2024-08-27 14:36:35.580306</td>\n",
       "    </tr>\n",
       "  </tbody>\n",
       "</table>\n"
      ],
      "text/plain": [
       "<pandas.io.formats.style.Styler at 0x1db034209b0>"
      ]
     },
     "metadata": {},
     "output_type": "display_data"
    },
    {
     "data": {
      "text/html": [
       "<style type=\"text/css\">\n",
       "#T_a211a_row0_col0, #T_a211a_row0_col1, #T_a211a_row0_col2, #T_a211a_row0_col3 {\n",
       "  background-color: #f7d67c;\n",
       "  text-align: left;\n",
       "}\n",
       "</style>\n",
       "<table id=\"T_a211a\">\n",
       "  <thead>\n",
       "  </thead>\n",
       "  <tbody>\n",
       "    <tr>\n",
       "      <th id=\"T_a211a_level0_row0\" class=\"row_heading level0 row0\" >1016</th>\n",
       "      <td id=\"T_a211a_row0_col0\" class=\"data row0 col0\" >did not find archive folder \"test/archive\"</td>\n",
       "      <td id=\"T_a211a_row0_col1\" class=\"data row0 col1\" >df.save()</td>\n",
       "      <td id=\"T_a211a_row0_col2\" class=\"data row0 col2\" >Warning</td>\n",
       "      <td id=\"T_a211a_row0_col3\" class=\"data row0 col3\" >2024-08-27 14:36:35.619959</td>\n",
       "    </tr>\n",
       "  </tbody>\n",
       "</table>\n"
      ],
      "text/plain": [
       "<pandas.io.formats.style.Styler at 0x1db03422300>"
      ]
     },
     "metadata": {},
     "output_type": "display_data"
    },
    {
     "name": "stdout",
     "output_type": "stream",
     "text": [
      "passed test for saving to a specific file in folder\n",
      "passed test for loading from a specific file in folder\n"
     ]
    },
    {
     "data": {
      "text/html": [
       "<style type=\"text/css\">\n",
       "#T_03c89_row0_col0, #T_03c89_row0_col1, #T_03c89_row0_col2, #T_03c89_row0_col3 {\n",
       "  background-color: #f7d67c;\n",
       "  text-align: left;\n",
       "}\n",
       "</style>\n",
       "<table id=\"T_03c89\">\n",
       "  <thead>\n",
       "  </thead>\n",
       "  <tbody>\n",
       "    <tr>\n",
       "      <th id=\"T_03c89_level0_row0\" class=\"row_heading level0 row0\" >1017</th>\n",
       "      <td id=\"T_03c89_row0_col0\" class=\"data row0 col0\" >file \"df1.xlsx\" already exists. data in sheet \"data2\" will be overwritten</td>\n",
       "      <td id=\"T_03c89_row0_col1\" class=\"data row0 col1\" >df.save()</td>\n",
       "      <td id=\"T_03c89_row0_col2\" class=\"data row0 col2\" >Warning</td>\n",
       "      <td id=\"T_03c89_row0_col3\" class=\"data row0 col3\" >2024-08-27 14:36:35.645321</td>\n",
       "    </tr>\n",
       "  </tbody>\n",
       "</table>\n"
      ],
      "text/plain": [
       "<pandas.io.formats.style.Styler at 0x1db03422360>"
      ]
     },
     "metadata": {},
     "output_type": "display_data"
    },
    {
     "data": {
      "text/html": [
       "<style type=\"text/css\">\n",
       "#T_4e396_row0_col0, #T_4e396_row0_col1, #T_4e396_row0_col2, #T_4e396_row0_col3 {\n",
       "  background-color: #f7d67c;\n",
       "  text-align: left;\n",
       "}\n",
       "</style>\n",
       "<table id=\"T_4e396\">\n",
       "  <thead>\n",
       "  </thead>\n",
       "  <tbody>\n",
       "    <tr>\n",
       "      <th id=\"T_4e396_level0_row0\" class=\"row_heading level0 row0\" >1018</th>\n",
       "      <td id=\"T_4e396_row0_col0\" class=\"data row0 col0\" >archive file \"c:\\Users\\MartinVölkl-GouyaIns\\OneDrive - Gouya Insights\\Desktop\\qplib_dev/archive/df1_2024_08_27.xlsx\" already exists. data in sheet \"data2\" will be overwritten</td>\n",
       "      <td id=\"T_4e396_row0_col1\" class=\"data row0 col1\" >df.save()</td>\n",
       "      <td id=\"T_4e396_row0_col2\" class=\"data row0 col2\" >Warning</td>\n",
       "      <td id=\"T_4e396_row0_col3\" class=\"data row0 col3\" >2024-08-27 14:36:35.693399</td>\n",
       "    </tr>\n",
       "  </tbody>\n",
       "</table>\n"
      ],
      "text/plain": [
       "<pandas.io.formats.style.Styler at 0x1db03422b40>"
      ]
     },
     "metadata": {},
     "output_type": "display_data"
    },
    {
     "name": "stdout",
     "output_type": "stream",
     "text": [
      "passed test for saving and loading to and from a specific sheet\n"
     ]
    },
    {
     "data": {
      "text/html": [
       "<style type=\"text/css\">\n",
       "#T_d9b61_row0_col0, #T_d9b61_row0_col1, #T_d9b61_row0_col2, #T_d9b61_row0_col3 {\n",
       "  background-color: #f7d67c;\n",
       "  text-align: left;\n",
       "}\n",
       "</style>\n",
       "<table id=\"T_d9b61\">\n",
       "  <thead>\n",
       "  </thead>\n",
       "  <tbody>\n",
       "    <tr>\n",
       "      <th id=\"T_d9b61_level0_row0\" class=\"row_heading level0 row0\" >1019</th>\n",
       "      <td id=\"T_d9b61_row0_col0\" class=\"data row0 col0\" >file \"df1.xlsx\" already exists. data in sheet \"data1\" will be overwritten</td>\n",
       "      <td id=\"T_d9b61_row0_col1\" class=\"data row0 col1\" >df.save()</td>\n",
       "      <td id=\"T_d9b61_row0_col2\" class=\"data row0 col2\" >Warning</td>\n",
       "      <td id=\"T_d9b61_row0_col3\" class=\"data row0 col3\" >2024-08-27 14:36:35.782711</td>\n",
       "    </tr>\n",
       "  </tbody>\n",
       "</table>\n"
      ],
      "text/plain": [
       "<pandas.io.formats.style.Styler at 0x1db0343f260>"
      ]
     },
     "metadata": {},
     "output_type": "display_data"
    },
    {
     "data": {
      "text/html": [
       "<style type=\"text/css\">\n",
       "#T_6e1cd_row0_col0, #T_6e1cd_row0_col1, #T_6e1cd_row0_col2, #T_6e1cd_row0_col3 {\n",
       "  background-color: #f7d67c;\n",
       "  text-align: left;\n",
       "}\n",
       "</style>\n",
       "<table id=\"T_6e1cd\">\n",
       "  <thead>\n",
       "  </thead>\n",
       "  <tbody>\n",
       "    <tr>\n",
       "      <th id=\"T_6e1cd_level0_row0\" class=\"row_heading level0 row0\" >1020</th>\n",
       "      <td id=\"T_6e1cd_row0_col0\" class=\"data row0 col0\" >archive file \"c:\\Users\\MartinVölkl-GouyaIns\\OneDrive - Gouya Insights\\Desktop\\qplib_dev/archive/df1_2024_08_27.xlsx\" already exists. data in sheet \"data1\" will be overwritten</td>\n",
       "      <td id=\"T_6e1cd_row0_col1\" class=\"data row0 col1\" >df.save()</td>\n",
       "      <td id=\"T_6e1cd_row0_col2\" class=\"data row0 col2\" >Warning</td>\n",
       "      <td id=\"T_6e1cd_row0_col3\" class=\"data row0 col3\" >2024-08-27 14:36:35.836612</td>\n",
       "    </tr>\n",
       "  </tbody>\n",
       "</table>\n"
      ],
      "text/plain": [
       "<pandas.io.formats.style.Styler at 0x1db03293b90>"
      ]
     },
     "metadata": {},
     "output_type": "display_data"
    },
    {
     "name": "stdout",
     "output_type": "stream",
     "text": [
      "passed test for overwriting sheets\n"
     ]
    },
    {
     "data": {
      "text/html": [
       "<style type=\"text/css\">\n",
       "#T_820d1_row0_col0, #T_820d1_row0_col1, #T_820d1_row0_col2, #T_820d1_row0_col3 {\n",
       "  background-color: #f7d67c;\n",
       "  text-align: left;\n",
       "}\n",
       "</style>\n",
       "<table id=\"T_820d1\">\n",
       "  <thead>\n",
       "  </thead>\n",
       "  <tbody>\n",
       "    <tr>\n",
       "      <th id=\"T_820d1_level0_row0\" class=\"row_heading level0 row0\" >1021</th>\n",
       "      <td id=\"T_820d1_row0_col0\" class=\"data row0 col0\" >file \"df1.xlsx\" already exists. data in sheet \"data1\" will be overwritten</td>\n",
       "      <td id=\"T_820d1_row0_col1\" class=\"data row0 col1\" >df.save()</td>\n",
       "      <td id=\"T_820d1_row0_col2\" class=\"data row0 col2\" >Warning</td>\n",
       "      <td id=\"T_820d1_row0_col3\" class=\"data row0 col3\" >2024-08-27 14:36:35.925022</td>\n",
       "    </tr>\n",
       "  </tbody>\n",
       "</table>\n"
      ],
      "text/plain": [
       "<pandas.io.formats.style.Styler at 0x1db0344d640>"
      ]
     },
     "metadata": {},
     "output_type": "display_data"
    },
    {
     "data": {
      "text/html": [
       "<style type=\"text/css\">\n",
       "#T_af87e_row0_col0, #T_af87e_row0_col1, #T_af87e_row0_col2, #T_af87e_row0_col3 {\n",
       "  background-color: #f7d67c;\n",
       "  text-align: left;\n",
       "}\n",
       "</style>\n",
       "<table id=\"T_af87e\">\n",
       "  <thead>\n",
       "  </thead>\n",
       "  <tbody>\n",
       "    <tr>\n",
       "      <th id=\"T_af87e_level0_row0\" class=\"row_heading level0 row0\" >1022</th>\n",
       "      <td id=\"T_af87e_row0_col0\" class=\"data row0 col0\" >archive file \"c:\\Users\\MartinVölkl-GouyaIns\\OneDrive - Gouya Insights\\Desktop\\qplib_dev/archive/df1_2024_08_27.xlsx\" already exists. data in sheet \"data1\" will be overwritten</td>\n",
       "      <td id=\"T_af87e_row0_col1\" class=\"data row0 col1\" >df.save()</td>\n",
       "      <td id=\"T_af87e_row0_col2\" class=\"data row0 col2\" >Warning</td>\n",
       "      <td id=\"T_af87e_row0_col3\" class=\"data row0 col3\" >2024-08-27 14:36:35.984704</td>\n",
       "    </tr>\n",
       "  </tbody>\n",
       "</table>\n"
      ],
      "text/plain": [
       "<pandas.io.formats.style.Styler at 0x1db0344fd10>"
      ]
     },
     "metadata": {},
     "output_type": "display_data"
    },
    {
     "data": {
      "text/html": [
       "<style type=\"text/css\">\n",
       "#T_c4e05_row0_col0, #T_c4e05_row0_col1, #T_c4e05_row0_col2, #T_c4e05_row0_col3 {\n",
       "  background-color: #f7d67c;\n",
       "  text-align: left;\n",
       "}\n",
       "</style>\n",
       "<table id=\"T_c4e05\">\n",
       "  <thead>\n",
       "  </thead>\n",
       "  <tbody>\n",
       "    <tr>\n",
       "      <th id=\"T_c4e05_level0_row0\" class=\"row_heading level0 row0\" >1023</th>\n",
       "      <td id=\"T_c4e05_row0_col0\" class=\"data row0 col0\" >file \"df1.xlsx\" already exists. data in sheet \"data1\" will be overwritten</td>\n",
       "      <td id=\"T_c4e05_row0_col1\" class=\"data row0 col1\" >df.save()</td>\n",
       "      <td id=\"T_c4e05_row0_col2\" class=\"data row0 col2\" >Warning</td>\n",
       "      <td id=\"T_c4e05_row0_col3\" class=\"data row0 col3\" >2024-08-27 14:36:36.047208</td>\n",
       "    </tr>\n",
       "  </tbody>\n",
       "</table>\n"
      ],
      "text/plain": [
       "<pandas.io.formats.style.Styler at 0x1db0344d7c0>"
      ]
     },
     "metadata": {},
     "output_type": "display_data"
    },
    {
     "data": {
      "text/html": [
       "<style type=\"text/css\">\n",
       "#T_ea640_row0_col0, #T_ea640_row0_col1, #T_ea640_row0_col2, #T_ea640_row0_col3 {\n",
       "  background-color: #f7d67c;\n",
       "  text-align: left;\n",
       "}\n",
       "</style>\n",
       "<table id=\"T_ea640\">\n",
       "  <thead>\n",
       "  </thead>\n",
       "  <tbody>\n",
       "    <tr>\n",
       "      <th id=\"T_ea640_level0_row0\" class=\"row_heading level0 row0\" >1024</th>\n",
       "      <td id=\"T_ea640_row0_col0\" class=\"data row0 col0\" >archive file \"c:\\Users\\MartinVölkl-GouyaIns\\OneDrive - Gouya Insights\\Desktop\\qplib_dev/archive/df1_2024_08_27.xlsx\" already exists. data in sheet \"data1\" will be overwritten</td>\n",
       "      <td id=\"T_ea640_row0_col1\" class=\"data row0 col1\" >df.save()</td>\n",
       "      <td id=\"T_ea640_row0_col2\" class=\"data row0 col2\" >Warning</td>\n",
       "      <td id=\"T_ea640_row0_col3\" class=\"data row0 col3\" >2024-08-27 14:36:36.105423</td>\n",
       "    </tr>\n",
       "  </tbody>\n",
       "</table>\n"
      ],
      "text/plain": [
       "<pandas.io.formats.style.Styler at 0x1db0347f0b0>"
      ]
     },
     "metadata": {},
     "output_type": "display_data"
    },
    {
     "name": "stdout",
     "output_type": "stream",
     "text": [
      "passed test for archiving file\n"
     ]
    },
    {
     "data": {
      "text/html": [
       "<style type=\"text/css\">\n",
       "#T_9489c_row0_col0, #T_9489c_row0_col1, #T_9489c_row0_col2, #T_9489c_row0_col3 {\n",
       "  background-color: #f7d67c;\n",
       "  text-align: left;\n",
       "}\n",
       "</style>\n",
       "<table id=\"T_9489c\">\n",
       "  <thead>\n",
       "  </thead>\n",
       "  <tbody>\n",
       "    <tr>\n",
       "      <th id=\"T_9489c_level0_row0\" class=\"row_heading level0 row0\" >1025</th>\n",
       "      <td id=\"T_9489c_row0_col0\" class=\"data row0 col0\" >file \"test/df1.xlsx\" already exists. data in sheet \"data1\" will be overwritten</td>\n",
       "      <td id=\"T_9489c_row0_col1\" class=\"data row0 col1\" >df.save()</td>\n",
       "      <td id=\"T_9489c_row0_col2\" class=\"data row0 col2\" >Warning</td>\n",
       "      <td id=\"T_9489c_row0_col3\" class=\"data row0 col3\" >2024-08-27 14:36:36.177575</td>\n",
       "    </tr>\n",
       "  </tbody>\n",
       "</table>\n"
      ],
      "text/plain": [
       "<pandas.io.formats.style.Styler at 0x1db03470530>"
      ]
     },
     "metadata": {},
     "output_type": "display_data"
    },
    {
     "data": {
      "text/html": [
       "<style type=\"text/css\">\n",
       "#T_23cee_row0_col0, #T_23cee_row0_col1, #T_23cee_row0_col2, #T_23cee_row0_col3 {\n",
       "  background-color: #c0e7b0;\n",
       "  text-align: left;\n",
       "}\n",
       "</style>\n",
       "<table id=\"T_23cee\">\n",
       "  <thead>\n",
       "  </thead>\n",
       "  <tbody>\n",
       "    <tr>\n",
       "      <th id=\"T_23cee_level0_row0\" class=\"row_heading level0 row0\" >1026</th>\n",
       "      <td id=\"T_23cee_row0_col0\" class=\"data row0 col0\" >archiving df to \"test/archive/df1_2024_08_27.xlsx\" in sheet \"data1\"</td>\n",
       "      <td id=\"T_23cee_row0_col1\" class=\"data row0 col1\" >df.save()</td>\n",
       "      <td id=\"T_23cee_row0_col2\" class=\"data row0 col2\" >info</td>\n",
       "      <td id=\"T_23cee_row0_col3\" class=\"data row0 col3\" >2024-08-27 14:36:36.225509</td>\n",
       "    </tr>\n",
       "  </tbody>\n",
       "</table>\n"
      ],
      "text/plain": [
       "<pandas.io.formats.style.Styler at 0x1db0344e000>"
      ]
     },
     "metadata": {},
     "output_type": "display_data"
    },
    {
     "name": "stdout",
     "output_type": "stream",
     "text": [
      "passed test for archiving in nested folder\n"
     ]
    },
    {
     "data": {
      "text/html": [
       "<style type=\"text/css\">\n",
       "#T_78593_row0_col0, #T_78593_row0_col1, #T_78593_row0_col2, #T_78593_row0_col3 {\n",
       "  background-color: #f7d67c;\n",
       "  text-align: left;\n",
       "}\n",
       "</style>\n",
       "<table id=\"T_78593\">\n",
       "  <thead>\n",
       "  </thead>\n",
       "  <tbody>\n",
       "    <tr>\n",
       "      <th id=\"T_78593_level0_row0\" class=\"row_heading level0 row0\" >1027</th>\n",
       "      <td id=\"T_78593_row0_col0\" class=\"data row0 col0\" >file \"test/df1.xlsx\" already exists. data in sheet \"data1\" will be overwritten</td>\n",
       "      <td id=\"T_78593_row0_col1\" class=\"data row0 col1\" >df.save()</td>\n",
       "      <td id=\"T_78593_row0_col2\" class=\"data row0 col2\" >Warning</td>\n",
       "      <td id=\"T_78593_row0_col3\" class=\"data row0 col3\" >2024-08-27 14:36:36.286223</td>\n",
       "    </tr>\n",
       "  </tbody>\n",
       "</table>\n"
      ],
      "text/plain": [
       "<pandas.io.formats.style.Styler at 0x1db02bc5b20>"
      ]
     },
     "metadata": {},
     "output_type": "display_data"
    },
    {
     "data": {
      "text/html": [
       "<style type=\"text/css\">\n",
       "#T_4a726_row0_col0, #T_4a726_row0_col1, #T_4a726_row0_col2, #T_4a726_row0_col3 {\n",
       "  background-color: #c0e7b0;\n",
       "  text-align: left;\n",
       "}\n",
       "</style>\n",
       "<table id=\"T_4a726\">\n",
       "  <thead>\n",
       "  </thead>\n",
       "  <tbody>\n",
       "    <tr>\n",
       "      <th id=\"T_4a726_level0_row0\" class=\"row_heading level0 row0\" >1028</th>\n",
       "      <td id=\"T_4a726_row0_col0\" class=\"data row0 col0\" >archiving df to \"test/archive/df1_27_08_2024.xlsx\" in sheet \"data1\"</td>\n",
       "      <td id=\"T_4a726_row0_col1\" class=\"data row0 col1\" >df.save()</td>\n",
       "      <td id=\"T_4a726_row0_col2\" class=\"data row0 col2\" >info</td>\n",
       "      <td id=\"T_4a726_row0_col3\" class=\"data row0 col3\" >2024-08-27 14:36:36.344973</td>\n",
       "    </tr>\n",
       "  </tbody>\n",
       "</table>\n"
      ],
      "text/plain": [
       "<pandas.io.formats.style.Styler at 0x1db0344fc80>"
      ]
     },
     "metadata": {},
     "output_type": "display_data"
    },
    {
     "name": "stdout",
     "output_type": "stream",
     "text": [
      "passed test for archiving with different date format\n"
     ]
    },
    {
     "data": {
      "text/html": [
       "<style type=\"text/css\">\n",
       "#T_c608f_row0_col0, #T_c608f_row0_col1, #T_c608f_row0_col2, #T_c608f_row0_col3 {\n",
       "  background-color: #c0e7b0;\n",
       "  text-align: left;\n",
       "}\n",
       "</style>\n",
       "<table id=\"T_c608f\">\n",
       "  <thead>\n",
       "  </thead>\n",
       "  <tbody>\n",
       "    <tr>\n",
       "      <th id=\"T_c608f_level0_row0\" class=\"row_heading level0 row0\" >1029</th>\n",
       "      <td id=\"T_c608f_row0_col0\" class=\"data row0 col0\" >no archive folder found. looking for most recent file in \"archive\" instead</td>\n",
       "      <td id=\"T_c608f_row0_col1\" class=\"data row0 col1\" >df.load()</td>\n",
       "      <td id=\"T_c608f_row0_col2\" class=\"data row0 col2\" >info</td>\n",
       "      <td id=\"T_c608f_row0_col3\" class=\"data row0 col3\" >2024-08-27 14:36:36.734870</td>\n",
       "    </tr>\n",
       "  </tbody>\n",
       "</table>\n"
      ],
      "text/plain": [
       "<pandas.io.formats.style.Styler at 0x1db044d1ac0>"
      ]
     },
     "metadata": {},
     "output_type": "display_data"
    },
    {
     "data": {
      "text/html": [
       "<style type=\"text/css\">\n",
       "#T_66fac_row0_col0, #T_66fac_row0_col1, #T_66fac_row0_col2, #T_66fac_row0_col3 {\n",
       "  background-color: #c0e7b0;\n",
       "  text-align: left;\n",
       "}\n",
       "</style>\n",
       "<table id=\"T_66fac\">\n",
       "  <thead>\n",
       "  </thead>\n",
       "  <tbody>\n",
       "    <tr>\n",
       "      <th id=\"T_66fac_level0_row0\" class=\"row_heading level0 row0\" >1030</th>\n",
       "      <td id=\"T_66fac_row0_col0\" class=\"data row0 col0\" >loading \"archive/df_2024_08_27.xlsx\"</td>\n",
       "      <td id=\"T_66fac_row0_col1\" class=\"data row0 col1\" >df.load()</td>\n",
       "      <td id=\"T_66fac_row0_col2\" class=\"data row0 col2\" >info</td>\n",
       "      <td id=\"T_66fac_row0_col3\" class=\"data row0 col3\" >2024-08-27 14:36:36.750941</td>\n",
       "    </tr>\n",
       "  </tbody>\n",
       "</table>\n"
      ],
      "text/plain": [
       "<pandas.io.formats.style.Styler at 0x1db0321ce00>"
      ]
     },
     "metadata": {},
     "output_type": "display_data"
    },
    {
     "name": "stdout",
     "output_type": "stream",
     "text": [
      "passed test for loading most recent file\n"
     ]
    },
    {
     "data": {
      "text/html": [
       "<style type=\"text/css\">\n",
       "#T_41a0d_row0_col0, #T_41a0d_row0_col1, #T_41a0d_row0_col2, #T_41a0d_row0_col3 {\n",
       "  background-color: #c0e7b0;\n",
       "  text-align: left;\n",
       "}\n",
       "</style>\n",
       "<table id=\"T_41a0d\">\n",
       "  <thead>\n",
       "  </thead>\n",
       "  <tbody>\n",
       "    <tr>\n",
       "      <th id=\"T_41a0d_level0_row0\" class=\"row_heading level0 row0\" >1031</th>\n",
       "      <td id=\"T_41a0d_row0_col0\" class=\"data row0 col0\" >no archive folder found. looking for most recent file in \"archive\" instead</td>\n",
       "      <td id=\"T_41a0d_row0_col1\" class=\"data row0 col1\" >df.load()</td>\n",
       "      <td id=\"T_41a0d_row0_col2\" class=\"data row0 col2\" >info</td>\n",
       "      <td id=\"T_41a0d_row0_col3\" class=\"data row0 col3\" >2024-08-27 14:36:36.775819</td>\n",
       "    </tr>\n",
       "  </tbody>\n",
       "</table>\n"
      ],
      "text/plain": [
       "<pandas.io.formats.style.Styler at 0x1db0343de50>"
      ]
     },
     "metadata": {},
     "output_type": "display_data"
    },
    {
     "data": {
      "text/html": [
       "<style type=\"text/css\">\n",
       "#T_6542e_row0_col0, #T_6542e_row0_col1, #T_6542e_row0_col2, #T_6542e_row0_col3 {\n",
       "  background-color: #c0e7b0;\n",
       "  text-align: left;\n",
       "}\n",
       "</style>\n",
       "<table id=\"T_6542e\">\n",
       "  <thead>\n",
       "  </thead>\n",
       "  <tbody>\n",
       "    <tr>\n",
       "      <th id=\"T_6542e_level0_row0\" class=\"row_heading level0 row0\" >1032</th>\n",
       "      <td id=\"T_6542e_row0_col0\" class=\"data row0 col0\" >loading \"archive/df_2024_08_27.xlsx\"</td>\n",
       "      <td id=\"T_6542e_row0_col1\" class=\"data row0 col1\" >df.load()</td>\n",
       "      <td id=\"T_6542e_row0_col2\" class=\"data row0 col2\" >info</td>\n",
       "      <td id=\"T_6542e_row0_col3\" class=\"data row0 col3\" >2024-08-27 14:36:36.791330</td>\n",
       "    </tr>\n",
       "  </tbody>\n",
       "</table>\n"
      ],
      "text/plain": [
       "<pandas.io.formats.style.Styler at 0x1db03420ec0>"
      ]
     },
     "metadata": {},
     "output_type": "display_data"
    },
    {
     "name": "stdout",
     "output_type": "stream",
     "text": [
      "passed test for loading most recent file explicitly\n"
     ]
    },
    {
     "data": {
      "text/html": [
       "<style type=\"text/css\">\n",
       "#T_c9561_row0_col0, #T_c9561_row0_col1, #T_c9561_row0_col2, #T_c9561_row0_col3 {\n",
       "  background-color: #c0e7b0;\n",
       "  text-align: left;\n",
       "}\n",
       "</style>\n",
       "<table id=\"T_c9561\">\n",
       "  <thead>\n",
       "  </thead>\n",
       "  <tbody>\n",
       "    <tr>\n",
       "      <th id=\"T_c9561_level0_row0\" class=\"row_heading level0 row0\" >1033</th>\n",
       "      <td id=\"T_c9561_row0_col0\" class=\"data row0 col0\" >no archive folder found. looking for most recent file in \"archive\" instead</td>\n",
       "      <td id=\"T_c9561_row0_col1\" class=\"data row0 col1\" >df.load()</td>\n",
       "      <td id=\"T_c9561_row0_col2\" class=\"data row0 col2\" >info</td>\n",
       "      <td id=\"T_c9561_row0_col3\" class=\"data row0 col3\" >2024-08-27 14:36:37.000233</td>\n",
       "    </tr>\n",
       "  </tbody>\n",
       "</table>\n"
      ],
      "text/plain": [
       "<pandas.io.formats.style.Styler at 0x1db032117c0>"
      ]
     },
     "metadata": {},
     "output_type": "display_data"
    },
    {
     "data": {
      "text/html": [
       "<style type=\"text/css\">\n",
       "#T_a6c94_row0_col0, #T_a6c94_row0_col1, #T_a6c94_row0_col2, #T_a6c94_row0_col3 {\n",
       "  background-color: #c0e7b0;\n",
       "  text-align: left;\n",
       "}\n",
       "</style>\n",
       "<table id=\"T_a6c94\">\n",
       "  <thead>\n",
       "  </thead>\n",
       "  <tbody>\n",
       "    <tr>\n",
       "      <th id=\"T_a6c94_level0_row0\" class=\"row_heading level0 row0\" >1034</th>\n",
       "      <td id=\"T_a6c94_row0_col0\" class=\"data row0 col0\" >loading \"archive/df_27_08_2024.xlsx\"</td>\n",
       "      <td id=\"T_a6c94_row0_col1\" class=\"data row0 col1\" >df.load()</td>\n",
       "      <td id=\"T_a6c94_row0_col2\" class=\"data row0 col2\" >info</td>\n",
       "      <td id=\"T_a6c94_row0_col3\" class=\"data row0 col3\" >2024-08-27 14:36:37.015220</td>\n",
       "    </tr>\n",
       "  </tbody>\n",
       "</table>\n"
      ],
      "text/plain": [
       "<pandas.io.formats.style.Styler at 0x1db03422090>"
      ]
     },
     "metadata": {},
     "output_type": "display_data"
    },
    {
     "name": "stdout",
     "output_type": "stream",
     "text": [
      "passed test for loading most recent file with different date format\n"
     ]
    },
    {
     "data": {
      "text/html": [
       "<style type=\"text/css\">\n",
       "#T_a8cbc_row0_col0, #T_a8cbc_row0_col1, #T_a8cbc_row0_col2, #T_a8cbc_row0_col3 {\n",
       "  background-color: #c0e7b0;\n",
       "  text-align: left;\n",
       "}\n",
       "</style>\n",
       "<table id=\"T_a8cbc\">\n",
       "  <thead>\n",
       "  </thead>\n",
       "  <tbody>\n",
       "    <tr>\n",
       "      <th id=\"T_a8cbc_level0_row0\" class=\"row_heading level0 row0\" >1035</th>\n",
       "      <td id=\"T_a8cbc_row0_col0\" class=\"data row0 col0\" >no archive folder found. looking for most recent file in \"archive\" instead</td>\n",
       "      <td id=\"T_a8cbc_row0_col1\" class=\"data row0 col1\" >df.load()</td>\n",
       "      <td id=\"T_a8cbc_row0_col2\" class=\"data row0 col2\" >info</td>\n",
       "      <td id=\"T_a8cbc_row0_col3\" class=\"data row0 col3\" >2024-08-27 14:36:37.130574</td>\n",
       "    </tr>\n",
       "  </tbody>\n",
       "</table>\n"
      ],
      "text/plain": [
       "<pandas.io.formats.style.Styler at 0x1db0344cf50>"
      ]
     },
     "metadata": {},
     "output_type": "display_data"
    },
    {
     "data": {
      "text/html": [
       "<style type=\"text/css\">\n",
       "#T_91ba2_row0_col0, #T_91ba2_row0_col1, #T_91ba2_row0_col2, #T_91ba2_row0_col3 {\n",
       "  background-color: #c0e7b0;\n",
       "  text-align: left;\n",
       "}\n",
       "</style>\n",
       "<table id=\"T_91ba2\">\n",
       "  <thead>\n",
       "  </thead>\n",
       "  <tbody>\n",
       "    <tr>\n",
       "      <th id=\"T_91ba2_level0_row0\" class=\"row_heading level0 row0\" >1036</th>\n",
       "      <td id=\"T_91ba2_row0_col0\" class=\"data row0 col0\" >loading \"archive/df_2000_01_01.xlsx\"</td>\n",
       "      <td id=\"T_91ba2_row0_col1\" class=\"data row0 col1\" >df.load()</td>\n",
       "      <td id=\"T_91ba2_row0_col2\" class=\"data row0 col2\" >info</td>\n",
       "      <td id=\"T_91ba2_row0_col3\" class=\"data row0 col3\" >2024-08-27 14:36:37.149453</td>\n",
       "    </tr>\n",
       "  </tbody>\n",
       "</table>\n"
      ],
      "text/plain": [
       "<pandas.io.formats.style.Styler at 0x1db034212b0>"
      ]
     },
     "metadata": {},
     "output_type": "display_data"
    },
    {
     "name": "stdout",
     "output_type": "stream",
     "text": [
      "passed test for loading most recent file from before specific date\n"
     ]
    },
    {
     "data": {
      "text/html": [
       "<style type=\"text/css\">\n",
       "#T_12c68_row0_col0, #T_12c68_row0_col1, #T_12c68_row0_col2, #T_12c68_row0_col3 {\n",
       "  background-color: #c0e7b0;\n",
       "  text-align: left;\n",
       "}\n",
       "</style>\n",
       "<table id=\"T_12c68\">\n",
       "  <thead>\n",
       "  </thead>\n",
       "  <tbody>\n",
       "    <tr>\n",
       "      <th id=\"T_12c68_level0_row0\" class=\"row_heading level0 row0\" >1037</th>\n",
       "      <td id=\"T_12c68_row0_col0\" class=\"data row0 col0\" >no archive folder found. looking for most recent file in \"archive\" instead</td>\n",
       "      <td id=\"T_12c68_row0_col1\" class=\"data row0 col1\" >df.load()</td>\n",
       "      <td id=\"T_12c68_row0_col2\" class=\"data row0 col2\" >info</td>\n",
       "      <td id=\"T_12c68_row0_col3\" class=\"data row0 col3\" >2024-08-27 14:36:37.182377</td>\n",
       "    </tr>\n",
       "  </tbody>\n",
       "</table>\n"
      ],
      "text/plain": [
       "<pandas.io.formats.style.Styler at 0x1db0321a5a0>"
      ]
     },
     "metadata": {},
     "output_type": "display_data"
    },
    {
     "data": {
      "text/html": [
       "<style type=\"text/css\">\n",
       "#T_0c226_row0_col0, #T_0c226_row0_col1, #T_0c226_row0_col2, #T_0c226_row0_col3 {\n",
       "  background-color: #c0e7b0;\n",
       "  text-align: left;\n",
       "}\n",
       "</style>\n",
       "<table id=\"T_0c226\">\n",
       "  <thead>\n",
       "  </thead>\n",
       "  <tbody>\n",
       "    <tr>\n",
       "      <th id=\"T_0c226_level0_row0\" class=\"row_heading level0 row0\" >1038</th>\n",
       "      <td id=\"T_0c226_row0_col0\" class=\"data row0 col0\" >loading \"archive/df_2023_07_24.xlsx\"</td>\n",
       "      <td id=\"T_0c226_row0_col1\" class=\"data row0 col1\" >df.load()</td>\n",
       "      <td id=\"T_0c226_row0_col2\" class=\"data row0 col2\" >info</td>\n",
       "      <td id=\"T_0c226_row0_col3\" class=\"data row0 col3\" >2024-08-27 14:36:37.202905</td>\n",
       "    </tr>\n",
       "  </tbody>\n",
       "</table>\n"
      ],
      "text/plain": [
       "<pandas.io.formats.style.Styler at 0x1db02c169f0>"
      ]
     },
     "metadata": {},
     "output_type": "display_data"
    },
    {
     "name": "stdout",
     "output_type": "stream",
     "text": [
      "passed test for loading most recent file from before this year\n"
     ]
    },
    {
     "data": {
      "text/html": [
       "<style type=\"text/css\">\n",
       "#T_08553_row0_col0, #T_08553_row0_col1, #T_08553_row0_col2, #T_08553_row0_col3 {\n",
       "  background-color: #c0e7b0;\n",
       "  text-align: left;\n",
       "}\n",
       "</style>\n",
       "<table id=\"T_08553\">\n",
       "  <thead>\n",
       "  </thead>\n",
       "  <tbody>\n",
       "    <tr>\n",
       "      <th id=\"T_08553_level0_row0\" class=\"row_heading level0 row0\" >1039</th>\n",
       "      <td id=\"T_08553_row0_col0\" class=\"data row0 col0\" >no archive folder found. looking for most recent file in \"archive\" instead</td>\n",
       "      <td id=\"T_08553_row0_col1\" class=\"data row0 col1\" >df.load()</td>\n",
       "      <td id=\"T_08553_row0_col2\" class=\"data row0 col2\" >info</td>\n",
       "      <td id=\"T_08553_row0_col3\" class=\"data row0 col3\" >2024-08-27 14:36:37.342037</td>\n",
       "    </tr>\n",
       "  </tbody>\n",
       "</table>\n"
      ],
      "text/plain": [
       "<pandas.io.formats.style.Styler at 0x1db03423ce0>"
      ]
     },
     "metadata": {},
     "output_type": "display_data"
    },
    {
     "data": {
      "text/html": [
       "<style type=\"text/css\">\n",
       "#T_c2032_row0_col0, #T_c2032_row0_col1, #T_c2032_row0_col2, #T_c2032_row0_col3 {\n",
       "  background-color: #c0e7b0;\n",
       "  text-align: left;\n",
       "}\n",
       "</style>\n",
       "<table id=\"T_c2032\">\n",
       "  <thead>\n",
       "  </thead>\n",
       "  <tbody>\n",
       "    <tr>\n",
       "      <th id=\"T_c2032_level0_row0\" class=\"row_heading level0 row0\" >1040</th>\n",
       "      <td id=\"T_c2032_row0_col0\" class=\"data row0 col0\" >loading \"archive/df_2024_07_18.xlsx\"</td>\n",
       "      <td id=\"T_c2032_row0_col1\" class=\"data row0 col1\" >df.load()</td>\n",
       "      <td id=\"T_c2032_row0_col2\" class=\"data row0 col2\" >info</td>\n",
       "      <td id=\"T_c2032_row0_col3\" class=\"data row0 col3\" >2024-08-27 14:36:37.359324</td>\n",
       "    </tr>\n",
       "  </tbody>\n",
       "</table>\n"
      ],
      "text/plain": [
       "<pandas.io.formats.style.Styler at 0x1db0321b260>"
      ]
     },
     "metadata": {},
     "output_type": "display_data"
    },
    {
     "name": "stdout",
     "output_type": "stream",
     "text": [
      "passed test for loading most recent file from before this month\n"
     ]
    },
    {
     "data": {
      "text/html": [
       "<style type=\"text/css\">\n",
       "#T_502e4_row0_col0, #T_502e4_row0_col1, #T_502e4_row0_col2, #T_502e4_row0_col3 {\n",
       "  background-color: #c0e7b0;\n",
       "  text-align: left;\n",
       "}\n",
       "</style>\n",
       "<table id=\"T_502e4\">\n",
       "  <thead>\n",
       "  </thead>\n",
       "  <tbody>\n",
       "    <tr>\n",
       "      <th id=\"T_502e4_level0_row0\" class=\"row_heading level0 row0\" >1041</th>\n",
       "      <td id=\"T_502e4_row0_col0\" class=\"data row0 col0\" >no archive folder found. looking for most recent file in \"archive\" instead</td>\n",
       "      <td id=\"T_502e4_row0_col1\" class=\"data row0 col1\" >df.load()</td>\n",
       "      <td id=\"T_502e4_row0_col2\" class=\"data row0 col2\" >info</td>\n",
       "      <td id=\"T_502e4_row0_col3\" class=\"data row0 col3\" >2024-08-27 14:36:37.478259</td>\n",
       "    </tr>\n",
       "  </tbody>\n",
       "</table>\n"
      ],
      "text/plain": [
       "<pandas.io.formats.style.Styler at 0x1db0344f710>"
      ]
     },
     "metadata": {},
     "output_type": "display_data"
    },
    {
     "data": {
      "text/html": [
       "<style type=\"text/css\">\n",
       "#T_0dc64_row0_col0, #T_0dc64_row0_col1, #T_0dc64_row0_col2, #T_0dc64_row0_col3 {\n",
       "  background-color: #c0e7b0;\n",
       "  text-align: left;\n",
       "}\n",
       "</style>\n",
       "<table id=\"T_0dc64\">\n",
       "  <thead>\n",
       "  </thead>\n",
       "  <tbody>\n",
       "    <tr>\n",
       "      <th id=\"T_0dc64_level0_row0\" class=\"row_heading level0 row0\" >1042</th>\n",
       "      <td id=\"T_0dc64_row0_col0\" class=\"data row0 col0\" >loading \"archive/df_2024_08_19.xlsx\"</td>\n",
       "      <td id=\"T_0dc64_row0_col1\" class=\"data row0 col1\" >df.load()</td>\n",
       "      <td id=\"T_0dc64_row0_col2\" class=\"data row0 col2\" >info</td>\n",
       "      <td id=\"T_0dc64_row0_col3\" class=\"data row0 col3\" >2024-08-27 14:36:37.494572</td>\n",
       "    </tr>\n",
       "  </tbody>\n",
       "</table>\n"
      ],
      "text/plain": [
       "<pandas.io.formats.style.Styler at 0x1db0347ce00>"
      ]
     },
     "metadata": {},
     "output_type": "display_data"
    },
    {
     "name": "stdout",
     "output_type": "stream",
     "text": [
      "passed test for loading most recent file from before this week\n"
     ]
    },
    {
     "data": {
      "text/html": [
       "<style type=\"text/css\">\n",
       "#T_4339d_row0_col0, #T_4339d_row0_col1, #T_4339d_row0_col2, #T_4339d_row0_col3 {\n",
       "  background-color: #c0e7b0;\n",
       "  text-align: left;\n",
       "}\n",
       "</style>\n",
       "<table id=\"T_4339d\">\n",
       "  <thead>\n",
       "  </thead>\n",
       "  <tbody>\n",
       "    <tr>\n",
       "      <th id=\"T_4339d_level0_row0\" class=\"row_heading level0 row0\" >1043</th>\n",
       "      <td id=\"T_4339d_row0_col0\" class=\"data row0 col0\" >no archive folder found. looking for most recent file in \"archive\" instead</td>\n",
       "      <td id=\"T_4339d_row0_col1\" class=\"data row0 col1\" >df.load()</td>\n",
       "      <td id=\"T_4339d_row0_col2\" class=\"data row0 col2\" >info</td>\n",
       "      <td id=\"T_4339d_row0_col3\" class=\"data row0 col3\" >2024-08-27 14:36:37.608290</td>\n",
       "    </tr>\n",
       "  </tbody>\n",
       "</table>\n"
      ],
      "text/plain": [
       "<pandas.io.formats.style.Styler at 0x1db03470ec0>"
      ]
     },
     "metadata": {},
     "output_type": "display_data"
    },
    {
     "data": {
      "text/html": [
       "<style type=\"text/css\">\n",
       "#T_1006a_row0_col0, #T_1006a_row0_col1, #T_1006a_row0_col2, #T_1006a_row0_col3 {\n",
       "  background-color: #c0e7b0;\n",
       "  text-align: left;\n",
       "}\n",
       "</style>\n",
       "<table id=\"T_1006a\">\n",
       "  <thead>\n",
       "  </thead>\n",
       "  <tbody>\n",
       "    <tr>\n",
       "      <th id=\"T_1006a_level0_row0\" class=\"row_heading level0 row0\" >1044</th>\n",
       "      <td id=\"T_1006a_row0_col0\" class=\"data row0 col0\" >loading \"archive/df_2024_08_26.xlsx\"</td>\n",
       "      <td id=\"T_1006a_row0_col1\" class=\"data row0 col1\" >df.load()</td>\n",
       "      <td id=\"T_1006a_row0_col2\" class=\"data row0 col2\" >info</td>\n",
       "      <td id=\"T_1006a_row0_col3\" class=\"data row0 col3\" >2024-08-27 14:36:37.628275</td>\n",
       "    </tr>\n",
       "  </tbody>\n",
       "</table>\n"
      ],
      "text/plain": [
       "<pandas.io.formats.style.Styler at 0x1db0344d640>"
      ]
     },
     "metadata": {},
     "output_type": "display_data"
    },
    {
     "name": "stdout",
     "output_type": "stream",
     "text": [
      "passed test for loading most recent file from before this day\n"
     ]
    },
    {
     "data": {
      "text/html": [
       "<style type=\"text/css\">\n",
       "#T_73a8a_row0_col0, #T_73a8a_row0_col1, #T_73a8a_row0_col2, #T_73a8a_row0_col3 {\n",
       "  background-color: #c0e7b0;\n",
       "  text-align: left;\n",
       "}\n",
       "</style>\n",
       "<table id=\"T_73a8a\">\n",
       "  <thead>\n",
       "  </thead>\n",
       "  <tbody>\n",
       "    <tr>\n",
       "      <th id=\"T_73a8a_level0_row0\" class=\"row_heading level0 row0\" >1045</th>\n",
       "      <td id=\"T_73a8a_row0_col0\" class=\"data row0 col0\" >no archive folder found. looking for most recent file in \"archive\" instead</td>\n",
       "      <td id=\"T_73a8a_row0_col1\" class=\"data row0 col1\" >df.load()</td>\n",
       "      <td id=\"T_73a8a_row0_col2\" class=\"data row0 col2\" >info</td>\n",
       "      <td id=\"T_73a8a_row0_col3\" class=\"data row0 col3\" >2024-08-27 14:36:37.652774</td>\n",
       "    </tr>\n",
       "  </tbody>\n",
       "</table>\n"
      ],
      "text/plain": [
       "<pandas.io.formats.style.Styler at 0x1db03422240>"
      ]
     },
     "metadata": {},
     "output_type": "display_data"
    },
    {
     "data": {
      "text/html": [
       "<style type=\"text/css\">\n",
       "#T_bc5b3_row0_col0, #T_bc5b3_row0_col1, #T_bc5b3_row0_col2, #T_bc5b3_row0_col3 {\n",
       "  background-color: #c0e7b0;\n",
       "  text-align: left;\n",
       "}\n",
       "</style>\n",
       "<table id=\"T_bc5b3\">\n",
       "  <thead>\n",
       "  </thead>\n",
       "  <tbody>\n",
       "    <tr>\n",
       "      <th id=\"T_bc5b3_level0_row0\" class=\"row_heading level0 row0\" >1046</th>\n",
       "      <td id=\"T_bc5b3_row0_col0\" class=\"data row0 col0\" >loading \"archive/df_2024_08_26.xlsx\"</td>\n",
       "      <td id=\"T_bc5b3_row0_col1\" class=\"data row0 col1\" >df.load()</td>\n",
       "      <td id=\"T_bc5b3_row0_col2\" class=\"data row0 col2\" >info</td>\n",
       "      <td id=\"T_bc5b3_row0_col3\" class=\"data row0 col3\" >2024-08-27 14:36:37.672158</td>\n",
       "    </tr>\n",
       "  </tbody>\n",
       "</table>\n"
      ],
      "text/plain": [
       "<pandas.io.formats.style.Styler at 0x1db034720f0>"
      ]
     },
     "metadata": {},
     "output_type": "display_data"
    },
    {
     "name": "stdout",
     "output_type": "stream",
     "text": [
      "passed test for loading most recent file from before this day\n"
     ]
    }
   ],
   "source": [
    "#remove old test files\n",
    "today1 = datetime.datetime.now().strftime('%Y_%m_%d')\n",
    "today2 = datetime.datetime.now().strftime('%d_%m_%Y')\n",
    "date0 = qp.date('2000_01_01').strftime('%Y_%m_%d')\n",
    "date1 = (datetime.datetime.now() - datetime.timedelta(days=400)).date().strftime('%Y_%m_%d')\n",
    "date2 = (datetime.datetime.now() - datetime.timedelta(days=40)).date().strftime('%Y_%m_%d')\n",
    "date3 = (datetime.datetime.now() - datetime.timedelta(days=8)).date().strftime('%Y_%m_%d')\n",
    "date4 = (datetime.datetime.now() - datetime.timedelta(days=1)).date().strftime('%Y_%m_%d')\n",
    "\n",
    "def clean():\n",
    "    files = [\n",
    "        'df.xlsx',\n",
    "        'df1.xlsx',\n",
    "\n",
    "        'test/df1.xlsx',\n",
    "        'test/df1b.xlsx',\n",
    "        'test/df2.xlsx',\n",
    "\n",
    "        f'archive/df1_{today1}.xlsx',\n",
    "        f'archive/df1_{today2}.xlsx',\n",
    "        f'archive/df1b_{today1}.xlsx',\n",
    "\n",
    "        f'archive/df_{today1}.xlsx',\n",
    "        f'archive/df_{today2}.xlsx',\n",
    "        f'archive/df_{date0}.xlsx',\n",
    "        f'archive/df_{date1}.xlsx',\n",
    "        f'archive/df_{date2}.xlsx',\n",
    "        f'archive/df_{date3}.xlsx',\n",
    "        f'archive/df_{date4}.xlsx',\n",
    "\n",
    "        f'test/archive/df1_{today1}.xlsx',\n",
    "        f'test/archive/df1b_{today1}.xlsx',\n",
    "        f'test/archive/df2_{today1}.xlsx',\n",
    "        ]\n",
    "\n",
    "    for file in files:\n",
    "        if os.path.isfile(file):\n",
    "            os.remove(file)\n",
    "            # print(f'removed file: {file}')\n",
    "\n",
    "    if os.path.isdir('test/archive'):\n",
    "        shutil.rmtree('test/archive')\n",
    "clean()\n",
    "\n",
    "\n",
    "\n",
    "df1 = pd.DataFrame({'a':[1]})\n",
    "df2 = pd.DataFrame({'a':[2]})\n",
    "df3 = pd.DataFrame({'a':[3]})\n",
    "df4 = pd.DataFrame({'a':[4]})\n",
    "\n",
    "\n",
    "#default\n",
    "df1.save()\n",
    "if qp.isfile('df.xlsx'):\n",
    "    print('passed test for default saving behaviour')\n",
    "else:\n",
    "    raise Exception(f'failed test for default saving behaviour')\n",
    "\n",
    "df1a = qp.load('df.xlsx')\n",
    "if df1a.equals(df1):\n",
    "    print('passed test for loading from default file')\n",
    "else:\n",
    "    raise Exception(f'failed test for loading from default file')\n",
    "\n",
    "\n",
    "\n",
    "\n",
    "#specific file\n",
    "df1.save('df1.xlsx')\n",
    "if qp.isfile('df1.xlsx'):\n",
    "    print('passed test for saving to a specific file')\n",
    "else:\n",
    "    raise Exception(f'failed test for saving to a specific file')\n",
    "\n",
    "df1b = qp.load('df1.xlsx')\n",
    "if df1b.equals(df1):\n",
    "    print('passed test for loading from a specific file')\n",
    "else:\n",
    "    raise Exception(f'failed test for loading from a specific file')\n",
    "\n",
    "\n",
    "\n",
    "\n",
    "#file in folder\n",
    "df1.save('test/df1.xlsx')\n",
    "if qp.isfile('test/df1.xlsx'):\n",
    "    print('passed test for saving to a specific file in folder')\n",
    "else:\n",
    "    raise Exception(f'failed test for saving to a specific file in folder')\n",
    "\n",
    "df1c = qp.load('test/df1.xlsx')\n",
    "if df1c.equals(df1):\n",
    "    print('passed test for loading from a specific file in folder')\n",
    "else:\n",
    "    raise Exception(f'failed test for loading from a specific file in folder')\n",
    "\n",
    "\n",
    "\n",
    "\n",
    "#specific sheet\n",
    "df1.save('df1.xlsx', sheet='data2')\n",
    "df1d = qp.load('df1.xlsx', sheet='data2')\n",
    "if df1d.equals(df1):\n",
    "    print('passed test for saving and loading to and from a specific sheet')\n",
    "else:\n",
    "    raise Exception(f'failed test for saving and loading to and from a specific sheet')\n",
    "\n",
    "\n",
    "\n",
    "\n",
    "#overwriting sheets\n",
    "df1old = qp.load('df1.xlsx')\n",
    "df2.save('df1.xlsx')\n",
    "df1new = qp.load('df1.xlsx')\n",
    "if df1old.loc[0, 'a'] == 1 and df1new.loc[0, 'a'] == 2:\n",
    "    print('passed test for overwriting sheets')\n",
    "else:\n",
    "    raise Exception(f'failed test for overwriting sheets')\n",
    "df1.save('df1.xlsx')  #restore previous state\n",
    "\n",
    "\n",
    "\n",
    "#archiving\n",
    "today = datetime.datetime.now().strftime('%Y_%m_%d')\n",
    "df1.save('df1')\n",
    "if qp.isfile(f'archive/df1_{today}.xlsx'):\n",
    "    print('passed test for archiving file')\n",
    "else:\n",
    "    raise Exception(f'failed test for archiving file')\n",
    "\n",
    "\n",
    "#archiving nested folder\n",
    "os.mkdir('test/archive')\n",
    "df1.save('test/df1')\n",
    "if qp.isfile(f'test/archive/df1_{today}.xlsx'):\n",
    "    print('passed test for archiving in nested folder')\n",
    "else:\n",
    "    raise Exception(f'failed test for archiving nested folder')\n",
    "\n",
    "\n",
    "\n",
    "\n",
    "\n",
    "#archiving with different date format\n",
    "today = datetime.datetime.now().strftime('%d_%m_%Y')\n",
    "df1.save('test/df1.xlsx', sheet='data1', datefmt='%d_%m_%Y')\n",
    "if qp.isfile(f'test/archive/df1_{today}.xlsx'):\n",
    "    print('passed test for archiving with different date format')\n",
    "else:\n",
    "    raise Exception(f'failed test for archiving with different date format')\n",
    "\n",
    "\n",
    "\n",
    "#most recent file\n",
    "if os.path.isfile(f'archive/df_{today2}.xlsx'):\n",
    "    os.remove(f'archive/df_{today2}.xlsx')\n",
    "pd.DataFrame({'a':[today1]}).to_excel(f'archive/df_{today1}.xlsx', index=False)\n",
    "pd.DataFrame({'a':[date1]}).to_excel(f'archive/df_{date1}.xlsx', index=False)\n",
    "\n",
    "if qp.load('archive/df', sheet='Sheet1', index=False).loc[0, 'a'] == today1:\n",
    "    print('passed test for loading most recent file')\n",
    "else:\n",
    "    raise Exception(f'failed test for loading most recent file')\n",
    "\n",
    "\n",
    "\n",
    "#most recent file version 2\n",
    "if qp.load('archive/df', sheet='Sheet1', before='now', index=False).loc[0, 'a'] == today1:\n",
    "    print('passed test for loading most recent file explicitly')\n",
    "else:\n",
    "    raise Exception(f'failed test for loading most recent file explicitly')\n",
    "\n",
    "\n",
    "\n",
    "#most recent file with different date format\n",
    "if os.path.isfile(f'archive/df_{today1}.xlsx'):\n",
    "    os.remove(f'archive/df_{today1}.xlsx')\n",
    "pd.DataFrame({'a':[today2]}).to_excel(f'archive/df_{today2}.xlsx', index=False)\n",
    "pd.DataFrame({'a':[date1]}).to_excel(f'archive/df_{date1}.xlsx', index=False)\n",
    "\n",
    "if qp.load('archive/df', sheet='Sheet1', index=False).loc[0, 'a'] == today2:\n",
    "    print('passed test for loading most recent file with different date format')\n",
    "else:\n",
    "    raise Exception(f'failed test for loading most recent file with different date format')\n",
    "\n",
    "\n",
    "\n",
    "#file before specific date\n",
    "pd.DataFrame({'a':[date0]}).to_excel(f'archive/df_{date0}.xlsx', index=False)\n",
    "if qp.load('archive/df', sheet='Sheet1', before='2000_01_02', index=False).loc[0, 'a'] == date0:\n",
    "    print('passed test for loading most recent file from before specific date')\n",
    "else:\n",
    "    raise Exception(f'failed test for loading most recent file from before specific date')\n",
    "\n",
    "\n",
    "#file before this year\n",
    "if qp.load('archive/df', sheet='Sheet1', before='this year', index=False).loc[0, 'a'] == date1:\n",
    "    print('passed test for loading most recent file from before this year')\n",
    "else:\n",
    "    raise Exception(f'failed test for loading most recent file from before this year')\n",
    "\n",
    "\n",
    "\n",
    "#file before this month\n",
    "pd.DataFrame({'a':[date2]}).to_excel(f'archive/df_{date2}.xlsx', index=False)\n",
    "if qp.load('archive/df', sheet='Sheet1', before='this month', index=False).loc[0, 'a'] == date2:\n",
    "    print('passed test for loading most recent file from before this month')\n",
    "else:\n",
    "    raise Exception(f'failed test for loading most recent file from before this month')\n",
    "\n",
    "\n",
    "\n",
    "#file before this week\n",
    "pd.DataFrame({'a':[date3]}).to_excel(f'archive/df_{date3}.xlsx', index=False)\n",
    "if qp.load('archive/df', sheet='Sheet1', before='this week', index=False).loc[0, 'a'] == date3:\n",
    "    print('passed test for loading most recent file from before this week')\n",
    "else:\n",
    "    raise Exception(f'failed test for loading most recent file from before this week')\n",
    "\n",
    "\n",
    "\n",
    "#file before this day\n",
    "pd.DataFrame({'a':[date4]}).to_excel(f'archive/df_{date4}.xlsx', index=False)\n",
    "if qp.load('archive/df', sheet='Sheet1', before='this day', index=False).loc[0, 'a'] == date4:\n",
    "    print('passed test for loading most recent file from before this day')\n",
    "else:\n",
    "    raise Exception(f'failed test for loading most recent file from before this day')\n",
    "\n",
    "\n",
    "\n",
    "#file before today\n",
    "if qp.load('archive/df', sheet='Sheet1', before='today', index=False).loc[0, 'a'] == date4:\n",
    "    print('passed test for loading most recent file from before this day')\n",
    "else:\n",
    "    raise Exception(f'failed test for loading most recent file from before this day')\n",
    "\n",
    "\n",
    "# df1.save('test/df3.xlsx', sheet='sheet2', archive='source', datefmt='%Y_%m_%d')\n",
    "# df1.save('test/df3.xlsx', sheet='sheet2', archive='destination', datefmt='%Y_%m_%d')\n",
    "# df1.save('df.xlsx', sheet='sheet2', archive='both', datefmt='%Y_%m_%d')"
   ]
  },
  {
   "cell_type": "markdown",
   "metadata": {},
   "source": [
    "# log()"
   ]
  },
  {
   "cell_type": "code",
   "execution_count": 27,
   "metadata": {},
   "outputs": [],
   "source": [
    "#wip"
   ]
  },
  {
   "cell_type": "markdown",
   "metadata": {},
   "source": [
    "# \"bashlike\" wrappers"
   ]
  },
  {
   "cell_type": "code",
   "execution_count": 28,
   "metadata": {},
   "outputs": [
    {
     "name": "stdout",
     "output_type": "stream",
     "text": [
      "passed test for non existing directory\n"
     ]
    },
    {
     "data": {
      "text/html": [
       "<style type=\"text/css\">\n",
       "#T_0e41a_row0_col0, #T_0e41a_row0_col1, #T_0e41a_row0_col2, #T_0e41a_row0_col3 {\n",
       "  background-color: #c0e7b0;\n",
       "  text-align: left;\n",
       "}\n",
       "</style>\n",
       "<table id=\"T_0e41a\">\n",
       "  <thead>\n",
       "  </thead>\n",
       "  <tbody>\n",
       "    <tr>\n",
       "      <th id=\"T_0e41a_level0_row0\" class=\"row_heading level0 row0\" >1047</th>\n",
       "      <td id=\"T_0e41a_row0_col0\" class=\"data row0 col0\" >created directory \"test/dir1\"</td>\n",
       "      <td id=\"T_0e41a_row0_col1\" class=\"data row0 col1\" >qp.mkdir(\"test/dir1\")</td>\n",
       "      <td id=\"T_0e41a_row0_col2\" class=\"data row0 col2\" >info</td>\n",
       "      <td id=\"T_0e41a_row0_col3\" class=\"data row0 col3\" >2024-08-27 14:36:37.783082</td>\n",
       "    </tr>\n",
       "  </tbody>\n",
       "</table>\n"
      ],
      "text/plain": [
       "<pandas.io.formats.style.Styler at 0x1db02c1dd30>"
      ]
     },
     "metadata": {},
     "output_type": "display_data"
    },
    {
     "name": "stdout",
     "output_type": "stream",
     "text": [
      "passed test for creating and checking for existing directory\n"
     ]
    },
    {
     "data": {
      "text/html": [
       "<style type=\"text/css\">\n",
       "#T_aea7e_row0_col0, #T_aea7e_row0_col1, #T_aea7e_row0_col2, #T_aea7e_row0_col3 {\n",
       "  background-color: #c0e7b0;\n",
       "  text-align: left;\n",
       "}\n",
       "</style>\n",
       "<table id=\"T_aea7e\">\n",
       "  <thead>\n",
       "  </thead>\n",
       "  <tbody>\n",
       "    <tr>\n",
       "      <th id=\"T_aea7e_level0_row0\" class=\"row_heading level0 row0\" >1048</th>\n",
       "      <td id=\"T_aea7e_row0_col0\" class=\"data row0 col0\" >moved from<br>c:\\Users\\MartinVölkl-GouyaIns\\OneDrive - Gouya Insights\\Desktop\\qplib_dev<br>to<br>c:\\Users\\MartinVölkl-GouyaIns\\OneDrive - Gouya Insights\\Desktop\\qplib_dev\\test\\dir1</td>\n",
       "      <td id=\"T_aea7e_row0_col1\" class=\"data row0 col1\" >qp.cd(\"test/dir1\")</td>\n",
       "      <td id=\"T_aea7e_row0_col2\" class=\"data row0 col2\" >info</td>\n",
       "      <td id=\"T_aea7e_row0_col3\" class=\"data row0 col3\" >2024-08-27 14:36:37.798281</td>\n",
       "    </tr>\n",
       "  </tbody>\n",
       "</table>\n"
      ],
      "text/plain": [
       "<pandas.io.formats.style.Styler at 0x1db03473560>"
      ]
     },
     "metadata": {},
     "output_type": "display_data"
    },
    {
     "name": "stdout",
     "output_type": "stream",
     "text": [
      "passed test for changing directory and finding path to current directory\n"
     ]
    },
    {
     "data": {
      "text/html": [
       "<style type=\"text/css\">\n",
       "#T_5752d_row0_col0, #T_5752d_row0_col1, #T_5752d_row0_col2, #T_5752d_row0_col3 {\n",
       "  background-color: #c0e7b0;\n",
       "  text-align: left;\n",
       "}\n",
       "</style>\n",
       "<table id=\"T_5752d\">\n",
       "  <thead>\n",
       "  </thead>\n",
       "  <tbody>\n",
       "    <tr>\n",
       "      <th id=\"T_5752d_level0_row0\" class=\"row_heading level0 row0\" >1049</th>\n",
       "      <td id=\"T_5752d_row0_col0\" class=\"data row0 col0\" >created directory \"dir2\"</td>\n",
       "      <td id=\"T_5752d_row0_col1\" class=\"data row0 col1\" >qp.mkdir(\"dir2\")</td>\n",
       "      <td id=\"T_5752d_row0_col2\" class=\"data row0 col2\" >info</td>\n",
       "      <td id=\"T_5752d_row0_col3\" class=\"data row0 col3\" >2024-08-27 14:36:37.815582</td>\n",
       "    </tr>\n",
       "  </tbody>\n",
       "</table>\n"
      ],
      "text/plain": [
       "<pandas.io.formats.style.Styler at 0x1db01d204d0>"
      ]
     },
     "metadata": {},
     "output_type": "display_data"
    },
    {
     "data": {
      "text/html": [
       "<style type=\"text/css\">\n",
       "#T_2a543_row0_col0, #T_2a543_row0_col1, #T_2a543_row0_col2, #T_2a543_row0_col3 {\n",
       "  background-color: #c0e7b0;\n",
       "  text-align: left;\n",
       "}\n",
       "</style>\n",
       "<table id=\"T_2a543\">\n",
       "  <thead>\n",
       "  </thead>\n",
       "  <tbody>\n",
       "    <tr>\n",
       "      <th id=\"T_2a543_level0_row0\" class=\"row_heading level0 row0\" >1050</th>\n",
       "      <td id=\"T_2a543_row0_col0\" class=\"data row0 col0\" >moved from<br>c:\\Users\\MartinVölkl-GouyaIns\\OneDrive - Gouya Insights\\Desktop\\qplib_dev\\test\\dir1<br>to<br>c:\\Users\\MartinVölkl-GouyaIns\\OneDrive - Gouya Insights\\Desktop\\qplib_dev\\test\\dir1\\dir2</td>\n",
       "      <td id=\"T_2a543_row0_col1\" class=\"data row0 col1\" >qp.cd(\"dir2\")</td>\n",
       "      <td id=\"T_2a543_row0_col2\" class=\"data row0 col2\" >info</td>\n",
       "      <td id=\"T_2a543_row0_col3\" class=\"data row0 col3\" >2024-08-27 14:36:37.831764</td>\n",
       "    </tr>\n",
       "  </tbody>\n",
       "</table>\n"
      ],
      "text/plain": [
       "<pandas.io.formats.style.Styler at 0x1db034707a0>"
      ]
     },
     "metadata": {},
     "output_type": "display_data"
    },
    {
     "data": {
      "text/html": [
       "<style type=\"text/css\">\n",
       "#T_39444_row0_col0, #T_39444_row0_col1, #T_39444_row0_col2, #T_39444_row0_col3 {\n",
       "  background-color: #c0e7b0;\n",
       "  text-align: left;\n",
       "}\n",
       "</style>\n",
       "<table id=\"T_39444\">\n",
       "  <thead>\n",
       "  </thead>\n",
       "  <tbody>\n",
       "    <tr>\n",
       "      <th id=\"T_39444_level0_row0\" class=\"row_heading level0 row0\" >1051</th>\n",
       "      <td id=\"T_39444_row0_col0\" class=\"data row0 col0\" >moved from<br>c:\\Users\\MartinVölkl-GouyaIns\\OneDrive - Gouya Insights\\Desktop\\qplib_dev\\test\\dir1\\dir2<br>to<br>c:\\Users\\MartinVölkl-GouyaIns\\OneDrive - Gouya Insights\\Desktop\\qplib_dev\\test\\dir1</td>\n",
       "      <td id=\"T_39444_row0_col1\" class=\"data row0 col1\" >qp.cd(\"c:\\Users\\MartinVölkl-GouyaIns\\OneDrive - Gouya Insights\\Desktop\\qplib_dev\\test\\dir1\")</td>\n",
       "      <td id=\"T_39444_row0_col2\" class=\"data row0 col2\" >info</td>\n",
       "      <td id=\"T_39444_row0_col3\" class=\"data row0 col3\" >2024-08-27 14:36:37.846673</td>\n",
       "    </tr>\n",
       "  </tbody>\n",
       "</table>\n"
      ],
      "text/plain": [
       "<pandas.io.formats.style.Styler at 0x1db04574860>"
      ]
     },
     "metadata": {},
     "output_type": "display_data"
    },
    {
     "name": "stdout",
     "output_type": "stream",
     "text": [
      "passed test for going back and forth in directory structure\n"
     ]
    }
   ],
   "source": [
    "\n",
    "if os.path.isdir('test/dir1') is True:\n",
    "    shutil.rmtree('test/dir1')\n",
    "\n",
    "\n",
    "if qp.isdir('test/dir1') is False:\n",
    "    print(f'passed test for non existing directory')\n",
    "else:\n",
    "    raise Exception(f'failed test for non existing directory')\n",
    "\n",
    "\n",
    "qp.mkdir('test/dir1')\n",
    "if qp.isdir('test/dir1') is True:\n",
    "    print(f'passed test for creating and checking for existing directory')\n",
    "else:\n",
    "    raise Exception(f'failed test for creating and checking for existing directory')\n",
    "\n",
    "\n",
    "qp.cd('test/dir1')\n",
    "if qp.pwd().split('\\\\')[-1] == 'dir1':\n",
    "    print(f'passed test for changing directory and finding path to current directory')\n",
    "else:\n",
    "    raise Exception(f'failed test for changing directory and finding path to current directory')\n",
    "\n",
    "\n",
    "qp.mkdir('dir2')\n",
    "qp.cd('dir2')\n",
    "result1 = qp.pwd().split('\\\\')[-1]\n",
    "\n",
    "qp.cd('..')\n",
    "result2 = qp.pwd().split('\\\\')[-1]\n",
    "\n",
    "if result1 == 'dir2' and result2 == 'dir1':\n",
    "    print(f'passed test for going back and forth in directory structure')\n",
    "else:\n",
    "    raise Exception(f'failed test for going back and forth in directory structure')\n",
    "\n",
    "\n",
    "\n",
    "os.chdir(working_directory)\n",
    "shutil.rmtree('test/dir1')"
   ]
  },
  {
   "cell_type": "markdown",
   "metadata": {},
   "source": [
    "# save results"
   ]
  },
  {
   "cell_type": "code",
   "execution_count": 29,
   "metadata": {},
   "outputs": [],
   "source": [
    "clean()"
   ]
  },
  {
   "cell_type": "code",
   "execution_count": 30,
   "metadata": {},
   "outputs": [],
   "source": [
    "\n",
    "# create html version of this file for documentation\n",
    "# !jupyter nbconvert --to html testing.ipynb\n",
    "\n",
    "# now = datetime.datetime.now().strftime('%Y_%m_%d')\n",
    "# shutil.move('testing.html', f'test/test_report_{now}.html')\n"
   ]
  },
  {
   "cell_type": "markdown",
   "metadata": {},
   "source": [
    "# temp"
   ]
  },
  {
   "cell_type": "code",
   "execution_count": 31,
   "metadata": {},
   "outputs": [],
   "source": [
    "import pandas as pd\n",
    "import numpy as np\n",
    "import copy\n",
    "import os\n",
    "import sys\n",
    "import shutil\n",
    "import datetime\n",
    "import qplib as qp\n",
    "from qplib import log\n",
    "\n",
    "# if 'cards' not in globals():\n",
    "#     cards = pd.read_csv('data/cards.csv')\n",
    "# cards.qi()\n",
    "\n",
    "\n",
    "# df = qp.get_df().format()\n",
    "# df.qi()\n",
    "\n",
    "\n",
    "# qp.get_df().qi()"
   ]
  }
 ],
 "metadata": {
  "kernelspec": {
   "display_name": "Python 3",
   "language": "python",
   "name": "python3"
  },
  "language_info": {
   "codemirror_mode": {
    "name": "ipython",
    "version": 3
   },
   "file_extension": ".py",
   "mimetype": "text/x-python",
   "name": "python",
   "nbconvert_exporter": "python",
   "pygments_lexer": "ipython3",
   "version": "3.12.3"
  }
 },
 "nbformat": 4,
 "nbformat_minor": 2
}
