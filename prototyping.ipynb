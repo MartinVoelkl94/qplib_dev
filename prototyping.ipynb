{
 "cells": [
  {
   "cell_type": "markdown",
   "metadata": {},
   "source": [
    "# imports"
   ]
  },
  {
   "cell_type": "code",
   "execution_count": null,
   "metadata": {},
   "outputs": [],
   "source": [
    "import pandas as pd\n",
    "import numpy as np\n",
    "import copy\n",
    "import os\n",
    "import sys\n",
    "import shutil\n",
    "import datetime\n",
    "import pickle\n",
    "import qplib as qp\n",
    "from qplib import log, na, nk, num\n",
    "\n"
   ]
  },
  {
   "cell_type": "markdown",
   "metadata": {},
   "source": [
    "# log"
   ]
  },
  {
   "cell_type": "code",
   "execution_count": null,
   "metadata": {},
   "outputs": [],
   "source": [
    "import pandas as pd\n",
    "import numpy as np\n",
    "import copy\n",
    "import os\n",
    "import sys\n",
    "import shutil\n",
    "import datetime\n",
    "import qplib as qp\n",
    "from qplib import log\n",
    "pd.set_option('display.max_columns', None)\n",
    "\n",
    "\n",
    "\n",
    "\n",
    "log('trace: this is a trace message')\n",
    "log('debug: this is a debug message')\n",
    "log('info: this is an info message')\n",
    "log('warning: this is a warning message')\n",
    "log('error: this is an error message')\n",
    "\n",
    "log()"
   ]
  },
  {
   "cell_type": "markdown",
   "metadata": {},
   "source": [
    "# qlang\n",
    "\n",
    "\n",
    "\n"
   ]
  },
  {
   "cell_type": "code",
   "execution_count": null,
   "metadata": {},
   "outputs": [],
   "source": [
    "\n",
    "import numpy as np\n",
    "import pandas as pd\n",
    "import copy\n",
    "import re\n",
    "import qplib as qp\n",
    "\n",
    "from IPython.display import display\n",
    "from ipywidgets import widgets, interactive_output, HBox, VBox, fixed, Layout, interact_manual\n",
    "\n",
    "from qplib.util import log\n",
    "from qplib.types import _int, _float, _num, _bool, _datetime, _date, _na, _nk, _yn, _type, qpDict\n",
    "from qplib.pd_util import _check_df, _diff, _format_df, indexQpExtension, seriesQpExtension, dfQpExtension\n",
    "\n",
    "\n",
    "\n",
    "# if 'cards' not in globals():\n",
    "#     cards = pd.read_csv('data/cards.csv')\n",
    "# cards.q('toughness ´r >2 & <5')\n",
    "# cards.qi()\n",
    "\n",
    "\n",
    "# df = qp.get_df()\n",
    "# df.q(\n",
    "#     r\"\"\"\n",
    "#     # id ´r ?1  ´n test\n",
    "#     # name ´m ~ x.upper()\n",
    "#     # is any ´r is any\n",
    "\n",
    "#     date of birth / age\n",
    "\n",
    "#     \"\"\",\n",
    "#     diff=None,\n",
    "#     inplace=False,\n",
    "#     verbosity=4,\n",
    "#     )\n",
    "\n",
    "# df = qp.get_df()\n",
    "# df.qi()\n",
    "\n",
    "\n",
    "\n",
    "\n"
   ]
  },
  {
   "cell_type": "code",
   "execution_count": null,
   "metadata": {},
   "outputs": [],
   "source": []
  },
  {
   "cell_type": "markdown",
   "metadata": {},
   "source": [
    "## value mask"
   ]
  },
  {
   "cell_type": "code",
   "execution_count": null,
   "metadata": {},
   "outputs": [],
   "source": [
    "\n",
    "import numpy as np\n",
    "import pandas as pd\n",
    "import copy\n",
    "import re\n",
    "import qplib as qp\n",
    "\n",
    "from IPython.display import display\n",
    "from ipywidgets import widgets, interactive_output, HBox, VBox, fixed, Layout, interact_manual\n",
    "\n",
    "from qplib.util import log\n",
    "from qplib.types import _int, _float, _num, _bool, _datetime, _date, _na, _nk, _yn, qpDict\n",
    "from qplib.pd_util import _check_df, _diff, _format_df, indexQpExtension, seriesQpExtension, dfQpExtension\n",
    "\n",
    "\n",
    "\n",
    "# df = qp.get_df()\n",
    "# df.qi()\n",
    "\n"
   ]
  },
  {
   "cell_type": "markdown",
   "metadata": {},
   "source": [
    "## parsing benchmarks"
   ]
  },
  {
   "cell_type": "code",
   "execution_count": 27,
   "metadata": {},
   "outputs": [
    {
     "data": {
      "text/plain": [
       "1"
      ]
     },
     "execution_count": 27,
     "metadata": {},
     "output_type": "execute_result"
    }
   ],
   "source": [
    "import pandas as pd\n",
    "import numpy as np\n",
    "import copy\n",
    "import os\n",
    "import sys\n",
    "import shutil\n",
    "import datetime\n",
    "import qplib as qp\n",
    "from qplib import log\n",
    "from qplib.qlang import CONNECTORS, FLAGS, OPERATORS, \\\n",
    "    connectors_select, connectors_select_cols, connectors_select_rows, \\\n",
    "    flags_select, flags_select_rows_scope, flags_load, flags_format, flags_modify, flags_metadata, flags_copy_df, flags_settings, \\\n",
    "    operators_select, operators_modify, operators_unary, operators_binary, \\\n",
    "    _select_cols, _select_rows, _save_selection, _load_selection, _modify_settings, _modify_metadata, _modify_format, _modify_headers, _new_col, _modify_vals\n",
    "\n",
    "pd.set_option('display.max_columns', None)\n",
    "\n",
    "INPLACE = False\n",
    "verbosity = 3\n",
    "code = ''\n",
    "instruction = qp.qlang.Instruction()\n",
    "instruction.connectors = CONNECTORS.NEW_SELECT_ROWS\n",
    "instruction.flags = {FLAGS.LOAD_SELECTION, FLAGS.ANY}\n",
    "instruction.operator = OPERATORS.EQUALS\n",
    "\n",
    "x = 0\n",
    "if FLAGS.LOAD_SELECTION in instruction.flags and instruction.flags - flags_load != set():\n",
    "    x = 1\n",
    "    \n",
    "x"
   ]
  },
  {
   "cell_type": "code",
   "execution_count": 21,
   "metadata": {},
   "outputs": [
    {
     "name": "stdout",
     "output_type": "stream",
     "text": [
      "162 ns ± 12.8 ns per loop (mean ± std. dev. of 7 runs, 10,000,000 loops each)\n"
     ]
    }
   ],
   "source": [
    "%%timeit\n",
    "if instruction.flags.intersection(flags_select):\n",
    "    x = 1\n"
   ]
  },
  {
   "cell_type": "code",
   "execution_count": 28,
   "metadata": {},
   "outputs": [
    {
     "name": "stdout",
     "output_type": "stream",
     "text": [
      "351 ns ± 126 ns per loop (mean ± std. dev. of 7 runs, 1,000,000 loops each)\n"
     ]
    }
   ],
   "source": [
    "%%timeit\n",
    "\n",
    "if FLAGS.LOAD_SELECTION in instruction.flags and instruction.flags - flags_load != set():\n",
    "    x = 1"
   ]
  },
  {
   "cell_type": "code",
   "execution_count": 31,
   "metadata": {},
   "outputs": [
    {
     "name": "stdout",
     "output_type": "stream",
     "text": [
      "         44 function calls in 0.000 seconds\n",
      "\n",
      "   Ordered by: internal time\n",
      "   List reduced from 19 to 10 due to restriction <10>\n",
      "\n",
      "   ncalls  tottime  percall  cumtime  percall filename:lineno(function)\n",
      "        2    0.000    0.000    0.000    0.000 {built-in method builtins.compile}\n",
      "        1    0.000    0.000    0.000    0.000 {method 'disable' of '_lsprof.Profiler' objects}\n",
      "        2    0.000    0.000    0.000    0.000 c:\\Users\\MartinVölkl-GouyaIns\\AppData\\Local\\Programs\\Python\\Python313\\Lib\\codeop.py:112(__call__)\n",
      "        2    0.000    0.000    0.005    0.002 c:\\Users\\MartinVölkl-GouyaIns\\AppData\\Local\\Programs\\Python\\Python313\\Lib\\site-packages\\IPython\\core\\interactiveshell.py:3541(run_code)\n",
      "        2    0.000    0.000    0.004    0.002 {built-in method builtins.exec}\n",
      "        4    0.000    0.000    0.000    0.000 {built-in method builtins.next}\n",
      "        2    0.000    0.000    0.000    0.000 c:\\Users\\MartinVölkl-GouyaIns\\AppData\\Local\\Programs\\Python\\Python313\\Lib\\site-packages\\traitlets\\traitlets.py:676(__get__)\n",
      "        2    0.000    0.000    0.000    0.000 c:\\Users\\MartinVölkl-GouyaIns\\AppData\\Local\\Programs\\Python\\Python313\\Lib\\contextlib.py:108(__init__)\n",
      "        2    0.000    0.000    0.000    0.000 c:\\Users\\MartinVölkl-GouyaIns\\AppData\\Local\\Programs\\Python\\Python313\\Lib\\contextlib.py:303(helper)\n",
      "        2    0.000    0.000    0.000    0.000 c:\\Users\\MartinVölkl-GouyaIns\\AppData\\Local\\Programs\\Python\\Python313\\Lib\\contextlib.py:145(__exit__)\n",
      "\n",
      "\n"
     ]
    },
    {
     "data": {
      "text/plain": [
       "<pstats.Stats at 0x1b7f5da10f0>"
      ]
     },
     "execution_count": 31,
     "metadata": {},
     "output_type": "execute_result"
    }
   ],
   "source": [
    "import cProfile, pstats\n",
    "\n",
    "profiler = cProfile.Profile()\n",
    "profiler.enable()\n",
    "\n",
    "for x in range(10000):\n",
    "    if FLAGS.LOAD_SELECTION in instruction.flags and instruction.flags - flags_load != set():\n",
    "        x = 1\n",
    "\n",
    "profiler.disable()\n",
    "stats = pstats.Stats(profiler).sort_stats('tottime')\n",
    "stats.print_stats(10)"
   ]
  },
  {
   "cell_type": "code",
   "execution_count": null,
   "metadata": {},
   "outputs": [],
   "source": []
  },
  {
   "cell_type": "code",
   "execution_count": null,
   "metadata": {},
   "outputs": [],
   "source": []
  },
  {
   "cell_type": "code",
   "execution_count": null,
   "metadata": {},
   "outputs": [],
   "source": []
  },
  {
   "cell_type": "code",
   "execution_count": null,
   "metadata": {},
   "outputs": [],
   "source": []
  },
  {
   "cell_type": "markdown",
   "metadata": {},
   "source": [
    "# diff"
   ]
  },
  {
   "cell_type": "code",
   "execution_count": null,
   "metadata": {},
   "outputs": [],
   "source": [
    "\n",
    "import pandas as pd\n",
    "import numpy as np\n",
    "import copy\n",
    "import os\n",
    "import datetime\n",
    "import qplib as qp\n",
    "\n",
    "from IPython.display import display\n",
    "from ipywidgets import interact, widgets\n",
    "from pandas.api.extensions import register_dataframe_accessor\n",
    "\n",
    "from qplib.pd_util import _format_df, get_dfs\n",
    "from qplib.util import log, GREEN, RED, ORANGE, GREEN_LIGHT, RED_LIGHT, ORANGE_LIGHT\n",
    "from qplib.types import _date, _na, qpDict\n",
    "\n",
    "\n",
    "\n",
    "\n",
    "\n",
    "\n",
    "df_new, df_old = get_dfs()\n",
    "\n",
    "\n",
    "df_new, df_old = get_dfs()\n",
    "\n",
    "print('df_new:')\n",
    "display(df_new)\n",
    "\n",
    "print('df_old:')\n",
    "display(df_old)\n",
    "\n",
    "print('mode=new:')\n",
    "display(qp.diff(df_new, df_old, mode='new'))\n",
    "\n",
    "print('mode=new+:')\n",
    "display(qp.diff(df_new, df_old, mode='new+'))\n",
    "\n",
    "print('mode=old:')\n",
    "display(qp.diff(df_new, df_old, mode='old'))\n",
    "\n",
    "print('mode=mix:')\n",
    "display(qp.diff(df_new, df_old, mode='mix'))\n"
   ]
  },
  {
   "cell_type": "code",
   "execution_count": null,
   "metadata": {},
   "outputs": [],
   "source": [
    "\n",
    "import pandas as pd\n",
    "import numpy as np\n",
    "import copy\n",
    "from qplib.pd_util import _format_df\n",
    "from qplib.util import log, GREEN, ORANGE, RED, GREEN_LIGHT, ORANGE_LIGHT, RED_LIGHT\n",
    "\n",
    "\n",
    " \n",
    "\n",
    "new = 'archive/NET_BM Study_01_export_2024-04-11.xlsx'\n",
    "old = 'archive/NET_BM Study_01_export_2024-03-15.xlsx'\n",
    "df1, df2 = qp.get_dfs()\n",
    "\n",
    "\n",
    "# diff(new, old, mode='mix', returns='test.xlsx')\n"
   ]
  },
  {
   "cell_type": "markdown",
   "metadata": {},
   "source": [
    "# pd_util"
   ]
  },
  {
   "cell_type": "code",
   "execution_count": null,
   "metadata": {},
   "outputs": [],
   "source": [
    "import pandas as pd\n",
    "import numpy as np\n",
    "import copy\n",
    "import os\n",
    "import datetime\n",
    "import qplib as qp\n",
    "\n",
    "from IPython.display import display\n",
    "from ipywidgets import interact, widgets\n",
    "from pandas.api.extensions import register_dataframe_accessor\n",
    "\n",
    "from qplib.util import log, qpDict\n",
    "from qplib.types import _date, _na\n",
    "\n",
    "\n",
    "\n",
    "\n",
    "\n",
    "\n",
    "\n"
   ]
  },
  {
   "cell_type": "code",
   "execution_count": null,
   "metadata": {},
   "outputs": [],
   "source": []
  },
  {
   "cell_type": "markdown",
   "metadata": {},
   "source": [
    "# types"
   ]
  },
  {
   "cell_type": "code",
   "execution_count": null,
   "metadata": {},
   "outputs": [],
   "source": [
    "import pandas as pd\n",
    "import numpy as np\n",
    "import re\n",
    "\n"
   ]
  },
  {
   "cell_type": "code",
   "execution_count": null,
   "metadata": {},
   "outputs": [],
   "source": []
  },
  {
   "cell_type": "markdown",
   "metadata": {},
   "source": [
    "# \"bashlike\" wrappers"
   ]
  },
  {
   "cell_type": "code",
   "execution_count": null,
   "metadata": {},
   "outputs": [],
   "source": []
  },
  {
   "cell_type": "code",
   "execution_count": null,
   "metadata": {},
   "outputs": [],
   "source": []
  },
  {
   "cell_type": "markdown",
   "metadata": {},
   "source": [
    "# tests"
   ]
  },
  {
   "cell_type": "code",
   "execution_count": null,
   "metadata": {},
   "outputs": [],
   "source": [
    "\n",
    "#run tests in folder \"tests\" using pytest and create a test report\n",
    "!pytest tests --html=tests/test_report.html\n"
   ]
  },
  {
   "cell_type": "code",
   "execution_count": null,
   "metadata": {},
   "outputs": [],
   "source": [
    "import pandas as pd\n",
    "import numpy as np\n",
    "import copy\n",
    "import os\n",
    "import sys\n",
    "import shutil\n",
    "import datetime\n",
    "import pytest\n",
    "import qplib as qp\n",
    "from qplib import log\n",
    "pd.set_option('display.max_columns', None)\n",
    "\n",
    "\n",
    "def get_df_simple():\n",
    "    df = pd.DataFrame({\n",
    "        'a': [-1, 0, 1],\n",
    "        'b': [1, 2, 3]\n",
    "        })\n",
    "    return df\n",
    "\n",
    "def get_df_simple_tagged():\n",
    "    df = pd.DataFrame({\n",
    "        'meta': ['', '', ''],\n",
    "        'a': [-1, 0, 1],\n",
    "        'b': [1, 2, 3]\n",
    "        })\n",
    "    df.index = [0, 1, 2]\n",
    "    return df\n",
    "\n",
    "\n",
    "def get_df():\n",
    "    df = pd.DataFrame({\n",
    "        'ID': [10001, 10002, 10003, 20001, 20002, 20003, 30001, 30002, 30003, 30004, 30005],\n",
    "        'name': ['John Doe', 'Jane Smith', 'Alice Johnson', 'Bob Brown', 'eva white', 'Frank miller', 'Grace TAYLOR', 'Harry Clark', 'IVY GREEN', 'JAck Williams', 'john Doe'],\n",
    "        'date of birth': ['1995-01-02', '1990/09/14', '1985.08.23', '19800406', '05-11-2007', '06-30-1983', '28-05-1975', '1960Mar08', '1955-Jan-09', '1950 Sep 10', '1945 October 11'],\n",
    "        'age': [-25, '30', np.nan, None, '40.0', 'forty-five', 'nan', 'unk', '', 'unknown', 35],\n",
    "        'gender': ['M', 'F', 'Female', 'Male', 'Other', 'm', 'ff', 'NaN', None, 'Mal', 'female'],\n",
    "        'height': [170, '175.5cm', None, '280', 'NaN', '185', '1', '6ft 1in', -10, '', 200],\n",
    "        'weight': [70.2, '68', '72.5lb', 'na', '', '75kg', None, '80.3', '130lbs', '82', -65],\n",
    "        'bp systole': ['20', 130, 'NaN', '140', '135mmhg', '125', 'NAN', '122', '', 130, '45'],\n",
    "        'bp diastole': [80, '85', 'nan', '90mmHg', np.nan, '75', 'NaN', None, '95', '0', 'NaN'],\n",
    "        'cholesterol': ['Normal', 'Highe', 'NaN', 'GOOD', 'n.a.', 'High', 'Normal', 'n/a', 'high', '', 'Normal'],\n",
    "        'diabetes': ['No', 'yes', 'N/A', 'No', 'Y', 'Yes', 'NO', None, 'NaN', 'n', 'Yes'],\n",
    "        'dose': ['10kg', 'NaN', '15 mg once a day', '20mg', '20 Mg', '25g', 'NaN', None, '30 MG', '35', '40ml']\n",
    "        })\n",
    "    return df\n",
    "\n",
    "\n",
    "def get_df_tagged():\n",
    "    df1 = get_df()\n",
    "    df2 = pd.DataFrame('', index=df1.index, columns=['meta', *df1.columns])\n",
    "    df2.iloc[:, 1:] = df1.loc[:, :]\n",
    "    return df2\n",
    "\n",
    "\n",
    "df = qp.get_df()\n",
    "display(df)\n",
    "\n",
    "  \n",
    "\n",
    "\n",
    "\n",
    "\n",
    "# df = get_df()\n",
    "# @pytest.mark.parametrize(\"code, expected_cols\", [\n",
    "#     ('ID', ['ID']),\n",
    "#     ])\n",
    "\n",
    "# def test(code, expected_cols):\n",
    "#     result = df.q(code)\n",
    "#     expected = df.loc[:, expected_cols]\n",
    "#     assert result.equals(expected), qp.diff(result, expected, returns='str')\n",
    "\n",
    "\n",
    "vals = [\n",
    "    ('´n', '', ['new1']),\n",
    "    ]\n",
    "\n",
    "for val in vals:\n",
    "    code, content, cols = val\n",
    "    df1 = get_df()\n",
    "    result = df1.q('´s verbosity=3' + code)\n",
    "\n",
    "    df2 = get_df()\n",
    "    df2['new1'] = content\n",
    "    expected = df2.loc[:, cols]\n",
    "\n",
    "    assert result.equals(expected), f'{code}:\\n{qp.diff(result, expected, returns='str')}'\n",
    "  \n"
   ]
  },
  {
   "cell_type": "markdown",
   "metadata": {},
   "source": [
    "# temp"
   ]
  },
  {
   "cell_type": "code",
   "execution_count": 18,
   "metadata": {},
   "outputs": [
    {
     "data": {
      "text/html": [
       "<style type=\"text/css\">\n",
       "#T_3b1db_row0_col0, #T_3b1db_row1_col0, #T_3b1db_row2_col0 {\n",
       "  color: red;\n",
       "}\n",
       "</style>\n",
       "<table id=\"T_3b1db\">\n",
       "  <thead>\n",
       "    <tr>\n",
       "      <th class=\"blank level0\" >&nbsp;</th>\n",
       "      <th id=\"T_3b1db_level0_col0\" class=\"col_heading level0 col0\" >ID</th>\n",
       "    </tr>\n",
       "  </thead>\n",
       "  <tbody>\n",
       "    <tr>\n",
       "      <th id=\"T_3b1db_level0_row0\" class=\"row_heading level0 row0\" >8</th>\n",
       "      <td id=\"T_3b1db_row0_col0\" class=\"data row0 col0\" >30003</td>\n",
       "    </tr>\n",
       "    <tr>\n",
       "      <th id=\"T_3b1db_level0_row1\" class=\"row_heading level0 row1\" >9</th>\n",
       "      <td id=\"T_3b1db_row1_col0\" class=\"data row1 col0\" >30004</td>\n",
       "    </tr>\n",
       "    <tr>\n",
       "      <th id=\"T_3b1db_level0_row2\" class=\"row_heading level0 row2\" >10</th>\n",
       "      <td id=\"T_3b1db_row2_col0\" class=\"data row2 col0\" >30005</td>\n",
       "    </tr>\n",
       "  </tbody>\n",
       "</table>\n"
      ],
      "text/plain": [
       "<pandas.io.formats.style.Styler at 0x2923a901950>"
      ]
     },
     "execution_count": 18,
     "metadata": {},
     "output_type": "execute_result"
    }
   ],
   "source": [
    "import pandas as pd\n",
    "import numpy as np\n",
    "import copy\n",
    "import os\n",
    "import sys\n",
    "import shutil\n",
    "import datetime\n",
    "import qplib as qp\n",
    "from qplib import log\n",
    "pd.set_option('display.max_columns', None)\n",
    "qp.qlang.VERBOSITY = 3\n",
    "\n",
    "df = qp.get_df()\n",
    "\n",
    "df1 = pd.DataFrame({\n",
    "        'meta': ['', '', ''],\n",
    "        'a': [-1, 0, 1],\n",
    "        'b': [1, 2, 3]\n",
    "        })\n",
    "df1.index = [0, 1, 2]\n",
    "\n",
    "df.q(\n",
    "    \"\"\"\n",
    "    id   %%each ?1   %%save 1\n",
    "    id   %%each ?2   %%save 2\n",
    "\n",
    "    id   %%!load 1   &&!load 2  $color=red\n",
    "\n",
    "    \"\"\"\n",
    "    )\n",
    "\n",
    "# df.q(\n",
    "#     \"\"\"\n",
    "#     id   %%each?1   %%save 1\n",
    "\n",
    "#     is any;     %%is any;\n",
    "\n",
    "#     id %%!load1  $color=red\n",
    "#     \"\"\"\n",
    "#     )"
   ]
  },
  {
   "cell_type": "code",
   "execution_count": 15,
   "metadata": {},
   "outputs": [
    {
     "data": {
      "text/html": [
       "<div>\n",
       "<style scoped>\n",
       "    .dataframe tbody tr th:only-of-type {\n",
       "        vertical-align: middle;\n",
       "    }\n",
       "\n",
       "    .dataframe tbody tr th {\n",
       "        vertical-align: top;\n",
       "    }\n",
       "\n",
       "    .dataframe thead th {\n",
       "        text-align: right;\n",
       "    }\n",
       "</style>\n",
       "<table border=\"1\" class=\"dataframe\">\n",
       "  <thead>\n",
       "    <tr style=\"text-align: right;\">\n",
       "      <th></th>\n",
       "      <th>ID</th>\n",
       "    </tr>\n",
       "  </thead>\n",
       "  <tbody>\n",
       "    <tr>\n",
       "      <th>8</th>\n",
       "      <td>30003</td>\n",
       "    </tr>\n",
       "    <tr>\n",
       "      <th>9</th>\n",
       "      <td>30004</td>\n",
       "    </tr>\n",
       "    <tr>\n",
       "      <th>10</th>\n",
       "      <td>30005</td>\n",
       "    </tr>\n",
       "  </tbody>\n",
       "</table>\n",
       "</div>"
      ],
      "text/plain": [
       "       ID\n",
       "8   30003\n",
       "9   30004\n",
       "10  30005"
      ]
     },
     "metadata": {},
     "output_type": "display_data"
    }
   ],
   "source": [
    "display(df.q('id   %%each!?1  &&each!?2'))"
   ]
  },
  {
   "cell_type": "code",
   "execution_count": 19,
   "metadata": {},
   "outputs": [
    {
     "data": {
      "application/vnd.jupyter.widget-view+json": {
       "model_id": "4c6b30a49c324539839fb62dc51c72be",
       "version_major": 2,
       "version_minor": 0
      },
      "text/plain": [
       "HBox(children=(Tab(children=(Textarea(value='$verbosity=3\\n$diff=None\\n\\n#Enter query code here\\n\\n', layout=L…"
      ]
     },
     "metadata": {},
     "output_type": "display_data"
    },
    {
     "data": {
      "application/vnd.jupyter.widget-view+json": {
       "model_id": "6517ce9684d24cddad5d4570266da11c",
       "version_major": 2,
       "version_minor": 0
      },
      "text/plain": [
       "HBox(children=(Output(),))"
      ]
     },
     "metadata": {},
     "output_type": "display_data"
    }
   ],
   "source": [
    "df.qi()"
   ]
  },
  {
   "cell_type": "code",
   "execution_count": null,
   "metadata": {},
   "outputs": [],
   "source": []
  },
  {
   "cell_type": "code",
   "execution_count": null,
   "metadata": {},
   "outputs": [],
   "source": []
  },
  {
   "cell_type": "code",
   "execution_count": null,
   "metadata": {},
   "outputs": [],
   "source": []
  }
 ],
 "metadata": {
  "kernelspec": {
   "display_name": "Python 3",
   "language": "python",
   "name": "python3"
  },
  "language_info": {
   "codemirror_mode": {
    "name": "ipython",
    "version": 3
   },
   "file_extension": ".py",
   "mimetype": "text/x-python",
   "name": "python",
   "nbconvert_exporter": "python",
   "pygments_lexer": "ipython3",
   "version": "3.13.0"
  }
 },
 "nbformat": 4,
 "nbformat_minor": 2
}
