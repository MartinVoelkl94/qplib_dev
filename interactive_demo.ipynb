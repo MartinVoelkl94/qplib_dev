{
 "cells": [
  {
   "cell_type": "markdown",
   "metadata": {},
   "source": [
    "# qplib - a query language for pandas\n",
    "\n",
    "The query language works by sequentially applying filter conditions and modification instructions to the dataframe.\n",
    "Each condition/instruction starts with a connector (\"%\", \"&\", \"/\", \"%%\", \"&&\", \"//\", \"$\"), followed by some option flags, an operator and a value.\n",
    "Each of these components is optional, with an associated default behaviour.\n",
    "\n",
    "The examples will use a very small test dataset so that all filtering and modification is easily traceable."
   ]
  },
  {
   "cell_type": "code",
   "execution_count": 2,
   "metadata": {},
   "outputs": [
    {
     "data": {
      "application/vnd.microsoft.datawrangler.viewer.v0+json": {
       "columns": [
        {
         "name": "index",
         "rawType": "int64",
         "type": "integer"
        },
        {
         "name": "ID",
         "rawType": "int64",
         "type": "integer"
        },
        {
         "name": "name",
         "rawType": "object",
         "type": "string"
        },
        {
         "name": "date of birth",
         "rawType": "object",
         "type": "string"
        },
        {
         "name": "age",
         "rawType": "object",
         "type": "unknown"
        },
        {
         "name": "gender",
         "rawType": "object",
         "type": "unknown"
        },
        {
         "name": "height",
         "rawType": "object",
         "type": "unknown"
        },
        {
         "name": "weight",
         "rawType": "object",
         "type": "unknown"
        },
        {
         "name": "bp systole",
         "rawType": "object",
         "type": "unknown"
        },
        {
         "name": "bp diastole",
         "rawType": "object",
         "type": "unknown"
        },
        {
         "name": "cholesterol",
         "rawType": "object",
         "type": "string"
        },
        {
         "name": "diabetes",
         "rawType": "object",
         "type": "unknown"
        },
        {
         "name": "dose",
         "rawType": "object",
         "type": "unknown"
        }
       ],
       "conversionMethod": "pd.DataFrame",
       "ref": "9bee4212-408a-4ea3-9539-62d44088c8d1",
       "rows": [
        [
         "0",
         "10001",
         "John Doe",
         "1995-01-02",
         "-25",
         "M",
         "170",
         "70.2",
         "20",
         "80",
         "Normal",
         "No",
         "10kg"
        ],
        [
         "1",
         "10002",
         "Jane Smith",
         "1990/09/14",
         "30",
         "F",
         "175.5cm",
         "68",
         "130",
         "85",
         "Highe",
         "yes",
         "NaN"
        ],
        [
         "2",
         "10003",
         "Alice Johnson",
         "1985.08.23",
         null,
         "Female",
         null,
         "72.5lb",
         "NaN",
         "nan",
         "NaN",
         "N/A",
         "15 mg once a day"
        ],
        [
         "3",
         "20001",
         "Bob Brown",
         "19800406",
         null,
         "Male",
         "280",
         "na",
         "140",
         "90mmHg",
         "GOOD",
         "No",
         "20mg"
        ],
        [
         "4",
         "20002",
         "eva white",
         "05-11-2007",
         "40.0",
         "Other",
         "NaN",
         "",
         "135mmhg",
         null,
         "n.a.",
         "Y",
         "20 Mg"
        ],
        [
         "5",
         "20003",
         "Frank miller",
         "06-30-1983",
         "forty-five",
         "m",
         "185",
         "75kg",
         "125",
         "75",
         "High",
         "Yes",
         "25g"
        ],
        [
         "6",
         "30001",
         "Grace TAYLOR",
         "28-05-1975",
         "nan",
         "ff",
         "1",
         null,
         "NAN",
         "NaN",
         "Normal",
         "NO",
         "NaN"
        ],
        [
         "7",
         "30002",
         "Harry Clark",
         "1960Mar08",
         "unk",
         "NaN",
         "6ft 1in",
         "80.3",
         "122",
         null,
         "n/a",
         null,
         null
        ],
        [
         "8",
         "30003",
         "IVY GREEN",
         "1955-Jan-09",
         "",
         null,
         "-10",
         "130lbs",
         "",
         "95",
         "high",
         "NaN",
         "30 MG"
        ],
        [
         "9",
         "30004",
         "JAck Williams",
         "1950 Sep 10",
         "unknown",
         "Mal",
         "",
         "82",
         "130",
         "0",
         "",
         "n",
         "35"
        ],
        [
         "10",
         "30005",
         "john Doe",
         "1945 October 11",
         "35",
         "female",
         "200",
         "-65",
         "45",
         "NaN",
         "Normal",
         "Yes",
         "40ml"
        ]
       ],
       "shape": {
        "columns": 12,
        "rows": 11
       }
      },
      "text/html": [
       "<div>\n",
       "<style scoped>\n",
       "    .dataframe tbody tr th:only-of-type {\n",
       "        vertical-align: middle;\n",
       "    }\n",
       "\n",
       "    .dataframe tbody tr th {\n",
       "        vertical-align: top;\n",
       "    }\n",
       "\n",
       "    .dataframe thead th {\n",
       "        text-align: right;\n",
       "    }\n",
       "</style>\n",
       "<table border=\"1\" class=\"dataframe\">\n",
       "  <thead>\n",
       "    <tr style=\"text-align: right;\">\n",
       "      <th></th>\n",
       "      <th>ID</th>\n",
       "      <th>name</th>\n",
       "      <th>date of birth</th>\n",
       "      <th>age</th>\n",
       "      <th>gender</th>\n",
       "      <th>height</th>\n",
       "      <th>weight</th>\n",
       "      <th>bp systole</th>\n",
       "      <th>bp diastole</th>\n",
       "      <th>cholesterol</th>\n",
       "      <th>diabetes</th>\n",
       "      <th>dose</th>\n",
       "    </tr>\n",
       "  </thead>\n",
       "  <tbody>\n",
       "    <tr>\n",
       "      <th>0</th>\n",
       "      <td>10001</td>\n",
       "      <td>John Doe</td>\n",
       "      <td>1995-01-02</td>\n",
       "      <td>-25</td>\n",
       "      <td>M</td>\n",
       "      <td>170</td>\n",
       "      <td>70.2</td>\n",
       "      <td>20</td>\n",
       "      <td>80</td>\n",
       "      <td>Normal</td>\n",
       "      <td>No</td>\n",
       "      <td>10kg</td>\n",
       "    </tr>\n",
       "    <tr>\n",
       "      <th>1</th>\n",
       "      <td>10002</td>\n",
       "      <td>Jane Smith</td>\n",
       "      <td>1990/09/14</td>\n",
       "      <td>30</td>\n",
       "      <td>F</td>\n",
       "      <td>175.5cm</td>\n",
       "      <td>68</td>\n",
       "      <td>130</td>\n",
       "      <td>85</td>\n",
       "      <td>Highe</td>\n",
       "      <td>yes</td>\n",
       "      <td>NaN</td>\n",
       "    </tr>\n",
       "    <tr>\n",
       "      <th>2</th>\n",
       "      <td>10003</td>\n",
       "      <td>Alice Johnson</td>\n",
       "      <td>1985.08.23</td>\n",
       "      <td>NaN</td>\n",
       "      <td>Female</td>\n",
       "      <td>None</td>\n",
       "      <td>72.5lb</td>\n",
       "      <td>NaN</td>\n",
       "      <td>nan</td>\n",
       "      <td>NaN</td>\n",
       "      <td>N/A</td>\n",
       "      <td>15 mg once a day</td>\n",
       "    </tr>\n",
       "    <tr>\n",
       "      <th>3</th>\n",
       "      <td>20001</td>\n",
       "      <td>Bob Brown</td>\n",
       "      <td>19800406</td>\n",
       "      <td>None</td>\n",
       "      <td>Male</td>\n",
       "      <td>280</td>\n",
       "      <td>na</td>\n",
       "      <td>140</td>\n",
       "      <td>90mmHg</td>\n",
       "      <td>GOOD</td>\n",
       "      <td>No</td>\n",
       "      <td>20mg</td>\n",
       "    </tr>\n",
       "    <tr>\n",
       "      <th>4</th>\n",
       "      <td>20002</td>\n",
       "      <td>eva white</td>\n",
       "      <td>05-11-2007</td>\n",
       "      <td>40.0</td>\n",
       "      <td>Other</td>\n",
       "      <td>NaN</td>\n",
       "      <td></td>\n",
       "      <td>135mmhg</td>\n",
       "      <td>NaN</td>\n",
       "      <td>n.a.</td>\n",
       "      <td>Y</td>\n",
       "      <td>20 Mg</td>\n",
       "    </tr>\n",
       "    <tr>\n",
       "      <th>5</th>\n",
       "      <td>20003</td>\n",
       "      <td>Frank miller</td>\n",
       "      <td>06-30-1983</td>\n",
       "      <td>forty-five</td>\n",
       "      <td>m</td>\n",
       "      <td>185</td>\n",
       "      <td>75kg</td>\n",
       "      <td>125</td>\n",
       "      <td>75</td>\n",
       "      <td>High</td>\n",
       "      <td>Yes</td>\n",
       "      <td>25g</td>\n",
       "    </tr>\n",
       "    <tr>\n",
       "      <th>6</th>\n",
       "      <td>30001</td>\n",
       "      <td>Grace TAYLOR</td>\n",
       "      <td>28-05-1975</td>\n",
       "      <td>nan</td>\n",
       "      <td>ff</td>\n",
       "      <td>1</td>\n",
       "      <td>None</td>\n",
       "      <td>NAN</td>\n",
       "      <td>NaN</td>\n",
       "      <td>Normal</td>\n",
       "      <td>NO</td>\n",
       "      <td>NaN</td>\n",
       "    </tr>\n",
       "    <tr>\n",
       "      <th>7</th>\n",
       "      <td>30002</td>\n",
       "      <td>Harry Clark</td>\n",
       "      <td>1960Mar08</td>\n",
       "      <td>unk</td>\n",
       "      <td>NaN</td>\n",
       "      <td>6ft 1in</td>\n",
       "      <td>80.3</td>\n",
       "      <td>122</td>\n",
       "      <td>None</td>\n",
       "      <td>n/a</td>\n",
       "      <td>None</td>\n",
       "      <td>None</td>\n",
       "    </tr>\n",
       "    <tr>\n",
       "      <th>8</th>\n",
       "      <td>30003</td>\n",
       "      <td>IVY GREEN</td>\n",
       "      <td>1955-Jan-09</td>\n",
       "      <td></td>\n",
       "      <td>None</td>\n",
       "      <td>-10</td>\n",
       "      <td>130lbs</td>\n",
       "      <td></td>\n",
       "      <td>95</td>\n",
       "      <td>high</td>\n",
       "      <td>NaN</td>\n",
       "      <td>30 MG</td>\n",
       "    </tr>\n",
       "    <tr>\n",
       "      <th>9</th>\n",
       "      <td>30004</td>\n",
       "      <td>JAck Williams</td>\n",
       "      <td>1950 Sep 10</td>\n",
       "      <td>unknown</td>\n",
       "      <td>Mal</td>\n",
       "      <td></td>\n",
       "      <td>82</td>\n",
       "      <td>130</td>\n",
       "      <td>0</td>\n",
       "      <td></td>\n",
       "      <td>n</td>\n",
       "      <td>35</td>\n",
       "    </tr>\n",
       "    <tr>\n",
       "      <th>10</th>\n",
       "      <td>30005</td>\n",
       "      <td>john Doe</td>\n",
       "      <td>1945 October 11</td>\n",
       "      <td>35</td>\n",
       "      <td>female</td>\n",
       "      <td>200</td>\n",
       "      <td>-65</td>\n",
       "      <td>45</td>\n",
       "      <td>NaN</td>\n",
       "      <td>Normal</td>\n",
       "      <td>Yes</td>\n",
       "      <td>40ml</td>\n",
       "    </tr>\n",
       "  </tbody>\n",
       "</table>\n",
       "</div>"
      ],
      "text/plain": [
       "       ID           name    date of birth         age  gender   height  \\\n",
       "0   10001       John Doe       1995-01-02         -25       M      170   \n",
       "1   10002     Jane Smith       1990/09/14          30       F  175.5cm   \n",
       "2   10003  Alice Johnson       1985.08.23         NaN  Female     None   \n",
       "3   20001      Bob Brown         19800406        None    Male      280   \n",
       "4   20002      eva white       05-11-2007        40.0   Other      NaN   \n",
       "5   20003   Frank miller       06-30-1983  forty-five       m      185   \n",
       "6   30001   Grace TAYLOR       28-05-1975         nan      ff        1   \n",
       "7   30002    Harry Clark        1960Mar08         unk     NaN  6ft 1in   \n",
       "8   30003      IVY GREEN      1955-Jan-09                None      -10   \n",
       "9   30004  JAck Williams      1950 Sep 10     unknown     Mal            \n",
       "10  30005       john Doe  1945 October 11          35  female      200   \n",
       "\n",
       "    weight bp systole bp diastole cholesterol diabetes              dose  \n",
       "0     70.2         20          80      Normal       No              10kg  \n",
       "1       68        130          85       Highe      yes               NaN  \n",
       "2   72.5lb        NaN         nan         NaN      N/A  15 mg once a day  \n",
       "3       na        140      90mmHg        GOOD       No              20mg  \n",
       "4             135mmhg         NaN        n.a.        Y             20 Mg  \n",
       "5     75kg        125          75        High      Yes               25g  \n",
       "6     None        NAN         NaN      Normal       NO               NaN  \n",
       "7     80.3        122        None         n/a     None              None  \n",
       "8   130lbs                     95        high      NaN             30 MG  \n",
       "9       82        130           0                    n                35  \n",
       "10     -65         45         NaN      Normal      Yes              40ml  "
      ]
     },
     "execution_count": 2,
     "metadata": {},
     "output_type": "execute_result"
    }
   ],
   "source": [
    "import pandas as pd\n",
    "import numpy as np\n",
    "import qplib as qp\n",
    "from qplib import log\n",
    "\n",
    "pd.set_option('display.max_columns', None)\n",
    "\n",
    "df = qp.get_df()\n",
    "df"
   ]
  },
  {
   "cell_type": "markdown",
   "metadata": {},
   "source": [
    "# filter/select"
   ]
  },
  {
   "cell_type": "markdown",
   "metadata": {},
   "source": [
    "## columns\n",
    "\n",
    "\n"
   ]
  },
  {
   "cell_type": "code",
   "execution_count": 3,
   "metadata": {},
   "outputs": [
    {
     "data": {
      "application/vnd.microsoft.datawrangler.viewer.v0+json": {
       "columns": [
        {
         "name": "index",
         "rawType": "int64",
         "type": "integer"
        },
        {
         "name": "name",
         "rawType": "object",
         "type": "string"
        }
       ],
       "conversionMethod": "pd.DataFrame",
       "ref": "a47e1e29-70e1-4d23-ad20-6cc09ce5fd31",
       "rows": [
        [
         "0",
         "John Doe"
        ],
        [
         "1",
         "Jane Smith"
        ],
        [
         "2",
         "Alice Johnson"
        ],
        [
         "3",
         "Bob Brown"
        ],
        [
         "4",
         "eva white"
        ],
        [
         "5",
         "Frank miller"
        ],
        [
         "6",
         "Grace TAYLOR"
        ],
        [
         "7",
         "Harry Clark"
        ],
        [
         "8",
         "IVY GREEN"
        ],
        [
         "9",
         "JAck Williams"
        ],
        [
         "10",
         "john Doe"
        ]
       ],
       "shape": {
        "columns": 1,
        "rows": 11
       }
      },
      "text/html": [
       "<div>\n",
       "<style scoped>\n",
       "    .dataframe tbody tr th:only-of-type {\n",
       "        vertical-align: middle;\n",
       "    }\n",
       "\n",
       "    .dataframe tbody tr th {\n",
       "        vertical-align: top;\n",
       "    }\n",
       "\n",
       "    .dataframe thead th {\n",
       "        text-align: right;\n",
       "    }\n",
       "</style>\n",
       "<table border=\"1\" class=\"dataframe\">\n",
       "  <thead>\n",
       "    <tr style=\"text-align: right;\">\n",
       "      <th></th>\n",
       "      <th>name</th>\n",
       "    </tr>\n",
       "  </thead>\n",
       "  <tbody>\n",
       "    <tr>\n",
       "      <th>0</th>\n",
       "      <td>John Doe</td>\n",
       "    </tr>\n",
       "    <tr>\n",
       "      <th>1</th>\n",
       "      <td>Jane Smith</td>\n",
       "    </tr>\n",
       "    <tr>\n",
       "      <th>2</th>\n",
       "      <td>Alice Johnson</td>\n",
       "    </tr>\n",
       "    <tr>\n",
       "      <th>3</th>\n",
       "      <td>Bob Brown</td>\n",
       "    </tr>\n",
       "    <tr>\n",
       "      <th>4</th>\n",
       "      <td>eva white</td>\n",
       "    </tr>\n",
       "    <tr>\n",
       "      <th>5</th>\n",
       "      <td>Frank miller</td>\n",
       "    </tr>\n",
       "    <tr>\n",
       "      <th>6</th>\n",
       "      <td>Grace TAYLOR</td>\n",
       "    </tr>\n",
       "    <tr>\n",
       "      <th>7</th>\n",
       "      <td>Harry Clark</td>\n",
       "    </tr>\n",
       "    <tr>\n",
       "      <th>8</th>\n",
       "      <td>IVY GREEN</td>\n",
       "    </tr>\n",
       "    <tr>\n",
       "      <th>9</th>\n",
       "      <td>JAck Williams</td>\n",
       "    </tr>\n",
       "    <tr>\n",
       "      <th>10</th>\n",
       "      <td>john Doe</td>\n",
       "    </tr>\n",
       "  </tbody>\n",
       "</table>\n",
       "</div>"
      ],
      "text/plain": [
       "             name\n",
       "0        John Doe\n",
       "1      Jane Smith\n",
       "2   Alice Johnson\n",
       "3       Bob Brown\n",
       "4       eva white\n",
       "5    Frank miller\n",
       "6    Grace TAYLOR\n",
       "7     Harry Clark\n",
       "8       IVY GREEN\n",
       "9   JAck Williams\n",
       "10       john Doe"
      ]
     },
     "execution_count": 3,
     "metadata": {},
     "output_type": "execute_result"
    }
   ],
   "source": [
    "#Select the column called \"name\":\n",
    "#(Mulitple equivalent examples are shown to demonstrate default behaviour)\n",
    "\n",
    "df.q('name')\n",
    "df.q('%name')\n",
    "df.q('%=name')\n",
    "df.q('%==name')\n",
    "df.q('% == name')"
   ]
  },
  {
   "cell_type": "code",
   "execution_count": 4,
   "metadata": {},
   "outputs": [
    {
     "data": {
      "application/vnd.microsoft.datawrangler.viewer.v0+json": {
       "columns": [
        {
         "name": "index",
         "rawType": "int64",
         "type": "integer"
        },
        {
         "name": "bp systole",
         "rawType": "object",
         "type": "unknown"
        },
        {
         "name": "bp diastole",
         "rawType": "object",
         "type": "unknown"
        }
       ],
       "conversionMethod": "pd.DataFrame",
       "ref": "a916ab77-af14-487f-a904-3133b42109f3",
       "rows": [
        [
         "0",
         "20",
         "80"
        ],
        [
         "1",
         "130",
         "85"
        ],
        [
         "2",
         "NaN",
         "nan"
        ],
        [
         "3",
         "140",
         "90mmHg"
        ],
        [
         "4",
         "135mmhg",
         null
        ],
        [
         "5",
         "125",
         "75"
        ],
        [
         "6",
         "NAN",
         "NaN"
        ],
        [
         "7",
         "122",
         null
        ],
        [
         "8",
         "",
         "95"
        ],
        [
         "9",
         "130",
         "0"
        ],
        [
         "10",
         "45",
         "NaN"
        ]
       ],
       "shape": {
        "columns": 2,
        "rows": 11
       }
      },
      "text/html": [
       "<div>\n",
       "<style scoped>\n",
       "    .dataframe tbody tr th:only-of-type {\n",
       "        vertical-align: middle;\n",
       "    }\n",
       "\n",
       "    .dataframe tbody tr th {\n",
       "        vertical-align: top;\n",
       "    }\n",
       "\n",
       "    .dataframe thead th {\n",
       "        text-align: right;\n",
       "    }\n",
       "</style>\n",
       "<table border=\"1\" class=\"dataframe\">\n",
       "  <thead>\n",
       "    <tr style=\"text-align: right;\">\n",
       "      <th></th>\n",
       "      <th>bp systole</th>\n",
       "      <th>bp diastole</th>\n",
       "    </tr>\n",
       "  </thead>\n",
       "  <tbody>\n",
       "    <tr>\n",
       "      <th>0</th>\n",
       "      <td>20</td>\n",
       "      <td>80</td>\n",
       "    </tr>\n",
       "    <tr>\n",
       "      <th>1</th>\n",
       "      <td>130</td>\n",
       "      <td>85</td>\n",
       "    </tr>\n",
       "    <tr>\n",
       "      <th>2</th>\n",
       "      <td>NaN</td>\n",
       "      <td>nan</td>\n",
       "    </tr>\n",
       "    <tr>\n",
       "      <th>3</th>\n",
       "      <td>140</td>\n",
       "      <td>90mmHg</td>\n",
       "    </tr>\n",
       "    <tr>\n",
       "      <th>4</th>\n",
       "      <td>135mmhg</td>\n",
       "      <td>NaN</td>\n",
       "    </tr>\n",
       "    <tr>\n",
       "      <th>5</th>\n",
       "      <td>125</td>\n",
       "      <td>75</td>\n",
       "    </tr>\n",
       "    <tr>\n",
       "      <th>6</th>\n",
       "      <td>NAN</td>\n",
       "      <td>NaN</td>\n",
       "    </tr>\n",
       "    <tr>\n",
       "      <th>7</th>\n",
       "      <td>122</td>\n",
       "      <td>None</td>\n",
       "    </tr>\n",
       "    <tr>\n",
       "      <th>8</th>\n",
       "      <td></td>\n",
       "      <td>95</td>\n",
       "    </tr>\n",
       "    <tr>\n",
       "      <th>9</th>\n",
       "      <td>130</td>\n",
       "      <td>0</td>\n",
       "    </tr>\n",
       "    <tr>\n",
       "      <th>10</th>\n",
       "      <td>45</td>\n",
       "      <td>NaN</td>\n",
       "    </tr>\n",
       "  </tbody>\n",
       "</table>\n",
       "</div>"
      ],
      "text/plain": [
       "   bp systole bp diastole\n",
       "0          20          80\n",
       "1         130          85\n",
       "2         NaN         nan\n",
       "3         140      90mmHg\n",
       "4     135mmhg         NaN\n",
       "5         125          75\n",
       "6         NAN         NaN\n",
       "7         122        None\n",
       "8                      95\n",
       "9         130           0\n",
       "10         45         NaN"
      ]
     },
     "execution_count": 4,
     "metadata": {},
     "output_type": "execute_result"
    }
   ],
   "source": [
    "#select all columns containing the string \"bp\":\n",
    "df.q('?bp')"
   ]
  },
  {
   "cell_type": "code",
   "execution_count": 5,
   "metadata": {},
   "outputs": [
    {
     "data": {
      "application/vnd.microsoft.datawrangler.viewer.v0+json": {
       "columns": [
        {
         "name": "index",
         "rawType": "int64",
         "type": "integer"
        },
        {
         "name": "name",
         "rawType": "object",
         "type": "string"
        },
        {
         "name": "bp systole",
         "rawType": "object",
         "type": "unknown"
        },
        {
         "name": "bp diastole",
         "rawType": "object",
         "type": "unknown"
        }
       ],
       "conversionMethod": "pd.DataFrame",
       "ref": "92fb768f-43dd-43e5-98d9-f68537095581",
       "rows": [
        [
         "0",
         "John Doe",
         "20",
         "80"
        ],
        [
         "1",
         "Jane Smith",
         "130",
         "85"
        ],
        [
         "2",
         "Alice Johnson",
         "NaN",
         "nan"
        ],
        [
         "3",
         "Bob Brown",
         "140",
         "90mmHg"
        ],
        [
         "4",
         "eva white",
         "135mmhg",
         null
        ],
        [
         "5",
         "Frank miller",
         "125",
         "75"
        ],
        [
         "6",
         "Grace TAYLOR",
         "NAN",
         "NaN"
        ],
        [
         "7",
         "Harry Clark",
         "122",
         null
        ],
        [
         "8",
         "IVY GREEN",
         "",
         "95"
        ],
        [
         "9",
         "JAck Williams",
         "130",
         "0"
        ],
        [
         "10",
         "john Doe",
         "45",
         "NaN"
        ]
       ],
       "shape": {
        "columns": 3,
        "rows": 11
       }
      },
      "text/html": [
       "<div>\n",
       "<style scoped>\n",
       "    .dataframe tbody tr th:only-of-type {\n",
       "        vertical-align: middle;\n",
       "    }\n",
       "\n",
       "    .dataframe tbody tr th {\n",
       "        vertical-align: top;\n",
       "    }\n",
       "\n",
       "    .dataframe thead th {\n",
       "        text-align: right;\n",
       "    }\n",
       "</style>\n",
       "<table border=\"1\" class=\"dataframe\">\n",
       "  <thead>\n",
       "    <tr style=\"text-align: right;\">\n",
       "      <th></th>\n",
       "      <th>name</th>\n",
       "      <th>bp systole</th>\n",
       "      <th>bp diastole</th>\n",
       "    </tr>\n",
       "  </thead>\n",
       "  <tbody>\n",
       "    <tr>\n",
       "      <th>0</th>\n",
       "      <td>John Doe</td>\n",
       "      <td>20</td>\n",
       "      <td>80</td>\n",
       "    </tr>\n",
       "    <tr>\n",
       "      <th>1</th>\n",
       "      <td>Jane Smith</td>\n",
       "      <td>130</td>\n",
       "      <td>85</td>\n",
       "    </tr>\n",
       "    <tr>\n",
       "      <th>2</th>\n",
       "      <td>Alice Johnson</td>\n",
       "      <td>NaN</td>\n",
       "      <td>nan</td>\n",
       "    </tr>\n",
       "    <tr>\n",
       "      <th>3</th>\n",
       "      <td>Bob Brown</td>\n",
       "      <td>140</td>\n",
       "      <td>90mmHg</td>\n",
       "    </tr>\n",
       "    <tr>\n",
       "      <th>4</th>\n",
       "      <td>eva white</td>\n",
       "      <td>135mmhg</td>\n",
       "      <td>NaN</td>\n",
       "    </tr>\n",
       "    <tr>\n",
       "      <th>5</th>\n",
       "      <td>Frank miller</td>\n",
       "      <td>125</td>\n",
       "      <td>75</td>\n",
       "    </tr>\n",
       "    <tr>\n",
       "      <th>6</th>\n",
       "      <td>Grace TAYLOR</td>\n",
       "      <td>NAN</td>\n",
       "      <td>NaN</td>\n",
       "    </tr>\n",
       "    <tr>\n",
       "      <th>7</th>\n",
       "      <td>Harry Clark</td>\n",
       "      <td>122</td>\n",
       "      <td>None</td>\n",
       "    </tr>\n",
       "    <tr>\n",
       "      <th>8</th>\n",
       "      <td>IVY GREEN</td>\n",
       "      <td></td>\n",
       "      <td>95</td>\n",
       "    </tr>\n",
       "    <tr>\n",
       "      <th>9</th>\n",
       "      <td>JAck Williams</td>\n",
       "      <td>130</td>\n",
       "      <td>0</td>\n",
       "    </tr>\n",
       "    <tr>\n",
       "      <th>10</th>\n",
       "      <td>john Doe</td>\n",
       "      <td>45</td>\n",
       "      <td>NaN</td>\n",
       "    </tr>\n",
       "  </tbody>\n",
       "</table>\n",
       "</div>"
      ],
      "text/plain": [
       "             name bp systole bp diastole\n",
       "0        John Doe         20          80\n",
       "1      Jane Smith        130          85\n",
       "2   Alice Johnson        NaN         nan\n",
       "3       Bob Brown        140      90mmHg\n",
       "4       eva white    135mmhg         NaN\n",
       "5    Frank miller        125          75\n",
       "6    Grace TAYLOR        NAN         NaN\n",
       "7     Harry Clark        122        None\n",
       "8       IVY GREEN                     95\n",
       "9   JAck Williams        130           0\n",
       "10       john Doe         45         NaN"
      ]
     },
     "execution_count": 5,
     "metadata": {},
     "output_type": "execute_result"
    }
   ],
   "source": [
    "#Multiple selection conditions can be used by combining them with \"&\" or \"/\".\n",
    "\n",
    "#Either condition must be fulfilled:\n",
    "df.q('name  /?bp')"
   ]
  },
  {
   "cell_type": "code",
   "execution_count": 6,
   "metadata": {},
   "outputs": [
    {
     "data": {
      "application/vnd.microsoft.datawrangler.viewer.v0+json": {
       "columns": [
        {
         "name": "index",
         "rawType": "int64",
         "type": "integer"
        },
        {
         "name": "bp systole",
         "rawType": "object",
         "type": "unknown"
        }
       ],
       "conversionMethod": "pd.DataFrame",
       "ref": "3d3d27ae-aeab-46c8-a7ea-fac857b3d7a8",
       "rows": [
        [
         "0",
         "20"
        ],
        [
         "1",
         "130"
        ],
        [
         "2",
         "NaN"
        ],
        [
         "3",
         "140"
        ],
        [
         "4",
         "135mmhg"
        ],
        [
         "5",
         "125"
        ],
        [
         "6",
         "NAN"
        ],
        [
         "7",
         "122"
        ],
        [
         "8",
         ""
        ],
        [
         "9",
         "130"
        ],
        [
         "10",
         "45"
        ]
       ],
       "shape": {
        "columns": 1,
        "rows": 11
       }
      },
      "text/html": [
       "<div>\n",
       "<style scoped>\n",
       "    .dataframe tbody tr th:only-of-type {\n",
       "        vertical-align: middle;\n",
       "    }\n",
       "\n",
       "    .dataframe tbody tr th {\n",
       "        vertical-align: top;\n",
       "    }\n",
       "\n",
       "    .dataframe thead th {\n",
       "        text-align: right;\n",
       "    }\n",
       "</style>\n",
       "<table border=\"1\" class=\"dataframe\">\n",
       "  <thead>\n",
       "    <tr style=\"text-align: right;\">\n",
       "      <th></th>\n",
       "      <th>bp systole</th>\n",
       "    </tr>\n",
       "  </thead>\n",
       "  <tbody>\n",
       "    <tr>\n",
       "      <th>0</th>\n",
       "      <td>20</td>\n",
       "    </tr>\n",
       "    <tr>\n",
       "      <th>1</th>\n",
       "      <td>130</td>\n",
       "    </tr>\n",
       "    <tr>\n",
       "      <th>2</th>\n",
       "      <td>NaN</td>\n",
       "    </tr>\n",
       "    <tr>\n",
       "      <th>3</th>\n",
       "      <td>140</td>\n",
       "    </tr>\n",
       "    <tr>\n",
       "      <th>4</th>\n",
       "      <td>135mmhg</td>\n",
       "    </tr>\n",
       "    <tr>\n",
       "      <th>5</th>\n",
       "      <td>125</td>\n",
       "    </tr>\n",
       "    <tr>\n",
       "      <th>6</th>\n",
       "      <td>NAN</td>\n",
       "    </tr>\n",
       "    <tr>\n",
       "      <th>7</th>\n",
       "      <td>122</td>\n",
       "    </tr>\n",
       "    <tr>\n",
       "      <th>8</th>\n",
       "      <td></td>\n",
       "    </tr>\n",
       "    <tr>\n",
       "      <th>9</th>\n",
       "      <td>130</td>\n",
       "    </tr>\n",
       "    <tr>\n",
       "      <th>10</th>\n",
       "      <td>45</td>\n",
       "    </tr>\n",
       "  </tbody>\n",
       "</table>\n",
       "</div>"
      ],
      "text/plain": [
       "   bp systole\n",
       "0          20\n",
       "1         130\n",
       "2         NaN\n",
       "3         140\n",
       "4     135mmhg\n",
       "5         125\n",
       "6         NAN\n",
       "7         122\n",
       "8            \n",
       "9         130\n",
       "10         45"
      ]
     },
     "execution_count": 6,
     "metadata": {},
     "output_type": "execute_result"
    }
   ],
   "source": [
    "#Both conditions must be fulfilled:\n",
    "df.q('?bp  &?systole')"
   ]
  },
  {
   "cell_type": "code",
   "execution_count": 7,
   "metadata": {},
   "outputs": [
    {
     "data": {
      "text/html": [
       "<style type=\"text/css\">\n",
       "#T_6a1a7_row0_col0, #T_6a1a7_row0_col1, #T_6a1a7_row0_col2, #T_6a1a7_row0_col3 {\n",
       "  background-color: #f7d67c;\n",
       "  text-align: left;\n",
       "}\n",
       "</style>\n",
       "<table id=\"T_6a1a7\">\n",
       "  <thead>\n",
       "  </thead>\n",
       "  <tbody>\n",
       "    <tr>\n",
       "      <th id=\"T_6a1a7_level0_row0\" class=\"row_heading level0 row0\" >65</th>\n",
       "      <td id=\"T_6a1a7_row0_col0\" class=\"data row0 col0\" >WARNING</td>\n",
       "      <td id=\"T_6a1a7_row0_col1\" class=\"data row0 col1\" >no columns fulfill the condition in \"&?bp\" and the previous condition(s)</td>\n",
       "      <td id=\"T_6a1a7_row0_col2\" class=\"data row0 col2\" >qp.qlang._select_cols</td>\n",
       "      <td id=\"T_6a1a7_row0_col3\" class=\"data row0 col3\" >2025-04-03 12:19:07.290584</td>\n",
       "    </tr>\n",
       "  </tbody>\n",
       "</table>\n"
      ],
      "text/plain": [
       "<pandas.io.formats.style.Styler at 0x1779a84e120>"
      ]
     },
     "metadata": {},
     "output_type": "display_data"
    },
    {
     "data": {
      "application/vnd.microsoft.datawrangler.viewer.v0+json": {
       "columns": [
        {
         "name": "index",
         "rawType": "int64",
         "type": "integer"
        }
       ],
       "conversionMethod": "pd.DataFrame",
       "ref": "4a8cc58d-b3b0-499e-bd05-1fecea920464",
       "rows": [
        [
         "0"
        ],
        [
         "1"
        ],
        [
         "2"
        ],
        [
         "3"
        ],
        [
         "4"
        ],
        [
         "5"
        ],
        [
         "6"
        ],
        [
         "7"
        ],
        [
         "8"
        ],
        [
         "9"
        ],
        [
         "10"
        ]
       ],
       "shape": {
        "columns": 0,
        "rows": 11
       }
      },
      "text/html": [
       "<div>\n",
       "<style scoped>\n",
       "    .dataframe tbody tr th:only-of-type {\n",
       "        vertical-align: middle;\n",
       "    }\n",
       "\n",
       "    .dataframe tbody tr th {\n",
       "        vertical-align: top;\n",
       "    }\n",
       "\n",
       "    .dataframe thead th {\n",
       "        text-align: right;\n",
       "    }\n",
       "</style>\n",
       "<table border=\"1\" class=\"dataframe\">\n",
       "  <thead>\n",
       "    <tr style=\"text-align: right;\">\n",
       "      <th></th>\n",
       "    </tr>\n",
       "  </thead>\n",
       "  <tbody>\n",
       "    <tr>\n",
       "      <th>0</th>\n",
       "    </tr>\n",
       "    <tr>\n",
       "      <th>1</th>\n",
       "    </tr>\n",
       "    <tr>\n",
       "      <th>2</th>\n",
       "    </tr>\n",
       "    <tr>\n",
       "      <th>3</th>\n",
       "    </tr>\n",
       "    <tr>\n",
       "      <th>4</th>\n",
       "    </tr>\n",
       "    <tr>\n",
       "      <th>5</th>\n",
       "    </tr>\n",
       "    <tr>\n",
       "      <th>6</th>\n",
       "    </tr>\n",
       "    <tr>\n",
       "      <th>7</th>\n",
       "    </tr>\n",
       "    <tr>\n",
       "      <th>8</th>\n",
       "    </tr>\n",
       "    <tr>\n",
       "      <th>9</th>\n",
       "    </tr>\n",
       "    <tr>\n",
       "      <th>10</th>\n",
       "    </tr>\n",
       "  </tbody>\n",
       "</table>\n",
       "</div>"
      ],
      "text/plain": [
       "Empty DataFrame\n",
       "Columns: []\n",
       "Index: [0, 1, 2, 3, 4, 5, 6, 7, 8, 9, 10]"
      ]
     },
     "execution_count": 7,
     "metadata": {},
     "output_type": "execute_result"
    }
   ],
   "source": [
    "#Notice the warning when no columns fulfill both conditions.\n",
    "df.q('name  &?bp')"
   ]
  },
  {
   "cell_type": "code",
   "execution_count": 8,
   "metadata": {},
   "outputs": [
    {
     "data": {
      "application/vnd.microsoft.datawrangler.viewer.v0+json": {
       "columns": [
        {
         "name": "index",
         "rawType": "int64",
         "type": "integer"
        },
        {
         "name": "ID",
         "rawType": "int64",
         "type": "integer"
        }
       ],
       "conversionMethod": "pd.DataFrame",
       "ref": "db2b1d80-36b1-4aa9-9c0d-7ef3aa7e5519",
       "rows": [
        [
         "0",
         "10001"
        ],
        [
         "1",
         "10002"
        ],
        [
         "2",
         "10003"
        ],
        [
         "3",
         "20001"
        ],
        [
         "4",
         "20002"
        ],
        [
         "5",
         "20003"
        ],
        [
         "6",
         "30001"
        ],
        [
         "7",
         "30002"
        ],
        [
         "8",
         "30003"
        ],
        [
         "9",
         "30004"
        ],
        [
         "10",
         "30005"
        ]
       ],
       "shape": {
        "columns": 1,
        "rows": 11
       }
      },
      "text/html": [
       "<div>\n",
       "<style scoped>\n",
       "    .dataframe tbody tr th:only-of-type {\n",
       "        vertical-align: middle;\n",
       "    }\n",
       "\n",
       "    .dataframe tbody tr th {\n",
       "        vertical-align: top;\n",
       "    }\n",
       "\n",
       "    .dataframe thead th {\n",
       "        text-align: right;\n",
       "    }\n",
       "</style>\n",
       "<table border=\"1\" class=\"dataframe\">\n",
       "  <thead>\n",
       "    <tr style=\"text-align: right;\">\n",
       "      <th></th>\n",
       "      <th>ID</th>\n",
       "    </tr>\n",
       "  </thead>\n",
       "  <tbody>\n",
       "    <tr>\n",
       "      <th>0</th>\n",
       "      <td>10001</td>\n",
       "    </tr>\n",
       "    <tr>\n",
       "      <th>1</th>\n",
       "      <td>10002</td>\n",
       "    </tr>\n",
       "    <tr>\n",
       "      <th>2</th>\n",
       "      <td>10003</td>\n",
       "    </tr>\n",
       "    <tr>\n",
       "      <th>3</th>\n",
       "      <td>20001</td>\n",
       "    </tr>\n",
       "    <tr>\n",
       "      <th>4</th>\n",
       "      <td>20002</td>\n",
       "    </tr>\n",
       "    <tr>\n",
       "      <th>5</th>\n",
       "      <td>20003</td>\n",
       "    </tr>\n",
       "    <tr>\n",
       "      <th>6</th>\n",
       "      <td>30001</td>\n",
       "    </tr>\n",
       "    <tr>\n",
       "      <th>7</th>\n",
       "      <td>30002</td>\n",
       "    </tr>\n",
       "    <tr>\n",
       "      <th>8</th>\n",
       "      <td>30003</td>\n",
       "    </tr>\n",
       "    <tr>\n",
       "      <th>9</th>\n",
       "      <td>30004</td>\n",
       "    </tr>\n",
       "    <tr>\n",
       "      <th>10</th>\n",
       "      <td>30005</td>\n",
       "    </tr>\n",
       "  </tbody>\n",
       "</table>\n",
       "</div>"
      ],
      "text/plain": [
       "       ID\n",
       "0   10001\n",
       "1   10002\n",
       "2   10003\n",
       "3   20001\n",
       "4   20002\n",
       "5   20003\n",
       "6   30001\n",
       "7   30002\n",
       "8   30003\n",
       "9   30004\n",
       "10  30005"
      ]
     },
     "execution_count": 8,
     "metadata": {},
     "output_type": "execute_result"
    }
   ],
   "source": [
    "#\"%\" creates a new selection, discarding the previous one:\n",
    "df.q(r'name   /?bp   %id')"
   ]
  },
  {
   "cell_type": "code",
   "execution_count": 9,
   "metadata": {},
   "outputs": [
    {
     "data": {
      "application/vnd.microsoft.datawrangler.viewer.v0+json": {
       "columns": [
        {
         "name": "index",
         "rawType": "int64",
         "type": "integer"
        },
        {
         "name": "ID",
         "rawType": "int64",
         "type": "integer"
        },
        {
         "name": "name",
         "rawType": "object",
         "type": "string"
        },
        {
         "name": "date of birth",
         "rawType": "object",
         "type": "string"
        },
        {
         "name": "age",
         "rawType": "object",
         "type": "unknown"
        },
        {
         "name": "gender",
         "rawType": "object",
         "type": "unknown"
        },
        {
         "name": "height",
         "rawType": "object",
         "type": "unknown"
        },
        {
         "name": "weight",
         "rawType": "object",
         "type": "unknown"
        },
        {
         "name": "bp systole",
         "rawType": "object",
         "type": "unknown"
        },
        {
         "name": "bp diastole",
         "rawType": "object",
         "type": "unknown"
        },
        {
         "name": "cholesterol",
         "rawType": "object",
         "type": "string"
        },
        {
         "name": "diabetes",
         "rawType": "object",
         "type": "unknown"
        },
        {
         "name": "dose",
         "rawType": "object",
         "type": "unknown"
        }
       ],
       "conversionMethod": "pd.DataFrame",
       "ref": "7a7c9bb0-dbf7-4967-99bf-b6273e6b8310",
       "rows": [
        [
         "0",
         "10001",
         "John Doe",
         "1995-01-02",
         "-25",
         "M",
         "170",
         "70.2",
         "20",
         "80",
         "Normal",
         "No",
         "10kg"
        ],
        [
         "1",
         "10002",
         "Jane Smith",
         "1990/09/14",
         "30",
         "F",
         "175.5cm",
         "68",
         "130",
         "85",
         "Highe",
         "yes",
         "NaN"
        ],
        [
         "2",
         "10003",
         "Alice Johnson",
         "1985.08.23",
         null,
         "Female",
         null,
         "72.5lb",
         "NaN",
         "nan",
         "NaN",
         "N/A",
         "15 mg once a day"
        ],
        [
         "3",
         "20001",
         "Bob Brown",
         "19800406",
         null,
         "Male",
         "280",
         "na",
         "140",
         "90mmHg",
         "GOOD",
         "No",
         "20mg"
        ],
        [
         "4",
         "20002",
         "eva white",
         "05-11-2007",
         "40.0",
         "Other",
         "NaN",
         "",
         "135mmhg",
         null,
         "n.a.",
         "Y",
         "20 Mg"
        ],
        [
         "5",
         "20003",
         "Frank miller",
         "06-30-1983",
         "forty-five",
         "m",
         "185",
         "75kg",
         "125",
         "75",
         "High",
         "Yes",
         "25g"
        ],
        [
         "6",
         "30001",
         "Grace TAYLOR",
         "28-05-1975",
         "nan",
         "ff",
         "1",
         null,
         "NAN",
         "NaN",
         "Normal",
         "NO",
         "NaN"
        ],
        [
         "7",
         "30002",
         "Harry Clark",
         "1960Mar08",
         "unk",
         "NaN",
         "6ft 1in",
         "80.3",
         "122",
         null,
         "n/a",
         null,
         null
        ],
        [
         "8",
         "30003",
         "IVY GREEN",
         "1955-Jan-09",
         "",
         null,
         "-10",
         "130lbs",
         "",
         "95",
         "high",
         "NaN",
         "30 MG"
        ],
        [
         "9",
         "30004",
         "JAck Williams",
         "1950 Sep 10",
         "unknown",
         "Mal",
         "",
         "82",
         "130",
         "0",
         "",
         "n",
         "35"
        ],
        [
         "10",
         "30005",
         "john Doe",
         "1945 October 11",
         "35",
         "female",
         "200",
         "-65",
         "45",
         "NaN",
         "Normal",
         "Yes",
         "40ml"
        ]
       ],
       "shape": {
        "columns": 12,
        "rows": 11
       }
      },
      "text/html": [
       "<div>\n",
       "<style scoped>\n",
       "    .dataframe tbody tr th:only-of-type {\n",
       "        vertical-align: middle;\n",
       "    }\n",
       "\n",
       "    .dataframe tbody tr th {\n",
       "        vertical-align: top;\n",
       "    }\n",
       "\n",
       "    .dataframe thead th {\n",
       "        text-align: right;\n",
       "    }\n",
       "</style>\n",
       "<table border=\"1\" class=\"dataframe\">\n",
       "  <thead>\n",
       "    <tr style=\"text-align: right;\">\n",
       "      <th></th>\n",
       "      <th>ID</th>\n",
       "      <th>name</th>\n",
       "      <th>date of birth</th>\n",
       "      <th>age</th>\n",
       "      <th>gender</th>\n",
       "      <th>height</th>\n",
       "      <th>weight</th>\n",
       "      <th>bp systole</th>\n",
       "      <th>bp diastole</th>\n",
       "      <th>cholesterol</th>\n",
       "      <th>diabetes</th>\n",
       "      <th>dose</th>\n",
       "    </tr>\n",
       "  </thead>\n",
       "  <tbody>\n",
       "    <tr>\n",
       "      <th>0</th>\n",
       "      <td>10001</td>\n",
       "      <td>John Doe</td>\n",
       "      <td>1995-01-02</td>\n",
       "      <td>-25</td>\n",
       "      <td>M</td>\n",
       "      <td>170</td>\n",
       "      <td>70.2</td>\n",
       "      <td>20</td>\n",
       "      <td>80</td>\n",
       "      <td>Normal</td>\n",
       "      <td>No</td>\n",
       "      <td>10kg</td>\n",
       "    </tr>\n",
       "    <tr>\n",
       "      <th>1</th>\n",
       "      <td>10002</td>\n",
       "      <td>Jane Smith</td>\n",
       "      <td>1990/09/14</td>\n",
       "      <td>30</td>\n",
       "      <td>F</td>\n",
       "      <td>175.5cm</td>\n",
       "      <td>68</td>\n",
       "      <td>130</td>\n",
       "      <td>85</td>\n",
       "      <td>Highe</td>\n",
       "      <td>yes</td>\n",
       "      <td>NaN</td>\n",
       "    </tr>\n",
       "    <tr>\n",
       "      <th>2</th>\n",
       "      <td>10003</td>\n",
       "      <td>Alice Johnson</td>\n",
       "      <td>1985.08.23</td>\n",
       "      <td>NaN</td>\n",
       "      <td>Female</td>\n",
       "      <td>None</td>\n",
       "      <td>72.5lb</td>\n",
       "      <td>NaN</td>\n",
       "      <td>nan</td>\n",
       "      <td>NaN</td>\n",
       "      <td>N/A</td>\n",
       "      <td>15 mg once a day</td>\n",
       "    </tr>\n",
       "    <tr>\n",
       "      <th>3</th>\n",
       "      <td>20001</td>\n",
       "      <td>Bob Brown</td>\n",
       "      <td>19800406</td>\n",
       "      <td>None</td>\n",
       "      <td>Male</td>\n",
       "      <td>280</td>\n",
       "      <td>na</td>\n",
       "      <td>140</td>\n",
       "      <td>90mmHg</td>\n",
       "      <td>GOOD</td>\n",
       "      <td>No</td>\n",
       "      <td>20mg</td>\n",
       "    </tr>\n",
       "    <tr>\n",
       "      <th>4</th>\n",
       "      <td>20002</td>\n",
       "      <td>eva white</td>\n",
       "      <td>05-11-2007</td>\n",
       "      <td>40.0</td>\n",
       "      <td>Other</td>\n",
       "      <td>NaN</td>\n",
       "      <td></td>\n",
       "      <td>135mmhg</td>\n",
       "      <td>NaN</td>\n",
       "      <td>n.a.</td>\n",
       "      <td>Y</td>\n",
       "      <td>20 Mg</td>\n",
       "    </tr>\n",
       "    <tr>\n",
       "      <th>5</th>\n",
       "      <td>20003</td>\n",
       "      <td>Frank miller</td>\n",
       "      <td>06-30-1983</td>\n",
       "      <td>forty-five</td>\n",
       "      <td>m</td>\n",
       "      <td>185</td>\n",
       "      <td>75kg</td>\n",
       "      <td>125</td>\n",
       "      <td>75</td>\n",
       "      <td>High</td>\n",
       "      <td>Yes</td>\n",
       "      <td>25g</td>\n",
       "    </tr>\n",
       "    <tr>\n",
       "      <th>6</th>\n",
       "      <td>30001</td>\n",
       "      <td>Grace TAYLOR</td>\n",
       "      <td>28-05-1975</td>\n",
       "      <td>nan</td>\n",
       "      <td>ff</td>\n",
       "      <td>1</td>\n",
       "      <td>None</td>\n",
       "      <td>NAN</td>\n",
       "      <td>NaN</td>\n",
       "      <td>Normal</td>\n",
       "      <td>NO</td>\n",
       "      <td>NaN</td>\n",
       "    </tr>\n",
       "    <tr>\n",
       "      <th>7</th>\n",
       "      <td>30002</td>\n",
       "      <td>Harry Clark</td>\n",
       "      <td>1960Mar08</td>\n",
       "      <td>unk</td>\n",
       "      <td>NaN</td>\n",
       "      <td>6ft 1in</td>\n",
       "      <td>80.3</td>\n",
       "      <td>122</td>\n",
       "      <td>None</td>\n",
       "      <td>n/a</td>\n",
       "      <td>None</td>\n",
       "      <td>None</td>\n",
       "    </tr>\n",
       "    <tr>\n",
       "      <th>8</th>\n",
       "      <td>30003</td>\n",
       "      <td>IVY GREEN</td>\n",
       "      <td>1955-Jan-09</td>\n",
       "      <td></td>\n",
       "      <td>None</td>\n",
       "      <td>-10</td>\n",
       "      <td>130lbs</td>\n",
       "      <td></td>\n",
       "      <td>95</td>\n",
       "      <td>high</td>\n",
       "      <td>NaN</td>\n",
       "      <td>30 MG</td>\n",
       "    </tr>\n",
       "    <tr>\n",
       "      <th>9</th>\n",
       "      <td>30004</td>\n",
       "      <td>JAck Williams</td>\n",
       "      <td>1950 Sep 10</td>\n",
       "      <td>unknown</td>\n",
       "      <td>Mal</td>\n",
       "      <td></td>\n",
       "      <td>82</td>\n",
       "      <td>130</td>\n",
       "      <td>0</td>\n",
       "      <td></td>\n",
       "      <td>n</td>\n",
       "      <td>35</td>\n",
       "    </tr>\n",
       "    <tr>\n",
       "      <th>10</th>\n",
       "      <td>30005</td>\n",
       "      <td>john Doe</td>\n",
       "      <td>1945 October 11</td>\n",
       "      <td>35</td>\n",
       "      <td>female</td>\n",
       "      <td>200</td>\n",
       "      <td>-65</td>\n",
       "      <td>45</td>\n",
       "      <td>NaN</td>\n",
       "      <td>Normal</td>\n",
       "      <td>Yes</td>\n",
       "      <td>40ml</td>\n",
       "    </tr>\n",
       "  </tbody>\n",
       "</table>\n",
       "</div>"
      ],
      "text/plain": [
       "       ID           name    date of birth         age  gender   height  \\\n",
       "0   10001       John Doe       1995-01-02         -25       M      170   \n",
       "1   10002     Jane Smith       1990/09/14          30       F  175.5cm   \n",
       "2   10003  Alice Johnson       1985.08.23         NaN  Female     None   \n",
       "3   20001      Bob Brown         19800406        None    Male      280   \n",
       "4   20002      eva white       05-11-2007        40.0   Other      NaN   \n",
       "5   20003   Frank miller       06-30-1983  forty-five       m      185   \n",
       "6   30001   Grace TAYLOR       28-05-1975         nan      ff        1   \n",
       "7   30002    Harry Clark        1960Mar08         unk     NaN  6ft 1in   \n",
       "8   30003      IVY GREEN      1955-Jan-09                None      -10   \n",
       "9   30004  JAck Williams      1950 Sep 10     unknown     Mal            \n",
       "10  30005       john Doe  1945 October 11          35  female      200   \n",
       "\n",
       "    weight bp systole bp diastole cholesterol diabetes              dose  \n",
       "0     70.2         20          80      Normal       No              10kg  \n",
       "1       68        130          85       Highe      yes               NaN  \n",
       "2   72.5lb        NaN         nan         NaN      N/A  15 mg once a day  \n",
       "3       na        140      90mmHg        GOOD       No              20mg  \n",
       "4             135mmhg         NaN        n.a.        Y             20 Mg  \n",
       "5     75kg        125          75        High      Yes               25g  \n",
       "6     None        NAN         NaN      Normal       NO               NaN  \n",
       "7     80.3        122        None         n/a     None              None  \n",
       "8   130lbs                     95        high      NaN             30 MG  \n",
       "9       82        130           0                    n                35  \n",
       "10     -65         45         NaN      Normal      Yes              40ml  "
      ]
     },
     "execution_count": 9,
     "metadata": {},
     "output_type": "execute_result"
    }
   ],
   "source": [
    "#Reset selection by selecting everything:\n",
    "df.q(r'id  /name   %is any;')"
   ]
  },
  {
   "cell_type": "markdown",
   "metadata": {},
   "source": [
    "## row filtering\n",
    "\n",
    "Row filter conditions use the same connector symbols as column conditions but twice, to easily distinguish them."
   ]
  },
  {
   "cell_type": "code",
   "execution_count": 10,
   "metadata": {},
   "outputs": [
    {
     "data": {
      "application/vnd.microsoft.datawrangler.viewer.v0+json": {
       "columns": [
        {
         "name": "index",
         "rawType": "int64",
         "type": "integer"
        },
        {
         "name": "ID",
         "rawType": "int64",
         "type": "integer"
        }
       ],
       "conversionMethod": "pd.DataFrame",
       "ref": "7cd827ad-a6e6-426e-b687-358d75e2eb92",
       "rows": [
        [
         "3",
         "20001"
        ],
        [
         "4",
         "20002"
        ],
        [
         "5",
         "20003"
        ],
        [
         "6",
         "30001"
        ],
        [
         "7",
         "30002"
        ],
        [
         "8",
         "30003"
        ],
        [
         "9",
         "30004"
        ],
        [
         "10",
         "30005"
        ]
       ],
       "shape": {
        "columns": 1,
        "rows": 8
       }
      },
      "text/html": [
       "<div>\n",
       "<style scoped>\n",
       "    .dataframe tbody tr th:only-of-type {\n",
       "        vertical-align: middle;\n",
       "    }\n",
       "\n",
       "    .dataframe tbody tr th {\n",
       "        vertical-align: top;\n",
       "    }\n",
       "\n",
       "    .dataframe thead th {\n",
       "        text-align: right;\n",
       "    }\n",
       "</style>\n",
       "<table border=\"1\" class=\"dataframe\">\n",
       "  <thead>\n",
       "    <tr style=\"text-align: right;\">\n",
       "      <th></th>\n",
       "      <th>ID</th>\n",
       "    </tr>\n",
       "  </thead>\n",
       "  <tbody>\n",
       "    <tr>\n",
       "      <th>3</th>\n",
       "      <td>20001</td>\n",
       "    </tr>\n",
       "    <tr>\n",
       "      <th>4</th>\n",
       "      <td>20002</td>\n",
       "    </tr>\n",
       "    <tr>\n",
       "      <th>5</th>\n",
       "      <td>20003</td>\n",
       "    </tr>\n",
       "    <tr>\n",
       "      <th>6</th>\n",
       "      <td>30001</td>\n",
       "    </tr>\n",
       "    <tr>\n",
       "      <th>7</th>\n",
       "      <td>30002</td>\n",
       "    </tr>\n",
       "    <tr>\n",
       "      <th>8</th>\n",
       "      <td>30003</td>\n",
       "    </tr>\n",
       "    <tr>\n",
       "      <th>9</th>\n",
       "      <td>30004</td>\n",
       "    </tr>\n",
       "    <tr>\n",
       "      <th>10</th>\n",
       "      <td>30005</td>\n",
       "    </tr>\n",
       "  </tbody>\n",
       "</table>\n",
       "</div>"
      ],
      "text/plain": [
       "       ID\n",
       "3   20001\n",
       "4   20002\n",
       "5   20003\n",
       "6   30001\n",
       "7   30002\n",
       "8   30003\n",
       "9   30004\n",
       "10  30005"
      ]
     },
     "execution_count": 10,
     "metadata": {},
     "output_type": "execute_result"
    }
   ],
   "source": [
    "#Select all rows where the value in the \"id\" column is greater than 20000:\n",
    "df.q(r'%id    %%>20000')"
   ]
  },
  {
   "cell_type": "code",
   "execution_count": 11,
   "metadata": {},
   "outputs": [
    {
     "data": {
      "application/vnd.microsoft.datawrangler.viewer.v0+json": {
       "columns": [
        {
         "name": "index",
         "rawType": "int64",
         "type": "integer"
        },
        {
         "name": "ID",
         "rawType": "int64",
         "type": "integer"
        }
       ],
       "conversionMethod": "pd.DataFrame",
       "ref": "0cc4cfed-c7a2-49ec-9e2a-2814d5ed714b",
       "rows": [
        [
         "3",
         "20001"
        ],
        [
         "4",
         "20002"
        ],
        [
         "5",
         "20003"
        ],
        [
         "6",
         "30001"
        ],
        [
         "7",
         "30002"
        ]
       ],
       "shape": {
        "columns": 1,
        "rows": 5
       }
      },
      "text/html": [
       "<div>\n",
       "<style scoped>\n",
       "    .dataframe tbody tr th:only-of-type {\n",
       "        vertical-align: middle;\n",
       "    }\n",
       "\n",
       "    .dataframe tbody tr th {\n",
       "        vertical-align: top;\n",
       "    }\n",
       "\n",
       "    .dataframe thead th {\n",
       "        text-align: right;\n",
       "    }\n",
       "</style>\n",
       "<table border=\"1\" class=\"dataframe\">\n",
       "  <thead>\n",
       "    <tr style=\"text-align: right;\">\n",
       "      <th></th>\n",
       "      <th>ID</th>\n",
       "    </tr>\n",
       "  </thead>\n",
       "  <tbody>\n",
       "    <tr>\n",
       "      <th>3</th>\n",
       "      <td>20001</td>\n",
       "    </tr>\n",
       "    <tr>\n",
       "      <th>4</th>\n",
       "      <td>20002</td>\n",
       "    </tr>\n",
       "    <tr>\n",
       "      <th>5</th>\n",
       "      <td>20003</td>\n",
       "    </tr>\n",
       "    <tr>\n",
       "      <th>6</th>\n",
       "      <td>30001</td>\n",
       "    </tr>\n",
       "    <tr>\n",
       "      <th>7</th>\n",
       "      <td>30002</td>\n",
       "    </tr>\n",
       "  </tbody>\n",
       "</table>\n",
       "</div>"
      ],
      "text/plain": [
       "      ID\n",
       "3  20001\n",
       "4  20002\n",
       "5  20003\n",
       "6  30001\n",
       "7  30002"
      ]
     },
     "execution_count": 11,
     "metadata": {},
     "output_type": "execute_result"
    }
   ],
   "source": [
    "#Select rows based on multiple conditions for the same column:\n",
    "df.q(r'%id    %%>20000    &&<30003')"
   ]
  },
  {
   "cell_type": "code",
   "execution_count": 12,
   "metadata": {},
   "outputs": [
    {
     "data": {
      "application/vnd.microsoft.datawrangler.viewer.v0+json": {
       "columns": [
        {
         "name": "index",
         "rawType": "int64",
         "type": "integer"
        },
        {
         "name": "name",
         "rawType": "object",
         "type": "string"
        }
       ],
       "conversionMethod": "pd.DataFrame",
       "ref": "77d8f0d3-2412-4194-b733-845fb3d1b555",
       "rows": [
        [
         "3",
         "Bob Brown"
        ],
        [
         "4",
         "eva white"
        ],
        [
         "5",
         "Frank miller"
        ],
        [
         "6",
         "Grace TAYLOR"
        ],
        [
         "7",
         "Harry Clark"
        ]
       ],
       "shape": {
        "columns": 1,
        "rows": 5
       }
      },
      "text/html": [
       "<div>\n",
       "<style scoped>\n",
       "    .dataframe tbody tr th:only-of-type {\n",
       "        vertical-align: middle;\n",
       "    }\n",
       "\n",
       "    .dataframe tbody tr th {\n",
       "        vertical-align: top;\n",
       "    }\n",
       "\n",
       "    .dataframe thead th {\n",
       "        text-align: right;\n",
       "    }\n",
       "</style>\n",
       "<table border=\"1\" class=\"dataframe\">\n",
       "  <thead>\n",
       "    <tr style=\"text-align: right;\">\n",
       "      <th></th>\n",
       "      <th>name</th>\n",
       "    </tr>\n",
       "  </thead>\n",
       "  <tbody>\n",
       "    <tr>\n",
       "      <th>3</th>\n",
       "      <td>Bob Brown</td>\n",
       "    </tr>\n",
       "    <tr>\n",
       "      <th>4</th>\n",
       "      <td>eva white</td>\n",
       "    </tr>\n",
       "    <tr>\n",
       "      <th>5</th>\n",
       "      <td>Frank miller</td>\n",
       "    </tr>\n",
       "    <tr>\n",
       "      <th>6</th>\n",
       "      <td>Grace TAYLOR</td>\n",
       "    </tr>\n",
       "    <tr>\n",
       "      <th>7</th>\n",
       "      <td>Harry Clark</td>\n",
       "    </tr>\n",
       "  </tbody>\n",
       "</table>\n",
       "</div>"
      ],
      "text/plain": [
       "           name\n",
       "3     Bob Brown\n",
       "4     eva white\n",
       "5  Frank miller\n",
       "6  Grace TAYLOR\n",
       "7   Harry Clark"
      ]
     },
     "execution_count": 12,
     "metadata": {},
     "output_type": "execute_result"
    }
   ],
   "source": [
    "#Creating a new column selection does not change the row selection:\n",
    "df.q(r'%id    %%>20000    &&<30003   %name')\n",
    "\n",
    "#Equivalent but more readable version:\n",
    "df.q(\n",
    "    r\"\"\"\n",
    "    %id     %%>20000    &&<30003\n",
    "    %name\n",
    "    \"\"\"\n",
    "    )"
   ]
  },
  {
   "cell_type": "code",
   "execution_count": 13,
   "metadata": {},
   "outputs": [
    {
     "data": {
      "application/vnd.microsoft.datawrangler.viewer.v0+json": {
       "columns": [
        {
         "name": "index",
         "rawType": "int64",
         "type": "integer"
        },
        {
         "name": "ID",
         "rawType": "int64",
         "type": "integer"
        },
        {
         "name": "name",
         "rawType": "object",
         "type": "string"
        }
       ],
       "conversionMethod": "pd.DataFrame",
       "ref": "c1684b99-1598-445e-a6b4-a92ba2c50f7a",
       "rows": [
        [
         "3",
         "20001",
         "Bob Brown"
        ],
        [
         "4",
         "20002",
         "eva white"
        ],
        [
         "5",
         "20003",
         "Frank miller"
        ],
        [
         "6",
         "30001",
         "Grace TAYLOR"
        ],
        [
         "7",
         "30002",
         "Harry Clark"
        ]
       ],
       "shape": {
        "columns": 2,
        "rows": 5
       }
      },
      "text/html": [
       "<div>\n",
       "<style scoped>\n",
       "    .dataframe tbody tr th:only-of-type {\n",
       "        vertical-align: middle;\n",
       "    }\n",
       "\n",
       "    .dataframe tbody tr th {\n",
       "        vertical-align: top;\n",
       "    }\n",
       "\n",
       "    .dataframe thead th {\n",
       "        text-align: right;\n",
       "    }\n",
       "</style>\n",
       "<table border=\"1\" class=\"dataframe\">\n",
       "  <thead>\n",
       "    <tr style=\"text-align: right;\">\n",
       "      <th></th>\n",
       "      <th>ID</th>\n",
       "      <th>name</th>\n",
       "    </tr>\n",
       "  </thead>\n",
       "  <tbody>\n",
       "    <tr>\n",
       "      <th>3</th>\n",
       "      <td>20001</td>\n",
       "      <td>Bob Brown</td>\n",
       "    </tr>\n",
       "    <tr>\n",
       "      <th>4</th>\n",
       "      <td>20002</td>\n",
       "      <td>eva white</td>\n",
       "    </tr>\n",
       "    <tr>\n",
       "      <th>5</th>\n",
       "      <td>20003</td>\n",
       "      <td>Frank miller</td>\n",
       "    </tr>\n",
       "    <tr>\n",
       "      <th>6</th>\n",
       "      <td>30001</td>\n",
       "      <td>Grace TAYLOR</td>\n",
       "    </tr>\n",
       "    <tr>\n",
       "      <th>7</th>\n",
       "      <td>30002</td>\n",
       "      <td>Harry Clark</td>\n",
       "    </tr>\n",
       "  </tbody>\n",
       "</table>\n",
       "</div>"
      ],
      "text/plain": [
       "      ID          name\n",
       "3  20001     Bob Brown\n",
       "4  20002     eva white\n",
       "5  20003  Frank miller\n",
       "6  30001  Grace TAYLOR\n",
       "7  30002   Harry Clark"
      ]
     },
     "execution_count": 13,
     "metadata": {},
     "output_type": "execute_result"
    }
   ],
   "source": [
    "#Now lets add a third column selection connected to the second one:\n",
    "df.q(\n",
    "    r\"\"\"\n",
    "    %id     %%>20000    &&<30003\n",
    "    %name\n",
    "    /id\n",
    "    \"\"\"\n",
    "    )\n"
   ]
  },
  {
   "cell_type": "code",
   "execution_count": 14,
   "metadata": {},
   "outputs": [
    {
     "data": {
      "application/vnd.microsoft.datawrangler.viewer.v0+json": {
       "columns": [
        {
         "name": "index",
         "rawType": "int64",
         "type": "integer"
        },
        {
         "name": "ID",
         "rawType": "int64",
         "type": "integer"
        },
        {
         "name": "name",
         "rawType": "object",
         "type": "string"
        }
       ],
       "conversionMethod": "pd.DataFrame",
       "ref": "12fdf2f7-0a5e-49e5-afd2-5b640f9721bb",
       "rows": [
        [
         "3",
         "20001",
         "Bob Brown"
        ]
       ],
       "shape": {
        "columns": 2,
        "rows": 1
       }
      },
      "text/html": [
       "<div>\n",
       "<style scoped>\n",
       "    .dataframe tbody tr th:only-of-type {\n",
       "        vertical-align: middle;\n",
       "    }\n",
       "\n",
       "    .dataframe tbody tr th {\n",
       "        vertical-align: top;\n",
       "    }\n",
       "\n",
       "    .dataframe thead th {\n",
       "        text-align: right;\n",
       "    }\n",
       "</style>\n",
       "<table border=\"1\" class=\"dataframe\">\n",
       "  <thead>\n",
       "    <tr style=\"text-align: right;\">\n",
       "      <th></th>\n",
       "      <th>ID</th>\n",
       "      <th>name</th>\n",
       "    </tr>\n",
       "  </thead>\n",
       "  <tbody>\n",
       "    <tr>\n",
       "      <th>3</th>\n",
       "      <td>20001</td>\n",
       "      <td>Bob Brown</td>\n",
       "    </tr>\n",
       "  </tbody>\n",
       "</table>\n",
       "</div>"
      ],
      "text/plain": [
       "      ID       name\n",
       "3  20001  Bob Brown"
      ]
     },
     "execution_count": 14,
     "metadata": {},
     "output_type": "execute_result"
    }
   ],
   "source": [
    "#This behaviour can be used to select rows using conditions on multiple columns.\n",
    "df.q(\n",
    "    r\"\"\"\n",
    "    %id     %%>20000    &&<30003\n",
    "    %name   &&?bob\n",
    "    /id\n",
    "    \"\"\"\n",
    "    )"
   ]
  },
  {
   "cell_type": "code",
   "execution_count": 15,
   "metadata": {},
   "outputs": [
    {
     "data": {
      "application/vnd.microsoft.datawrangler.viewer.v0+json": {
       "columns": [
        {
         "name": "index",
         "rawType": "int64",
         "type": "integer"
        },
        {
         "name": "ID",
         "rawType": "int64",
         "type": "integer"
        },
        {
         "name": "name",
         "rawType": "object",
         "type": "string"
        },
        {
         "name": "date of birth",
         "rawType": "object",
         "type": "string"
        },
        {
         "name": "age",
         "rawType": "object",
         "type": "unknown"
        },
        {
         "name": "gender",
         "rawType": "object",
         "type": "unknown"
        },
        {
         "name": "height",
         "rawType": "object",
         "type": "unknown"
        },
        {
         "name": "weight",
         "rawType": "object",
         "type": "unknown"
        },
        {
         "name": "bp systole",
         "rawType": "object",
         "type": "unknown"
        },
        {
         "name": "bp diastole",
         "rawType": "object",
         "type": "unknown"
        },
        {
         "name": "cholesterol",
         "rawType": "object",
         "type": "string"
        },
        {
         "name": "diabetes",
         "rawType": "object",
         "type": "unknown"
        },
        {
         "name": "dose",
         "rawType": "object",
         "type": "unknown"
        }
       ],
       "conversionMethod": "pd.DataFrame",
       "ref": "adbf7ddc-49f5-46e2-b640-dc894c706565",
       "rows": [
        [
         "0",
         "10001",
         "John Doe",
         "1995-01-02",
         "-25",
         "M",
         "170",
         "70.2",
         "20",
         "80",
         "Normal",
         "No",
         "10kg"
        ],
        [
         "1",
         "10002",
         "Jane Smith",
         "1990/09/14",
         "30",
         "F",
         "175.5cm",
         "68",
         "130",
         "85",
         "Highe",
         "yes",
         "NaN"
        ],
        [
         "2",
         "10003",
         "Alice Johnson",
         "1985.08.23",
         null,
         "Female",
         null,
         "72.5lb",
         "NaN",
         "nan",
         "NaN",
         "N/A",
         "15 mg once a day"
        ],
        [
         "3",
         "20001",
         "Bob Brown",
         "19800406",
         null,
         "Male",
         "280",
         "na",
         "140",
         "90mmHg",
         "GOOD",
         "No",
         "20mg"
        ],
        [
         "4",
         "20002",
         "eva white",
         "05-11-2007",
         "40.0",
         "Other",
         "NaN",
         "",
         "135mmhg",
         null,
         "n.a.",
         "Y",
         "20 Mg"
        ],
        [
         "5",
         "20003",
         "Frank miller",
         "06-30-1983",
         "forty-five",
         "m",
         "185",
         "75kg",
         "125",
         "75",
         "High",
         "Yes",
         "25g"
        ],
        [
         "6",
         "30001",
         "Grace TAYLOR",
         "28-05-1975",
         "nan",
         "ff",
         "1",
         null,
         "NAN",
         "NaN",
         "Normal",
         "NO",
         "NaN"
        ],
        [
         "7",
         "30002",
         "Harry Clark",
         "1960Mar08",
         "unk",
         "NaN",
         "6ft 1in",
         "80.3",
         "122",
         null,
         "n/a",
         null,
         null
        ],
        [
         "8",
         "30003",
         "IVY GREEN",
         "1955-Jan-09",
         "",
         null,
         "-10",
         "130lbs",
         "",
         "95",
         "high",
         "NaN",
         "30 MG"
        ],
        [
         "9",
         "30004",
         "JAck Williams",
         "1950 Sep 10",
         "unknown",
         "Mal",
         "",
         "82",
         "130",
         "0",
         "",
         "n",
         "35"
        ],
        [
         "10",
         "30005",
         "john Doe",
         "1945 October 11",
         "35",
         "female",
         "200",
         "-65",
         "45",
         "NaN",
         "Normal",
         "Yes",
         "40ml"
        ]
       ],
       "shape": {
        "columns": 12,
        "rows": 11
       }
      },
      "text/html": [
       "<div>\n",
       "<style scoped>\n",
       "    .dataframe tbody tr th:only-of-type {\n",
       "        vertical-align: middle;\n",
       "    }\n",
       "\n",
       "    .dataframe tbody tr th {\n",
       "        vertical-align: top;\n",
       "    }\n",
       "\n",
       "    .dataframe thead th {\n",
       "        text-align: right;\n",
       "    }\n",
       "</style>\n",
       "<table border=\"1\" class=\"dataframe\">\n",
       "  <thead>\n",
       "    <tr style=\"text-align: right;\">\n",
       "      <th></th>\n",
       "      <th>ID</th>\n",
       "      <th>name</th>\n",
       "      <th>date of birth</th>\n",
       "      <th>age</th>\n",
       "      <th>gender</th>\n",
       "      <th>height</th>\n",
       "      <th>weight</th>\n",
       "      <th>bp systole</th>\n",
       "      <th>bp diastole</th>\n",
       "      <th>cholesterol</th>\n",
       "      <th>diabetes</th>\n",
       "      <th>dose</th>\n",
       "    </tr>\n",
       "  </thead>\n",
       "  <tbody>\n",
       "    <tr>\n",
       "      <th>0</th>\n",
       "      <td>10001</td>\n",
       "      <td>John Doe</td>\n",
       "      <td>1995-01-02</td>\n",
       "      <td>-25</td>\n",
       "      <td>M</td>\n",
       "      <td>170</td>\n",
       "      <td>70.2</td>\n",
       "      <td>20</td>\n",
       "      <td>80</td>\n",
       "      <td>Normal</td>\n",
       "      <td>No</td>\n",
       "      <td>10kg</td>\n",
       "    </tr>\n",
       "    <tr>\n",
       "      <th>1</th>\n",
       "      <td>10002</td>\n",
       "      <td>Jane Smith</td>\n",
       "      <td>1990/09/14</td>\n",
       "      <td>30</td>\n",
       "      <td>F</td>\n",
       "      <td>175.5cm</td>\n",
       "      <td>68</td>\n",
       "      <td>130</td>\n",
       "      <td>85</td>\n",
       "      <td>Highe</td>\n",
       "      <td>yes</td>\n",
       "      <td>NaN</td>\n",
       "    </tr>\n",
       "    <tr>\n",
       "      <th>2</th>\n",
       "      <td>10003</td>\n",
       "      <td>Alice Johnson</td>\n",
       "      <td>1985.08.23</td>\n",
       "      <td>NaN</td>\n",
       "      <td>Female</td>\n",
       "      <td>None</td>\n",
       "      <td>72.5lb</td>\n",
       "      <td>NaN</td>\n",
       "      <td>nan</td>\n",
       "      <td>NaN</td>\n",
       "      <td>N/A</td>\n",
       "      <td>15 mg once a day</td>\n",
       "    </tr>\n",
       "    <tr>\n",
       "      <th>3</th>\n",
       "      <td>20001</td>\n",
       "      <td>Bob Brown</td>\n",
       "      <td>19800406</td>\n",
       "      <td>None</td>\n",
       "      <td>Male</td>\n",
       "      <td>280</td>\n",
       "      <td>na</td>\n",
       "      <td>140</td>\n",
       "      <td>90mmHg</td>\n",
       "      <td>GOOD</td>\n",
       "      <td>No</td>\n",
       "      <td>20mg</td>\n",
       "    </tr>\n",
       "    <tr>\n",
       "      <th>4</th>\n",
       "      <td>20002</td>\n",
       "      <td>eva white</td>\n",
       "      <td>05-11-2007</td>\n",
       "      <td>40.0</td>\n",
       "      <td>Other</td>\n",
       "      <td>NaN</td>\n",
       "      <td></td>\n",
       "      <td>135mmhg</td>\n",
       "      <td>NaN</td>\n",
       "      <td>n.a.</td>\n",
       "      <td>Y</td>\n",
       "      <td>20 Mg</td>\n",
       "    </tr>\n",
       "    <tr>\n",
       "      <th>5</th>\n",
       "      <td>20003</td>\n",
       "      <td>Frank miller</td>\n",
       "      <td>06-30-1983</td>\n",
       "      <td>forty-five</td>\n",
       "      <td>m</td>\n",
       "      <td>185</td>\n",
       "      <td>75kg</td>\n",
       "      <td>125</td>\n",
       "      <td>75</td>\n",
       "      <td>High</td>\n",
       "      <td>Yes</td>\n",
       "      <td>25g</td>\n",
       "    </tr>\n",
       "    <tr>\n",
       "      <th>6</th>\n",
       "      <td>30001</td>\n",
       "      <td>Grace TAYLOR</td>\n",
       "      <td>28-05-1975</td>\n",
       "      <td>nan</td>\n",
       "      <td>ff</td>\n",
       "      <td>1</td>\n",
       "      <td>None</td>\n",
       "      <td>NAN</td>\n",
       "      <td>NaN</td>\n",
       "      <td>Normal</td>\n",
       "      <td>NO</td>\n",
       "      <td>NaN</td>\n",
       "    </tr>\n",
       "    <tr>\n",
       "      <th>7</th>\n",
       "      <td>30002</td>\n",
       "      <td>Harry Clark</td>\n",
       "      <td>1960Mar08</td>\n",
       "      <td>unk</td>\n",
       "      <td>NaN</td>\n",
       "      <td>6ft 1in</td>\n",
       "      <td>80.3</td>\n",
       "      <td>122</td>\n",
       "      <td>None</td>\n",
       "      <td>n/a</td>\n",
       "      <td>None</td>\n",
       "      <td>None</td>\n",
       "    </tr>\n",
       "    <tr>\n",
       "      <th>8</th>\n",
       "      <td>30003</td>\n",
       "      <td>IVY GREEN</td>\n",
       "      <td>1955-Jan-09</td>\n",
       "      <td></td>\n",
       "      <td>None</td>\n",
       "      <td>-10</td>\n",
       "      <td>130lbs</td>\n",
       "      <td></td>\n",
       "      <td>95</td>\n",
       "      <td>high</td>\n",
       "      <td>NaN</td>\n",
       "      <td>30 MG</td>\n",
       "    </tr>\n",
       "    <tr>\n",
       "      <th>9</th>\n",
       "      <td>30004</td>\n",
       "      <td>JAck Williams</td>\n",
       "      <td>1950 Sep 10</td>\n",
       "      <td>unknown</td>\n",
       "      <td>Mal</td>\n",
       "      <td></td>\n",
       "      <td>82</td>\n",
       "      <td>130</td>\n",
       "      <td>0</td>\n",
       "      <td></td>\n",
       "      <td>n</td>\n",
       "      <td>35</td>\n",
       "    </tr>\n",
       "    <tr>\n",
       "      <th>10</th>\n",
       "      <td>30005</td>\n",
       "      <td>john Doe</td>\n",
       "      <td>1945 October 11</td>\n",
       "      <td>35</td>\n",
       "      <td>female</td>\n",
       "      <td>200</td>\n",
       "      <td>-65</td>\n",
       "      <td>45</td>\n",
       "      <td>NaN</td>\n",
       "      <td>Normal</td>\n",
       "      <td>Yes</td>\n",
       "      <td>40ml</td>\n",
       "    </tr>\n",
       "  </tbody>\n",
       "</table>\n",
       "</div>"
      ],
      "text/plain": [
       "       ID           name    date of birth         age  gender   height  \\\n",
       "0   10001       John Doe       1995-01-02         -25       M      170   \n",
       "1   10002     Jane Smith       1990/09/14          30       F  175.5cm   \n",
       "2   10003  Alice Johnson       1985.08.23         NaN  Female     None   \n",
       "3   20001      Bob Brown         19800406        None    Male      280   \n",
       "4   20002      eva white       05-11-2007        40.0   Other      NaN   \n",
       "5   20003   Frank miller       06-30-1983  forty-five       m      185   \n",
       "6   30001   Grace TAYLOR       28-05-1975         nan      ff        1   \n",
       "7   30002    Harry Clark        1960Mar08         unk     NaN  6ft 1in   \n",
       "8   30003      IVY GREEN      1955-Jan-09                None      -10   \n",
       "9   30004  JAck Williams      1950 Sep 10     unknown     Mal            \n",
       "10  30005       john Doe  1945 October 11          35  female      200   \n",
       "\n",
       "    weight bp systole bp diastole cholesterol diabetes              dose  \n",
       "0     70.2         20          80      Normal       No              10kg  \n",
       "1       68        130          85       Highe      yes               NaN  \n",
       "2   72.5lb        NaN         nan         NaN      N/A  15 mg once a day  \n",
       "3       na        140      90mmHg        GOOD       No              20mg  \n",
       "4             135mmhg         NaN        n.a.        Y             20 Mg  \n",
       "5     75kg        125          75        High      Yes               25g  \n",
       "6     None        NAN         NaN      Normal       NO               NaN  \n",
       "7     80.3        122        None         n/a     None              None  \n",
       "8   130lbs                     95        high      NaN             30 MG  \n",
       "9       82        130           0                    n                35  \n",
       "10     -65         45         NaN      Normal      Yes              40ml  "
      ]
     },
     "execution_count": 15,
     "metadata": {},
     "output_type": "execute_result"
    }
   ],
   "source": [
    "#Reset selection by selecting everything:\n",
    "df.q(\n",
    "    r\"\"\"\n",
    "    %id      %%>20000    &&<30003\n",
    "    %name    &&?bob\n",
    "    /id\n",
    "    is any;  %%is any;\n",
    "    \"\"\"\n",
    "    )"
   ]
  },
  {
   "cell_type": "markdown",
   "metadata": {},
   "source": [
    "## flags\n",
    "\n",
    "A number of flags can be used to modify the behaviour of selection conditions."
   ]
  },
  {
   "cell_type": "code",
   "execution_count": 16,
   "metadata": {},
   "outputs": [
    {
     "data": {
      "application/vnd.microsoft.datawrangler.viewer.v0+json": {
       "columns": [
        {
         "name": "index",
         "rawType": "int64",
         "type": "integer"
        },
        {
         "name": "ID",
         "rawType": "int64",
         "type": "integer"
        }
       ],
       "conversionMethod": "pd.DataFrame",
       "ref": "e3a09028-4967-401a-8f40-59572de59727",
       "rows": [
        [
         "0",
         "10001"
        ],
        [
         "1",
         "10002"
        ],
        [
         "2",
         "10003"
        ]
       ],
       "shape": {
        "columns": 1,
        "rows": 3
       }
      },
      "text/html": [
       "<div>\n",
       "<style scoped>\n",
       "    .dataframe tbody tr th:only-of-type {\n",
       "        vertical-align: middle;\n",
       "    }\n",
       "\n",
       "    .dataframe tbody tr th {\n",
       "        vertical-align: top;\n",
       "    }\n",
       "\n",
       "    .dataframe thead th {\n",
       "        text-align: right;\n",
       "    }\n",
       "</style>\n",
       "<table border=\"1\" class=\"dataframe\">\n",
       "  <thead>\n",
       "    <tr style=\"text-align: right;\">\n",
       "      <th></th>\n",
       "      <th>ID</th>\n",
       "    </tr>\n",
       "  </thead>\n",
       "  <tbody>\n",
       "    <tr>\n",
       "      <th>0</th>\n",
       "      <td>10001</td>\n",
       "    </tr>\n",
       "    <tr>\n",
       "      <th>1</th>\n",
       "      <td>10002</td>\n",
       "    </tr>\n",
       "    <tr>\n",
       "      <th>2</th>\n",
       "      <td>10003</td>\n",
       "    </tr>\n",
       "  </tbody>\n",
       "</table>\n",
       "</div>"
      ],
      "text/plain": [
       "      ID\n",
       "0  10001\n",
       "1  10002\n",
       "2  10003"
      ]
     },
     "execution_count": 16,
     "metadata": {},
     "output_type": "execute_result"
    }
   ],
   "source": [
    "#Negate a condition\n",
    "df.q(r'%id    %%!>20000')"
   ]
  },
  {
   "cell_type": "code",
   "execution_count": 17,
   "metadata": {},
   "outputs": [
    {
     "data": {
      "application/vnd.microsoft.datawrangler.viewer.v0+json": {
       "columns": [
        {
         "name": "index",
         "rawType": "int64",
         "type": "integer"
        },
        {
         "name": "height",
         "rawType": "object",
         "type": "unknown"
        },
        {
         "name": "weight",
         "rawType": "object",
         "type": "unknown"
        }
       ],
       "conversionMethod": "pd.DataFrame",
       "ref": "dff5d3da-9310-455c-b6d8-f4a8bfce9def",
       "rows": [
        [
         "0",
         "170",
         "70.2"
        ]
       ],
       "shape": {
        "columns": 2,
        "rows": 1
       }
      },
      "text/html": [
       "<div>\n",
       "<style scoped>\n",
       "    .dataframe tbody tr th:only-of-type {\n",
       "        vertical-align: middle;\n",
       "    }\n",
       "\n",
       "    .dataframe tbody tr th {\n",
       "        vertical-align: top;\n",
       "    }\n",
       "\n",
       "    .dataframe thead th {\n",
       "        text-align: right;\n",
       "    }\n",
       "</style>\n",
       "<table border=\"1\" class=\"dataframe\">\n",
       "  <thead>\n",
       "    <tr style=\"text-align: right;\">\n",
       "      <th></th>\n",
       "      <th>height</th>\n",
       "      <th>weight</th>\n",
       "    </tr>\n",
       "  </thead>\n",
       "  <tbody>\n",
       "    <tr>\n",
       "      <th>0</th>\n",
       "      <td>170</td>\n",
       "      <td>70.2</td>\n",
       "    </tr>\n",
       "  </tbody>\n",
       "</table>\n",
       "</div>"
      ],
      "text/plain": [
       "  height weight\n",
       "0    170   70.2"
      ]
     },
     "execution_count": 17,
     "metadata": {},
     "output_type": "execute_result"
    }
   ],
   "source": [
    "#All values in the selected columns must fulfill the row filter condition:\n",
    "df.q(r'weight  /height    %%all>0')"
   ]
  },
  {
   "cell_type": "code",
   "execution_count": 18,
   "metadata": {},
   "outputs": [
    {
     "data": {
      "application/vnd.microsoft.datawrangler.viewer.v0+json": {
       "columns": [
        {
         "name": "index",
         "rawType": "int64",
         "type": "integer"
        },
        {
         "name": "height",
         "rawType": "object",
         "type": "unknown"
        },
        {
         "name": "weight",
         "rawType": "object",
         "type": "unknown"
        }
       ],
       "conversionMethod": "pd.DataFrame",
       "ref": "048da9f9-52b7-41f9-a429-7ec7fc8ee5e8",
       "rows": [
        [
         "0",
         "170",
         "70.2"
        ],
        [
         "1",
         "175.5cm",
         "68"
        ],
        [
         "3",
         "280",
         "na"
        ],
        [
         "5",
         "185",
         "75kg"
        ],
        [
         "7",
         "6ft 1in",
         "80.3"
        ],
        [
         "9",
         "",
         "82"
        ],
        [
         "10",
         "200",
         "-65"
        ]
       ],
       "shape": {
        "columns": 2,
        "rows": 7
       }
      },
      "text/html": [
       "<div>\n",
       "<style scoped>\n",
       "    .dataframe tbody tr th:only-of-type {\n",
       "        vertical-align: middle;\n",
       "    }\n",
       "\n",
       "    .dataframe tbody tr th {\n",
       "        vertical-align: top;\n",
       "    }\n",
       "\n",
       "    .dataframe thead th {\n",
       "        text-align: right;\n",
       "    }\n",
       "</style>\n",
       "<table border=\"1\" class=\"dataframe\">\n",
       "  <thead>\n",
       "    <tr style=\"text-align: right;\">\n",
       "      <th></th>\n",
       "      <th>height</th>\n",
       "      <th>weight</th>\n",
       "    </tr>\n",
       "  </thead>\n",
       "  <tbody>\n",
       "    <tr>\n",
       "      <th>0</th>\n",
       "      <td>170</td>\n",
       "      <td>70.2</td>\n",
       "    </tr>\n",
       "    <tr>\n",
       "      <th>1</th>\n",
       "      <td>175.5cm</td>\n",
       "      <td>68</td>\n",
       "    </tr>\n",
       "    <tr>\n",
       "      <th>3</th>\n",
       "      <td>280</td>\n",
       "      <td>na</td>\n",
       "    </tr>\n",
       "    <tr>\n",
       "      <th>5</th>\n",
       "      <td>185</td>\n",
       "      <td>75kg</td>\n",
       "    </tr>\n",
       "    <tr>\n",
       "      <th>7</th>\n",
       "      <td>6ft 1in</td>\n",
       "      <td>80.3</td>\n",
       "    </tr>\n",
       "    <tr>\n",
       "      <th>9</th>\n",
       "      <td></td>\n",
       "      <td>82</td>\n",
       "    </tr>\n",
       "    <tr>\n",
       "      <th>10</th>\n",
       "      <td>200</td>\n",
       "      <td>-65</td>\n",
       "    </tr>\n",
       "  </tbody>\n",
       "</table>\n",
       "</div>"
      ],
      "text/plain": [
       "     height weight\n",
       "0       170   70.2\n",
       "1   175.5cm     68\n",
       "3       280     na\n",
       "5       185   75kg\n",
       "7   6ft 1in   80.3\n",
       "9               82\n",
       "10      200    -65"
      ]
     },
     "execution_count": 18,
     "metadata": {},
     "output_type": "execute_result"
    }
   ],
   "source": [
    "#Any value in the selected columns must fulfill the row filter condition (default behaviour):\n",
    "df.q(r'weight  /height    %%any>10')"
   ]
  },
  {
   "cell_type": "code",
   "execution_count": 19,
   "metadata": {},
   "outputs": [
    {
     "data": {
      "text/html": [
       "<style type=\"text/css\">\n",
       "#T_62c9e_row0_col0, #T_62c9e_row0_col1, #T_62c9e_row1_col1, #T_62c9e_row2_col0, #T_62c9e_row3_col0, #T_62c9e_row4_col1, #T_62c9e_row5_col1, #T_62c9e_row6_col0 {\n",
       "  background-color: orange;\n",
       "}\n",
       "</style>\n",
       "<table id=\"T_62c9e\">\n",
       "  <thead>\n",
       "    <tr>\n",
       "      <th class=\"blank level0\" >&nbsp;</th>\n",
       "      <th id=\"T_62c9e_level0_col0\" class=\"col_heading level0 col0\" >height</th>\n",
       "      <th id=\"T_62c9e_level0_col1\" class=\"col_heading level0 col1\" >weight</th>\n",
       "    </tr>\n",
       "  </thead>\n",
       "  <tbody>\n",
       "    <tr>\n",
       "      <th id=\"T_62c9e_level0_row0\" class=\"row_heading level0 row0\" >0</th>\n",
       "      <td id=\"T_62c9e_row0_col0\" class=\"data row0 col0\" >170</td>\n",
       "      <td id=\"T_62c9e_row0_col1\" class=\"data row0 col1\" >70.200000</td>\n",
       "    </tr>\n",
       "    <tr>\n",
       "      <th id=\"T_62c9e_level0_row1\" class=\"row_heading level0 row1\" >1</th>\n",
       "      <td id=\"T_62c9e_row1_col0\" class=\"data row1 col0\" >175.5cm</td>\n",
       "      <td id=\"T_62c9e_row1_col1\" class=\"data row1 col1\" >68</td>\n",
       "    </tr>\n",
       "    <tr>\n",
       "      <th id=\"T_62c9e_level0_row2\" class=\"row_heading level0 row2\" >3</th>\n",
       "      <td id=\"T_62c9e_row2_col0\" class=\"data row2 col0\" >280</td>\n",
       "      <td id=\"T_62c9e_row2_col1\" class=\"data row2 col1\" >na</td>\n",
       "    </tr>\n",
       "    <tr>\n",
       "      <th id=\"T_62c9e_level0_row3\" class=\"row_heading level0 row3\" >5</th>\n",
       "      <td id=\"T_62c9e_row3_col0\" class=\"data row3 col0\" >185</td>\n",
       "      <td id=\"T_62c9e_row3_col1\" class=\"data row3 col1\" >75kg</td>\n",
       "    </tr>\n",
       "    <tr>\n",
       "      <th id=\"T_62c9e_level0_row4\" class=\"row_heading level0 row4\" >7</th>\n",
       "      <td id=\"T_62c9e_row4_col0\" class=\"data row4 col0\" >6ft 1in</td>\n",
       "      <td id=\"T_62c9e_row4_col1\" class=\"data row4 col1\" >80.3</td>\n",
       "    </tr>\n",
       "    <tr>\n",
       "      <th id=\"T_62c9e_level0_row5\" class=\"row_heading level0 row5\" >9</th>\n",
       "      <td id=\"T_62c9e_row5_col0\" class=\"data row5 col0\" ></td>\n",
       "      <td id=\"T_62c9e_row5_col1\" class=\"data row5 col1\" >82</td>\n",
       "    </tr>\n",
       "    <tr>\n",
       "      <th id=\"T_62c9e_level0_row6\" class=\"row_heading level0 row6\" >10</th>\n",
       "      <td id=\"T_62c9e_row6_col0\" class=\"data row6 col0\" >200</td>\n",
       "      <td id=\"T_62c9e_row6_col1\" class=\"data row6 col1\" >-65</td>\n",
       "    </tr>\n",
       "  </tbody>\n",
       "</table>\n"
      ],
      "text/plain": [
       "<pandas.io.formats.style.Styler at 0x1779a71e350>"
      ]
     },
     "execution_count": 19,
     "metadata": {},
     "output_type": "execute_result"
    }
   ],
   "source": [
    "#Select each value in the selected columns that fulfills the row filter condition:\n",
    "#(using background color to highlight the selected values)\n",
    "df.q(r'weight  /height    %%each>10   $bg=orange')"
   ]
  },
  {
   "cell_type": "code",
   "execution_count": 20,
   "metadata": {},
   "outputs": [
    {
     "data": {
      "text/html": [
       "<style type=\"text/css\">\n",
       "#T_31b69_row0_col0, #T_31b69_row0_col1, #T_31b69_row1_col0, #T_31b69_row1_col1, #T_31b69_row2_col0, #T_31b69_row2_col1, #T_31b69_row3_col0, #T_31b69_row3_col1, #T_31b69_row4_col0, #T_31b69_row4_col1, #T_31b69_row5_col0, #T_31b69_row5_col1, #T_31b69_row6_col0, #T_31b69_row6_col1 {\n",
       "  background-color: orange;\n",
       "}\n",
       "</style>\n",
       "<table id=\"T_31b69\">\n",
       "  <thead>\n",
       "    <tr>\n",
       "      <th class=\"blank level0\" >&nbsp;</th>\n",
       "      <th id=\"T_31b69_level0_col0\" class=\"col_heading level0 col0\" >height</th>\n",
       "      <th id=\"T_31b69_level0_col1\" class=\"col_heading level0 col1\" >weight</th>\n",
       "    </tr>\n",
       "  </thead>\n",
       "  <tbody>\n",
       "    <tr>\n",
       "      <th id=\"T_31b69_level0_row0\" class=\"row_heading level0 row0\" >0</th>\n",
       "      <td id=\"T_31b69_row0_col0\" class=\"data row0 col0\" >170</td>\n",
       "      <td id=\"T_31b69_row0_col1\" class=\"data row0 col1\" >70.200000</td>\n",
       "    </tr>\n",
       "    <tr>\n",
       "      <th id=\"T_31b69_level0_row1\" class=\"row_heading level0 row1\" >1</th>\n",
       "      <td id=\"T_31b69_row1_col0\" class=\"data row1 col0\" >175.5cm</td>\n",
       "      <td id=\"T_31b69_row1_col1\" class=\"data row1 col1\" >68</td>\n",
       "    </tr>\n",
       "    <tr>\n",
       "      <th id=\"T_31b69_level0_row2\" class=\"row_heading level0 row2\" >3</th>\n",
       "      <td id=\"T_31b69_row2_col0\" class=\"data row2 col0\" >280</td>\n",
       "      <td id=\"T_31b69_row2_col1\" class=\"data row2 col1\" >na</td>\n",
       "    </tr>\n",
       "    <tr>\n",
       "      <th id=\"T_31b69_level0_row3\" class=\"row_heading level0 row3\" >5</th>\n",
       "      <td id=\"T_31b69_row3_col0\" class=\"data row3 col0\" >185</td>\n",
       "      <td id=\"T_31b69_row3_col1\" class=\"data row3 col1\" >75kg</td>\n",
       "    </tr>\n",
       "    <tr>\n",
       "      <th id=\"T_31b69_level0_row4\" class=\"row_heading level0 row4\" >7</th>\n",
       "      <td id=\"T_31b69_row4_col0\" class=\"data row4 col0\" >6ft 1in</td>\n",
       "      <td id=\"T_31b69_row4_col1\" class=\"data row4 col1\" >80.3</td>\n",
       "    </tr>\n",
       "    <tr>\n",
       "      <th id=\"T_31b69_level0_row5\" class=\"row_heading level0 row5\" >9</th>\n",
       "      <td id=\"T_31b69_row5_col0\" class=\"data row5 col0\" ></td>\n",
       "      <td id=\"T_31b69_row5_col1\" class=\"data row5 col1\" >82</td>\n",
       "    </tr>\n",
       "    <tr>\n",
       "      <th id=\"T_31b69_level0_row6\" class=\"row_heading level0 row6\" >10</th>\n",
       "      <td id=\"T_31b69_row6_col0\" class=\"data row6 col0\" >200</td>\n",
       "      <td id=\"T_31b69_row6_col1\" class=\"data row6 col1\" >-65</td>\n",
       "    </tr>\n",
       "  </tbody>\n",
       "</table>\n"
      ],
      "text/plain": [
       "<pandas.io.formats.style.Styler at 0x1779a71df90>"
      ]
     },
     "execution_count": 20,
     "metadata": {},
     "output_type": "execute_result"
    }
   ],
   "source": [
    "#Compare to the previous example but now with highlighting:\n",
    "df.q(r'weight  /height    %%any>10   $bg=orange')"
   ]
  },
  {
   "cell_type": "code",
   "execution_count": 21,
   "metadata": {},
   "outputs": [
    {
     "data": {
      "application/vnd.microsoft.datawrangler.viewer.v0+json": {
       "columns": [
        {
         "name": "index",
         "rawType": "int64",
         "type": "integer"
        },
        {
         "name": "height",
         "rawType": "object",
         "type": "unknown"
        },
        {
         "name": "weight",
         "rawType": "object",
         "type": "unknown"
        }
       ],
       "conversionMethod": "pd.DataFrame",
       "ref": "1f782652-cf3c-4991-bb0e-e9b3fce295f8",
       "rows": [
        [
         "6",
         "1",
         null
        ],
        [
         "7",
         "6ft 1in",
         "80.3"
        ],
        [
         "8",
         "-10",
         "130lbs"
        ],
        [
         "9",
         "",
         "82"
        ],
        [
         "10",
         "200",
         "-65"
        ]
       ],
       "shape": {
        "columns": 2,
        "rows": 5
       }
      },
      "text/html": [
       "<div>\n",
       "<style scoped>\n",
       "    .dataframe tbody tr th:only-of-type {\n",
       "        vertical-align: middle;\n",
       "    }\n",
       "\n",
       "    .dataframe tbody tr th {\n",
       "        vertical-align: top;\n",
       "    }\n",
       "\n",
       "    .dataframe thead th {\n",
       "        text-align: right;\n",
       "    }\n",
       "</style>\n",
       "<table border=\"1\" class=\"dataframe\">\n",
       "  <thead>\n",
       "    <tr style=\"text-align: right;\">\n",
       "      <th></th>\n",
       "      <th>height</th>\n",
       "      <th>weight</th>\n",
       "    </tr>\n",
       "  </thead>\n",
       "  <tbody>\n",
       "    <tr>\n",
       "      <th>6</th>\n",
       "      <td>1</td>\n",
       "      <td>None</td>\n",
       "    </tr>\n",
       "    <tr>\n",
       "      <th>7</th>\n",
       "      <td>6ft 1in</td>\n",
       "      <td>80.3</td>\n",
       "    </tr>\n",
       "    <tr>\n",
       "      <th>8</th>\n",
       "      <td>-10</td>\n",
       "      <td>130lbs</td>\n",
       "    </tr>\n",
       "    <tr>\n",
       "      <th>9</th>\n",
       "      <td></td>\n",
       "      <td>82</td>\n",
       "    </tr>\n",
       "    <tr>\n",
       "      <th>10</th>\n",
       "      <td>200</td>\n",
       "      <td>-65</td>\n",
       "    </tr>\n",
       "  </tbody>\n",
       "</table>\n",
       "</div>"
      ],
      "text/plain": [
       "     height  weight\n",
       "6         1    None\n",
       "7   6ft 1in    80.3\n",
       "8       -10  130lbs\n",
       "9                82\n",
       "10      200     -65"
      ]
     },
     "execution_count": 21,
     "metadata": {},
     "output_type": "execute_result"
    }
   ],
   "source": [
    "#The index must fulfill the row filter condition:\n",
    "df.q(r'weight  /height    %%idx>5')"
   ]
  },
  {
   "cell_type": "code",
   "execution_count": 22,
   "metadata": {},
   "outputs": [
    {
     "data": {
      "application/vnd.microsoft.datawrangler.viewer.v0+json": {
       "columns": [
        {
         "name": "index",
         "rawType": "int64",
         "type": "integer"
        },
        {
         "name": "name",
         "rawType": "object",
         "type": "string"
        }
       ],
       "conversionMethod": "pd.DataFrame",
       "ref": "d897494b-0552-4780-bf78-06bcfa91c7bb",
       "rows": [
        [
         "0",
         "John Doe"
        ],
        [
         "10",
         "john Doe"
        ]
       ],
       "shape": {
        "columns": 1,
        "rows": 2
       }
      },
      "text/html": [
       "<div>\n",
       "<style scoped>\n",
       "    .dataframe tbody tr th:only-of-type {\n",
       "        vertical-align: middle;\n",
       "    }\n",
       "\n",
       "    .dataframe tbody tr th {\n",
       "        vertical-align: top;\n",
       "    }\n",
       "\n",
       "    .dataframe thead th {\n",
       "        text-align: right;\n",
       "    }\n",
       "</style>\n",
       "<table border=\"1\" class=\"dataframe\">\n",
       "  <thead>\n",
       "    <tr style=\"text-align: right;\">\n",
       "      <th></th>\n",
       "      <th>name</th>\n",
       "    </tr>\n",
       "  </thead>\n",
       "  <tbody>\n",
       "    <tr>\n",
       "      <th>0</th>\n",
       "      <td>John Doe</td>\n",
       "    </tr>\n",
       "    <tr>\n",
       "      <th>10</th>\n",
       "      <td>john Doe</td>\n",
       "    </tr>\n",
       "  </tbody>\n",
       "</table>\n",
       "</div>"
      ],
      "text/plain": [
       "        name\n",
       "0   John Doe\n",
       "10  john Doe"
      ]
     },
     "execution_count": 22,
     "metadata": {},
     "output_type": "execute_result"
    }
   ],
   "source": [
    "#Interpret the value for comparison as a regex:\n",
    "df.q(r'name  %%regex=........')  #matches any name with 8 characters"
   ]
  },
  {
   "cell_type": "code",
   "execution_count": 23,
   "metadata": {},
   "outputs": [
    {
     "data": {
      "application/vnd.microsoft.datawrangler.viewer.v0+json": {
       "columns": [
        {
         "name": "index",
         "rawType": "int64",
         "type": "integer"
        },
        {
         "name": "name",
         "rawType": "object",
         "type": "string"
        }
       ],
       "conversionMethod": "pd.DataFrame",
       "ref": "357983a0-f44c-4e62-b243-28fb559e62a7",
       "rows": [
        [
         "0",
         "John Doe"
        ],
        [
         "1",
         "Jane Smith"
        ],
        [
         "9",
         "JAck Williams"
        ]
       ],
       "shape": {
        "columns": 1,
        "rows": 3
       }
      },
      "text/html": [
       "<div>\n",
       "<style scoped>\n",
       "    .dataframe tbody tr th:only-of-type {\n",
       "        vertical-align: middle;\n",
       "    }\n",
       "\n",
       "    .dataframe tbody tr th {\n",
       "        vertical-align: top;\n",
       "    }\n",
       "\n",
       "    .dataframe thead th {\n",
       "        text-align: right;\n",
       "    }\n",
       "</style>\n",
       "<table border=\"1\" class=\"dataframe\">\n",
       "  <thead>\n",
       "    <tr style=\"text-align: right;\">\n",
       "      <th></th>\n",
       "      <th>name</th>\n",
       "    </tr>\n",
       "  </thead>\n",
       "  <tbody>\n",
       "    <tr>\n",
       "      <th>0</th>\n",
       "      <td>John Doe</td>\n",
       "    </tr>\n",
       "    <tr>\n",
       "      <th>1</th>\n",
       "      <td>Jane Smith</td>\n",
       "    </tr>\n",
       "    <tr>\n",
       "      <th>9</th>\n",
       "      <td>JAck Williams</td>\n",
       "    </tr>\n",
       "  </tbody>\n",
       "</table>\n",
       "</div>"
      ],
      "text/plain": [
       "            name\n",
       "0       John Doe\n",
       "1     Jane Smith\n",
       "9  JAck Williams"
      ]
     },
     "execution_count": 23,
     "metadata": {},
     "output_type": "execute_result"
    }
   ],
   "source": [
    "#Also works with substring search:\n",
    "\n",
    "#Select all rows where the name contains \"J\" followed by any 3 characters and then whitespace:\n",
    "df.q(r'name    %% regex ? J...\\s')"
   ]
  },
  {
   "cell_type": "markdown",
   "metadata": {},
   "source": [
    "## type filtering\n",
    "\n",
    "The query language was designed to handle very messy datasets where sometimes no strict typing (or any typing at all!) is enforced during data entry. Therefor, operators like \"is date;\" do not filter based on the types in the dataset (sometimes all values are strings), but rather if it makes sense for a value to be of a certain type. Obviously, what makes sense depends on the domain and the assumptions for qplib might not align with your use case.\n",
    "\n",
    "Using the flag \"strict\" switches to strict type filtering."
   ]
  },
  {
   "cell_type": "code",
   "execution_count": 24,
   "metadata": {},
   "outputs": [
    {
     "data": {
      "application/vnd.microsoft.datawrangler.viewer.v0+json": {
       "columns": [
        {
         "name": "index",
         "rawType": "int64",
         "type": "integer"
        },
        {
         "name": "ID",
         "rawType": "int64",
         "type": "integer"
        },
        {
         "name": "name",
         "rawType": "object",
         "type": "string"
        },
        {
         "name": "date of birth",
         "rawType": "object",
         "type": "string"
        },
        {
         "name": "age",
         "rawType": "object",
         "type": "unknown"
        },
        {
         "name": "gender",
         "rawType": "object",
         "type": "unknown"
        },
        {
         "name": "height",
         "rawType": "object",
         "type": "unknown"
        },
        {
         "name": "weight",
         "rawType": "object",
         "type": "unknown"
        },
        {
         "name": "bp systole",
         "rawType": "object",
         "type": "unknown"
        },
        {
         "name": "bp diastole",
         "rawType": "object",
         "type": "unknown"
        },
        {
         "name": "cholesterol",
         "rawType": "object",
         "type": "string"
        },
        {
         "name": "diabetes",
         "rawType": "object",
         "type": "unknown"
        },
        {
         "name": "dose",
         "rawType": "object",
         "type": "unknown"
        }
       ],
       "conversionMethod": "pd.DataFrame",
       "ref": "3ce25e96-76c9-467b-b5c8-822e25e91f72",
       "rows": [
        [
         "0",
         "10001",
         "John Doe",
         "1995-01-02",
         "-25",
         "M",
         "170",
         "70.2",
         "20",
         "80",
         "Normal",
         "No",
         "10kg"
        ],
        [
         "1",
         "10002",
         "Jane Smith",
         "1990/09/14",
         "30",
         "F",
         "175.5cm",
         "68",
         "130",
         "85",
         "Highe",
         "yes",
         "NaN"
        ],
        [
         "2",
         "10003",
         "Alice Johnson",
         "1985.08.23",
         null,
         "Female",
         null,
         "72.5lb",
         "NaN",
         "nan",
         "NaN",
         "N/A",
         "15 mg once a day"
        ],
        [
         "3",
         "20001",
         "Bob Brown",
         "19800406",
         null,
         "Male",
         "280",
         "na",
         "140",
         "90mmHg",
         "GOOD",
         "No",
         "20mg"
        ],
        [
         "4",
         "20002",
         "eva white",
         "05-11-2007",
         "40.0",
         "Other",
         "NaN",
         "",
         "135mmhg",
         null,
         "n.a.",
         "Y",
         "20 Mg"
        ],
        [
         "5",
         "20003",
         "Frank miller",
         "06-30-1983",
         "forty-five",
         "m",
         "185",
         "75kg",
         "125",
         "75",
         "High",
         "Yes",
         "25g"
        ],
        [
         "6",
         "30001",
         "Grace TAYLOR",
         "28-05-1975",
         "nan",
         "ff",
         "1",
         null,
         "NAN",
         "NaN",
         "Normal",
         "NO",
         "NaN"
        ],
        [
         "7",
         "30002",
         "Harry Clark",
         "1960Mar08",
         "unk",
         "NaN",
         "6ft 1in",
         "80.3",
         "122",
         null,
         "n/a",
         null,
         null
        ],
        [
         "8",
         "30003",
         "IVY GREEN",
         "1955-Jan-09",
         "",
         null,
         "-10",
         "130lbs",
         "",
         "95",
         "high",
         "NaN",
         "30 MG"
        ],
        [
         "9",
         "30004",
         "JAck Williams",
         "1950 Sep 10",
         "unknown",
         "Mal",
         "",
         "82",
         "130",
         "0",
         "",
         "n",
         "35"
        ],
        [
         "10",
         "30005",
         "john Doe",
         "1945 October 11",
         "35",
         "female",
         "200",
         "-65",
         "45",
         "NaN",
         "Normal",
         "Yes",
         "40ml"
        ]
       ],
       "shape": {
        "columns": 12,
        "rows": 11
       }
      },
      "text/html": [
       "<div>\n",
       "<style scoped>\n",
       "    .dataframe tbody tr th:only-of-type {\n",
       "        vertical-align: middle;\n",
       "    }\n",
       "\n",
       "    .dataframe tbody tr th {\n",
       "        vertical-align: top;\n",
       "    }\n",
       "\n",
       "    .dataframe thead th {\n",
       "        text-align: right;\n",
       "    }\n",
       "</style>\n",
       "<table border=\"1\" class=\"dataframe\">\n",
       "  <thead>\n",
       "    <tr style=\"text-align: right;\">\n",
       "      <th></th>\n",
       "      <th>ID</th>\n",
       "      <th>name</th>\n",
       "      <th>date of birth</th>\n",
       "      <th>age</th>\n",
       "      <th>gender</th>\n",
       "      <th>height</th>\n",
       "      <th>weight</th>\n",
       "      <th>bp systole</th>\n",
       "      <th>bp diastole</th>\n",
       "      <th>cholesterol</th>\n",
       "      <th>diabetes</th>\n",
       "      <th>dose</th>\n",
       "    </tr>\n",
       "  </thead>\n",
       "  <tbody>\n",
       "    <tr>\n",
       "      <th>0</th>\n",
       "      <td>10001</td>\n",
       "      <td>John Doe</td>\n",
       "      <td>1995-01-02</td>\n",
       "      <td>-25</td>\n",
       "      <td>M</td>\n",
       "      <td>170</td>\n",
       "      <td>70.2</td>\n",
       "      <td>20</td>\n",
       "      <td>80</td>\n",
       "      <td>Normal</td>\n",
       "      <td>No</td>\n",
       "      <td>10kg</td>\n",
       "    </tr>\n",
       "    <tr>\n",
       "      <th>1</th>\n",
       "      <td>10002</td>\n",
       "      <td>Jane Smith</td>\n",
       "      <td>1990/09/14</td>\n",
       "      <td>30</td>\n",
       "      <td>F</td>\n",
       "      <td>175.5cm</td>\n",
       "      <td>68</td>\n",
       "      <td>130</td>\n",
       "      <td>85</td>\n",
       "      <td>Highe</td>\n",
       "      <td>yes</td>\n",
       "      <td>NaN</td>\n",
       "    </tr>\n",
       "    <tr>\n",
       "      <th>2</th>\n",
       "      <td>10003</td>\n",
       "      <td>Alice Johnson</td>\n",
       "      <td>1985.08.23</td>\n",
       "      <td>NaN</td>\n",
       "      <td>Female</td>\n",
       "      <td>None</td>\n",
       "      <td>72.5lb</td>\n",
       "      <td>NaN</td>\n",
       "      <td>nan</td>\n",
       "      <td>NaN</td>\n",
       "      <td>N/A</td>\n",
       "      <td>15 mg once a day</td>\n",
       "    </tr>\n",
       "    <tr>\n",
       "      <th>3</th>\n",
       "      <td>20001</td>\n",
       "      <td>Bob Brown</td>\n",
       "      <td>19800406</td>\n",
       "      <td>None</td>\n",
       "      <td>Male</td>\n",
       "      <td>280</td>\n",
       "      <td>na</td>\n",
       "      <td>140</td>\n",
       "      <td>90mmHg</td>\n",
       "      <td>GOOD</td>\n",
       "      <td>No</td>\n",
       "      <td>20mg</td>\n",
       "    </tr>\n",
       "    <tr>\n",
       "      <th>4</th>\n",
       "      <td>20002</td>\n",
       "      <td>eva white</td>\n",
       "      <td>05-11-2007</td>\n",
       "      <td>40.0</td>\n",
       "      <td>Other</td>\n",
       "      <td>NaN</td>\n",
       "      <td></td>\n",
       "      <td>135mmhg</td>\n",
       "      <td>NaN</td>\n",
       "      <td>n.a.</td>\n",
       "      <td>Y</td>\n",
       "      <td>20 Mg</td>\n",
       "    </tr>\n",
       "    <tr>\n",
       "      <th>5</th>\n",
       "      <td>20003</td>\n",
       "      <td>Frank miller</td>\n",
       "      <td>06-30-1983</td>\n",
       "      <td>forty-five</td>\n",
       "      <td>m</td>\n",
       "      <td>185</td>\n",
       "      <td>75kg</td>\n",
       "      <td>125</td>\n",
       "      <td>75</td>\n",
       "      <td>High</td>\n",
       "      <td>Yes</td>\n",
       "      <td>25g</td>\n",
       "    </tr>\n",
       "    <tr>\n",
       "      <th>6</th>\n",
       "      <td>30001</td>\n",
       "      <td>Grace TAYLOR</td>\n",
       "      <td>28-05-1975</td>\n",
       "      <td>nan</td>\n",
       "      <td>ff</td>\n",
       "      <td>1</td>\n",
       "      <td>None</td>\n",
       "      <td>NAN</td>\n",
       "      <td>NaN</td>\n",
       "      <td>Normal</td>\n",
       "      <td>NO</td>\n",
       "      <td>NaN</td>\n",
       "    </tr>\n",
       "    <tr>\n",
       "      <th>7</th>\n",
       "      <td>30002</td>\n",
       "      <td>Harry Clark</td>\n",
       "      <td>1960Mar08</td>\n",
       "      <td>unk</td>\n",
       "      <td>NaN</td>\n",
       "      <td>6ft 1in</td>\n",
       "      <td>80.3</td>\n",
       "      <td>122</td>\n",
       "      <td>None</td>\n",
       "      <td>n/a</td>\n",
       "      <td>None</td>\n",
       "      <td>None</td>\n",
       "    </tr>\n",
       "    <tr>\n",
       "      <th>8</th>\n",
       "      <td>30003</td>\n",
       "      <td>IVY GREEN</td>\n",
       "      <td>1955-Jan-09</td>\n",
       "      <td></td>\n",
       "      <td>None</td>\n",
       "      <td>-10</td>\n",
       "      <td>130lbs</td>\n",
       "      <td></td>\n",
       "      <td>95</td>\n",
       "      <td>high</td>\n",
       "      <td>NaN</td>\n",
       "      <td>30 MG</td>\n",
       "    </tr>\n",
       "    <tr>\n",
       "      <th>9</th>\n",
       "      <td>30004</td>\n",
       "      <td>JAck Williams</td>\n",
       "      <td>1950 Sep 10</td>\n",
       "      <td>unknown</td>\n",
       "      <td>Mal</td>\n",
       "      <td></td>\n",
       "      <td>82</td>\n",
       "      <td>130</td>\n",
       "      <td>0</td>\n",
       "      <td></td>\n",
       "      <td>n</td>\n",
       "      <td>35</td>\n",
       "    </tr>\n",
       "    <tr>\n",
       "      <th>10</th>\n",
       "      <td>30005</td>\n",
       "      <td>john Doe</td>\n",
       "      <td>1945 October 11</td>\n",
       "      <td>35</td>\n",
       "      <td>female</td>\n",
       "      <td>200</td>\n",
       "      <td>-65</td>\n",
       "      <td>45</td>\n",
       "      <td>NaN</td>\n",
       "      <td>Normal</td>\n",
       "      <td>Yes</td>\n",
       "      <td>40ml</td>\n",
       "    </tr>\n",
       "  </tbody>\n",
       "</table>\n",
       "</div>"
      ],
      "text/plain": [
       "       ID           name    date of birth         age  gender   height  \\\n",
       "0   10001       John Doe       1995-01-02         -25       M      170   \n",
       "1   10002     Jane Smith       1990/09/14          30       F  175.5cm   \n",
       "2   10003  Alice Johnson       1985.08.23         NaN  Female     None   \n",
       "3   20001      Bob Brown         19800406        None    Male      280   \n",
       "4   20002      eva white       05-11-2007        40.0   Other      NaN   \n",
       "5   20003   Frank miller       06-30-1983  forty-five       m      185   \n",
       "6   30001   Grace TAYLOR       28-05-1975         nan      ff        1   \n",
       "7   30002    Harry Clark        1960Mar08         unk     NaN  6ft 1in   \n",
       "8   30003      IVY GREEN      1955-Jan-09                None      -10   \n",
       "9   30004  JAck Williams      1950 Sep 10     unknown     Mal            \n",
       "10  30005       john Doe  1945 October 11          35  female      200   \n",
       "\n",
       "    weight bp systole bp diastole cholesterol diabetes              dose  \n",
       "0     70.2         20          80      Normal       No              10kg  \n",
       "1       68        130          85       Highe      yes               NaN  \n",
       "2   72.5lb        NaN         nan         NaN      N/A  15 mg once a day  \n",
       "3       na        140      90mmHg        GOOD       No              20mg  \n",
       "4             135mmhg         NaN        n.a.        Y             20 Mg  \n",
       "5     75kg        125          75        High      Yes               25g  \n",
       "6     None        NAN         NaN      Normal       NO               NaN  \n",
       "7     80.3        122        None         n/a     None              None  \n",
       "8   130lbs                     95        high      NaN             30 MG  \n",
       "9       82        130           0                    n                35  \n",
       "10     -65         45         NaN      Normal      Yes              40ml  "
      ]
     },
     "execution_count": 24,
     "metadata": {},
     "output_type": "execute_result"
    }
   ],
   "source": [
    "#Lets take a look at our dirty data again:\n",
    "df"
   ]
  },
  {
   "cell_type": "code",
   "execution_count": 25,
   "metadata": {},
   "outputs": [
    {
     "name": "stderr",
     "output_type": "stream",
     "text": [
      "c:\\Users\\MartinVölkl\\Desktop\\qplib_dev\\qplib\\types.py:98: UserWarning: Parsing dates in %m-%d-%Y format when dayfirst=True was specified. Pass `dayfirst=False` or specify a format to silence this warning.\n",
      "  return pd.to_datetime(x, dayfirst=True).date()\n"
     ]
    },
    {
     "data": {
      "application/vnd.microsoft.datawrangler.viewer.v0+json": {
       "columns": [
        {
         "name": "index",
         "rawType": "int64",
         "type": "integer"
        },
        {
         "name": "date of birth",
         "rawType": "object",
         "type": "string"
        }
       ],
       "conversionMethod": "pd.DataFrame",
       "ref": "ae0a0953-36d8-4567-aabb-614b81c78635",
       "rows": [
        [
         "0",
         "1995-01-02"
        ],
        [
         "1",
         "1990/09/14"
        ],
        [
         "2",
         "1985.08.23"
        ],
        [
         "3",
         "19800406"
        ],
        [
         "4",
         "05-11-2007"
        ],
        [
         "5",
         "06-30-1983"
        ],
        [
         "6",
         "28-05-1975"
        ],
        [
         "8",
         "1955-Jan-09"
        ],
        [
         "9",
         "1950 Sep 10"
        ],
        [
         "10",
         "1945 October 11"
        ]
       ],
       "shape": {
        "columns": 1,
        "rows": 10
       }
      },
      "text/html": [
       "<div>\n",
       "<style scoped>\n",
       "    .dataframe tbody tr th:only-of-type {\n",
       "        vertical-align: middle;\n",
       "    }\n",
       "\n",
       "    .dataframe tbody tr th {\n",
       "        vertical-align: top;\n",
       "    }\n",
       "\n",
       "    .dataframe thead th {\n",
       "        text-align: right;\n",
       "    }\n",
       "</style>\n",
       "<table border=\"1\" class=\"dataframe\">\n",
       "  <thead>\n",
       "    <tr style=\"text-align: right;\">\n",
       "      <th></th>\n",
       "      <th>date of birth</th>\n",
       "    </tr>\n",
       "  </thead>\n",
       "  <tbody>\n",
       "    <tr>\n",
       "      <th>0</th>\n",
       "      <td>1995-01-02</td>\n",
       "    </tr>\n",
       "    <tr>\n",
       "      <th>1</th>\n",
       "      <td>1990/09/14</td>\n",
       "    </tr>\n",
       "    <tr>\n",
       "      <th>2</th>\n",
       "      <td>1985.08.23</td>\n",
       "    </tr>\n",
       "    <tr>\n",
       "      <th>3</th>\n",
       "      <td>19800406</td>\n",
       "    </tr>\n",
       "    <tr>\n",
       "      <th>4</th>\n",
       "      <td>05-11-2007</td>\n",
       "    </tr>\n",
       "    <tr>\n",
       "      <th>5</th>\n",
       "      <td>06-30-1983</td>\n",
       "    </tr>\n",
       "    <tr>\n",
       "      <th>6</th>\n",
       "      <td>28-05-1975</td>\n",
       "    </tr>\n",
       "    <tr>\n",
       "      <th>8</th>\n",
       "      <td>1955-Jan-09</td>\n",
       "    </tr>\n",
       "    <tr>\n",
       "      <th>9</th>\n",
       "      <td>1950 Sep 10</td>\n",
       "    </tr>\n",
       "    <tr>\n",
       "      <th>10</th>\n",
       "      <td>1945 October 11</td>\n",
       "    </tr>\n",
       "  </tbody>\n",
       "</table>\n",
       "</div>"
      ],
      "text/plain": [
       "      date of birth\n",
       "0        1995-01-02\n",
       "1        1990/09/14\n",
       "2        1985.08.23\n",
       "3          19800406\n",
       "4        05-11-2007\n",
       "5        06-30-1983\n",
       "6        28-05-1975\n",
       "8       1955-Jan-09\n",
       "9       1950 Sep 10\n",
       "10  1945 October 11"
      ]
     },
     "execution_count": 25,
     "metadata": {},
     "output_type": "execute_result"
    }
   ],
   "source": [
    "#We can see that \"date of birth\" is not a date, but a string.\n",
    "#Lets see what qplib does with that:\n",
    "df.q(r'date of birth    %%is date;')  #note that unary operators end with a semicolon"
   ]
  },
  {
   "cell_type": "code",
   "execution_count": null,
   "metadata": {},
   "outputs": [
    {
     "data": {
      "application/vnd.microsoft.datawrangler.viewer.v0+json": {
       "columns": [
        {
         "name": "index",
         "rawType": "int64",
         "type": "integer"
        },
        {
         "name": "age",
         "rawType": "object",
         "type": "unknown"
        }
       ],
       "conversionMethod": "pd.DataFrame",
       "ref": "d0e3776a-deb5-4c07-b360-a8c98f5824f6",
       "rows": [
        [
         "0",
         "-25"
        ],
        [
         "1",
         "30"
        ],
        [
         "4",
         "40.0"
        ],
        [
         "10",
         "35"
        ]
       ],
       "shape": {
        "columns": 1,
        "rows": 4
       }
      },
      "text/html": [
       "<div>\n",
       "<style scoped>\n",
       "    .dataframe tbody tr th:only-of-type {\n",
       "        vertical-align: middle;\n",
       "    }\n",
       "\n",
       "    .dataframe tbody tr th {\n",
       "        vertical-align: top;\n",
       "    }\n",
       "\n",
       "    .dataframe thead th {\n",
       "        text-align: right;\n",
       "    }\n",
       "</style>\n",
       "<table border=\"1\" class=\"dataframe\">\n",
       "  <thead>\n",
       "    <tr style=\"text-align: right;\">\n",
       "      <th></th>\n",
       "      <th>age</th>\n",
       "    </tr>\n",
       "  </thead>\n",
       "  <tbody>\n",
       "    <tr>\n",
       "      <th>0</th>\n",
       "      <td>-25</td>\n",
       "    </tr>\n",
       "    <tr>\n",
       "      <th>1</th>\n",
       "      <td>30</td>\n",
       "    </tr>\n",
       "    <tr>\n",
       "      <th>4</th>\n",
       "      <td>40.0</td>\n",
       "    </tr>\n",
       "    <tr>\n",
       "      <th>10</th>\n",
       "      <td>35</td>\n",
       "    </tr>\n",
       "  </tbody>\n",
       "</table>\n",
       "</div>"
      ],
      "text/plain": [
       "     age\n",
       "0    -25\n",
       "1     30\n",
       "4   40.0\n",
       "10    35"
      ]
     },
     "execution_count": 43,
     "metadata": {},
     "output_type": "execute_result"
    }
   ],
   "source": [
    "#both strings '40.0' and '20' are treated as an int by default\n",
    "df.q(r'age  %%is int;')"
   ]
  },
  {
   "cell_type": "code",
   "execution_count": 47,
   "metadata": {},
   "outputs": [
    {
     "data": {
      "application/vnd.microsoft.datawrangler.viewer.v0+json": {
       "columns": [
        {
         "name": "index",
         "rawType": "int64",
         "type": "integer"
        },
        {
         "name": "age",
         "rawType": "object",
         "type": "unknown"
        }
       ],
       "conversionMethod": "pd.DataFrame",
       "ref": "e413a1c4-b50f-49fc-9daf-e04281b90841",
       "rows": [
        [
         "0",
         "-25"
        ],
        [
         "10",
         "35"
        ]
       ],
       "shape": {
        "columns": 1,
        "rows": 2
       }
      },
      "text/html": [
       "<div>\n",
       "<style scoped>\n",
       "    .dataframe tbody tr th:only-of-type {\n",
       "        vertical-align: middle;\n",
       "    }\n",
       "\n",
       "    .dataframe tbody tr th {\n",
       "        vertical-align: top;\n",
       "    }\n",
       "\n",
       "    .dataframe thead th {\n",
       "        text-align: right;\n",
       "    }\n",
       "</style>\n",
       "<table border=\"1\" class=\"dataframe\">\n",
       "  <thead>\n",
       "    <tr style=\"text-align: right;\">\n",
       "      <th></th>\n",
       "      <th>age</th>\n",
       "    </tr>\n",
       "  </thead>\n",
       "  <tbody>\n",
       "    <tr>\n",
       "      <th>0</th>\n",
       "      <td>-25</td>\n",
       "    </tr>\n",
       "    <tr>\n",
       "      <th>10</th>\n",
       "      <td>35</td>\n",
       "    </tr>\n",
       "  </tbody>\n",
       "</table>\n",
       "</div>"
      ],
      "text/plain": [
       "    age\n",
       "0   -25\n",
       "10   35"
      ]
     },
     "execution_count": 47,
     "metadata": {},
     "output_type": "execute_result"
    }
   ],
   "source": [
    "#strict mode does not treat those strings as ints\n",
    "df.q(r'age  %%strict is int;')"
   ]
  },
  {
   "cell_type": "code",
   "execution_count": null,
   "metadata": {},
   "outputs": [
    {
     "data": {
      "application/vnd.microsoft.datawrangler.viewer.v0+json": {
       "columns": [
        {
         "name": "index",
         "rawType": "int64",
         "type": "integer"
        },
        {
         "name": "weight",
         "rawType": "object",
         "type": "unknown"
        }
       ],
       "conversionMethod": "pd.DataFrame",
       "ref": "53b3d2a4-8a1f-494b-8551-e2afb4ac394f",
       "rows": [
        [
         "0",
         "70.2"
        ],
        [
         "2",
         "72.5lb"
        ],
        [
         "3",
         "na"
        ],
        [
         "4",
         ""
        ],
        [
         "5",
         "75kg"
        ],
        [
         "6",
         null
        ],
        [
         "7",
         "80.3"
        ],
        [
         "8",
         "130lbs"
        ]
       ],
       "shape": {
        "columns": 1,
        "rows": 8
       }
      },
      "text/html": [
       "<div>\n",
       "<style scoped>\n",
       "    .dataframe tbody tr th:only-of-type {\n",
       "        vertical-align: middle;\n",
       "    }\n",
       "\n",
       "    .dataframe tbody tr th {\n",
       "        vertical-align: top;\n",
       "    }\n",
       "\n",
       "    .dataframe thead th {\n",
       "        text-align: right;\n",
       "    }\n",
       "</style>\n",
       "<table border=\"1\" class=\"dataframe\">\n",
       "  <thead>\n",
       "    <tr style=\"text-align: right;\">\n",
       "      <th></th>\n",
       "      <th>weight</th>\n",
       "    </tr>\n",
       "  </thead>\n",
       "  <tbody>\n",
       "    <tr>\n",
       "      <th>0</th>\n",
       "      <td>70.2</td>\n",
       "    </tr>\n",
       "    <tr>\n",
       "      <th>2</th>\n",
       "      <td>72.5lb</td>\n",
       "    </tr>\n",
       "    <tr>\n",
       "      <th>3</th>\n",
       "      <td>na</td>\n",
       "    </tr>\n",
       "    <tr>\n",
       "      <th>4</th>\n",
       "      <td></td>\n",
       "    </tr>\n",
       "    <tr>\n",
       "      <th>5</th>\n",
       "      <td>75kg</td>\n",
       "    </tr>\n",
       "    <tr>\n",
       "      <th>6</th>\n",
       "      <td>None</td>\n",
       "    </tr>\n",
       "    <tr>\n",
       "      <th>7</th>\n",
       "      <td>80.3</td>\n",
       "    </tr>\n",
       "    <tr>\n",
       "      <th>8</th>\n",
       "      <td>130lbs</td>\n",
       "    </tr>\n",
       "  </tbody>\n",
       "</table>\n",
       "</div>"
      ],
      "text/plain": [
       "   weight\n",
       "0    70.2\n",
       "2  72.5lb\n",
       "3      na\n",
       "4        \n",
       "5    75kg\n",
       "6    None\n",
       "7    80.3\n",
       "8  130lbs"
      ]
     },
     "execution_count": 45,
     "metadata": {},
     "output_type": "execute_result"
    }
   ],
   "source": [
    "#70.2 is not treated as an int\n",
    "df.q(r'weight  %%!is int;')"
   ]
  },
  {
   "cell_type": "markdown",
   "metadata": {},
   "source": [
    "## undefined behaviour\n",
    "\n",
    "Due to expecting very messy data, qplib uses a type of [three-valued logic](https://en.wikipedia.org/wiki/Three-valued_logic) utilizing \"True\", \"False\" and \"undefined\". This means that, for example, numeric operators for numbers can be used on columns which also contain strings. As a result, \">=\" is not necessarily the same as \"!<=\" (inversion of \"<=\")."
   ]
  },
  {
   "cell_type": "code",
   "execution_count": 26,
   "metadata": {},
   "outputs": [
    {
     "data": {
      "application/vnd.microsoft.datawrangler.viewer.v0+json": {
       "columns": [
        {
         "name": "index",
         "rawType": "int64",
         "type": "integer"
        },
        {
         "name": "height",
         "rawType": "object",
         "type": "unknown"
        }
       ],
       "conversionMethod": "pd.DataFrame",
       "ref": "4e82b801-4a8d-48d6-9869-9c8a9f5bef0b",
       "rows": [
        [
         "0",
         "170"
        ],
        [
         "3",
         "280"
        ],
        [
         "5",
         "185"
        ],
        [
         "6",
         "1"
        ],
        [
         "10",
         "200"
        ]
       ],
       "shape": {
        "columns": 1,
        "rows": 5
       }
      },
      "text/html": [
       "<div>\n",
       "<style scoped>\n",
       "    .dataframe tbody tr th:only-of-type {\n",
       "        vertical-align: middle;\n",
       "    }\n",
       "\n",
       "    .dataframe tbody tr th {\n",
       "        vertical-align: top;\n",
       "    }\n",
       "\n",
       "    .dataframe thead th {\n",
       "        text-align: right;\n",
       "    }\n",
       "</style>\n",
       "<table border=\"1\" class=\"dataframe\">\n",
       "  <thead>\n",
       "    <tr style=\"text-align: right;\">\n",
       "      <th></th>\n",
       "      <th>height</th>\n",
       "    </tr>\n",
       "  </thead>\n",
       "  <tbody>\n",
       "    <tr>\n",
       "      <th>0</th>\n",
       "      <td>170</td>\n",
       "    </tr>\n",
       "    <tr>\n",
       "      <th>3</th>\n",
       "      <td>280</td>\n",
       "    </tr>\n",
       "    <tr>\n",
       "      <th>5</th>\n",
       "      <td>185</td>\n",
       "    </tr>\n",
       "    <tr>\n",
       "      <th>6</th>\n",
       "      <td>1</td>\n",
       "    </tr>\n",
       "    <tr>\n",
       "      <th>10</th>\n",
       "      <td>200</td>\n",
       "    </tr>\n",
       "  </tbody>\n",
       "</table>\n",
       "</div>"
      ],
      "text/plain": [
       "   height\n",
       "0     170\n",
       "3     280\n",
       "5     185\n",
       "6       1\n",
       "10    200"
      ]
     },
     "execution_count": 26,
     "metadata": {},
     "output_type": "execute_result"
    }
   ],
   "source": [
    "df.q(r'height  %%>0')"
   ]
  },
  {
   "cell_type": "code",
   "execution_count": 27,
   "metadata": {},
   "outputs": [
    {
     "data": {
      "application/vnd.microsoft.datawrangler.viewer.v0+json": {
       "columns": [
        {
         "name": "index",
         "rawType": "int64",
         "type": "integer"
        },
        {
         "name": "height",
         "rawType": "object",
         "type": "unknown"
        }
       ],
       "conversionMethod": "pd.DataFrame",
       "ref": "971e0b62-cf0b-40d6-9971-a547a8fcd7f2",
       "rows": [
        [
         "8",
         "-10"
        ]
       ],
       "shape": {
        "columns": 1,
        "rows": 1
       }
      },
      "text/html": [
       "<div>\n",
       "<style scoped>\n",
       "    .dataframe tbody tr th:only-of-type {\n",
       "        vertical-align: middle;\n",
       "    }\n",
       "\n",
       "    .dataframe tbody tr th {\n",
       "        vertical-align: top;\n",
       "    }\n",
       "\n",
       "    .dataframe thead th {\n",
       "        text-align: right;\n",
       "    }\n",
       "</style>\n",
       "<table border=\"1\" class=\"dataframe\">\n",
       "  <thead>\n",
       "    <tr style=\"text-align: right;\">\n",
       "      <th></th>\n",
       "      <th>height</th>\n",
       "    </tr>\n",
       "  </thead>\n",
       "  <tbody>\n",
       "    <tr>\n",
       "      <th>8</th>\n",
       "      <td>-10</td>\n",
       "    </tr>\n",
       "  </tbody>\n",
       "</table>\n",
       "</div>"
      ],
      "text/plain": [
       "  height\n",
       "8    -10"
      ]
     },
     "execution_count": 27,
     "metadata": {},
     "output_type": "execute_result"
    }
   ],
   "source": [
    "df.q(r'height  %%<0')"
   ]
  },
  {
   "cell_type": "code",
   "execution_count": 28,
   "metadata": {},
   "outputs": [
    {
     "data": {
      "application/vnd.microsoft.datawrangler.viewer.v0+json": {
       "columns": [
        {
         "name": "index",
         "rawType": "int64",
         "type": "integer"
        },
        {
         "name": "height",
         "rawType": "object",
         "type": "unknown"
        }
       ],
       "conversionMethod": "pd.DataFrame",
       "ref": "e2816bc7-ce66-4282-b925-9d2ad43dd750",
       "rows": [
        [
         "1",
         "175.5cm"
        ],
        [
         "2",
         null
        ],
        [
         "4",
         "NaN"
        ],
        [
         "7",
         "6ft 1in"
        ],
        [
         "8",
         "-10"
        ],
        [
         "9",
         ""
        ]
       ],
       "shape": {
        "columns": 1,
        "rows": 6
       }
      },
      "text/html": [
       "<div>\n",
       "<style scoped>\n",
       "    .dataframe tbody tr th:only-of-type {\n",
       "        vertical-align: middle;\n",
       "    }\n",
       "\n",
       "    .dataframe tbody tr th {\n",
       "        vertical-align: top;\n",
       "    }\n",
       "\n",
       "    .dataframe thead th {\n",
       "        text-align: right;\n",
       "    }\n",
       "</style>\n",
       "<table border=\"1\" class=\"dataframe\">\n",
       "  <thead>\n",
       "    <tr style=\"text-align: right;\">\n",
       "      <th></th>\n",
       "      <th>height</th>\n",
       "    </tr>\n",
       "  </thead>\n",
       "  <tbody>\n",
       "    <tr>\n",
       "      <th>1</th>\n",
       "      <td>175.5cm</td>\n",
       "    </tr>\n",
       "    <tr>\n",
       "      <th>2</th>\n",
       "      <td>None</td>\n",
       "    </tr>\n",
       "    <tr>\n",
       "      <th>4</th>\n",
       "      <td>NaN</td>\n",
       "    </tr>\n",
       "    <tr>\n",
       "      <th>7</th>\n",
       "      <td>6ft 1in</td>\n",
       "    </tr>\n",
       "    <tr>\n",
       "      <th>8</th>\n",
       "      <td>-10</td>\n",
       "    </tr>\n",
       "    <tr>\n",
       "      <th>9</th>\n",
       "      <td></td>\n",
       "    </tr>\n",
       "  </tbody>\n",
       "</table>\n",
       "</div>"
      ],
      "text/plain": [
       "    height\n",
       "1  175.5cm\n",
       "2     None\n",
       "4      NaN\n",
       "7  6ft 1in\n",
       "8      -10\n",
       "9         "
      ]
     },
     "execution_count": 28,
     "metadata": {},
     "output_type": "execute_result"
    }
   ],
   "source": [
    "df.q(r'height  %%!>0')"
   ]
  },
  {
   "cell_type": "code",
   "execution_count": 29,
   "metadata": {},
   "outputs": [
    {
     "data": {
      "application/vnd.microsoft.datawrangler.viewer.v0+json": {
       "columns": [
        {
         "name": "index",
         "rawType": "int64",
         "type": "integer"
        },
        {
         "name": "height",
         "rawType": "object",
         "type": "unknown"
        }
       ],
       "conversionMethod": "pd.DataFrame",
       "ref": "3cdce0a1-bf4a-4827-bbda-acf56386de22",
       "rows": [
        [
         "0",
         "170"
        ],
        [
         "1",
         "175.5cm"
        ],
        [
         "2",
         null
        ],
        [
         "3",
         "280"
        ],
        [
         "4",
         "NaN"
        ],
        [
         "5",
         "185"
        ],
        [
         "6",
         "1"
        ],
        [
         "7",
         "6ft 1in"
        ],
        [
         "9",
         ""
        ],
        [
         "10",
         "200"
        ]
       ],
       "shape": {
        "columns": 1,
        "rows": 10
       }
      },
      "text/html": [
       "<div>\n",
       "<style scoped>\n",
       "    .dataframe tbody tr th:only-of-type {\n",
       "        vertical-align: middle;\n",
       "    }\n",
       "\n",
       "    .dataframe tbody tr th {\n",
       "        vertical-align: top;\n",
       "    }\n",
       "\n",
       "    .dataframe thead th {\n",
       "        text-align: right;\n",
       "    }\n",
       "</style>\n",
       "<table border=\"1\" class=\"dataframe\">\n",
       "  <thead>\n",
       "    <tr style=\"text-align: right;\">\n",
       "      <th></th>\n",
       "      <th>height</th>\n",
       "    </tr>\n",
       "  </thead>\n",
       "  <tbody>\n",
       "    <tr>\n",
       "      <th>0</th>\n",
       "      <td>170</td>\n",
       "    </tr>\n",
       "    <tr>\n",
       "      <th>1</th>\n",
       "      <td>175.5cm</td>\n",
       "    </tr>\n",
       "    <tr>\n",
       "      <th>2</th>\n",
       "      <td>None</td>\n",
       "    </tr>\n",
       "    <tr>\n",
       "      <th>3</th>\n",
       "      <td>280</td>\n",
       "    </tr>\n",
       "    <tr>\n",
       "      <th>4</th>\n",
       "      <td>NaN</td>\n",
       "    </tr>\n",
       "    <tr>\n",
       "      <th>5</th>\n",
       "      <td>185</td>\n",
       "    </tr>\n",
       "    <tr>\n",
       "      <th>6</th>\n",
       "      <td>1</td>\n",
       "    </tr>\n",
       "    <tr>\n",
       "      <th>7</th>\n",
       "      <td>6ft 1in</td>\n",
       "    </tr>\n",
       "    <tr>\n",
       "      <th>9</th>\n",
       "      <td></td>\n",
       "    </tr>\n",
       "    <tr>\n",
       "      <th>10</th>\n",
       "      <td>200</td>\n",
       "    </tr>\n",
       "  </tbody>\n",
       "</table>\n",
       "</div>"
      ],
      "text/plain": [
       "     height\n",
       "0       170\n",
       "1   175.5cm\n",
       "2      None\n",
       "3       280\n",
       "4       NaN\n",
       "5       185\n",
       "6         1\n",
       "7   6ft 1in\n",
       "9          \n",
       "10      200"
      ]
     },
     "execution_count": 29,
     "metadata": {},
     "output_type": "execute_result"
    }
   ],
   "source": [
    "df.q(r'height  %%!<0')"
   ]
  },
  {
   "cell_type": "markdown",
   "metadata": {},
   "source": [
    "## saving selections\n",
    "\n",
    "The simple linear syntax does not allow for nesting of conditions, but the same result can be achieved by saving the intermediate results in a variable."
   ]
  },
  {
   "cell_type": "code",
   "execution_count": 30,
   "metadata": {},
   "outputs": [
    {
     "data": {
      "application/vnd.microsoft.datawrangler.viewer.v0+json": {
       "columns": [
        {
         "name": "index",
         "rawType": "int64",
         "type": "integer"
        },
        {
         "name": "ID",
         "rawType": "int64",
         "type": "integer"
        },
        {
         "name": "name",
         "rawType": "object",
         "type": "string"
        }
       ],
       "conversionMethod": "pd.DataFrame",
       "ref": "92e43376-45c7-4faa-b76d-f82d17266e3a",
       "rows": [
        [
         "3",
         "20001",
         "Bob Brown"
        ],
        [
         "6",
         "30001",
         "Grace TAYLOR"
        ]
       ],
       "shape": {
        "columns": 2,
        "rows": 2
       }
      },
      "text/html": [
       "<div>\n",
       "<style scoped>\n",
       "    .dataframe tbody tr th:only-of-type {\n",
       "        vertical-align: middle;\n",
       "    }\n",
       "\n",
       "    .dataframe tbody tr th {\n",
       "        vertical-align: top;\n",
       "    }\n",
       "\n",
       "    .dataframe thead th {\n",
       "        text-align: right;\n",
       "    }\n",
       "</style>\n",
       "<table border=\"1\" class=\"dataframe\">\n",
       "  <thead>\n",
       "    <tr style=\"text-align: right;\">\n",
       "      <th></th>\n",
       "      <th>ID</th>\n",
       "      <th>name</th>\n",
       "    </tr>\n",
       "  </thead>\n",
       "  <tbody>\n",
       "    <tr>\n",
       "      <th>3</th>\n",
       "      <td>20001</td>\n",
       "      <td>Bob Brown</td>\n",
       "    </tr>\n",
       "    <tr>\n",
       "      <th>6</th>\n",
       "      <td>30001</td>\n",
       "      <td>Grace TAYLOR</td>\n",
       "    </tr>\n",
       "  </tbody>\n",
       "</table>\n",
       "</div>"
      ],
      "text/plain": [
       "      ID          name\n",
       "3  20001     Bob Brown\n",
       "6  30001  Grace TAYLOR"
      ]
     },
     "execution_count": 30,
     "metadata": {},
     "output_type": "execute_result"
    }
   ],
   "source": [
    "#Selections can be saved using the \"save\" flag\n",
    "df.q(\n",
    "    r\"\"\"\n",
    "    %id         %%>20000    &&<30003    %%save=1   #save selection to variable \"1\"\n",
    "    %name       %%?bob      //?grace    %%save=2   #save selection to variable \"2\"\n",
    "    %%load=1    &&load=2   #load both selections and combine them\n",
    "    /id\n",
    "    \"\"\"\n",
    "    )"
   ]
  },
  {
   "cell_type": "markdown",
   "metadata": {},
   "source": [
    "## more operators"
   ]
  },
  {
   "cell_type": "code",
   "execution_count": 31,
   "metadata": {},
   "outputs": [
    {
     "data": {
      "text/plain": [
       "{BIGGER,\n",
       " BIGGER_EQUAL,\n",
       " CONTAINS,\n",
       " EQUALS,\n",
       " EVAL,\n",
       " IS_ANY,\n",
       " IS_BOOL,\n",
       " IS_DATE,\n",
       " IS_DATETIME,\n",
       " IS_FIRST,\n",
       " IS_FLOAT,\n",
       " IS_INT,\n",
       " IS_LAST,\n",
       " IS_NA,\n",
       " IS_NK,\n",
       " IS_NO,\n",
       " IS_NUM,\n",
       " IS_STR,\n",
       " IS_UNIQUE,\n",
       " IS_YES,\n",
       " IS_YN,\n",
       " SET,\n",
       " SMALLER,\n",
       " SMALLER_EQUAL}"
      ]
     },
     "execution_count": 31,
     "metadata": {},
     "output_type": "execute_result"
    }
   ],
   "source": [
    "#All operators for selection/filtering:\n",
    "qp.qlang.operators_select"
   ]
  },
  {
   "cell_type": "markdown",
   "metadata": {},
   "source": [
    "# modify\n",
    "\n",
    "All modification instructions use the connector \"$\" and do not modify data inplace. All modification instructions which could affect the original df create and return a copy instead."
   ]
  },
  {
   "cell_type": "markdown",
   "metadata": {},
   "source": [
    "## format"
   ]
  },
  {
   "cell_type": "code",
   "execution_count": 32,
   "metadata": {},
   "outputs": [
    {
     "data": {
      "text/html": [
       "<style type=\"text/css\">\n",
       "#T_ca564_row0_col0, #T_ca564_row0_col1, #T_ca564_row0_col2, #T_ca564_row0_col3, #T_ca564_row0_col4, #T_ca564_row0_col5, #T_ca564_row0_col6, #T_ca564_row0_col7, #T_ca564_row0_col8, #T_ca564_row0_col9, #T_ca564_row0_col10, #T_ca564_row0_col11, #T_ca564_row1_col0, #T_ca564_row1_col1, #T_ca564_row1_col2, #T_ca564_row1_col3, #T_ca564_row1_col4, #T_ca564_row1_col5, #T_ca564_row1_col6, #T_ca564_row1_col7, #T_ca564_row1_col8, #T_ca564_row1_col9, #T_ca564_row1_col10, #T_ca564_row1_col11, #T_ca564_row2_col0, #T_ca564_row2_col1, #T_ca564_row2_col2, #T_ca564_row2_col3, #T_ca564_row2_col4, #T_ca564_row2_col5, #T_ca564_row2_col6, #T_ca564_row2_col7, #T_ca564_row2_col8, #T_ca564_row2_col9, #T_ca564_row2_col10, #T_ca564_row2_col11, #T_ca564_row3_col0, #T_ca564_row3_col1, #T_ca564_row3_col2, #T_ca564_row3_col3, #T_ca564_row3_col4, #T_ca564_row3_col5, #T_ca564_row3_col6, #T_ca564_row3_col7, #T_ca564_row3_col8, #T_ca564_row3_col9, #T_ca564_row3_col10, #T_ca564_row3_col11, #T_ca564_row4_col0, #T_ca564_row4_col1, #T_ca564_row4_col2, #T_ca564_row4_col3, #T_ca564_row4_col4, #T_ca564_row4_col5, #T_ca564_row4_col6, #T_ca564_row4_col7, #T_ca564_row4_col8, #T_ca564_row4_col9, #T_ca564_row4_col10, #T_ca564_row4_col11, #T_ca564_row5_col0, #T_ca564_row5_col1, #T_ca564_row5_col2, #T_ca564_row5_col3, #T_ca564_row5_col4, #T_ca564_row5_col5, #T_ca564_row5_col6, #T_ca564_row5_col7, #T_ca564_row5_col8, #T_ca564_row5_col9, #T_ca564_row5_col10, #T_ca564_row5_col11, #T_ca564_row6_col0, #T_ca564_row6_col1, #T_ca564_row6_col2, #T_ca564_row6_col3, #T_ca564_row6_col4, #T_ca564_row6_col5, #T_ca564_row6_col6, #T_ca564_row6_col7, #T_ca564_row6_col8, #T_ca564_row6_col9, #T_ca564_row6_col10, #T_ca564_row6_col11, #T_ca564_row7_col0, #T_ca564_row7_col1, #T_ca564_row7_col2, #T_ca564_row7_col3, #T_ca564_row7_col4, #T_ca564_row7_col5, #T_ca564_row7_col6, #T_ca564_row7_col7, #T_ca564_row7_col8, #T_ca564_row7_col9, #T_ca564_row7_col10, #T_ca564_row7_col11, #T_ca564_row8_col0, #T_ca564_row8_col1, #T_ca564_row8_col2, #T_ca564_row8_col3, #T_ca564_row8_col4, #T_ca564_row8_col5, #T_ca564_row8_col6, #T_ca564_row8_col7, #T_ca564_row8_col8, #T_ca564_row8_col9, #T_ca564_row8_col10, #T_ca564_row8_col11, #T_ca564_row9_col0, #T_ca564_row9_col1, #T_ca564_row9_col2, #T_ca564_row9_col3, #T_ca564_row9_col4, #T_ca564_row9_col5, #T_ca564_row9_col6, #T_ca564_row9_col7, #T_ca564_row9_col8, #T_ca564_row9_col9, #T_ca564_row9_col10, #T_ca564_row9_col11, #T_ca564_row10_col0, #T_ca564_row10_col1, #T_ca564_row10_col2, #T_ca564_row10_col3, #T_ca564_row10_col4, #T_ca564_row10_col5, #T_ca564_row10_col6, #T_ca564_row10_col7, #T_ca564_row10_col8, #T_ca564_row10_col9, #T_ca564_row10_col10, #T_ca564_row10_col11 {\n",
       "  color: red;\n",
       "}\n",
       "</style>\n",
       "<table id=\"T_ca564\">\n",
       "  <thead>\n",
       "    <tr>\n",
       "      <th class=\"blank level0\" >&nbsp;</th>\n",
       "      <th id=\"T_ca564_level0_col0\" class=\"col_heading level0 col0\" >ID</th>\n",
       "      <th id=\"T_ca564_level0_col1\" class=\"col_heading level0 col1\" >name</th>\n",
       "      <th id=\"T_ca564_level0_col2\" class=\"col_heading level0 col2\" >date of birth</th>\n",
       "      <th id=\"T_ca564_level0_col3\" class=\"col_heading level0 col3\" >age</th>\n",
       "      <th id=\"T_ca564_level0_col4\" class=\"col_heading level0 col4\" >gender</th>\n",
       "      <th id=\"T_ca564_level0_col5\" class=\"col_heading level0 col5\" >height</th>\n",
       "      <th id=\"T_ca564_level0_col6\" class=\"col_heading level0 col6\" >weight</th>\n",
       "      <th id=\"T_ca564_level0_col7\" class=\"col_heading level0 col7\" >bp systole</th>\n",
       "      <th id=\"T_ca564_level0_col8\" class=\"col_heading level0 col8\" >bp diastole</th>\n",
       "      <th id=\"T_ca564_level0_col9\" class=\"col_heading level0 col9\" >cholesterol</th>\n",
       "      <th id=\"T_ca564_level0_col10\" class=\"col_heading level0 col10\" >diabetes</th>\n",
       "      <th id=\"T_ca564_level0_col11\" class=\"col_heading level0 col11\" >dose</th>\n",
       "    </tr>\n",
       "  </thead>\n",
       "  <tbody>\n",
       "    <tr>\n",
       "      <th id=\"T_ca564_level0_row0\" class=\"row_heading level0 row0\" >0</th>\n",
       "      <td id=\"T_ca564_row0_col0\" class=\"data row0 col0\" >10001</td>\n",
       "      <td id=\"T_ca564_row0_col1\" class=\"data row0 col1\" >John Doe</td>\n",
       "      <td id=\"T_ca564_row0_col2\" class=\"data row0 col2\" >1995-01-02</td>\n",
       "      <td id=\"T_ca564_row0_col3\" class=\"data row0 col3\" >-25</td>\n",
       "      <td id=\"T_ca564_row0_col4\" class=\"data row0 col4\" >M</td>\n",
       "      <td id=\"T_ca564_row0_col5\" class=\"data row0 col5\" >170</td>\n",
       "      <td id=\"T_ca564_row0_col6\" class=\"data row0 col6\" >70.200000</td>\n",
       "      <td id=\"T_ca564_row0_col7\" class=\"data row0 col7\" >20</td>\n",
       "      <td id=\"T_ca564_row0_col8\" class=\"data row0 col8\" >80</td>\n",
       "      <td id=\"T_ca564_row0_col9\" class=\"data row0 col9\" >Normal</td>\n",
       "      <td id=\"T_ca564_row0_col10\" class=\"data row0 col10\" >No</td>\n",
       "      <td id=\"T_ca564_row0_col11\" class=\"data row0 col11\" >10kg</td>\n",
       "    </tr>\n",
       "    <tr>\n",
       "      <th id=\"T_ca564_level0_row1\" class=\"row_heading level0 row1\" >1</th>\n",
       "      <td id=\"T_ca564_row1_col0\" class=\"data row1 col0\" >10002</td>\n",
       "      <td id=\"T_ca564_row1_col1\" class=\"data row1 col1\" >Jane Smith</td>\n",
       "      <td id=\"T_ca564_row1_col2\" class=\"data row1 col2\" >1990/09/14</td>\n",
       "      <td id=\"T_ca564_row1_col3\" class=\"data row1 col3\" >30</td>\n",
       "      <td id=\"T_ca564_row1_col4\" class=\"data row1 col4\" >F</td>\n",
       "      <td id=\"T_ca564_row1_col5\" class=\"data row1 col5\" >175.5cm</td>\n",
       "      <td id=\"T_ca564_row1_col6\" class=\"data row1 col6\" >68</td>\n",
       "      <td id=\"T_ca564_row1_col7\" class=\"data row1 col7\" >130</td>\n",
       "      <td id=\"T_ca564_row1_col8\" class=\"data row1 col8\" >85</td>\n",
       "      <td id=\"T_ca564_row1_col9\" class=\"data row1 col9\" >Highe</td>\n",
       "      <td id=\"T_ca564_row1_col10\" class=\"data row1 col10\" >yes</td>\n",
       "      <td id=\"T_ca564_row1_col11\" class=\"data row1 col11\" >NaN</td>\n",
       "    </tr>\n",
       "    <tr>\n",
       "      <th id=\"T_ca564_level0_row2\" class=\"row_heading level0 row2\" >2</th>\n",
       "      <td id=\"T_ca564_row2_col0\" class=\"data row2 col0\" >10003</td>\n",
       "      <td id=\"T_ca564_row2_col1\" class=\"data row2 col1\" >Alice Johnson</td>\n",
       "      <td id=\"T_ca564_row2_col2\" class=\"data row2 col2\" >1985.08.23</td>\n",
       "      <td id=\"T_ca564_row2_col3\" class=\"data row2 col3\" >nan</td>\n",
       "      <td id=\"T_ca564_row2_col4\" class=\"data row2 col4\" >Female</td>\n",
       "      <td id=\"T_ca564_row2_col5\" class=\"data row2 col5\" >None</td>\n",
       "      <td id=\"T_ca564_row2_col6\" class=\"data row2 col6\" >72.5lb</td>\n",
       "      <td id=\"T_ca564_row2_col7\" class=\"data row2 col7\" >NaN</td>\n",
       "      <td id=\"T_ca564_row2_col8\" class=\"data row2 col8\" >nan</td>\n",
       "      <td id=\"T_ca564_row2_col9\" class=\"data row2 col9\" >NaN</td>\n",
       "      <td id=\"T_ca564_row2_col10\" class=\"data row2 col10\" >N/A</td>\n",
       "      <td id=\"T_ca564_row2_col11\" class=\"data row2 col11\" >15 mg once a day</td>\n",
       "    </tr>\n",
       "    <tr>\n",
       "      <th id=\"T_ca564_level0_row3\" class=\"row_heading level0 row3\" >3</th>\n",
       "      <td id=\"T_ca564_row3_col0\" class=\"data row3 col0\" >20001</td>\n",
       "      <td id=\"T_ca564_row3_col1\" class=\"data row3 col1\" >Bob Brown</td>\n",
       "      <td id=\"T_ca564_row3_col2\" class=\"data row3 col2\" >19800406</td>\n",
       "      <td id=\"T_ca564_row3_col3\" class=\"data row3 col3\" >None</td>\n",
       "      <td id=\"T_ca564_row3_col4\" class=\"data row3 col4\" >Male</td>\n",
       "      <td id=\"T_ca564_row3_col5\" class=\"data row3 col5\" >280</td>\n",
       "      <td id=\"T_ca564_row3_col6\" class=\"data row3 col6\" >na</td>\n",
       "      <td id=\"T_ca564_row3_col7\" class=\"data row3 col7\" >140</td>\n",
       "      <td id=\"T_ca564_row3_col8\" class=\"data row3 col8\" >90mmHg</td>\n",
       "      <td id=\"T_ca564_row3_col9\" class=\"data row3 col9\" >GOOD</td>\n",
       "      <td id=\"T_ca564_row3_col10\" class=\"data row3 col10\" >No</td>\n",
       "      <td id=\"T_ca564_row3_col11\" class=\"data row3 col11\" >20mg</td>\n",
       "    </tr>\n",
       "    <tr>\n",
       "      <th id=\"T_ca564_level0_row4\" class=\"row_heading level0 row4\" >4</th>\n",
       "      <td id=\"T_ca564_row4_col0\" class=\"data row4 col0\" >20002</td>\n",
       "      <td id=\"T_ca564_row4_col1\" class=\"data row4 col1\" >eva white</td>\n",
       "      <td id=\"T_ca564_row4_col2\" class=\"data row4 col2\" >05-11-2007</td>\n",
       "      <td id=\"T_ca564_row4_col3\" class=\"data row4 col3\" >40.0</td>\n",
       "      <td id=\"T_ca564_row4_col4\" class=\"data row4 col4\" >Other</td>\n",
       "      <td id=\"T_ca564_row4_col5\" class=\"data row4 col5\" >NaN</td>\n",
       "      <td id=\"T_ca564_row4_col6\" class=\"data row4 col6\" ></td>\n",
       "      <td id=\"T_ca564_row4_col7\" class=\"data row4 col7\" >135mmhg</td>\n",
       "      <td id=\"T_ca564_row4_col8\" class=\"data row4 col8\" >nan</td>\n",
       "      <td id=\"T_ca564_row4_col9\" class=\"data row4 col9\" >n.a.</td>\n",
       "      <td id=\"T_ca564_row4_col10\" class=\"data row4 col10\" >Y</td>\n",
       "      <td id=\"T_ca564_row4_col11\" class=\"data row4 col11\" >20 Mg</td>\n",
       "    </tr>\n",
       "    <tr>\n",
       "      <th id=\"T_ca564_level0_row5\" class=\"row_heading level0 row5\" >5</th>\n",
       "      <td id=\"T_ca564_row5_col0\" class=\"data row5 col0\" >20003</td>\n",
       "      <td id=\"T_ca564_row5_col1\" class=\"data row5 col1\" >Frank miller</td>\n",
       "      <td id=\"T_ca564_row5_col2\" class=\"data row5 col2\" >06-30-1983</td>\n",
       "      <td id=\"T_ca564_row5_col3\" class=\"data row5 col3\" >forty-five</td>\n",
       "      <td id=\"T_ca564_row5_col4\" class=\"data row5 col4\" >m</td>\n",
       "      <td id=\"T_ca564_row5_col5\" class=\"data row5 col5\" >185</td>\n",
       "      <td id=\"T_ca564_row5_col6\" class=\"data row5 col6\" >75kg</td>\n",
       "      <td id=\"T_ca564_row5_col7\" class=\"data row5 col7\" >125</td>\n",
       "      <td id=\"T_ca564_row5_col8\" class=\"data row5 col8\" >75</td>\n",
       "      <td id=\"T_ca564_row5_col9\" class=\"data row5 col9\" >High</td>\n",
       "      <td id=\"T_ca564_row5_col10\" class=\"data row5 col10\" >Yes</td>\n",
       "      <td id=\"T_ca564_row5_col11\" class=\"data row5 col11\" >25g</td>\n",
       "    </tr>\n",
       "    <tr>\n",
       "      <th id=\"T_ca564_level0_row6\" class=\"row_heading level0 row6\" >6</th>\n",
       "      <td id=\"T_ca564_row6_col0\" class=\"data row6 col0\" >30001</td>\n",
       "      <td id=\"T_ca564_row6_col1\" class=\"data row6 col1\" >Grace TAYLOR</td>\n",
       "      <td id=\"T_ca564_row6_col2\" class=\"data row6 col2\" >28-05-1975</td>\n",
       "      <td id=\"T_ca564_row6_col3\" class=\"data row6 col3\" >nan</td>\n",
       "      <td id=\"T_ca564_row6_col4\" class=\"data row6 col4\" >ff</td>\n",
       "      <td id=\"T_ca564_row6_col5\" class=\"data row6 col5\" >1</td>\n",
       "      <td id=\"T_ca564_row6_col6\" class=\"data row6 col6\" >None</td>\n",
       "      <td id=\"T_ca564_row6_col7\" class=\"data row6 col7\" >NAN</td>\n",
       "      <td id=\"T_ca564_row6_col8\" class=\"data row6 col8\" >NaN</td>\n",
       "      <td id=\"T_ca564_row6_col9\" class=\"data row6 col9\" >Normal</td>\n",
       "      <td id=\"T_ca564_row6_col10\" class=\"data row6 col10\" >NO</td>\n",
       "      <td id=\"T_ca564_row6_col11\" class=\"data row6 col11\" >NaN</td>\n",
       "    </tr>\n",
       "    <tr>\n",
       "      <th id=\"T_ca564_level0_row7\" class=\"row_heading level0 row7\" >7</th>\n",
       "      <td id=\"T_ca564_row7_col0\" class=\"data row7 col0\" >30002</td>\n",
       "      <td id=\"T_ca564_row7_col1\" class=\"data row7 col1\" >Harry Clark</td>\n",
       "      <td id=\"T_ca564_row7_col2\" class=\"data row7 col2\" >1960Mar08</td>\n",
       "      <td id=\"T_ca564_row7_col3\" class=\"data row7 col3\" >unk</td>\n",
       "      <td id=\"T_ca564_row7_col4\" class=\"data row7 col4\" >NaN</td>\n",
       "      <td id=\"T_ca564_row7_col5\" class=\"data row7 col5\" >6ft 1in</td>\n",
       "      <td id=\"T_ca564_row7_col6\" class=\"data row7 col6\" >80.3</td>\n",
       "      <td id=\"T_ca564_row7_col7\" class=\"data row7 col7\" >122</td>\n",
       "      <td id=\"T_ca564_row7_col8\" class=\"data row7 col8\" >None</td>\n",
       "      <td id=\"T_ca564_row7_col9\" class=\"data row7 col9\" >n/a</td>\n",
       "      <td id=\"T_ca564_row7_col10\" class=\"data row7 col10\" >None</td>\n",
       "      <td id=\"T_ca564_row7_col11\" class=\"data row7 col11\" >None</td>\n",
       "    </tr>\n",
       "    <tr>\n",
       "      <th id=\"T_ca564_level0_row8\" class=\"row_heading level0 row8\" >8</th>\n",
       "      <td id=\"T_ca564_row8_col0\" class=\"data row8 col0\" >30003</td>\n",
       "      <td id=\"T_ca564_row8_col1\" class=\"data row8 col1\" >IVY GREEN</td>\n",
       "      <td id=\"T_ca564_row8_col2\" class=\"data row8 col2\" >1955-Jan-09</td>\n",
       "      <td id=\"T_ca564_row8_col3\" class=\"data row8 col3\" ></td>\n",
       "      <td id=\"T_ca564_row8_col4\" class=\"data row8 col4\" >None</td>\n",
       "      <td id=\"T_ca564_row8_col5\" class=\"data row8 col5\" >-10</td>\n",
       "      <td id=\"T_ca564_row8_col6\" class=\"data row8 col6\" >130lbs</td>\n",
       "      <td id=\"T_ca564_row8_col7\" class=\"data row8 col7\" ></td>\n",
       "      <td id=\"T_ca564_row8_col8\" class=\"data row8 col8\" >95</td>\n",
       "      <td id=\"T_ca564_row8_col9\" class=\"data row8 col9\" >high</td>\n",
       "      <td id=\"T_ca564_row8_col10\" class=\"data row8 col10\" >NaN</td>\n",
       "      <td id=\"T_ca564_row8_col11\" class=\"data row8 col11\" >30 MG</td>\n",
       "    </tr>\n",
       "    <tr>\n",
       "      <th id=\"T_ca564_level0_row9\" class=\"row_heading level0 row9\" >9</th>\n",
       "      <td id=\"T_ca564_row9_col0\" class=\"data row9 col0\" >30004</td>\n",
       "      <td id=\"T_ca564_row9_col1\" class=\"data row9 col1\" >JAck Williams</td>\n",
       "      <td id=\"T_ca564_row9_col2\" class=\"data row9 col2\" >1950 Sep 10</td>\n",
       "      <td id=\"T_ca564_row9_col3\" class=\"data row9 col3\" >unknown</td>\n",
       "      <td id=\"T_ca564_row9_col4\" class=\"data row9 col4\" >Mal</td>\n",
       "      <td id=\"T_ca564_row9_col5\" class=\"data row9 col5\" ></td>\n",
       "      <td id=\"T_ca564_row9_col6\" class=\"data row9 col6\" >82</td>\n",
       "      <td id=\"T_ca564_row9_col7\" class=\"data row9 col7\" >130</td>\n",
       "      <td id=\"T_ca564_row9_col8\" class=\"data row9 col8\" >0</td>\n",
       "      <td id=\"T_ca564_row9_col9\" class=\"data row9 col9\" ></td>\n",
       "      <td id=\"T_ca564_row9_col10\" class=\"data row9 col10\" >n</td>\n",
       "      <td id=\"T_ca564_row9_col11\" class=\"data row9 col11\" >35</td>\n",
       "    </tr>\n",
       "    <tr>\n",
       "      <th id=\"T_ca564_level0_row10\" class=\"row_heading level0 row10\" >10</th>\n",
       "      <td id=\"T_ca564_row10_col0\" class=\"data row10 col0\" >30005</td>\n",
       "      <td id=\"T_ca564_row10_col1\" class=\"data row10 col1\" >john Doe</td>\n",
       "      <td id=\"T_ca564_row10_col2\" class=\"data row10 col2\" >1945 October 11</td>\n",
       "      <td id=\"T_ca564_row10_col3\" class=\"data row10 col3\" >35</td>\n",
       "      <td id=\"T_ca564_row10_col4\" class=\"data row10 col4\" >female</td>\n",
       "      <td id=\"T_ca564_row10_col5\" class=\"data row10 col5\" >200</td>\n",
       "      <td id=\"T_ca564_row10_col6\" class=\"data row10 col6\" >-65</td>\n",
       "      <td id=\"T_ca564_row10_col7\" class=\"data row10 col7\" >45</td>\n",
       "      <td id=\"T_ca564_row10_col8\" class=\"data row10 col8\" >NaN</td>\n",
       "      <td id=\"T_ca564_row10_col9\" class=\"data row10 col9\" >Normal</td>\n",
       "      <td id=\"T_ca564_row10_col10\" class=\"data row10 col10\" >Yes</td>\n",
       "      <td id=\"T_ca564_row10_col11\" class=\"data row10 col11\" >40ml</td>\n",
       "    </tr>\n",
       "  </tbody>\n",
       "</table>\n"
      ],
      "text/plain": [
       "<pandas.io.formats.style.Styler at 0x1779a71f4d0>"
      ]
     },
     "execution_count": 32,
     "metadata": {},
     "output_type": "execute_result"
    }
   ],
   "source": [
    "#change color:\n",
    "df.q('$color=red')"
   ]
  },
  {
   "cell_type": "code",
   "execution_count": 33,
   "metadata": {},
   "outputs": [
    {
     "data": {
      "text/html": [
       "<style type=\"text/css\">\n",
       "#T_a7e73_row0_col0, #T_a7e73_row0_col1, #T_a7e73_row0_col2, #T_a7e73_row0_col3, #T_a7e73_row0_col4, #T_a7e73_row0_col5, #T_a7e73_row0_col6, #T_a7e73_row0_col7, #T_a7e73_row0_col8, #T_a7e73_row0_col9, #T_a7e73_row0_col10, #T_a7e73_row0_col11, #T_a7e73_row1_col0, #T_a7e73_row1_col1, #T_a7e73_row1_col2, #T_a7e73_row1_col3, #T_a7e73_row1_col4, #T_a7e73_row1_col5, #T_a7e73_row1_col6, #T_a7e73_row1_col7, #T_a7e73_row1_col8, #T_a7e73_row1_col9, #T_a7e73_row1_col10, #T_a7e73_row1_col11, #T_a7e73_row2_col0, #T_a7e73_row2_col1, #T_a7e73_row2_col2, #T_a7e73_row2_col3, #T_a7e73_row2_col4, #T_a7e73_row2_col5, #T_a7e73_row2_col6, #T_a7e73_row2_col7, #T_a7e73_row2_col8, #T_a7e73_row2_col9, #T_a7e73_row2_col10, #T_a7e73_row2_col11, #T_a7e73_row3_col0, #T_a7e73_row3_col1, #T_a7e73_row3_col2, #T_a7e73_row3_col3, #T_a7e73_row3_col4, #T_a7e73_row3_col5, #T_a7e73_row3_col6, #T_a7e73_row3_col7, #T_a7e73_row3_col8, #T_a7e73_row3_col9, #T_a7e73_row3_col10, #T_a7e73_row3_col11, #T_a7e73_row4_col0, #T_a7e73_row4_col1, #T_a7e73_row4_col2, #T_a7e73_row4_col3, #T_a7e73_row4_col4, #T_a7e73_row4_col5, #T_a7e73_row4_col6, #T_a7e73_row4_col7, #T_a7e73_row4_col8, #T_a7e73_row4_col9, #T_a7e73_row4_col10, #T_a7e73_row4_col11, #T_a7e73_row5_col0, #T_a7e73_row5_col1, #T_a7e73_row5_col2, #T_a7e73_row5_col3, #T_a7e73_row5_col4, #T_a7e73_row5_col5, #T_a7e73_row5_col6, #T_a7e73_row5_col7, #T_a7e73_row5_col8, #T_a7e73_row5_col9, #T_a7e73_row5_col10, #T_a7e73_row5_col11, #T_a7e73_row6_col0, #T_a7e73_row6_col1, #T_a7e73_row6_col2, #T_a7e73_row6_col3, #T_a7e73_row6_col4, #T_a7e73_row6_col5, #T_a7e73_row6_col6, #T_a7e73_row6_col7, #T_a7e73_row6_col8, #T_a7e73_row6_col9, #T_a7e73_row6_col10, #T_a7e73_row6_col11, #T_a7e73_row7_col0, #T_a7e73_row7_col1, #T_a7e73_row7_col2, #T_a7e73_row7_col3, #T_a7e73_row7_col4, #T_a7e73_row7_col5, #T_a7e73_row7_col6, #T_a7e73_row7_col7, #T_a7e73_row7_col8, #T_a7e73_row7_col9, #T_a7e73_row7_col10, #T_a7e73_row7_col11, #T_a7e73_row8_col0, #T_a7e73_row8_col1, #T_a7e73_row8_col2, #T_a7e73_row8_col3, #T_a7e73_row8_col4, #T_a7e73_row8_col5, #T_a7e73_row8_col6, #T_a7e73_row8_col7, #T_a7e73_row8_col8, #T_a7e73_row8_col9, #T_a7e73_row8_col10, #T_a7e73_row8_col11, #T_a7e73_row9_col0, #T_a7e73_row9_col1, #T_a7e73_row9_col2, #T_a7e73_row9_col3, #T_a7e73_row9_col4, #T_a7e73_row9_col5, #T_a7e73_row9_col6, #T_a7e73_row9_col7, #T_a7e73_row9_col8, #T_a7e73_row9_col9, #T_a7e73_row9_col10, #T_a7e73_row9_col11, #T_a7e73_row10_col0, #T_a7e73_row10_col1, #T_a7e73_row10_col2, #T_a7e73_row10_col3, #T_a7e73_row10_col4, #T_a7e73_row10_col5, #T_a7e73_row10_col6, #T_a7e73_row10_col7, #T_a7e73_row10_col8, #T_a7e73_row10_col9, #T_a7e73_row10_col10, #T_a7e73_row10_col11 {\n",
       "  background-color: orange;\n",
       "}\n",
       "</style>\n",
       "<table id=\"T_a7e73\">\n",
       "  <thead>\n",
       "    <tr>\n",
       "      <th class=\"blank level0\" >&nbsp;</th>\n",
       "      <th id=\"T_a7e73_level0_col0\" class=\"col_heading level0 col0\" >ID</th>\n",
       "      <th id=\"T_a7e73_level0_col1\" class=\"col_heading level0 col1\" >name</th>\n",
       "      <th id=\"T_a7e73_level0_col2\" class=\"col_heading level0 col2\" >date of birth</th>\n",
       "      <th id=\"T_a7e73_level0_col3\" class=\"col_heading level0 col3\" >age</th>\n",
       "      <th id=\"T_a7e73_level0_col4\" class=\"col_heading level0 col4\" >gender</th>\n",
       "      <th id=\"T_a7e73_level0_col5\" class=\"col_heading level0 col5\" >height</th>\n",
       "      <th id=\"T_a7e73_level0_col6\" class=\"col_heading level0 col6\" >weight</th>\n",
       "      <th id=\"T_a7e73_level0_col7\" class=\"col_heading level0 col7\" >bp systole</th>\n",
       "      <th id=\"T_a7e73_level0_col8\" class=\"col_heading level0 col8\" >bp diastole</th>\n",
       "      <th id=\"T_a7e73_level0_col9\" class=\"col_heading level0 col9\" >cholesterol</th>\n",
       "      <th id=\"T_a7e73_level0_col10\" class=\"col_heading level0 col10\" >diabetes</th>\n",
       "      <th id=\"T_a7e73_level0_col11\" class=\"col_heading level0 col11\" >dose</th>\n",
       "    </tr>\n",
       "  </thead>\n",
       "  <tbody>\n",
       "    <tr>\n",
       "      <th id=\"T_a7e73_level0_row0\" class=\"row_heading level0 row0\" >0</th>\n",
       "      <td id=\"T_a7e73_row0_col0\" class=\"data row0 col0\" >10001</td>\n",
       "      <td id=\"T_a7e73_row0_col1\" class=\"data row0 col1\" >John Doe</td>\n",
       "      <td id=\"T_a7e73_row0_col2\" class=\"data row0 col2\" >1995-01-02</td>\n",
       "      <td id=\"T_a7e73_row0_col3\" class=\"data row0 col3\" >-25</td>\n",
       "      <td id=\"T_a7e73_row0_col4\" class=\"data row0 col4\" >M</td>\n",
       "      <td id=\"T_a7e73_row0_col5\" class=\"data row0 col5\" >170</td>\n",
       "      <td id=\"T_a7e73_row0_col6\" class=\"data row0 col6\" >70.200000</td>\n",
       "      <td id=\"T_a7e73_row0_col7\" class=\"data row0 col7\" >20</td>\n",
       "      <td id=\"T_a7e73_row0_col8\" class=\"data row0 col8\" >80</td>\n",
       "      <td id=\"T_a7e73_row0_col9\" class=\"data row0 col9\" >Normal</td>\n",
       "      <td id=\"T_a7e73_row0_col10\" class=\"data row0 col10\" >No</td>\n",
       "      <td id=\"T_a7e73_row0_col11\" class=\"data row0 col11\" >10kg</td>\n",
       "    </tr>\n",
       "    <tr>\n",
       "      <th id=\"T_a7e73_level0_row1\" class=\"row_heading level0 row1\" >1</th>\n",
       "      <td id=\"T_a7e73_row1_col0\" class=\"data row1 col0\" >10002</td>\n",
       "      <td id=\"T_a7e73_row1_col1\" class=\"data row1 col1\" >Jane Smith</td>\n",
       "      <td id=\"T_a7e73_row1_col2\" class=\"data row1 col2\" >1990/09/14</td>\n",
       "      <td id=\"T_a7e73_row1_col3\" class=\"data row1 col3\" >30</td>\n",
       "      <td id=\"T_a7e73_row1_col4\" class=\"data row1 col4\" >F</td>\n",
       "      <td id=\"T_a7e73_row1_col5\" class=\"data row1 col5\" >175.5cm</td>\n",
       "      <td id=\"T_a7e73_row1_col6\" class=\"data row1 col6\" >68</td>\n",
       "      <td id=\"T_a7e73_row1_col7\" class=\"data row1 col7\" >130</td>\n",
       "      <td id=\"T_a7e73_row1_col8\" class=\"data row1 col8\" >85</td>\n",
       "      <td id=\"T_a7e73_row1_col9\" class=\"data row1 col9\" >Highe</td>\n",
       "      <td id=\"T_a7e73_row1_col10\" class=\"data row1 col10\" >yes</td>\n",
       "      <td id=\"T_a7e73_row1_col11\" class=\"data row1 col11\" >NaN</td>\n",
       "    </tr>\n",
       "    <tr>\n",
       "      <th id=\"T_a7e73_level0_row2\" class=\"row_heading level0 row2\" >2</th>\n",
       "      <td id=\"T_a7e73_row2_col0\" class=\"data row2 col0\" >10003</td>\n",
       "      <td id=\"T_a7e73_row2_col1\" class=\"data row2 col1\" >Alice Johnson</td>\n",
       "      <td id=\"T_a7e73_row2_col2\" class=\"data row2 col2\" >1985.08.23</td>\n",
       "      <td id=\"T_a7e73_row2_col3\" class=\"data row2 col3\" >nan</td>\n",
       "      <td id=\"T_a7e73_row2_col4\" class=\"data row2 col4\" >Female</td>\n",
       "      <td id=\"T_a7e73_row2_col5\" class=\"data row2 col5\" >None</td>\n",
       "      <td id=\"T_a7e73_row2_col6\" class=\"data row2 col6\" >72.5lb</td>\n",
       "      <td id=\"T_a7e73_row2_col7\" class=\"data row2 col7\" >NaN</td>\n",
       "      <td id=\"T_a7e73_row2_col8\" class=\"data row2 col8\" >nan</td>\n",
       "      <td id=\"T_a7e73_row2_col9\" class=\"data row2 col9\" >NaN</td>\n",
       "      <td id=\"T_a7e73_row2_col10\" class=\"data row2 col10\" >N/A</td>\n",
       "      <td id=\"T_a7e73_row2_col11\" class=\"data row2 col11\" >15 mg once a day</td>\n",
       "    </tr>\n",
       "    <tr>\n",
       "      <th id=\"T_a7e73_level0_row3\" class=\"row_heading level0 row3\" >3</th>\n",
       "      <td id=\"T_a7e73_row3_col0\" class=\"data row3 col0\" >20001</td>\n",
       "      <td id=\"T_a7e73_row3_col1\" class=\"data row3 col1\" >Bob Brown</td>\n",
       "      <td id=\"T_a7e73_row3_col2\" class=\"data row3 col2\" >19800406</td>\n",
       "      <td id=\"T_a7e73_row3_col3\" class=\"data row3 col3\" >None</td>\n",
       "      <td id=\"T_a7e73_row3_col4\" class=\"data row3 col4\" >Male</td>\n",
       "      <td id=\"T_a7e73_row3_col5\" class=\"data row3 col5\" >280</td>\n",
       "      <td id=\"T_a7e73_row3_col6\" class=\"data row3 col6\" >na</td>\n",
       "      <td id=\"T_a7e73_row3_col7\" class=\"data row3 col7\" >140</td>\n",
       "      <td id=\"T_a7e73_row3_col8\" class=\"data row3 col8\" >90mmHg</td>\n",
       "      <td id=\"T_a7e73_row3_col9\" class=\"data row3 col9\" >GOOD</td>\n",
       "      <td id=\"T_a7e73_row3_col10\" class=\"data row3 col10\" >No</td>\n",
       "      <td id=\"T_a7e73_row3_col11\" class=\"data row3 col11\" >20mg</td>\n",
       "    </tr>\n",
       "    <tr>\n",
       "      <th id=\"T_a7e73_level0_row4\" class=\"row_heading level0 row4\" >4</th>\n",
       "      <td id=\"T_a7e73_row4_col0\" class=\"data row4 col0\" >20002</td>\n",
       "      <td id=\"T_a7e73_row4_col1\" class=\"data row4 col1\" >eva white</td>\n",
       "      <td id=\"T_a7e73_row4_col2\" class=\"data row4 col2\" >05-11-2007</td>\n",
       "      <td id=\"T_a7e73_row4_col3\" class=\"data row4 col3\" >40.0</td>\n",
       "      <td id=\"T_a7e73_row4_col4\" class=\"data row4 col4\" >Other</td>\n",
       "      <td id=\"T_a7e73_row4_col5\" class=\"data row4 col5\" >NaN</td>\n",
       "      <td id=\"T_a7e73_row4_col6\" class=\"data row4 col6\" ></td>\n",
       "      <td id=\"T_a7e73_row4_col7\" class=\"data row4 col7\" >135mmhg</td>\n",
       "      <td id=\"T_a7e73_row4_col8\" class=\"data row4 col8\" >nan</td>\n",
       "      <td id=\"T_a7e73_row4_col9\" class=\"data row4 col9\" >n.a.</td>\n",
       "      <td id=\"T_a7e73_row4_col10\" class=\"data row4 col10\" >Y</td>\n",
       "      <td id=\"T_a7e73_row4_col11\" class=\"data row4 col11\" >20 Mg</td>\n",
       "    </tr>\n",
       "    <tr>\n",
       "      <th id=\"T_a7e73_level0_row5\" class=\"row_heading level0 row5\" >5</th>\n",
       "      <td id=\"T_a7e73_row5_col0\" class=\"data row5 col0\" >20003</td>\n",
       "      <td id=\"T_a7e73_row5_col1\" class=\"data row5 col1\" >Frank miller</td>\n",
       "      <td id=\"T_a7e73_row5_col2\" class=\"data row5 col2\" >06-30-1983</td>\n",
       "      <td id=\"T_a7e73_row5_col3\" class=\"data row5 col3\" >forty-five</td>\n",
       "      <td id=\"T_a7e73_row5_col4\" class=\"data row5 col4\" >m</td>\n",
       "      <td id=\"T_a7e73_row5_col5\" class=\"data row5 col5\" >185</td>\n",
       "      <td id=\"T_a7e73_row5_col6\" class=\"data row5 col6\" >75kg</td>\n",
       "      <td id=\"T_a7e73_row5_col7\" class=\"data row5 col7\" >125</td>\n",
       "      <td id=\"T_a7e73_row5_col8\" class=\"data row5 col8\" >75</td>\n",
       "      <td id=\"T_a7e73_row5_col9\" class=\"data row5 col9\" >High</td>\n",
       "      <td id=\"T_a7e73_row5_col10\" class=\"data row5 col10\" >Yes</td>\n",
       "      <td id=\"T_a7e73_row5_col11\" class=\"data row5 col11\" >25g</td>\n",
       "    </tr>\n",
       "    <tr>\n",
       "      <th id=\"T_a7e73_level0_row6\" class=\"row_heading level0 row6\" >6</th>\n",
       "      <td id=\"T_a7e73_row6_col0\" class=\"data row6 col0\" >30001</td>\n",
       "      <td id=\"T_a7e73_row6_col1\" class=\"data row6 col1\" >Grace TAYLOR</td>\n",
       "      <td id=\"T_a7e73_row6_col2\" class=\"data row6 col2\" >28-05-1975</td>\n",
       "      <td id=\"T_a7e73_row6_col3\" class=\"data row6 col3\" >nan</td>\n",
       "      <td id=\"T_a7e73_row6_col4\" class=\"data row6 col4\" >ff</td>\n",
       "      <td id=\"T_a7e73_row6_col5\" class=\"data row6 col5\" >1</td>\n",
       "      <td id=\"T_a7e73_row6_col6\" class=\"data row6 col6\" >None</td>\n",
       "      <td id=\"T_a7e73_row6_col7\" class=\"data row6 col7\" >NAN</td>\n",
       "      <td id=\"T_a7e73_row6_col8\" class=\"data row6 col8\" >NaN</td>\n",
       "      <td id=\"T_a7e73_row6_col9\" class=\"data row6 col9\" >Normal</td>\n",
       "      <td id=\"T_a7e73_row6_col10\" class=\"data row6 col10\" >NO</td>\n",
       "      <td id=\"T_a7e73_row6_col11\" class=\"data row6 col11\" >NaN</td>\n",
       "    </tr>\n",
       "    <tr>\n",
       "      <th id=\"T_a7e73_level0_row7\" class=\"row_heading level0 row7\" >7</th>\n",
       "      <td id=\"T_a7e73_row7_col0\" class=\"data row7 col0\" >30002</td>\n",
       "      <td id=\"T_a7e73_row7_col1\" class=\"data row7 col1\" >Harry Clark</td>\n",
       "      <td id=\"T_a7e73_row7_col2\" class=\"data row7 col2\" >1960Mar08</td>\n",
       "      <td id=\"T_a7e73_row7_col3\" class=\"data row7 col3\" >unk</td>\n",
       "      <td id=\"T_a7e73_row7_col4\" class=\"data row7 col4\" >NaN</td>\n",
       "      <td id=\"T_a7e73_row7_col5\" class=\"data row7 col5\" >6ft 1in</td>\n",
       "      <td id=\"T_a7e73_row7_col6\" class=\"data row7 col6\" >80.3</td>\n",
       "      <td id=\"T_a7e73_row7_col7\" class=\"data row7 col7\" >122</td>\n",
       "      <td id=\"T_a7e73_row7_col8\" class=\"data row7 col8\" >None</td>\n",
       "      <td id=\"T_a7e73_row7_col9\" class=\"data row7 col9\" >n/a</td>\n",
       "      <td id=\"T_a7e73_row7_col10\" class=\"data row7 col10\" >None</td>\n",
       "      <td id=\"T_a7e73_row7_col11\" class=\"data row7 col11\" >None</td>\n",
       "    </tr>\n",
       "    <tr>\n",
       "      <th id=\"T_a7e73_level0_row8\" class=\"row_heading level0 row8\" >8</th>\n",
       "      <td id=\"T_a7e73_row8_col0\" class=\"data row8 col0\" >30003</td>\n",
       "      <td id=\"T_a7e73_row8_col1\" class=\"data row8 col1\" >IVY GREEN</td>\n",
       "      <td id=\"T_a7e73_row8_col2\" class=\"data row8 col2\" >1955-Jan-09</td>\n",
       "      <td id=\"T_a7e73_row8_col3\" class=\"data row8 col3\" ></td>\n",
       "      <td id=\"T_a7e73_row8_col4\" class=\"data row8 col4\" >None</td>\n",
       "      <td id=\"T_a7e73_row8_col5\" class=\"data row8 col5\" >-10</td>\n",
       "      <td id=\"T_a7e73_row8_col6\" class=\"data row8 col6\" >130lbs</td>\n",
       "      <td id=\"T_a7e73_row8_col7\" class=\"data row8 col7\" ></td>\n",
       "      <td id=\"T_a7e73_row8_col8\" class=\"data row8 col8\" >95</td>\n",
       "      <td id=\"T_a7e73_row8_col9\" class=\"data row8 col9\" >high</td>\n",
       "      <td id=\"T_a7e73_row8_col10\" class=\"data row8 col10\" >NaN</td>\n",
       "      <td id=\"T_a7e73_row8_col11\" class=\"data row8 col11\" >30 MG</td>\n",
       "    </tr>\n",
       "    <tr>\n",
       "      <th id=\"T_a7e73_level0_row9\" class=\"row_heading level0 row9\" >9</th>\n",
       "      <td id=\"T_a7e73_row9_col0\" class=\"data row9 col0\" >30004</td>\n",
       "      <td id=\"T_a7e73_row9_col1\" class=\"data row9 col1\" >JAck Williams</td>\n",
       "      <td id=\"T_a7e73_row9_col2\" class=\"data row9 col2\" >1950 Sep 10</td>\n",
       "      <td id=\"T_a7e73_row9_col3\" class=\"data row9 col3\" >unknown</td>\n",
       "      <td id=\"T_a7e73_row9_col4\" class=\"data row9 col4\" >Mal</td>\n",
       "      <td id=\"T_a7e73_row9_col5\" class=\"data row9 col5\" ></td>\n",
       "      <td id=\"T_a7e73_row9_col6\" class=\"data row9 col6\" >82</td>\n",
       "      <td id=\"T_a7e73_row9_col7\" class=\"data row9 col7\" >130</td>\n",
       "      <td id=\"T_a7e73_row9_col8\" class=\"data row9 col8\" >0</td>\n",
       "      <td id=\"T_a7e73_row9_col9\" class=\"data row9 col9\" ></td>\n",
       "      <td id=\"T_a7e73_row9_col10\" class=\"data row9 col10\" >n</td>\n",
       "      <td id=\"T_a7e73_row9_col11\" class=\"data row9 col11\" >35</td>\n",
       "    </tr>\n",
       "    <tr>\n",
       "      <th id=\"T_a7e73_level0_row10\" class=\"row_heading level0 row10\" >10</th>\n",
       "      <td id=\"T_a7e73_row10_col0\" class=\"data row10 col0\" >30005</td>\n",
       "      <td id=\"T_a7e73_row10_col1\" class=\"data row10 col1\" >john Doe</td>\n",
       "      <td id=\"T_a7e73_row10_col2\" class=\"data row10 col2\" >1945 October 11</td>\n",
       "      <td id=\"T_a7e73_row10_col3\" class=\"data row10 col3\" >35</td>\n",
       "      <td id=\"T_a7e73_row10_col4\" class=\"data row10 col4\" >female</td>\n",
       "      <td id=\"T_a7e73_row10_col5\" class=\"data row10 col5\" >200</td>\n",
       "      <td id=\"T_a7e73_row10_col6\" class=\"data row10 col6\" >-65</td>\n",
       "      <td id=\"T_a7e73_row10_col7\" class=\"data row10 col7\" >45</td>\n",
       "      <td id=\"T_a7e73_row10_col8\" class=\"data row10 col8\" >NaN</td>\n",
       "      <td id=\"T_a7e73_row10_col9\" class=\"data row10 col9\" >Normal</td>\n",
       "      <td id=\"T_a7e73_row10_col10\" class=\"data row10 col10\" >Yes</td>\n",
       "      <td id=\"T_a7e73_row10_col11\" class=\"data row10 col11\" >40ml</td>\n",
       "    </tr>\n",
       "  </tbody>\n",
       "</table>\n"
      ],
      "text/plain": [
       "<pandas.io.formats.style.Styler at 0x1779a71e490>"
      ]
     },
     "execution_count": 33,
     "metadata": {},
     "output_type": "execute_result"
    }
   ],
   "source": [
    "#change background color:\n",
    "df.q('$bg=orange')"
   ]
  },
  {
   "cell_type": "code",
   "execution_count": 34,
   "metadata": {},
   "outputs": [
    {
     "data": {
      "text/html": [
       "<style type=\"text/css\">\n",
       "#T_d8e2f_row3_col5, #T_d8e2f_row5_col5, #T_d8e2f_row10_col5 {\n",
       "  background-color: orange;\n",
       "}\n",
       "</style>\n",
       "<table id=\"T_d8e2f\">\n",
       "  <thead>\n",
       "    <tr>\n",
       "      <th class=\"blank level0\" >&nbsp;</th>\n",
       "      <th id=\"T_d8e2f_level0_col0\" class=\"col_heading level0 col0\" >ID</th>\n",
       "      <th id=\"T_d8e2f_level0_col1\" class=\"col_heading level0 col1\" >name</th>\n",
       "      <th id=\"T_d8e2f_level0_col2\" class=\"col_heading level0 col2\" >date of birth</th>\n",
       "      <th id=\"T_d8e2f_level0_col3\" class=\"col_heading level0 col3\" >age</th>\n",
       "      <th id=\"T_d8e2f_level0_col4\" class=\"col_heading level0 col4\" >gender</th>\n",
       "      <th id=\"T_d8e2f_level0_col5\" class=\"col_heading level0 col5\" >height</th>\n",
       "      <th id=\"T_d8e2f_level0_col6\" class=\"col_heading level0 col6\" >weight</th>\n",
       "      <th id=\"T_d8e2f_level0_col7\" class=\"col_heading level0 col7\" >bp systole</th>\n",
       "      <th id=\"T_d8e2f_level0_col8\" class=\"col_heading level0 col8\" >bp diastole</th>\n",
       "      <th id=\"T_d8e2f_level0_col9\" class=\"col_heading level0 col9\" >cholesterol</th>\n",
       "      <th id=\"T_d8e2f_level0_col10\" class=\"col_heading level0 col10\" >diabetes</th>\n",
       "      <th id=\"T_d8e2f_level0_col11\" class=\"col_heading level0 col11\" >dose</th>\n",
       "    </tr>\n",
       "  </thead>\n",
       "  <tbody>\n",
       "    <tr>\n",
       "      <th id=\"T_d8e2f_level0_row0\" class=\"row_heading level0 row0\" >0</th>\n",
       "      <td id=\"T_d8e2f_row0_col0\" class=\"data row0 col0\" >10001</td>\n",
       "      <td id=\"T_d8e2f_row0_col1\" class=\"data row0 col1\" >John Doe</td>\n",
       "      <td id=\"T_d8e2f_row0_col2\" class=\"data row0 col2\" >1995-01-02</td>\n",
       "      <td id=\"T_d8e2f_row0_col3\" class=\"data row0 col3\" >-25</td>\n",
       "      <td id=\"T_d8e2f_row0_col4\" class=\"data row0 col4\" >M</td>\n",
       "      <td id=\"T_d8e2f_row0_col5\" class=\"data row0 col5\" >170</td>\n",
       "      <td id=\"T_d8e2f_row0_col6\" class=\"data row0 col6\" >70.200000</td>\n",
       "      <td id=\"T_d8e2f_row0_col7\" class=\"data row0 col7\" >20</td>\n",
       "      <td id=\"T_d8e2f_row0_col8\" class=\"data row0 col8\" >80</td>\n",
       "      <td id=\"T_d8e2f_row0_col9\" class=\"data row0 col9\" >Normal</td>\n",
       "      <td id=\"T_d8e2f_row0_col10\" class=\"data row0 col10\" >No</td>\n",
       "      <td id=\"T_d8e2f_row0_col11\" class=\"data row0 col11\" >10kg</td>\n",
       "    </tr>\n",
       "    <tr>\n",
       "      <th id=\"T_d8e2f_level0_row1\" class=\"row_heading level0 row1\" >1</th>\n",
       "      <td id=\"T_d8e2f_row1_col0\" class=\"data row1 col0\" >10002</td>\n",
       "      <td id=\"T_d8e2f_row1_col1\" class=\"data row1 col1\" >Jane Smith</td>\n",
       "      <td id=\"T_d8e2f_row1_col2\" class=\"data row1 col2\" >1990/09/14</td>\n",
       "      <td id=\"T_d8e2f_row1_col3\" class=\"data row1 col3\" >30</td>\n",
       "      <td id=\"T_d8e2f_row1_col4\" class=\"data row1 col4\" >F</td>\n",
       "      <td id=\"T_d8e2f_row1_col5\" class=\"data row1 col5\" >175.5cm</td>\n",
       "      <td id=\"T_d8e2f_row1_col6\" class=\"data row1 col6\" >68</td>\n",
       "      <td id=\"T_d8e2f_row1_col7\" class=\"data row1 col7\" >130</td>\n",
       "      <td id=\"T_d8e2f_row1_col8\" class=\"data row1 col8\" >85</td>\n",
       "      <td id=\"T_d8e2f_row1_col9\" class=\"data row1 col9\" >Highe</td>\n",
       "      <td id=\"T_d8e2f_row1_col10\" class=\"data row1 col10\" >yes</td>\n",
       "      <td id=\"T_d8e2f_row1_col11\" class=\"data row1 col11\" >NaN</td>\n",
       "    </tr>\n",
       "    <tr>\n",
       "      <th id=\"T_d8e2f_level0_row2\" class=\"row_heading level0 row2\" >2</th>\n",
       "      <td id=\"T_d8e2f_row2_col0\" class=\"data row2 col0\" >10003</td>\n",
       "      <td id=\"T_d8e2f_row2_col1\" class=\"data row2 col1\" >Alice Johnson</td>\n",
       "      <td id=\"T_d8e2f_row2_col2\" class=\"data row2 col2\" >1985.08.23</td>\n",
       "      <td id=\"T_d8e2f_row2_col3\" class=\"data row2 col3\" >nan</td>\n",
       "      <td id=\"T_d8e2f_row2_col4\" class=\"data row2 col4\" >Female</td>\n",
       "      <td id=\"T_d8e2f_row2_col5\" class=\"data row2 col5\" >None</td>\n",
       "      <td id=\"T_d8e2f_row2_col6\" class=\"data row2 col6\" >72.5lb</td>\n",
       "      <td id=\"T_d8e2f_row2_col7\" class=\"data row2 col7\" >NaN</td>\n",
       "      <td id=\"T_d8e2f_row2_col8\" class=\"data row2 col8\" >nan</td>\n",
       "      <td id=\"T_d8e2f_row2_col9\" class=\"data row2 col9\" >NaN</td>\n",
       "      <td id=\"T_d8e2f_row2_col10\" class=\"data row2 col10\" >N/A</td>\n",
       "      <td id=\"T_d8e2f_row2_col11\" class=\"data row2 col11\" >15 mg once a day</td>\n",
       "    </tr>\n",
       "    <tr>\n",
       "      <th id=\"T_d8e2f_level0_row3\" class=\"row_heading level0 row3\" >3</th>\n",
       "      <td id=\"T_d8e2f_row3_col0\" class=\"data row3 col0\" >20001</td>\n",
       "      <td id=\"T_d8e2f_row3_col1\" class=\"data row3 col1\" >Bob Brown</td>\n",
       "      <td id=\"T_d8e2f_row3_col2\" class=\"data row3 col2\" >19800406</td>\n",
       "      <td id=\"T_d8e2f_row3_col3\" class=\"data row3 col3\" >None</td>\n",
       "      <td id=\"T_d8e2f_row3_col4\" class=\"data row3 col4\" >Male</td>\n",
       "      <td id=\"T_d8e2f_row3_col5\" class=\"data row3 col5\" >280</td>\n",
       "      <td id=\"T_d8e2f_row3_col6\" class=\"data row3 col6\" >na</td>\n",
       "      <td id=\"T_d8e2f_row3_col7\" class=\"data row3 col7\" >140</td>\n",
       "      <td id=\"T_d8e2f_row3_col8\" class=\"data row3 col8\" >90mmHg</td>\n",
       "      <td id=\"T_d8e2f_row3_col9\" class=\"data row3 col9\" >GOOD</td>\n",
       "      <td id=\"T_d8e2f_row3_col10\" class=\"data row3 col10\" >No</td>\n",
       "      <td id=\"T_d8e2f_row3_col11\" class=\"data row3 col11\" >20mg</td>\n",
       "    </tr>\n",
       "    <tr>\n",
       "      <th id=\"T_d8e2f_level0_row4\" class=\"row_heading level0 row4\" >4</th>\n",
       "      <td id=\"T_d8e2f_row4_col0\" class=\"data row4 col0\" >20002</td>\n",
       "      <td id=\"T_d8e2f_row4_col1\" class=\"data row4 col1\" >eva white</td>\n",
       "      <td id=\"T_d8e2f_row4_col2\" class=\"data row4 col2\" >05-11-2007</td>\n",
       "      <td id=\"T_d8e2f_row4_col3\" class=\"data row4 col3\" >40.0</td>\n",
       "      <td id=\"T_d8e2f_row4_col4\" class=\"data row4 col4\" >Other</td>\n",
       "      <td id=\"T_d8e2f_row4_col5\" class=\"data row4 col5\" >NaN</td>\n",
       "      <td id=\"T_d8e2f_row4_col6\" class=\"data row4 col6\" ></td>\n",
       "      <td id=\"T_d8e2f_row4_col7\" class=\"data row4 col7\" >135mmhg</td>\n",
       "      <td id=\"T_d8e2f_row4_col8\" class=\"data row4 col8\" >nan</td>\n",
       "      <td id=\"T_d8e2f_row4_col9\" class=\"data row4 col9\" >n.a.</td>\n",
       "      <td id=\"T_d8e2f_row4_col10\" class=\"data row4 col10\" >Y</td>\n",
       "      <td id=\"T_d8e2f_row4_col11\" class=\"data row4 col11\" >20 Mg</td>\n",
       "    </tr>\n",
       "    <tr>\n",
       "      <th id=\"T_d8e2f_level0_row5\" class=\"row_heading level0 row5\" >5</th>\n",
       "      <td id=\"T_d8e2f_row5_col0\" class=\"data row5 col0\" >20003</td>\n",
       "      <td id=\"T_d8e2f_row5_col1\" class=\"data row5 col1\" >Frank miller</td>\n",
       "      <td id=\"T_d8e2f_row5_col2\" class=\"data row5 col2\" >06-30-1983</td>\n",
       "      <td id=\"T_d8e2f_row5_col3\" class=\"data row5 col3\" >forty-five</td>\n",
       "      <td id=\"T_d8e2f_row5_col4\" class=\"data row5 col4\" >m</td>\n",
       "      <td id=\"T_d8e2f_row5_col5\" class=\"data row5 col5\" >185</td>\n",
       "      <td id=\"T_d8e2f_row5_col6\" class=\"data row5 col6\" >75kg</td>\n",
       "      <td id=\"T_d8e2f_row5_col7\" class=\"data row5 col7\" >125</td>\n",
       "      <td id=\"T_d8e2f_row5_col8\" class=\"data row5 col8\" >75</td>\n",
       "      <td id=\"T_d8e2f_row5_col9\" class=\"data row5 col9\" >High</td>\n",
       "      <td id=\"T_d8e2f_row5_col10\" class=\"data row5 col10\" >Yes</td>\n",
       "      <td id=\"T_d8e2f_row5_col11\" class=\"data row5 col11\" >25g</td>\n",
       "    </tr>\n",
       "    <tr>\n",
       "      <th id=\"T_d8e2f_level0_row6\" class=\"row_heading level0 row6\" >6</th>\n",
       "      <td id=\"T_d8e2f_row6_col0\" class=\"data row6 col0\" >30001</td>\n",
       "      <td id=\"T_d8e2f_row6_col1\" class=\"data row6 col1\" >Grace TAYLOR</td>\n",
       "      <td id=\"T_d8e2f_row6_col2\" class=\"data row6 col2\" >28-05-1975</td>\n",
       "      <td id=\"T_d8e2f_row6_col3\" class=\"data row6 col3\" >nan</td>\n",
       "      <td id=\"T_d8e2f_row6_col4\" class=\"data row6 col4\" >ff</td>\n",
       "      <td id=\"T_d8e2f_row6_col5\" class=\"data row6 col5\" >1</td>\n",
       "      <td id=\"T_d8e2f_row6_col6\" class=\"data row6 col6\" >None</td>\n",
       "      <td id=\"T_d8e2f_row6_col7\" class=\"data row6 col7\" >NAN</td>\n",
       "      <td id=\"T_d8e2f_row6_col8\" class=\"data row6 col8\" >NaN</td>\n",
       "      <td id=\"T_d8e2f_row6_col9\" class=\"data row6 col9\" >Normal</td>\n",
       "      <td id=\"T_d8e2f_row6_col10\" class=\"data row6 col10\" >NO</td>\n",
       "      <td id=\"T_d8e2f_row6_col11\" class=\"data row6 col11\" >NaN</td>\n",
       "    </tr>\n",
       "    <tr>\n",
       "      <th id=\"T_d8e2f_level0_row7\" class=\"row_heading level0 row7\" >7</th>\n",
       "      <td id=\"T_d8e2f_row7_col0\" class=\"data row7 col0\" >30002</td>\n",
       "      <td id=\"T_d8e2f_row7_col1\" class=\"data row7 col1\" >Harry Clark</td>\n",
       "      <td id=\"T_d8e2f_row7_col2\" class=\"data row7 col2\" >1960Mar08</td>\n",
       "      <td id=\"T_d8e2f_row7_col3\" class=\"data row7 col3\" >unk</td>\n",
       "      <td id=\"T_d8e2f_row7_col4\" class=\"data row7 col4\" >NaN</td>\n",
       "      <td id=\"T_d8e2f_row7_col5\" class=\"data row7 col5\" >6ft 1in</td>\n",
       "      <td id=\"T_d8e2f_row7_col6\" class=\"data row7 col6\" >80.3</td>\n",
       "      <td id=\"T_d8e2f_row7_col7\" class=\"data row7 col7\" >122</td>\n",
       "      <td id=\"T_d8e2f_row7_col8\" class=\"data row7 col8\" >None</td>\n",
       "      <td id=\"T_d8e2f_row7_col9\" class=\"data row7 col9\" >n/a</td>\n",
       "      <td id=\"T_d8e2f_row7_col10\" class=\"data row7 col10\" >None</td>\n",
       "      <td id=\"T_d8e2f_row7_col11\" class=\"data row7 col11\" >None</td>\n",
       "    </tr>\n",
       "    <tr>\n",
       "      <th id=\"T_d8e2f_level0_row8\" class=\"row_heading level0 row8\" >8</th>\n",
       "      <td id=\"T_d8e2f_row8_col0\" class=\"data row8 col0\" >30003</td>\n",
       "      <td id=\"T_d8e2f_row8_col1\" class=\"data row8 col1\" >IVY GREEN</td>\n",
       "      <td id=\"T_d8e2f_row8_col2\" class=\"data row8 col2\" >1955-Jan-09</td>\n",
       "      <td id=\"T_d8e2f_row8_col3\" class=\"data row8 col3\" ></td>\n",
       "      <td id=\"T_d8e2f_row8_col4\" class=\"data row8 col4\" >None</td>\n",
       "      <td id=\"T_d8e2f_row8_col5\" class=\"data row8 col5\" >-10</td>\n",
       "      <td id=\"T_d8e2f_row8_col6\" class=\"data row8 col6\" >130lbs</td>\n",
       "      <td id=\"T_d8e2f_row8_col7\" class=\"data row8 col7\" ></td>\n",
       "      <td id=\"T_d8e2f_row8_col8\" class=\"data row8 col8\" >95</td>\n",
       "      <td id=\"T_d8e2f_row8_col9\" class=\"data row8 col9\" >high</td>\n",
       "      <td id=\"T_d8e2f_row8_col10\" class=\"data row8 col10\" >NaN</td>\n",
       "      <td id=\"T_d8e2f_row8_col11\" class=\"data row8 col11\" >30 MG</td>\n",
       "    </tr>\n",
       "    <tr>\n",
       "      <th id=\"T_d8e2f_level0_row9\" class=\"row_heading level0 row9\" >9</th>\n",
       "      <td id=\"T_d8e2f_row9_col0\" class=\"data row9 col0\" >30004</td>\n",
       "      <td id=\"T_d8e2f_row9_col1\" class=\"data row9 col1\" >JAck Williams</td>\n",
       "      <td id=\"T_d8e2f_row9_col2\" class=\"data row9 col2\" >1950 Sep 10</td>\n",
       "      <td id=\"T_d8e2f_row9_col3\" class=\"data row9 col3\" >unknown</td>\n",
       "      <td id=\"T_d8e2f_row9_col4\" class=\"data row9 col4\" >Mal</td>\n",
       "      <td id=\"T_d8e2f_row9_col5\" class=\"data row9 col5\" ></td>\n",
       "      <td id=\"T_d8e2f_row9_col6\" class=\"data row9 col6\" >82</td>\n",
       "      <td id=\"T_d8e2f_row9_col7\" class=\"data row9 col7\" >130</td>\n",
       "      <td id=\"T_d8e2f_row9_col8\" class=\"data row9 col8\" >0</td>\n",
       "      <td id=\"T_d8e2f_row9_col9\" class=\"data row9 col9\" ></td>\n",
       "      <td id=\"T_d8e2f_row9_col10\" class=\"data row9 col10\" >n</td>\n",
       "      <td id=\"T_d8e2f_row9_col11\" class=\"data row9 col11\" >35</td>\n",
       "    </tr>\n",
       "    <tr>\n",
       "      <th id=\"T_d8e2f_level0_row10\" class=\"row_heading level0 row10\" >10</th>\n",
       "      <td id=\"T_d8e2f_row10_col0\" class=\"data row10 col0\" >30005</td>\n",
       "      <td id=\"T_d8e2f_row10_col1\" class=\"data row10 col1\" >john Doe</td>\n",
       "      <td id=\"T_d8e2f_row10_col2\" class=\"data row10 col2\" >1945 October 11</td>\n",
       "      <td id=\"T_d8e2f_row10_col3\" class=\"data row10 col3\" >35</td>\n",
       "      <td id=\"T_d8e2f_row10_col4\" class=\"data row10 col4\" >female</td>\n",
       "      <td id=\"T_d8e2f_row10_col5\" class=\"data row10 col5\" >200</td>\n",
       "      <td id=\"T_d8e2f_row10_col6\" class=\"data row10 col6\" >-65</td>\n",
       "      <td id=\"T_d8e2f_row10_col7\" class=\"data row10 col7\" >45</td>\n",
       "      <td id=\"T_d8e2f_row10_col8\" class=\"data row10 col8\" >NaN</td>\n",
       "      <td id=\"T_d8e2f_row10_col9\" class=\"data row10 col9\" >Normal</td>\n",
       "      <td id=\"T_d8e2f_row10_col10\" class=\"data row10 col10\" >Yes</td>\n",
       "      <td id=\"T_d8e2f_row10_col11\" class=\"data row10 col11\" >40ml</td>\n",
       "    </tr>\n",
       "  </tbody>\n",
       "</table>\n"
      ],
      "text/plain": [
       "<pandas.io.formats.style.Styler at 0x1779a71e990>"
      ]
     },
     "execution_count": 34,
     "metadata": {},
     "output_type": "execute_result"
    }
   ],
   "source": [
    "#Use to highlight selection:\n",
    "df.q(\n",
    "    r\"\"\"\n",
    "    height      %%>180    $bg=orange\n",
    "    is any;     %%is any;\n",
    "    \"\"\"\n",
    "    )"
   ]
  },
  {
   "cell_type": "code",
   "execution_count": 35,
   "metadata": {},
   "outputs": [
    {
     "data": {
      "text/html": [
       "<style type=\"text/css\">\n",
       "#T_b1721_row0_col0, #T_b1721_row0_col1, #T_b1721_row0_col2, #T_b1721_row0_col3, #T_b1721_row0_col4, #T_b1721_row0_col5, #T_b1721_row0_col6, #T_b1721_row0_col7, #T_b1721_row0_col8, #T_b1721_row0_col9, #T_b1721_row0_col10, #T_b1721_row0_col11, #T_b1721_row1_col0, #T_b1721_row1_col1, #T_b1721_row1_col2, #T_b1721_row1_col3, #T_b1721_row1_col4, #T_b1721_row1_col5, #T_b1721_row1_col6, #T_b1721_row1_col7, #T_b1721_row1_col8, #T_b1721_row1_col9, #T_b1721_row1_col10, #T_b1721_row1_col11, #T_b1721_row2_col0, #T_b1721_row2_col1, #T_b1721_row2_col2, #T_b1721_row2_col3, #T_b1721_row2_col4, #T_b1721_row2_col5, #T_b1721_row2_col6, #T_b1721_row2_col7, #T_b1721_row2_col8, #T_b1721_row2_col9, #T_b1721_row2_col10, #T_b1721_row2_col11, #T_b1721_row3_col0, #T_b1721_row3_col1, #T_b1721_row3_col2, #T_b1721_row3_col3, #T_b1721_row3_col4, #T_b1721_row3_col5, #T_b1721_row3_col6, #T_b1721_row3_col7, #T_b1721_row3_col8, #T_b1721_row3_col9, #T_b1721_row3_col10, #T_b1721_row3_col11, #T_b1721_row4_col0, #T_b1721_row4_col1, #T_b1721_row4_col2, #T_b1721_row4_col3, #T_b1721_row4_col4, #T_b1721_row4_col5, #T_b1721_row4_col6, #T_b1721_row4_col7, #T_b1721_row4_col8, #T_b1721_row4_col9, #T_b1721_row4_col10, #T_b1721_row4_col11, #T_b1721_row5_col0, #T_b1721_row5_col1, #T_b1721_row5_col2, #T_b1721_row5_col3, #T_b1721_row5_col4, #T_b1721_row5_col5, #T_b1721_row5_col6, #T_b1721_row5_col7, #T_b1721_row5_col8, #T_b1721_row5_col9, #T_b1721_row5_col10, #T_b1721_row5_col11, #T_b1721_row6_col0, #T_b1721_row6_col1, #T_b1721_row6_col2, #T_b1721_row6_col3, #T_b1721_row6_col4, #T_b1721_row6_col5, #T_b1721_row6_col6, #T_b1721_row6_col7, #T_b1721_row6_col8, #T_b1721_row6_col9, #T_b1721_row6_col10, #T_b1721_row6_col11, #T_b1721_row7_col0, #T_b1721_row7_col1, #T_b1721_row7_col2, #T_b1721_row7_col3, #T_b1721_row7_col4, #T_b1721_row7_col5, #T_b1721_row7_col6, #T_b1721_row7_col7, #T_b1721_row7_col8, #T_b1721_row7_col9, #T_b1721_row7_col10, #T_b1721_row7_col11, #T_b1721_row8_col0, #T_b1721_row8_col1, #T_b1721_row8_col2, #T_b1721_row8_col3, #T_b1721_row8_col4, #T_b1721_row8_col5, #T_b1721_row8_col6, #T_b1721_row8_col7, #T_b1721_row8_col8, #T_b1721_row8_col9, #T_b1721_row8_col10, #T_b1721_row8_col11 {\n",
       "  background-color: orange;\n",
       "}\n",
       "</style>\n",
       "<table id=\"T_b1721\">\n",
       "  <thead>\n",
       "    <tr>\n",
       "      <th class=\"blank level0\" >&nbsp;</th>\n",
       "      <th id=\"T_b1721_level0_col0\" class=\"col_heading level0 col0\" >ID</th>\n",
       "      <th id=\"T_b1721_level0_col1\" class=\"col_heading level0 col1\" >name</th>\n",
       "      <th id=\"T_b1721_level0_col2\" class=\"col_heading level0 col2\" >date of birth</th>\n",
       "      <th id=\"T_b1721_level0_col3\" class=\"col_heading level0 col3\" >age</th>\n",
       "      <th id=\"T_b1721_level0_col4\" class=\"col_heading level0 col4\" >gender</th>\n",
       "      <th id=\"T_b1721_level0_col5\" class=\"col_heading level0 col5\" >height</th>\n",
       "      <th id=\"T_b1721_level0_col6\" class=\"col_heading level0 col6\" >weight</th>\n",
       "      <th id=\"T_b1721_level0_col7\" class=\"col_heading level0 col7\" >bp systole</th>\n",
       "      <th id=\"T_b1721_level0_col8\" class=\"col_heading level0 col8\" >bp diastole</th>\n",
       "      <th id=\"T_b1721_level0_col9\" class=\"col_heading level0 col9\" >cholesterol</th>\n",
       "      <th id=\"T_b1721_level0_col10\" class=\"col_heading level0 col10\" >diabetes</th>\n",
       "      <th id=\"T_b1721_level0_col11\" class=\"col_heading level0 col11\" >dose</th>\n",
       "    </tr>\n",
       "  </thead>\n",
       "  <tbody>\n",
       "    <tr>\n",
       "      <th id=\"T_b1721_level0_row0\" class=\"row_heading level0 row0\" >1</th>\n",
       "      <td id=\"T_b1721_row0_col0\" class=\"data row0 col0\" >10002</td>\n",
       "      <td id=\"T_b1721_row0_col1\" class=\"data row0 col1\" >Jane Smith</td>\n",
       "      <td id=\"T_b1721_row0_col2\" class=\"data row0 col2\" >1990/09/14</td>\n",
       "      <td id=\"T_b1721_row0_col3\" class=\"data row0 col3\" >30</td>\n",
       "      <td id=\"T_b1721_row0_col4\" class=\"data row0 col4\" >F</td>\n",
       "      <td id=\"T_b1721_row0_col5\" class=\"data row0 col5\" >175.5cm</td>\n",
       "      <td id=\"T_b1721_row0_col6\" class=\"data row0 col6\" >68</td>\n",
       "      <td id=\"T_b1721_row0_col7\" class=\"data row0 col7\" >130</td>\n",
       "      <td id=\"T_b1721_row0_col8\" class=\"data row0 col8\" >85</td>\n",
       "      <td id=\"T_b1721_row0_col9\" class=\"data row0 col9\" >Highe</td>\n",
       "      <td id=\"T_b1721_row0_col10\" class=\"data row0 col10\" >yes</td>\n",
       "      <td id=\"T_b1721_row0_col11\" class=\"data row0 col11\" >NaN</td>\n",
       "    </tr>\n",
       "    <tr>\n",
       "      <th id=\"T_b1721_level0_row1\" class=\"row_heading level0 row1\" >2</th>\n",
       "      <td id=\"T_b1721_row1_col0\" class=\"data row1 col0\" >10003</td>\n",
       "      <td id=\"T_b1721_row1_col1\" class=\"data row1 col1\" >Alice Johnson</td>\n",
       "      <td id=\"T_b1721_row1_col2\" class=\"data row1 col2\" >1985.08.23</td>\n",
       "      <td id=\"T_b1721_row1_col3\" class=\"data row1 col3\" >nan</td>\n",
       "      <td id=\"T_b1721_row1_col4\" class=\"data row1 col4\" >Female</td>\n",
       "      <td id=\"T_b1721_row1_col5\" class=\"data row1 col5\" >None</td>\n",
       "      <td id=\"T_b1721_row1_col6\" class=\"data row1 col6\" >72.5lb</td>\n",
       "      <td id=\"T_b1721_row1_col7\" class=\"data row1 col7\" >NaN</td>\n",
       "      <td id=\"T_b1721_row1_col8\" class=\"data row1 col8\" >nan</td>\n",
       "      <td id=\"T_b1721_row1_col9\" class=\"data row1 col9\" >NaN</td>\n",
       "      <td id=\"T_b1721_row1_col10\" class=\"data row1 col10\" >N/A</td>\n",
       "      <td id=\"T_b1721_row1_col11\" class=\"data row1 col11\" >15 mg once a day</td>\n",
       "    </tr>\n",
       "    <tr>\n",
       "      <th id=\"T_b1721_level0_row2\" class=\"row_heading level0 row2\" >3</th>\n",
       "      <td id=\"T_b1721_row2_col0\" class=\"data row2 col0\" >20001</td>\n",
       "      <td id=\"T_b1721_row2_col1\" class=\"data row2 col1\" >Bob Brown</td>\n",
       "      <td id=\"T_b1721_row2_col2\" class=\"data row2 col2\" >19800406</td>\n",
       "      <td id=\"T_b1721_row2_col3\" class=\"data row2 col3\" >None</td>\n",
       "      <td id=\"T_b1721_row2_col4\" class=\"data row2 col4\" >Male</td>\n",
       "      <td id=\"T_b1721_row2_col5\" class=\"data row2 col5\" >280</td>\n",
       "      <td id=\"T_b1721_row2_col6\" class=\"data row2 col6\" >na</td>\n",
       "      <td id=\"T_b1721_row2_col7\" class=\"data row2 col7\" >140</td>\n",
       "      <td id=\"T_b1721_row2_col8\" class=\"data row2 col8\" >90mmHg</td>\n",
       "      <td id=\"T_b1721_row2_col9\" class=\"data row2 col9\" >GOOD</td>\n",
       "      <td id=\"T_b1721_row2_col10\" class=\"data row2 col10\" >No</td>\n",
       "      <td id=\"T_b1721_row2_col11\" class=\"data row2 col11\" >20mg</td>\n",
       "    </tr>\n",
       "    <tr>\n",
       "      <th id=\"T_b1721_level0_row3\" class=\"row_heading level0 row3\" >4</th>\n",
       "      <td id=\"T_b1721_row3_col0\" class=\"data row3 col0\" >20002</td>\n",
       "      <td id=\"T_b1721_row3_col1\" class=\"data row3 col1\" >eva white</td>\n",
       "      <td id=\"T_b1721_row3_col2\" class=\"data row3 col2\" >05-11-2007</td>\n",
       "      <td id=\"T_b1721_row3_col3\" class=\"data row3 col3\" >40.0</td>\n",
       "      <td id=\"T_b1721_row3_col4\" class=\"data row3 col4\" >Other</td>\n",
       "      <td id=\"T_b1721_row3_col5\" class=\"data row3 col5\" >NaN</td>\n",
       "      <td id=\"T_b1721_row3_col6\" class=\"data row3 col6\" ></td>\n",
       "      <td id=\"T_b1721_row3_col7\" class=\"data row3 col7\" >135mmhg</td>\n",
       "      <td id=\"T_b1721_row3_col8\" class=\"data row3 col8\" >nan</td>\n",
       "      <td id=\"T_b1721_row3_col9\" class=\"data row3 col9\" >n.a.</td>\n",
       "      <td id=\"T_b1721_row3_col10\" class=\"data row3 col10\" >Y</td>\n",
       "      <td id=\"T_b1721_row3_col11\" class=\"data row3 col11\" >20 Mg</td>\n",
       "    </tr>\n",
       "    <tr>\n",
       "      <th id=\"T_b1721_level0_row4\" class=\"row_heading level0 row4\" >6</th>\n",
       "      <td id=\"T_b1721_row4_col0\" class=\"data row4 col0\" >30001</td>\n",
       "      <td id=\"T_b1721_row4_col1\" class=\"data row4 col1\" >Grace TAYLOR</td>\n",
       "      <td id=\"T_b1721_row4_col2\" class=\"data row4 col2\" >28-05-1975</td>\n",
       "      <td id=\"T_b1721_row4_col3\" class=\"data row4 col3\" >nan</td>\n",
       "      <td id=\"T_b1721_row4_col4\" class=\"data row4 col4\" >ff</td>\n",
       "      <td id=\"T_b1721_row4_col5\" class=\"data row4 col5\" >1</td>\n",
       "      <td id=\"T_b1721_row4_col6\" class=\"data row4 col6\" >None</td>\n",
       "      <td id=\"T_b1721_row4_col7\" class=\"data row4 col7\" >NAN</td>\n",
       "      <td id=\"T_b1721_row4_col8\" class=\"data row4 col8\" >NaN</td>\n",
       "      <td id=\"T_b1721_row4_col9\" class=\"data row4 col9\" >Normal</td>\n",
       "      <td id=\"T_b1721_row4_col10\" class=\"data row4 col10\" >NO</td>\n",
       "      <td id=\"T_b1721_row4_col11\" class=\"data row4 col11\" >NaN</td>\n",
       "    </tr>\n",
       "    <tr>\n",
       "      <th id=\"T_b1721_level0_row5\" class=\"row_heading level0 row5\" >7</th>\n",
       "      <td id=\"T_b1721_row5_col0\" class=\"data row5 col0\" >30002</td>\n",
       "      <td id=\"T_b1721_row5_col1\" class=\"data row5 col1\" >Harry Clark</td>\n",
       "      <td id=\"T_b1721_row5_col2\" class=\"data row5 col2\" >1960Mar08</td>\n",
       "      <td id=\"T_b1721_row5_col3\" class=\"data row5 col3\" >unk</td>\n",
       "      <td id=\"T_b1721_row5_col4\" class=\"data row5 col4\" >NaN</td>\n",
       "      <td id=\"T_b1721_row5_col5\" class=\"data row5 col5\" >6ft 1in</td>\n",
       "      <td id=\"T_b1721_row5_col6\" class=\"data row5 col6\" >80.3</td>\n",
       "      <td id=\"T_b1721_row5_col7\" class=\"data row5 col7\" >122</td>\n",
       "      <td id=\"T_b1721_row5_col8\" class=\"data row5 col8\" >None</td>\n",
       "      <td id=\"T_b1721_row5_col9\" class=\"data row5 col9\" >n/a</td>\n",
       "      <td id=\"T_b1721_row5_col10\" class=\"data row5 col10\" >None</td>\n",
       "      <td id=\"T_b1721_row5_col11\" class=\"data row5 col11\" >None</td>\n",
       "    </tr>\n",
       "    <tr>\n",
       "      <th id=\"T_b1721_level0_row6\" class=\"row_heading level0 row6\" >8</th>\n",
       "      <td id=\"T_b1721_row6_col0\" class=\"data row6 col0\" >30003</td>\n",
       "      <td id=\"T_b1721_row6_col1\" class=\"data row6 col1\" >IVY GREEN</td>\n",
       "      <td id=\"T_b1721_row6_col2\" class=\"data row6 col2\" >1955-Jan-09</td>\n",
       "      <td id=\"T_b1721_row6_col3\" class=\"data row6 col3\" ></td>\n",
       "      <td id=\"T_b1721_row6_col4\" class=\"data row6 col4\" >None</td>\n",
       "      <td id=\"T_b1721_row6_col5\" class=\"data row6 col5\" >-10</td>\n",
       "      <td id=\"T_b1721_row6_col6\" class=\"data row6 col6\" >130lbs</td>\n",
       "      <td id=\"T_b1721_row6_col7\" class=\"data row6 col7\" ></td>\n",
       "      <td id=\"T_b1721_row6_col8\" class=\"data row6 col8\" >95</td>\n",
       "      <td id=\"T_b1721_row6_col9\" class=\"data row6 col9\" >high</td>\n",
       "      <td id=\"T_b1721_row6_col10\" class=\"data row6 col10\" >NaN</td>\n",
       "      <td id=\"T_b1721_row6_col11\" class=\"data row6 col11\" >30 MG</td>\n",
       "    </tr>\n",
       "    <tr>\n",
       "      <th id=\"T_b1721_level0_row7\" class=\"row_heading level0 row7\" >9</th>\n",
       "      <td id=\"T_b1721_row7_col0\" class=\"data row7 col0\" >30004</td>\n",
       "      <td id=\"T_b1721_row7_col1\" class=\"data row7 col1\" >JAck Williams</td>\n",
       "      <td id=\"T_b1721_row7_col2\" class=\"data row7 col2\" >1950 Sep 10</td>\n",
       "      <td id=\"T_b1721_row7_col3\" class=\"data row7 col3\" >unknown</td>\n",
       "      <td id=\"T_b1721_row7_col4\" class=\"data row7 col4\" >Mal</td>\n",
       "      <td id=\"T_b1721_row7_col5\" class=\"data row7 col5\" ></td>\n",
       "      <td id=\"T_b1721_row7_col6\" class=\"data row7 col6\" >82</td>\n",
       "      <td id=\"T_b1721_row7_col7\" class=\"data row7 col7\" >130</td>\n",
       "      <td id=\"T_b1721_row7_col8\" class=\"data row7 col8\" >0</td>\n",
       "      <td id=\"T_b1721_row7_col9\" class=\"data row7 col9\" ></td>\n",
       "      <td id=\"T_b1721_row7_col10\" class=\"data row7 col10\" >n</td>\n",
       "      <td id=\"T_b1721_row7_col11\" class=\"data row7 col11\" >35</td>\n",
       "    </tr>\n",
       "    <tr>\n",
       "      <th id=\"T_b1721_level0_row8\" class=\"row_heading level0 row8\" >10</th>\n",
       "      <td id=\"T_b1721_row8_col0\" class=\"data row8 col0\" >30005</td>\n",
       "      <td id=\"T_b1721_row8_col1\" class=\"data row8 col1\" >john Doe</td>\n",
       "      <td id=\"T_b1721_row8_col2\" class=\"data row8 col2\" >1945 October 11</td>\n",
       "      <td id=\"T_b1721_row8_col3\" class=\"data row8 col3\" >35</td>\n",
       "      <td id=\"T_b1721_row8_col4\" class=\"data row8 col4\" >female</td>\n",
       "      <td id=\"T_b1721_row8_col5\" class=\"data row8 col5\" >200</td>\n",
       "      <td id=\"T_b1721_row8_col6\" class=\"data row8 col6\" >-65</td>\n",
       "      <td id=\"T_b1721_row8_col7\" class=\"data row8 col7\" >45</td>\n",
       "      <td id=\"T_b1721_row8_col8\" class=\"data row8 col8\" >NaN</td>\n",
       "      <td id=\"T_b1721_row8_col9\" class=\"data row8 col9\" >Normal</td>\n",
       "      <td id=\"T_b1721_row8_col10\" class=\"data row8 col10\" >Yes</td>\n",
       "      <td id=\"T_b1721_row8_col11\" class=\"data row8 col11\" >40ml</td>\n",
       "    </tr>\n",
       "  </tbody>\n",
       "</table>\n"
      ],
      "text/plain": [
       "<pandas.io.formats.style.Styler at 0x1779a71f890>"
      ]
     },
     "execution_count": 35,
     "metadata": {},
     "output_type": "execute_result"
    }
   ],
   "source": [
    "#Highlight all rows where any value is NA:\n",
    "df.q('%%any is na;  $bg=orange')\n",
    "df.q('%%is na;  $bg=orange')  #default behaviour is equivalent to using the \"any\" flag"
   ]
  },
  {
   "cell_type": "code",
   "execution_count": 36,
   "metadata": {},
   "outputs": [
    {
     "data": {
      "text/html": [
       "<style type=\"text/css\">\n",
       "#T_e82b0_row0_col11, #T_e82b0_row1_col3, #T_e82b0_row1_col5, #T_e82b0_row1_col7, #T_e82b0_row1_col8, #T_e82b0_row1_col9, #T_e82b0_row1_col10, #T_e82b0_row2_col3, #T_e82b0_row2_col6, #T_e82b0_row3_col5, #T_e82b0_row3_col6, #T_e82b0_row3_col8, #T_e82b0_row3_col9, #T_e82b0_row4_col3, #T_e82b0_row4_col6, #T_e82b0_row4_col7, #T_e82b0_row4_col8, #T_e82b0_row4_col11, #T_e82b0_row5_col4, #T_e82b0_row5_col8, #T_e82b0_row5_col9, #T_e82b0_row5_col10, #T_e82b0_row5_col11, #T_e82b0_row6_col3, #T_e82b0_row6_col4, #T_e82b0_row6_col7, #T_e82b0_row6_col10, #T_e82b0_row7_col5, #T_e82b0_row7_col9, #T_e82b0_row8_col8 {\n",
       "  background-color: orange;\n",
       "}\n",
       "</style>\n",
       "<table id=\"T_e82b0\">\n",
       "  <thead>\n",
       "    <tr>\n",
       "      <th class=\"blank level0\" >&nbsp;</th>\n",
       "      <th id=\"T_e82b0_level0_col0\" class=\"col_heading level0 col0\" >ID</th>\n",
       "      <th id=\"T_e82b0_level0_col1\" class=\"col_heading level0 col1\" >name</th>\n",
       "      <th id=\"T_e82b0_level0_col2\" class=\"col_heading level0 col2\" >date of birth</th>\n",
       "      <th id=\"T_e82b0_level0_col3\" class=\"col_heading level0 col3\" >age</th>\n",
       "      <th id=\"T_e82b0_level0_col4\" class=\"col_heading level0 col4\" >gender</th>\n",
       "      <th id=\"T_e82b0_level0_col5\" class=\"col_heading level0 col5\" >height</th>\n",
       "      <th id=\"T_e82b0_level0_col6\" class=\"col_heading level0 col6\" >weight</th>\n",
       "      <th id=\"T_e82b0_level0_col7\" class=\"col_heading level0 col7\" >bp systole</th>\n",
       "      <th id=\"T_e82b0_level0_col8\" class=\"col_heading level0 col8\" >bp diastole</th>\n",
       "      <th id=\"T_e82b0_level0_col9\" class=\"col_heading level0 col9\" >cholesterol</th>\n",
       "      <th id=\"T_e82b0_level0_col10\" class=\"col_heading level0 col10\" >diabetes</th>\n",
       "      <th id=\"T_e82b0_level0_col11\" class=\"col_heading level0 col11\" >dose</th>\n",
       "    </tr>\n",
       "  </thead>\n",
       "  <tbody>\n",
       "    <tr>\n",
       "      <th id=\"T_e82b0_level0_row0\" class=\"row_heading level0 row0\" >1</th>\n",
       "      <td id=\"T_e82b0_row0_col0\" class=\"data row0 col0\" >10002</td>\n",
       "      <td id=\"T_e82b0_row0_col1\" class=\"data row0 col1\" >Jane Smith</td>\n",
       "      <td id=\"T_e82b0_row0_col2\" class=\"data row0 col2\" >1990/09/14</td>\n",
       "      <td id=\"T_e82b0_row0_col3\" class=\"data row0 col3\" >30</td>\n",
       "      <td id=\"T_e82b0_row0_col4\" class=\"data row0 col4\" >F</td>\n",
       "      <td id=\"T_e82b0_row0_col5\" class=\"data row0 col5\" >175.5cm</td>\n",
       "      <td id=\"T_e82b0_row0_col6\" class=\"data row0 col6\" >68</td>\n",
       "      <td id=\"T_e82b0_row0_col7\" class=\"data row0 col7\" >130</td>\n",
       "      <td id=\"T_e82b0_row0_col8\" class=\"data row0 col8\" >85</td>\n",
       "      <td id=\"T_e82b0_row0_col9\" class=\"data row0 col9\" >Highe</td>\n",
       "      <td id=\"T_e82b0_row0_col10\" class=\"data row0 col10\" >yes</td>\n",
       "      <td id=\"T_e82b0_row0_col11\" class=\"data row0 col11\" >NaN</td>\n",
       "    </tr>\n",
       "    <tr>\n",
       "      <th id=\"T_e82b0_level0_row1\" class=\"row_heading level0 row1\" >2</th>\n",
       "      <td id=\"T_e82b0_row1_col0\" class=\"data row1 col0\" >10003</td>\n",
       "      <td id=\"T_e82b0_row1_col1\" class=\"data row1 col1\" >Alice Johnson</td>\n",
       "      <td id=\"T_e82b0_row1_col2\" class=\"data row1 col2\" >1985.08.23</td>\n",
       "      <td id=\"T_e82b0_row1_col3\" class=\"data row1 col3\" >nan</td>\n",
       "      <td id=\"T_e82b0_row1_col4\" class=\"data row1 col4\" >Female</td>\n",
       "      <td id=\"T_e82b0_row1_col5\" class=\"data row1 col5\" >None</td>\n",
       "      <td id=\"T_e82b0_row1_col6\" class=\"data row1 col6\" >72.5lb</td>\n",
       "      <td id=\"T_e82b0_row1_col7\" class=\"data row1 col7\" >NaN</td>\n",
       "      <td id=\"T_e82b0_row1_col8\" class=\"data row1 col8\" >nan</td>\n",
       "      <td id=\"T_e82b0_row1_col9\" class=\"data row1 col9\" >NaN</td>\n",
       "      <td id=\"T_e82b0_row1_col10\" class=\"data row1 col10\" >N/A</td>\n",
       "      <td id=\"T_e82b0_row1_col11\" class=\"data row1 col11\" >15 mg once a day</td>\n",
       "    </tr>\n",
       "    <tr>\n",
       "      <th id=\"T_e82b0_level0_row2\" class=\"row_heading level0 row2\" >3</th>\n",
       "      <td id=\"T_e82b0_row2_col0\" class=\"data row2 col0\" >20001</td>\n",
       "      <td id=\"T_e82b0_row2_col1\" class=\"data row2 col1\" >Bob Brown</td>\n",
       "      <td id=\"T_e82b0_row2_col2\" class=\"data row2 col2\" >19800406</td>\n",
       "      <td id=\"T_e82b0_row2_col3\" class=\"data row2 col3\" >None</td>\n",
       "      <td id=\"T_e82b0_row2_col4\" class=\"data row2 col4\" >Male</td>\n",
       "      <td id=\"T_e82b0_row2_col5\" class=\"data row2 col5\" >280</td>\n",
       "      <td id=\"T_e82b0_row2_col6\" class=\"data row2 col6\" >na</td>\n",
       "      <td id=\"T_e82b0_row2_col7\" class=\"data row2 col7\" >140</td>\n",
       "      <td id=\"T_e82b0_row2_col8\" class=\"data row2 col8\" >90mmHg</td>\n",
       "      <td id=\"T_e82b0_row2_col9\" class=\"data row2 col9\" >GOOD</td>\n",
       "      <td id=\"T_e82b0_row2_col10\" class=\"data row2 col10\" >No</td>\n",
       "      <td id=\"T_e82b0_row2_col11\" class=\"data row2 col11\" >20mg</td>\n",
       "    </tr>\n",
       "    <tr>\n",
       "      <th id=\"T_e82b0_level0_row3\" class=\"row_heading level0 row3\" >4</th>\n",
       "      <td id=\"T_e82b0_row3_col0\" class=\"data row3 col0\" >20002</td>\n",
       "      <td id=\"T_e82b0_row3_col1\" class=\"data row3 col1\" >eva white</td>\n",
       "      <td id=\"T_e82b0_row3_col2\" class=\"data row3 col2\" >05-11-2007</td>\n",
       "      <td id=\"T_e82b0_row3_col3\" class=\"data row3 col3\" >40.0</td>\n",
       "      <td id=\"T_e82b0_row3_col4\" class=\"data row3 col4\" >Other</td>\n",
       "      <td id=\"T_e82b0_row3_col5\" class=\"data row3 col5\" >NaN</td>\n",
       "      <td id=\"T_e82b0_row3_col6\" class=\"data row3 col6\" ></td>\n",
       "      <td id=\"T_e82b0_row3_col7\" class=\"data row3 col7\" >135mmhg</td>\n",
       "      <td id=\"T_e82b0_row3_col8\" class=\"data row3 col8\" >nan</td>\n",
       "      <td id=\"T_e82b0_row3_col9\" class=\"data row3 col9\" >n.a.</td>\n",
       "      <td id=\"T_e82b0_row3_col10\" class=\"data row3 col10\" >Y</td>\n",
       "      <td id=\"T_e82b0_row3_col11\" class=\"data row3 col11\" >20 Mg</td>\n",
       "    </tr>\n",
       "    <tr>\n",
       "      <th id=\"T_e82b0_level0_row4\" class=\"row_heading level0 row4\" >6</th>\n",
       "      <td id=\"T_e82b0_row4_col0\" class=\"data row4 col0\" >30001</td>\n",
       "      <td id=\"T_e82b0_row4_col1\" class=\"data row4 col1\" >Grace TAYLOR</td>\n",
       "      <td id=\"T_e82b0_row4_col2\" class=\"data row4 col2\" >28-05-1975</td>\n",
       "      <td id=\"T_e82b0_row4_col3\" class=\"data row4 col3\" >nan</td>\n",
       "      <td id=\"T_e82b0_row4_col4\" class=\"data row4 col4\" >ff</td>\n",
       "      <td id=\"T_e82b0_row4_col5\" class=\"data row4 col5\" >1</td>\n",
       "      <td id=\"T_e82b0_row4_col6\" class=\"data row4 col6\" >None</td>\n",
       "      <td id=\"T_e82b0_row4_col7\" class=\"data row4 col7\" >NAN</td>\n",
       "      <td id=\"T_e82b0_row4_col8\" class=\"data row4 col8\" >NaN</td>\n",
       "      <td id=\"T_e82b0_row4_col9\" class=\"data row4 col9\" >Normal</td>\n",
       "      <td id=\"T_e82b0_row4_col10\" class=\"data row4 col10\" >NO</td>\n",
       "      <td id=\"T_e82b0_row4_col11\" class=\"data row4 col11\" >NaN</td>\n",
       "    </tr>\n",
       "    <tr>\n",
       "      <th id=\"T_e82b0_level0_row5\" class=\"row_heading level0 row5\" >7</th>\n",
       "      <td id=\"T_e82b0_row5_col0\" class=\"data row5 col0\" >30002</td>\n",
       "      <td id=\"T_e82b0_row5_col1\" class=\"data row5 col1\" >Harry Clark</td>\n",
       "      <td id=\"T_e82b0_row5_col2\" class=\"data row5 col2\" >1960Mar08</td>\n",
       "      <td id=\"T_e82b0_row5_col3\" class=\"data row5 col3\" >unk</td>\n",
       "      <td id=\"T_e82b0_row5_col4\" class=\"data row5 col4\" >NaN</td>\n",
       "      <td id=\"T_e82b0_row5_col5\" class=\"data row5 col5\" >6ft 1in</td>\n",
       "      <td id=\"T_e82b0_row5_col6\" class=\"data row5 col6\" >80.3</td>\n",
       "      <td id=\"T_e82b0_row5_col7\" class=\"data row5 col7\" >122</td>\n",
       "      <td id=\"T_e82b0_row5_col8\" class=\"data row5 col8\" >None</td>\n",
       "      <td id=\"T_e82b0_row5_col9\" class=\"data row5 col9\" >n/a</td>\n",
       "      <td id=\"T_e82b0_row5_col10\" class=\"data row5 col10\" >None</td>\n",
       "      <td id=\"T_e82b0_row5_col11\" class=\"data row5 col11\" >None</td>\n",
       "    </tr>\n",
       "    <tr>\n",
       "      <th id=\"T_e82b0_level0_row6\" class=\"row_heading level0 row6\" >8</th>\n",
       "      <td id=\"T_e82b0_row6_col0\" class=\"data row6 col0\" >30003</td>\n",
       "      <td id=\"T_e82b0_row6_col1\" class=\"data row6 col1\" >IVY GREEN</td>\n",
       "      <td id=\"T_e82b0_row6_col2\" class=\"data row6 col2\" >1955-Jan-09</td>\n",
       "      <td id=\"T_e82b0_row6_col3\" class=\"data row6 col3\" ></td>\n",
       "      <td id=\"T_e82b0_row6_col4\" class=\"data row6 col4\" >None</td>\n",
       "      <td id=\"T_e82b0_row6_col5\" class=\"data row6 col5\" >-10</td>\n",
       "      <td id=\"T_e82b0_row6_col6\" class=\"data row6 col6\" >130lbs</td>\n",
       "      <td id=\"T_e82b0_row6_col7\" class=\"data row6 col7\" ></td>\n",
       "      <td id=\"T_e82b0_row6_col8\" class=\"data row6 col8\" >95</td>\n",
       "      <td id=\"T_e82b0_row6_col9\" class=\"data row6 col9\" >high</td>\n",
       "      <td id=\"T_e82b0_row6_col10\" class=\"data row6 col10\" >NaN</td>\n",
       "      <td id=\"T_e82b0_row6_col11\" class=\"data row6 col11\" >30 MG</td>\n",
       "    </tr>\n",
       "    <tr>\n",
       "      <th id=\"T_e82b0_level0_row7\" class=\"row_heading level0 row7\" >9</th>\n",
       "      <td id=\"T_e82b0_row7_col0\" class=\"data row7 col0\" >30004</td>\n",
       "      <td id=\"T_e82b0_row7_col1\" class=\"data row7 col1\" >JAck Williams</td>\n",
       "      <td id=\"T_e82b0_row7_col2\" class=\"data row7 col2\" >1950 Sep 10</td>\n",
       "      <td id=\"T_e82b0_row7_col3\" class=\"data row7 col3\" >unknown</td>\n",
       "      <td id=\"T_e82b0_row7_col4\" class=\"data row7 col4\" >Mal</td>\n",
       "      <td id=\"T_e82b0_row7_col5\" class=\"data row7 col5\" ></td>\n",
       "      <td id=\"T_e82b0_row7_col6\" class=\"data row7 col6\" >82</td>\n",
       "      <td id=\"T_e82b0_row7_col7\" class=\"data row7 col7\" >130</td>\n",
       "      <td id=\"T_e82b0_row7_col8\" class=\"data row7 col8\" >0</td>\n",
       "      <td id=\"T_e82b0_row7_col9\" class=\"data row7 col9\" ></td>\n",
       "      <td id=\"T_e82b0_row7_col10\" class=\"data row7 col10\" >n</td>\n",
       "      <td id=\"T_e82b0_row7_col11\" class=\"data row7 col11\" >35</td>\n",
       "    </tr>\n",
       "    <tr>\n",
       "      <th id=\"T_e82b0_level0_row8\" class=\"row_heading level0 row8\" >10</th>\n",
       "      <td id=\"T_e82b0_row8_col0\" class=\"data row8 col0\" >30005</td>\n",
       "      <td id=\"T_e82b0_row8_col1\" class=\"data row8 col1\" >john Doe</td>\n",
       "      <td id=\"T_e82b0_row8_col2\" class=\"data row8 col2\" >1945 October 11</td>\n",
       "      <td id=\"T_e82b0_row8_col3\" class=\"data row8 col3\" >35</td>\n",
       "      <td id=\"T_e82b0_row8_col4\" class=\"data row8 col4\" >female</td>\n",
       "      <td id=\"T_e82b0_row8_col5\" class=\"data row8 col5\" >200</td>\n",
       "      <td id=\"T_e82b0_row8_col6\" class=\"data row8 col6\" >-65</td>\n",
       "      <td id=\"T_e82b0_row8_col7\" class=\"data row8 col7\" >45</td>\n",
       "      <td id=\"T_e82b0_row8_col8\" class=\"data row8 col8\" >NaN</td>\n",
       "      <td id=\"T_e82b0_row8_col9\" class=\"data row8 col9\" >Normal</td>\n",
       "      <td id=\"T_e82b0_row8_col10\" class=\"data row8 col10\" >Yes</td>\n",
       "      <td id=\"T_e82b0_row8_col11\" class=\"data row8 col11\" >40ml</td>\n",
       "    </tr>\n",
       "  </tbody>\n",
       "</table>\n"
      ],
      "text/plain": [
       "<pandas.io.formats.style.Styler at 0x1779a71e850>"
      ]
     },
     "execution_count": 36,
     "metadata": {},
     "output_type": "execute_result"
    }
   ],
   "source": [
    "#Highlight each individual NA value:\n",
    "df.q('%%each is na;  $bg=orange')"
   ]
  },
  {
   "cell_type": "markdown",
   "metadata": {},
   "source": [
    "## values\n",
    "\n",
    "Modification is applied to all values in the current selection."
   ]
  },
  {
   "cell_type": "code",
   "execution_count": 37,
   "metadata": {},
   "outputs": [
    {
     "data": {
      "application/vnd.microsoft.datawrangler.viewer.v0+json": {
       "columns": [
        {
         "name": "index",
         "rawType": "int64",
         "type": "integer"
        },
        {
         "name": "age",
         "rawType": "object",
         "type": "string"
        }
       ],
       "conversionMethod": "pd.DataFrame",
       "ref": "8627a234-21fc-4418-8958-adec418b52fe",
       "rows": [
        [
         "0",
         "na"
        ],
        [
         "1",
         "na"
        ],
        [
         "2",
         "na"
        ],
        [
         "3",
         "na"
        ],
        [
         "4",
         "na"
        ],
        [
         "5",
         "na"
        ],
        [
         "6",
         "na"
        ],
        [
         "7",
         "na"
        ],
        [
         "8",
         "na"
        ],
        [
         "9",
         "na"
        ],
        [
         "10",
         "na"
        ]
       ],
       "shape": {
        "columns": 1,
        "rows": 11
       }
      },
      "text/html": [
       "<div>\n",
       "<style scoped>\n",
       "    .dataframe tbody tr th:only-of-type {\n",
       "        vertical-align: middle;\n",
       "    }\n",
       "\n",
       "    .dataframe tbody tr th {\n",
       "        vertical-align: top;\n",
       "    }\n",
       "\n",
       "    .dataframe thead th {\n",
       "        text-align: right;\n",
       "    }\n",
       "</style>\n",
       "<table border=\"1\" class=\"dataframe\">\n",
       "  <thead>\n",
       "    <tr style=\"text-align: right;\">\n",
       "      <th></th>\n",
       "      <th>age</th>\n",
       "    </tr>\n",
       "  </thead>\n",
       "  <tbody>\n",
       "    <tr>\n",
       "      <th>0</th>\n",
       "      <td>na</td>\n",
       "    </tr>\n",
       "    <tr>\n",
       "      <th>1</th>\n",
       "      <td>na</td>\n",
       "    </tr>\n",
       "    <tr>\n",
       "      <th>2</th>\n",
       "      <td>na</td>\n",
       "    </tr>\n",
       "    <tr>\n",
       "      <th>3</th>\n",
       "      <td>na</td>\n",
       "    </tr>\n",
       "    <tr>\n",
       "      <th>4</th>\n",
       "      <td>na</td>\n",
       "    </tr>\n",
       "    <tr>\n",
       "      <th>5</th>\n",
       "      <td>na</td>\n",
       "    </tr>\n",
       "    <tr>\n",
       "      <th>6</th>\n",
       "      <td>na</td>\n",
       "    </tr>\n",
       "    <tr>\n",
       "      <th>7</th>\n",
       "      <td>na</td>\n",
       "    </tr>\n",
       "    <tr>\n",
       "      <th>8</th>\n",
       "      <td>na</td>\n",
       "    </tr>\n",
       "    <tr>\n",
       "      <th>9</th>\n",
       "      <td>na</td>\n",
       "    </tr>\n",
       "    <tr>\n",
       "      <th>10</th>\n",
       "      <td>na</td>\n",
       "    </tr>\n",
       "  </tbody>\n",
       "</table>\n",
       "</div>"
      ],
      "text/plain": [
       "   age\n",
       "0   na\n",
       "1   na\n",
       "2   na\n",
       "3   na\n",
       "4   na\n",
       "5   na\n",
       "6   na\n",
       "7   na\n",
       "8   na\n",
       "9   na\n",
       "10  na"
      ]
     },
     "execution_count": 37,
     "metadata": {},
     "output_type": "execute_result"
    }
   ],
   "source": [
    "#Modify whole column:\n",
    "df.q('age  $val=na')\n",
    "df.q('age  $=na')  #default behaviour is equivalent to using the \"val\" flag and the \"=\" operator"
   ]
  },
  {
   "cell_type": "code",
   "execution_count": 38,
   "metadata": {},
   "outputs": [
    {
     "data": {
      "application/vnd.microsoft.datawrangler.viewer.v0+json": {
       "columns": [
        {
         "name": "index",
         "rawType": "int64",
         "type": "integer"
        },
        {
         "name": "ID",
         "rawType": "int64",
         "type": "integer"
        },
        {
         "name": "name",
         "rawType": "object",
         "type": "string"
        },
        {
         "name": "date of birth",
         "rawType": "object",
         "type": "string"
        },
        {
         "name": "age",
         "rawType": "object",
         "type": "unknown"
        },
        {
         "name": "gender",
         "rawType": "object",
         "type": "string"
        },
        {
         "name": "height",
         "rawType": "object",
         "type": "unknown"
        },
        {
         "name": "weight",
         "rawType": "object",
         "type": "unknown"
        },
        {
         "name": "bp systole",
         "rawType": "object",
         "type": "unknown"
        },
        {
         "name": "bp diastole",
         "rawType": "object",
         "type": "string"
        },
        {
         "name": "cholesterol",
         "rawType": "object",
         "type": "string"
        },
        {
         "name": "diabetes",
         "rawType": "object",
         "type": "string"
        },
        {
         "name": "dose",
         "rawType": "object",
         "type": "string"
        }
       ],
       "conversionMethod": "pd.DataFrame",
       "ref": "ad446f67-5b6e-462e-bbe2-a9a70335292d",
       "rows": [
        [
         "1",
         "10002",
         "Jane Smith",
         "1990/09/14",
         "30",
         "F",
         "175.5cm",
         "68",
         "130",
         "85",
         "Highe",
         "yes",
         "NA"
        ],
        [
         "2",
         "10003",
         "Alice Johnson",
         "1985.08.23",
         "NA",
         "Female",
         "NA",
         "72.5lb",
         "NA",
         "NA",
         "NA",
         "NA",
         "15 mg once a day"
        ],
        [
         "3",
         "20001",
         "Bob Brown",
         "19800406",
         "NA",
         "Male",
         "280",
         "NA",
         "140",
         "90mmHg",
         "GOOD",
         "No",
         "20mg"
        ],
        [
         "4",
         "20002",
         "eva white",
         "05-11-2007",
         "40.0",
         "Other",
         "NA",
         "NA",
         "135mmhg",
         "NA",
         "NA",
         "Y",
         "20 Mg"
        ],
        [
         "6",
         "30001",
         "Grace TAYLOR",
         "28-05-1975",
         "NA",
         "ff",
         "1",
         "NA",
         "NA",
         "NA",
         "Normal",
         "NO",
         "NA"
        ],
        [
         "7",
         "30002",
         "Harry Clark",
         "1960Mar08",
         "unk",
         "NA",
         "6ft 1in",
         "80.3",
         "122",
         "NA",
         "NA",
         "NA",
         "NA"
        ],
        [
         "8",
         "30003",
         "IVY GREEN",
         "1955-Jan-09",
         "NA",
         "NA",
         "-10",
         "130lbs",
         "NA",
         "95",
         "high",
         "NA",
         "30 MG"
        ],
        [
         "9",
         "30004",
         "JAck Williams",
         "1950 Sep 10",
         "unknown",
         "Mal",
         "NA",
         "82",
         "130",
         "0",
         "NA",
         "n",
         "35"
        ],
        [
         "10",
         "30005",
         "john Doe",
         "1945 October 11",
         "35",
         "female",
         "200",
         "-65",
         "45",
         "NA",
         "Normal",
         "Yes",
         "40ml"
        ]
       ],
       "shape": {
        "columns": 12,
        "rows": 9
       }
      },
      "text/html": [
       "<div>\n",
       "<style scoped>\n",
       "    .dataframe tbody tr th:only-of-type {\n",
       "        vertical-align: middle;\n",
       "    }\n",
       "\n",
       "    .dataframe tbody tr th {\n",
       "        vertical-align: top;\n",
       "    }\n",
       "\n",
       "    .dataframe thead th {\n",
       "        text-align: right;\n",
       "    }\n",
       "</style>\n",
       "<table border=\"1\" class=\"dataframe\">\n",
       "  <thead>\n",
       "    <tr style=\"text-align: right;\">\n",
       "      <th></th>\n",
       "      <th>ID</th>\n",
       "      <th>name</th>\n",
       "      <th>date of birth</th>\n",
       "      <th>age</th>\n",
       "      <th>gender</th>\n",
       "      <th>height</th>\n",
       "      <th>weight</th>\n",
       "      <th>bp systole</th>\n",
       "      <th>bp diastole</th>\n",
       "      <th>cholesterol</th>\n",
       "      <th>diabetes</th>\n",
       "      <th>dose</th>\n",
       "    </tr>\n",
       "  </thead>\n",
       "  <tbody>\n",
       "    <tr>\n",
       "      <th>1</th>\n",
       "      <td>10002</td>\n",
       "      <td>Jane Smith</td>\n",
       "      <td>1990/09/14</td>\n",
       "      <td>30</td>\n",
       "      <td>F</td>\n",
       "      <td>175.5cm</td>\n",
       "      <td>68</td>\n",
       "      <td>130</td>\n",
       "      <td>85</td>\n",
       "      <td>Highe</td>\n",
       "      <td>yes</td>\n",
       "      <td>NA</td>\n",
       "    </tr>\n",
       "    <tr>\n",
       "      <th>2</th>\n",
       "      <td>10003</td>\n",
       "      <td>Alice Johnson</td>\n",
       "      <td>1985.08.23</td>\n",
       "      <td>NA</td>\n",
       "      <td>Female</td>\n",
       "      <td>NA</td>\n",
       "      <td>72.5lb</td>\n",
       "      <td>NA</td>\n",
       "      <td>NA</td>\n",
       "      <td>NA</td>\n",
       "      <td>NA</td>\n",
       "      <td>15 mg once a day</td>\n",
       "    </tr>\n",
       "    <tr>\n",
       "      <th>3</th>\n",
       "      <td>20001</td>\n",
       "      <td>Bob Brown</td>\n",
       "      <td>19800406</td>\n",
       "      <td>NA</td>\n",
       "      <td>Male</td>\n",
       "      <td>280</td>\n",
       "      <td>NA</td>\n",
       "      <td>140</td>\n",
       "      <td>90mmHg</td>\n",
       "      <td>GOOD</td>\n",
       "      <td>No</td>\n",
       "      <td>20mg</td>\n",
       "    </tr>\n",
       "    <tr>\n",
       "      <th>4</th>\n",
       "      <td>20002</td>\n",
       "      <td>eva white</td>\n",
       "      <td>05-11-2007</td>\n",
       "      <td>40.0</td>\n",
       "      <td>Other</td>\n",
       "      <td>NA</td>\n",
       "      <td>NA</td>\n",
       "      <td>135mmhg</td>\n",
       "      <td>NA</td>\n",
       "      <td>NA</td>\n",
       "      <td>Y</td>\n",
       "      <td>20 Mg</td>\n",
       "    </tr>\n",
       "    <tr>\n",
       "      <th>6</th>\n",
       "      <td>30001</td>\n",
       "      <td>Grace TAYLOR</td>\n",
       "      <td>28-05-1975</td>\n",
       "      <td>NA</td>\n",
       "      <td>ff</td>\n",
       "      <td>1</td>\n",
       "      <td>NA</td>\n",
       "      <td>NA</td>\n",
       "      <td>NA</td>\n",
       "      <td>Normal</td>\n",
       "      <td>NO</td>\n",
       "      <td>NA</td>\n",
       "    </tr>\n",
       "    <tr>\n",
       "      <th>7</th>\n",
       "      <td>30002</td>\n",
       "      <td>Harry Clark</td>\n",
       "      <td>1960Mar08</td>\n",
       "      <td>unk</td>\n",
       "      <td>NA</td>\n",
       "      <td>6ft 1in</td>\n",
       "      <td>80.3</td>\n",
       "      <td>122</td>\n",
       "      <td>NA</td>\n",
       "      <td>NA</td>\n",
       "      <td>NA</td>\n",
       "      <td>NA</td>\n",
       "    </tr>\n",
       "    <tr>\n",
       "      <th>8</th>\n",
       "      <td>30003</td>\n",
       "      <td>IVY GREEN</td>\n",
       "      <td>1955-Jan-09</td>\n",
       "      <td>NA</td>\n",
       "      <td>NA</td>\n",
       "      <td>-10</td>\n",
       "      <td>130lbs</td>\n",
       "      <td>NA</td>\n",
       "      <td>95</td>\n",
       "      <td>high</td>\n",
       "      <td>NA</td>\n",
       "      <td>30 MG</td>\n",
       "    </tr>\n",
       "    <tr>\n",
       "      <th>9</th>\n",
       "      <td>30004</td>\n",
       "      <td>JAck Williams</td>\n",
       "      <td>1950 Sep 10</td>\n",
       "      <td>unknown</td>\n",
       "      <td>Mal</td>\n",
       "      <td>NA</td>\n",
       "      <td>82</td>\n",
       "      <td>130</td>\n",
       "      <td>0</td>\n",
       "      <td>NA</td>\n",
       "      <td>n</td>\n",
       "      <td>35</td>\n",
       "    </tr>\n",
       "    <tr>\n",
       "      <th>10</th>\n",
       "      <td>30005</td>\n",
       "      <td>john Doe</td>\n",
       "      <td>1945 October 11</td>\n",
       "      <td>35</td>\n",
       "      <td>female</td>\n",
       "      <td>200</td>\n",
       "      <td>-65</td>\n",
       "      <td>45</td>\n",
       "      <td>NA</td>\n",
       "      <td>Normal</td>\n",
       "      <td>Yes</td>\n",
       "      <td>40ml</td>\n",
       "    </tr>\n",
       "  </tbody>\n",
       "</table>\n",
       "</div>"
      ],
      "text/plain": [
       "       ID           name    date of birth      age  gender   height  weight  \\\n",
       "1   10002     Jane Smith       1990/09/14       30       F  175.5cm      68   \n",
       "2   10003  Alice Johnson       1985.08.23       NA  Female       NA  72.5lb   \n",
       "3   20001      Bob Brown         19800406       NA    Male      280      NA   \n",
       "4   20002      eva white       05-11-2007     40.0   Other       NA      NA   \n",
       "6   30001   Grace TAYLOR       28-05-1975       NA      ff        1      NA   \n",
       "7   30002    Harry Clark        1960Mar08      unk      NA  6ft 1in    80.3   \n",
       "8   30003      IVY GREEN      1955-Jan-09       NA      NA      -10  130lbs   \n",
       "9   30004  JAck Williams      1950 Sep 10  unknown     Mal       NA      82   \n",
       "10  30005       john Doe  1945 October 11       35  female      200     -65   \n",
       "\n",
       "   bp systole bp diastole cholesterol diabetes              dose  \n",
       "1         130          85       Highe      yes                NA  \n",
       "2          NA          NA          NA       NA  15 mg once a day  \n",
       "3         140      90mmHg        GOOD       No              20mg  \n",
       "4     135mmhg          NA          NA        Y             20 Mg  \n",
       "6          NA          NA      Normal       NO                NA  \n",
       "7         122          NA          NA       NA                NA  \n",
       "8          NA          95        high       NA             30 MG  \n",
       "9         130           0          NA        n                35  \n",
       "10         45          NA      Normal      Yes              40ml  "
      ]
     },
     "execution_count": 38,
     "metadata": {},
     "output_type": "execute_result"
    }
   ],
   "source": [
    "#Set all NA values to \"NA\":\n",
    "df.q(r'%%each is na;  $val=NA')"
   ]
  },
  {
   "cell_type": "markdown",
   "metadata": {},
   "source": [
    "## headers"
   ]
  },
  {
   "cell_type": "code",
   "execution_count": 39,
   "metadata": {},
   "outputs": [
    {
     "data": {
      "application/vnd.microsoft.datawrangler.viewer.v0+json": {
       "columns": [
        {
         "name": "index",
         "rawType": "int64",
         "type": "integer"
        },
        {
         "name": "dob",
         "rawType": "object",
         "type": "string"
        }
       ],
       "conversionMethod": "pd.DataFrame",
       "ref": "2b4bf13d-e6b0-4054-9ebc-b82007e18bee",
       "rows": [
        [
         "0",
         "1995-01-02"
        ],
        [
         "1",
         "1990/09/14"
        ],
        [
         "2",
         "1985.08.23"
        ],
        [
         "3",
         "19800406"
        ],
        [
         "4",
         "05-11-2007"
        ],
        [
         "5",
         "06-30-1983"
        ],
        [
         "6",
         "28-05-1975"
        ],
        [
         "7",
         "1960Mar08"
        ],
        [
         "8",
         "1955-Jan-09"
        ],
        [
         "9",
         "1950 Sep 10"
        ],
        [
         "10",
         "1945 October 11"
        ]
       ],
       "shape": {
        "columns": 1,
        "rows": 11
       }
      },
      "text/html": [
       "<div>\n",
       "<style scoped>\n",
       "    .dataframe tbody tr th:only-of-type {\n",
       "        vertical-align: middle;\n",
       "    }\n",
       "\n",
       "    .dataframe tbody tr th {\n",
       "        vertical-align: top;\n",
       "    }\n",
       "\n",
       "    .dataframe thead th {\n",
       "        text-align: right;\n",
       "    }\n",
       "</style>\n",
       "<table border=\"1\" class=\"dataframe\">\n",
       "  <thead>\n",
       "    <tr style=\"text-align: right;\">\n",
       "      <th></th>\n",
       "      <th>dob</th>\n",
       "    </tr>\n",
       "  </thead>\n",
       "  <tbody>\n",
       "    <tr>\n",
       "      <th>0</th>\n",
       "      <td>1995-01-02</td>\n",
       "    </tr>\n",
       "    <tr>\n",
       "      <th>1</th>\n",
       "      <td>1990/09/14</td>\n",
       "    </tr>\n",
       "    <tr>\n",
       "      <th>2</th>\n",
       "      <td>1985.08.23</td>\n",
       "    </tr>\n",
       "    <tr>\n",
       "      <th>3</th>\n",
       "      <td>19800406</td>\n",
       "    </tr>\n",
       "    <tr>\n",
       "      <th>4</th>\n",
       "      <td>05-11-2007</td>\n",
       "    </tr>\n",
       "    <tr>\n",
       "      <th>5</th>\n",
       "      <td>06-30-1983</td>\n",
       "    </tr>\n",
       "    <tr>\n",
       "      <th>6</th>\n",
       "      <td>28-05-1975</td>\n",
       "    </tr>\n",
       "    <tr>\n",
       "      <th>7</th>\n",
       "      <td>1960Mar08</td>\n",
       "    </tr>\n",
       "    <tr>\n",
       "      <th>8</th>\n",
       "      <td>1955-Jan-09</td>\n",
       "    </tr>\n",
       "    <tr>\n",
       "      <th>9</th>\n",
       "      <td>1950 Sep 10</td>\n",
       "    </tr>\n",
       "    <tr>\n",
       "      <th>10</th>\n",
       "      <td>1945 October 11</td>\n",
       "    </tr>\n",
       "  </tbody>\n",
       "</table>\n",
       "</div>"
      ],
      "text/plain": [
       "                dob\n",
       "0        1995-01-02\n",
       "1        1990/09/14\n",
       "2        1985.08.23\n",
       "3          19800406\n",
       "4        05-11-2007\n",
       "5        06-30-1983\n",
       "6        28-05-1975\n",
       "7         1960Mar08\n",
       "8       1955-Jan-09\n",
       "9       1950 Sep 10\n",
       "10  1945 October 11"
      ]
     },
     "execution_count": 39,
     "metadata": {},
     "output_type": "execute_result"
    }
   ],
   "source": [
    "df.q('date of birth   $header=dob')"
   ]
  },
  {
   "cell_type": "markdown",
   "metadata": {},
   "source": [
    "## column"
   ]
  },
  {
   "cell_type": "code",
   "execution_count": 40,
   "metadata": {},
   "outputs": [
    {
     "data": {
      "application/vnd.microsoft.datawrangler.viewer.v0+json": {
       "columns": [
        {
         "name": "index",
         "rawType": "int64",
         "type": "integer"
        },
        {
         "name": "new1",
         "rawType": "object",
         "type": "string"
        }
       ],
       "conversionMethod": "pd.DataFrame",
       "ref": "cb69f49e-a2b2-4843-bee4-a73e31225bc1",
       "rows": [
        [
         "0",
         "abc"
        ],
        [
         "1",
         "abc"
        ],
        [
         "2",
         "abc"
        ],
        [
         "3",
         "abc"
        ],
        [
         "4",
         "abc"
        ],
        [
         "5",
         "abc"
        ],
        [
         "6",
         "abc"
        ],
        [
         "7",
         "abc"
        ],
        [
         "8",
         "abc"
        ],
        [
         "9",
         "abc"
        ],
        [
         "10",
         "abc"
        ]
       ],
       "shape": {
        "columns": 1,
        "rows": 11
       }
      },
      "text/html": [
       "<div>\n",
       "<style scoped>\n",
       "    .dataframe tbody tr th:only-of-type {\n",
       "        vertical-align: middle;\n",
       "    }\n",
       "\n",
       "    .dataframe tbody tr th {\n",
       "        vertical-align: top;\n",
       "    }\n",
       "\n",
       "    .dataframe thead th {\n",
       "        text-align: right;\n",
       "    }\n",
       "</style>\n",
       "<table border=\"1\" class=\"dataframe\">\n",
       "  <thead>\n",
       "    <tr style=\"text-align: right;\">\n",
       "      <th></th>\n",
       "      <th>new1</th>\n",
       "    </tr>\n",
       "  </thead>\n",
       "  <tbody>\n",
       "    <tr>\n",
       "      <th>0</th>\n",
       "      <td>abc</td>\n",
       "    </tr>\n",
       "    <tr>\n",
       "      <th>1</th>\n",
       "      <td>abc</td>\n",
       "    </tr>\n",
       "    <tr>\n",
       "      <th>2</th>\n",
       "      <td>abc</td>\n",
       "    </tr>\n",
       "    <tr>\n",
       "      <th>3</th>\n",
       "      <td>abc</td>\n",
       "    </tr>\n",
       "    <tr>\n",
       "      <th>4</th>\n",
       "      <td>abc</td>\n",
       "    </tr>\n",
       "    <tr>\n",
       "      <th>5</th>\n",
       "      <td>abc</td>\n",
       "    </tr>\n",
       "    <tr>\n",
       "      <th>6</th>\n",
       "      <td>abc</td>\n",
       "    </tr>\n",
       "    <tr>\n",
       "      <th>7</th>\n",
       "      <td>abc</td>\n",
       "    </tr>\n",
       "    <tr>\n",
       "      <th>8</th>\n",
       "      <td>abc</td>\n",
       "    </tr>\n",
       "    <tr>\n",
       "      <th>9</th>\n",
       "      <td>abc</td>\n",
       "    </tr>\n",
       "    <tr>\n",
       "      <th>10</th>\n",
       "      <td>abc</td>\n",
       "    </tr>\n",
       "  </tbody>\n",
       "</table>\n",
       "</div>"
      ],
      "text/plain": [
       "   new1\n",
       "0   abc\n",
       "1   abc\n",
       "2   abc\n",
       "3   abc\n",
       "4   abc\n",
       "5   abc\n",
       "6   abc\n",
       "7   abc\n",
       "8   abc\n",
       "9   abc\n",
       "10  abc"
      ]
     },
     "execution_count": 40,
     "metadata": {},
     "output_type": "execute_result"
    }
   ],
   "source": [
    "#Create and fill a new column:\n",
    "df.q('$new=abc')"
   ]
  },
  {
   "cell_type": "code",
   "execution_count": 41,
   "metadata": {},
   "outputs": [
    {
     "data": {
      "application/vnd.microsoft.datawrangler.viewer.v0+json": {
       "columns": [
        {
         "name": "index",
         "rawType": "int64",
         "type": "integer"
        },
        {
         "name": "new text",
         "rawType": "object",
         "type": "string"
        }
       ],
       "conversionMethod": "pd.DataFrame",
       "ref": "83ec7b20-7f8d-46ce-b6ab-47a88307b565",
       "rows": [
        [
         "0",
         "abc"
        ],
        [
         "1",
         "abc"
        ],
        [
         "2",
         "abc"
        ],
        [
         "3",
         "abc"
        ],
        [
         "4",
         "abc"
        ],
        [
         "5",
         "abc"
        ],
        [
         "6",
         "abc"
        ],
        [
         "7",
         "abc"
        ],
        [
         "8",
         "abc"
        ],
        [
         "9",
         "abc"
        ],
        [
         "10",
         "abc"
        ]
       ],
       "shape": {
        "columns": 1,
        "rows": 11
       }
      },
      "text/html": [
       "<div>\n",
       "<style scoped>\n",
       "    .dataframe tbody tr th:only-of-type {\n",
       "        vertical-align: middle;\n",
       "    }\n",
       "\n",
       "    .dataframe tbody tr th {\n",
       "        vertical-align: top;\n",
       "    }\n",
       "\n",
       "    .dataframe thead th {\n",
       "        text-align: right;\n",
       "    }\n",
       "</style>\n",
       "<table border=\"1\" class=\"dataframe\">\n",
       "  <thead>\n",
       "    <tr style=\"text-align: right;\">\n",
       "      <th></th>\n",
       "      <th>new text</th>\n",
       "    </tr>\n",
       "  </thead>\n",
       "  <tbody>\n",
       "    <tr>\n",
       "      <th>0</th>\n",
       "      <td>abc</td>\n",
       "    </tr>\n",
       "    <tr>\n",
       "      <th>1</th>\n",
       "      <td>abc</td>\n",
       "    </tr>\n",
       "    <tr>\n",
       "      <th>2</th>\n",
       "      <td>abc</td>\n",
       "    </tr>\n",
       "    <tr>\n",
       "      <th>3</th>\n",
       "      <td>abc</td>\n",
       "    </tr>\n",
       "    <tr>\n",
       "      <th>4</th>\n",
       "      <td>abc</td>\n",
       "    </tr>\n",
       "    <tr>\n",
       "      <th>5</th>\n",
       "      <td>abc</td>\n",
       "    </tr>\n",
       "    <tr>\n",
       "      <th>6</th>\n",
       "      <td>abc</td>\n",
       "    </tr>\n",
       "    <tr>\n",
       "      <th>7</th>\n",
       "      <td>abc</td>\n",
       "    </tr>\n",
       "    <tr>\n",
       "      <th>8</th>\n",
       "      <td>abc</td>\n",
       "    </tr>\n",
       "    <tr>\n",
       "      <th>9</th>\n",
       "      <td>abc</td>\n",
       "    </tr>\n",
       "    <tr>\n",
       "      <th>10</th>\n",
       "      <td>abc</td>\n",
       "    </tr>\n",
       "  </tbody>\n",
       "</table>\n",
       "</div>"
      ],
      "text/plain": [
       "   new text\n",
       "0       abc\n",
       "1       abc\n",
       "2       abc\n",
       "3       abc\n",
       "4       abc\n",
       "5       abc\n",
       "6       abc\n",
       "7       abc\n",
       "8       abc\n",
       "9       abc\n",
       "10      abc"
      ]
     },
     "execution_count": 41,
     "metadata": {},
     "output_type": "execute_result"
    }
   ],
   "source": [
    "#Create, fill and rename a new column:\n",
    "df.q('$new=abc  $header=new text')"
   ]
  }
 ],
 "metadata": {
  "kernelspec": {
   "display_name": "Python 3",
   "language": "python",
   "name": "python3"
  },
  "language_info": {
   "codemirror_mode": {
    "name": "ipython",
    "version": 3
   },
   "file_extension": ".py",
   "mimetype": "text/x-python",
   "name": "python",
   "nbconvert_exporter": "python",
   "pygments_lexer": "ipython3",
   "version": "3.13.2"
  }
 },
 "nbformat": 4,
 "nbformat_minor": 2
}
