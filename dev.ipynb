{
 "cells": [
  {
   "cell_type": "markdown",
   "metadata": {},
   "source": [
    "# log"
   ]
  },
  {
   "cell_type": "code",
   "execution_count": null,
   "metadata": {},
   "outputs": [],
   "source": [
    "import pandas as pd\n",
    "import numpy as np\n",
    "import copy\n",
    "import os\n",
    "import sys\n",
    "import shutil\n",
    "import datetime\n",
    "import qplib as qp\n",
    "from qplib import log\n",
    "pd.set_option('display.max_columns', None)\n",
    "\n",
    "\n",
    "log('trace: this is a trace message')\n",
    "log('debug: this is a debug message')\n",
    "log('info: this is an info message')\n",
    "log('warning: this is a warning message')\n",
    "log('error: this is an error message')\n",
    "\n",
    "log()"
   ]
  },
  {
   "cell_type": "markdown",
   "metadata": {},
   "source": [
    "# diff"
   ]
  },
  {
   "cell_type": "code",
   "execution_count": null,
   "metadata": {},
   "outputs": [],
   "source": [
    "import qplib as qp\n",
    "\n",
    "df_new, df_old = qp.get_dfs()\n",
    "\n",
    "print('df_new:')\n",
    "display(df_new)\n",
    "\n",
    "print('df_old:')\n",
    "display(df_old)\n",
    "\n",
    "print('mode=new:')\n",
    "display(qp.diff(df_new, df_old, uid='uid', mode='new'))\n",
    "\n",
    "print('mode=new+:')\n",
    "display(qp.diff(df_new, df_old, uid='uid', mode='new+'))\n",
    "\n",
    "print('mode=old:')\n",
    "display(qp.diff(df_new, df_old, uid='uid', mode='old'))\n",
    "\n",
    "print('mode=mix:')\n",
    "display(qp.diff(df_new, df_old, uid='uid', mode='mix'))"
   ]
  },
  {
   "cell_type": "markdown",
   "metadata": {},
   "source": [
    "# qlang"
   ]
  },
  {
   "cell_type": "markdown",
   "metadata": {},
   "source": [
    "## format symbols"
   ]
  },
  {
   "cell_type": "code",
   "execution_count": null,
   "metadata": {},
   "outputs": [],
   "source": [
    "import pandas as pd\n",
    "import numpy as np\n",
    "import copy\n",
    "import os\n",
    "import sys\n",
    "import shutil\n",
    "import datetime\n",
    "import qplib as qp\n",
    "from qplib import log\n",
    "pd.set_option('display.max_columns', None)\n",
    "\n",
    "def format_symbols():\n",
    "    shutil.copy('qplib/data/symbols.xlsx', 'qplib/data/symbols_temp.xlsx')\n",
    "    df = pd.read_excel('qplib/data/symbols_temp.xlsx', index_col=0)\n",
    "    size = len(df.index)\n",
    "    for i in range(2, size):\n",
    "        row = df.index[i]\n",
    "        for j in range(i+1):\n",
    "            col = df.index[j]\n",
    "            if row != col:\n",
    "                df.loc[col, row] = df.loc[row, col]\n",
    "    df.to_csv('qplib/data/symbols.csv')\n",
    "    os.remove('qplib/data/symbols_temp.xlsx')\n",
    "    return df\n",
    "\n",
    "df = format_symbols()\n",
    "\n",
    "# df\n"
   ]
  },
  {
   "cell_type": "markdown",
   "metadata": {},
   "source": [
    "## performance analysis"
   ]
  },
  {
   "cell_type": "code",
   "execution_count": null,
   "metadata": {},
   "outputs": [],
   "source": [
    "import pandas as pd\n",
    "import numpy as np\n",
    "import copy\n",
    "import os\n",
    "import sys\n",
    "import shutil\n",
    "import datetime\n",
    "import qplib as qp\n",
    "from qplib import log\n",
    "pd.set_option('display.max_columns', None)\n",
    "qp.qlang.VERBOSITY = 3\n",
    "\n",
    "\n",
    "if not 'cards' in locals():\n",
    "    cards = pd.read_csv('archive/cards.csv')\n",
    "\n",
    "\n",
    "log(clear=True)\n",
    "\n",
    "log('start')\n",
    "\n",
    "cards.q(\n",
    "    r\"\"\"\n",
    "    power  %%>3  &&<5\n",
    "    \"\"\"\n",
    "    )\n",
    "\n",
    "log('stop')\n",
    "\n",
    "logs = log().copy()\n",
    "#milliseconds timestamps\n",
    "logs['timestamp'] = logs['time'] - logs.loc[0, 'time']\n",
    "logs['timestamp'] = logs['timestamp'].dt.total_seconds() * 1000\n",
    "\n",
    "\n",
    "logs.q(\n",
    "    r\"\"\"\n",
    "    $ verbosity = 3\n",
    "    $ diff = None\n",
    "\n",
    "    text $width=500px $align=left\n",
    "    \n",
    "    %!=context  &!=time\n",
    "    \"\"\"\n",
    "    )"
   ]
  },
  {
   "cell_type": "markdown",
   "metadata": {},
   "source": [
    "# tests"
   ]
  },
  {
   "cell_type": "code",
   "execution_count": null,
   "metadata": {},
   "outputs": [],
   "source": [
    "\n",
    "# #run tests in folder \"tests\" using pytest and create a test report\n",
    "# !pytest tests --html=tests/test_report.html\n"
   ]
  },
  {
   "cell_type": "code",
   "execution_count": null,
   "metadata": {},
   "outputs": [],
   "source": [
    "import pandas as pd\n",
    "import numpy as np\n",
    "import copy\n",
    "import os\n",
    "import sys\n",
    "import shutil\n",
    "import datetime\n",
    "import qplib as qp\n",
    "from qplib import log\n",
    "pd.set_option('display.max_columns', None)\n",
    "\n",
    "\n",
    "def get_df_simple():\n",
    "    df = pd.DataFrame({\n",
    "        'a': [-1, 0, 1],\n",
    "        'b': [1, 2, 3]\n",
    "        })\n",
    "    return df\n",
    "\n",
    "def get_df_simple_tagged():\n",
    "    df = pd.DataFrame({\n",
    "        'meta': ['', '', ''],\n",
    "        'a': [-1, 0, 1],\n",
    "        'b': [1, 2, 3]\n",
    "        })\n",
    "    df.index = pd.Index([3, 1, 2])\n",
    "    return df\n",
    "\n",
    "\n",
    "def get_df():\n",
    "    df = pd.DataFrame({\n",
    "        'ID': [10001, 10002, 10003, 20001, 20002, 20003, 30001, 30002, 30003, 30004, 30005],\n",
    "        'name': ['John Doe', 'Jane Smith', 'Alice Johnson', 'Bob Brown', 'eva white', 'Frank miller', 'Grace TAYLOR', 'Harry Clark', 'IVY GREEN', 'JAck Williams', 'john Doe'],\n",
    "        'date of birth': ['1995-01-02', '1990/09/14', '1985.08.23', '19800406', '05-11-2007', '06-30-1983', '28-05-1975', '1960Mar08', '1955-Jan-09', '1950 Sep 10', '1945 October 11'],\n",
    "        'age': [-25, '30', np.nan, None, '40.0', 'forty-five', 'nan', 'unk', '', 'unknown', 35],\n",
    "        'gender': ['M', 'F', 'Female', 'Male', 'Other', 'm', 'ff', 'NaN', None, 'Mal', 'female'],\n",
    "        'height': [170, '175.5cm', None, '280', 'NaN', '185', '1', '6ft 1in', -10, '', 200],\n",
    "        'weight': [70.2, '68', '72.5lb', 'na', '', '75kg', None, '80.3', '130lbs', '82', -65],\n",
    "        'bp systole': ['20', 130, 'NaN', '140', '135mmhg', '125', 'NAN', '122', '', 130, '45'],\n",
    "        'bp diastole': [80, '85', 'nan', '90mmHg', np.nan, '75', 'NaN', None, '95', '0', 'NaN'],\n",
    "        'cholesterol': ['Normal', 'Highe', 'NaN', 'GOOD', 'n.a.', 'High', 'Normal', 'n/a', 'high', '', 'Normal'],\n",
    "        'diabetes': ['No', 'yes', 'N/A', 'No', 'Y', 'Yes', 'NO', None, 'NaN', 'n', 'Yes'],\n",
    "        'dose': ['10kg', 'NaN', '15 mg once a day', '20mg', '20 Mg', '25g', 'NaN', None, '30 MG', '35', '40ml']\n",
    "        })\n",
    "    return df\n",
    "\n",
    "\n",
    "def get_df_tagged():\n",
    "    df1 = get_df()\n",
    "    df2 = pd.DataFrame('', index=df1.index, columns=['meta', *df1.columns])\n",
    "    df2.iloc[:, 1:] = df1.loc[:, :]\n",
    "    return df2\n",
    "\n",
    "\n",
    "df = qp.get_df()\n",
    "display(df)\n",
    "\n",
    "  \n",
    "\n",
    "param_pairs = [\n",
    "    (r'name  %%is str;',                 df.loc[:, ['name']]),\n",
    "    ]\n",
    "def test(code, expected):\n",
    "    df = get_df()\n",
    "    temp = df.q(code)\n",
    "    result = df.loc[temp.index, temp.columns]\n",
    "    assert result.equals(expected), qp.diff(result, expected, output='str')\n",
    "\n",
    "for code, expected in param_pairs:\n",
    "    test(code, expected)\n",
    "\n",
    "\n"
   ]
  },
  {
   "cell_type": "markdown",
   "metadata": {},
   "source": [
    "# temp"
   ]
  },
  {
   "cell_type": "code",
   "execution_count": null,
   "metadata": {},
   "outputs": [],
   "source": []
  }
 ],
 "metadata": {
  "kernelspec": {
   "display_name": "Python 3",
   "language": "python",
   "name": "python3"
  },
  "language_info": {
   "codemirror_mode": {
    "name": "ipython",
    "version": 3
   },
   "file_extension": ".py",
   "mimetype": "text/x-python",
   "name": "python",
   "nbconvert_exporter": "python",
   "pygments_lexer": "ipython3",
   "version": "3.13.2"
  }
 },
 "nbformat": 4,
 "nbformat_minor": 2
}
